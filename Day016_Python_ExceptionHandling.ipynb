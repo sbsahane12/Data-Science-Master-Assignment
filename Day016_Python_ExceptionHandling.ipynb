{
 "cells": [
  {
   "cell_type": "markdown",
   "id": "4327022a-2cb2-42f2-be29-8b878f07fbd0",
   "metadata": {},
   "source": [
    "# List of General Use Exceptions"
   ]
  },
  {
   "cell_type": "code",
   "execution_count": 1,
   "id": "23f012c4-5f4e-4b38-a473-17b2f241e006",
   "metadata": {},
   "outputs": [
    {
     "name": "stdout",
     "output_type": "stream",
     "text": [
      "division by zero\n"
     ]
    }
   ],
   "source": [
    "try:\n",
    "    a = 10/0\n",
    "except ZeroDivisionError as e:\n",
    "    print(e)"
   ]
  },
  {
   "cell_type": "code",
   "execution_count": 3,
   "id": "3d70031a-d8a6-435b-9a0a-b9e4b7ba26c0",
   "metadata": {},
   "outputs": [
    {
     "name": "stdout",
     "output_type": "stream",
     "text": [
      "invalid literal for int() with base 10: 'sudh'\n"
     ]
    }
   ],
   "source": [
    "try:\n",
    "    int('sudh')\n",
    "except (ValueError, TypeError) as e: #mutiple exception classes\n",
    "    print(e)"
   ]
  },
  {
   "cell_type": "code",
   "execution_count": 4,
   "id": "fd8a6b33-86cc-4a78-bca4-45e0315306f0",
   "metadata": {},
   "outputs": [
    {
     "name": "stdout",
     "output_type": "stream",
     "text": [
      "this will catch an error\n"
     ]
    }
   ],
   "source": [
    "try:\n",
    "    int('sudh')\n",
    "except: #when you don't know the error type\n",
    "    print('this will catch an error')"
   ]
  },
  {
   "cell_type": "code",
   "execution_count": 7,
   "id": "c69a9e4d-97ff-4a77-91d9-4a029ebd25e7",
   "metadata": {},
   "outputs": [
    {
     "name": "stdout",
     "output_type": "stream",
     "text": [
      "No module named 'sudh'\n"
     ]
    },
    {
     "data": {
      "text/plain": [
       "2.5"
      ]
     },
     "execution_count": 7,
     "metadata": {},
     "output_type": "execute_result"
    }
   ],
   "source": [
    "try:\n",
    "    import sudh\n",
    "except ImportError as e:\n",
    "    print(e)\n",
    "\n",
    "10/4"
   ]
  },
  {
   "cell_type": "code",
   "execution_count": 8,
   "id": "f822e8ca-9ebf-4895-bb7e-3fcbaaf03588",
   "metadata": {},
   "outputs": [
    {
     "name": "stdout",
     "output_type": "stream",
     "text": [
      "'key2'\n"
     ]
    }
   ],
   "source": [
    "try:\n",
    "    d = {'key': 'sudh', 1: [1,3,4,5]}\n",
    "    print(d['key2'])\n",
    "\n",
    "except KeyError as e:\n",
    "    print(e)"
   ]
  },
  {
   "cell_type": "code",
   "execution_count": 11,
   "id": "e1e4157d-23b8-4a7c-8262-241f0453d9a9",
   "metadata": {},
   "outputs": [
    {
     "name": "stdout",
     "output_type": "stream",
     "text": [
      "'str' object has no attribute 'test'\n"
     ]
    }
   ],
   "source": [
    "try:\n",
    "    'sudh'.test()\n",
    "\n",
    "except AttributeError as e:\n",
    "    print(e)"
   ]
  },
  {
   "cell_type": "code",
   "execution_count": 12,
   "id": "1d03fa53-804f-4eaa-bd94-53d361b80eb7",
   "metadata": {},
   "outputs": [
    {
     "name": "stdout",
     "output_type": "stream",
     "text": [
      "list index out of range\n"
     ]
    }
   ],
   "source": [
    "try:\n",
    "    l = [2,3,4,5]\n",
    "    l[6]\n",
    "    \n",
    "except IndexError as e:\n",
    "    print(e)"
   ]
  },
  {
   "cell_type": "code",
   "execution_count": 13,
   "id": "e4df1c49-632f-4ac8-a90d-751a3173405e",
   "metadata": {},
   "outputs": [
    {
     "name": "stdout",
     "output_type": "stream",
     "text": [
      "unsupported operand type(s) for +: 'int' and 'str'\n"
     ]
    }
   ],
   "source": [
    "try:\n",
    "    123+'sudh'\n",
    "\n",
    "except TypeError as e:\n",
    "    print(e)"
   ]
  },
  {
   "cell_type": "code",
   "execution_count": 16,
   "id": "d9dbc2b0-ca50-4293-bbcd-275049039a0b",
   "metadata": {},
   "outputs": [
    {
     "name": "stdout",
     "output_type": "stream",
     "text": [
      "[Errno 2] No such file or directory: 'test.txt'\n"
     ]
    }
   ],
   "source": [
    "try:\n",
    "    with open('test.txt', 'r') as f:\n",
    "        f.read()\n",
    "\n",
    "except FileNotFoundError as e:\n",
    "    print(e)"
   ]
  },
  {
   "cell_type": "code",
   "execution_count": 23,
   "id": "3f228496-fd58-451c-95d3-f204da1f75d9",
   "metadata": {},
   "outputs": [
    {
     "name": "stdout",
     "output_type": "stream",
     "text": [
      "Second block Exception:  [Errno 2] No such file or directory: 'test.txt'\n"
     ]
    }
   ],
   "source": [
    "#multiple exceptions\n",
    "try:\n",
    "    with open('test.txt', 'r') as f:\n",
    "        f.read()\n",
    "\n",
    "except AttributeError as e:\n",
    "    print(e)\n",
    "    \n",
    "except Exception as e:\n",
    "    print('Second block Exception: ',e)"
   ]
  },
  {
   "cell_type": "markdown",
   "id": "a1b18162-8e26-4346-a300-021992997fc9",
   "metadata": {},
   "source": [
    "In the above block of code,if the first exception block does not catch the error, the program will move on to the second exception block and see if it can catch the error"
   ]
  },
  {
   "cell_type": "markdown",
   "id": "924f7661-f3e1-47ef-bacb-f671685d77c1",
   "metadata": {},
   "source": [
    "# Best Practice Exception Handling"
   ]
  },
  {
   "cell_type": "markdown",
   "id": "1cb184f2-7b1e-413d-8935-89aaedec71b3",
   "metadata": {},
   "source": [
    "### Always use a specific exception\n",
    "if you're dividing a number by zero, it will cause ZeroDivisionError, so instead of writing superclass Exception always try to use the specific (ZeroDivisionError) \n",
    "\n",
    "### Always print a proper message in your exception handling block\n",
    "\n",
    "### Always try to log your error using logging module\n",
    "\n",
    "### Always try to avoid to write a multiple exception handling\n",
    "\n",
    "### Document all the errors\n",
    "\n",
    "### Cleanup all the resources\n",
    "close all the files that were opened during the code etc."
   ]
  }
 ],
 "metadata": {
  "kernelspec": {
   "display_name": "Python 3 (ipykernel)",
   "language": "python",
   "name": "python3"
  },
  "language_info": {
   "codemirror_mode": {
    "name": "ipython",
    "version": 3
   },
   "file_extension": ".py",
   "mimetype": "text/x-python",
   "name": "python",
   "nbconvert_exporter": "python",
   "pygments_lexer": "ipython3",
   "version": "3.10.8"
  }
 },
 "nbformat": 4,
 "nbformat_minor": 5
}
