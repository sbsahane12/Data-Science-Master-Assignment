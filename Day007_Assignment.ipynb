{
 "cells": [
  {
   "cell_type": "markdown",
   "id": "45fa491c-4c6a-4113-ac5a-af9aba1c4f5f",
   "metadata": {},
   "source": [
    "# Question No. 1\n",
    "Create a Python program to sort the given list of tuples based on integer value using a lambda function. <br>\n",
    "[('Sachin Tendulkar', 34357), ('Ricky Ponting', 27483), ('Jack Kallis', 25534), ('Virat Kohli', 24936)]\n"
   ]
  },
  {
   "cell_type": "markdown",
   "id": "cbed533a-044d-4456-a3d1-652b9b1dab95",
   "metadata": {},
   "source": [
    "## Answer"
   ]
  },
  {
   "cell_type": "code",
   "execution_count": 1,
   "id": "0efb06bd-2973-433b-bfa5-c7d66ee23357",
   "metadata": {},
   "outputs": [
    {
     "name": "stdout",
     "output_type": "stream",
     "text": [
      "[('Virat Kohli', 24936), ('Jack Kallis', 25534), ('Ricky Ponting', 27483), ('Sachin Tendulkar', 34357)]\n"
     ]
    }
   ],
   "source": [
    "l_tup = [('Sachin Tendulkar', 34357), ('Ricky Ponting', 27483), ('Jack Kallis', 25534), ('Virat Kohli', 24936)]\n",
    "sorted_list = sorted(l_tup, key=lambda x: x[1])\n",
    "print(sorted_list)"
   ]
  },
  {
   "cell_type": "markdown",
   "id": "8dbdd26a-5c24-4470-b16f-227b4272b50b",
   "metadata": {},
   "source": [
    "# Question No. 2\n",
    "Write a Python program to find the squares of all the numbers in the given list of integers using lambda and map functions. <br>\n",
    "[1,2,3,4,5,6,7,8,9,10]"
   ]
  },
  {
   "cell_type": "markdown",
   "id": "04efae0d-570b-4f5a-b471-345e14b3f0a7",
   "metadata": {},
   "source": [
    "## Answer"
   ]
  },
  {
   "cell_type": "code",
   "execution_count": 2,
   "id": "bcbed5a4-e151-4347-8aef-856f59ab4ffc",
   "metadata": {},
   "outputs": [
    {
     "data": {
      "text/plain": [
       "[1, 4, 9, 16, 25, 36, 49, 64, 81, 100]"
      ]
     },
     "execution_count": 2,
     "metadata": {},
     "output_type": "execute_result"
    }
   ],
   "source": [
    "given_list = [1,2,3,4,5,6,7,8,9,10]\n",
    "list(map(lambda input_list: input_list**2, given_list))"
   ]
  },
  {
   "cell_type": "markdown",
   "id": "617e9702-688c-4715-8e0c-09da3afff25d",
   "metadata": {},
   "source": [
    "# Question No. 3\n",
    "Write a Python program to convert the given list of integers into a tuple of strings. Use map and lambda functions. <br>\n",
    "Given List: [1,2,3,4,5,6,7,8,9,10] <br>\n",
    "Expected Output: ('1', '2', '3', '4', '5', '6', '7', '8', '9', '10')"
   ]
  },
  {
   "cell_type": "markdown",
   "id": "e0c69482-9947-4081-8e48-d8b107d59904",
   "metadata": {},
   "source": [
    "## Answer"
   ]
  },
  {
   "cell_type": "code",
   "execution_count": 3,
   "id": "1b653b9a-c46c-48e1-9b4e-c6033cade795",
   "metadata": {},
   "outputs": [
    {
     "data": {
      "text/plain": [
       "('1', '2', '3', '4', '5', '6', '7', '8', '9', '10')"
      ]
     },
     "execution_count": 3,
     "metadata": {},
     "output_type": "execute_result"
    }
   ],
   "source": [
    "given_list = [1,2,3,4,5,6,7,8,9,10]\n",
    "tuple(map(lambda input_list: str(input_list), given_list))"
   ]
  },
  {
   "cell_type": "markdown",
   "id": "76df2d64-e5d1-4910-acdc-ac811344d41a",
   "metadata": {},
   "source": [
    "# Question No. 4:\n",
    "Write a Python program using reduce function to compute the product of a list containing numbers from 1 to 25."
   ]
  },
  {
   "cell_type": "markdown",
   "id": "a3d3098f-5fe6-47e8-a57b-3e56f5bee77a",
   "metadata": {},
   "source": [
    "## Answer"
   ]
  },
  {
   "cell_type": "code",
   "execution_count": 4,
   "id": "a0daf0d5-e43c-4d1f-9d0a-ec737f863b34",
   "metadata": {},
   "outputs": [
    {
     "data": {
      "text/plain": [
       "15511210043330985984000000"
      ]
     },
     "execution_count": 4,
     "metadata": {},
     "output_type": "execute_result"
    }
   ],
   "source": [
    "from functools import reduce\n",
    "given_list = list(range(1,26))\n",
    "reduce(lambda x,y: x*y, given_list)"
   ]
  },
  {
   "cell_type": "markdown",
   "id": "0691395c-532a-4744-b7d3-823fde083a56",
   "metadata": {},
   "source": [
    "# Question No. 5:\n",
    "Write a Python program to filter the numbers in a given list that are divisible by 2 and 3 using the filter function. <br>\n",
    "[2,3,6,9,27,60,90,120,55,46]"
   ]
  },
  {
   "cell_type": "markdown",
   "id": "a6f43953-a648-474c-9235-339084b7485d",
   "metadata": {},
   "source": [
    "## Answer"
   ]
  },
  {
   "cell_type": "code",
   "execution_count": 5,
   "id": "fc003eda-692e-480a-b740-5e886d211cf5",
   "metadata": {},
   "outputs": [
    {
     "data": {
      "text/plain": [
       "[6, 60, 90, 120]"
      ]
     },
     "execution_count": 5,
     "metadata": {},
     "output_type": "execute_result"
    }
   ],
   "source": [
    "given_list = [2,3,6,9,27,60,90,120,55,46]\n",
    "list(filter(lambda input_list: input_list%3==0 and input_list%2==0, given_list))"
   ]
  },
  {
   "cell_type": "markdown",
   "id": "f1f7f92c-b317-4477-bdce-9ef30b6ecaec",
   "metadata": {},
   "source": [
    "# Question No. 6:\n",
    "Write a Python program to find palindromes in the given list of strings using lambda and filter function. <br>\n",
    "['python', 'php', 'aba', 'radar', 'level']"
   ]
  },
  {
   "cell_type": "markdown",
   "id": "21baac37-c8dc-4af0-a6bc-a37c8358e868",
   "metadata": {},
   "source": [
    "## Answer"
   ]
  },
  {
   "cell_type": "code",
   "execution_count": 6,
   "id": "f59813fd-25da-44cd-a7c5-8e61ce4955b5",
   "metadata": {},
   "outputs": [
    {
     "data": {
      "text/plain": [
       "['php', 'aba', 'radar', 'level']"
      ]
     },
     "execution_count": 6,
     "metadata": {},
     "output_type": "execute_result"
    }
   ],
   "source": [
    "given_list = ['python', 'php', 'aba', 'radar', 'level']\n",
    "list(filter(lambda input_list: input_list[::-1] == input_list, given_list))"
   ]
  }
 ],
 "metadata": {
  "kernelspec": {
   "display_name": "Python 3 (ipykernel)",
   "language": "python",
   "name": "python3"
  },
  "language_info": {
   "codemirror_mode": {
    "name": "ipython",
    "version": 3
   },
   "file_extension": ".py",
   "mimetype": "text/x-python",
   "name": "python",
   "nbconvert_exporter": "python",
   "pygments_lexer": "ipython3",
   "version": "3.10.8"
  }
 },
 "nbformat": 4,
 "nbformat_minor": 5
}
