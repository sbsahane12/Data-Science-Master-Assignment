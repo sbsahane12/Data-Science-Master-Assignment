{
 "cells": [
  {
   "cell_type": "markdown",
   "id": "4605e87b-c8c8-434f-a6a8-3c2d071e9c18",
   "metadata": {},
   "source": [
    "## Multiprocessing: (To Run Code in Parallel)"
   ]
  },
  {
   "cell_type": "code",
   "execution_count": 2,
   "id": "fda409b8-39dc-49fc-8769-54227f1a35b7",
   "metadata": {},
   "outputs": [
    {
     "name": "stdout",
     "output_type": "stream",
     "text": [
      "Sleeping 1 second..\n",
      "Done Sleeping..\n",
      "Sleeping 1 second..\n",
      "Done Sleeping..\n",
      "Finished in 2.0 second(s)\n"
     ]
    }
   ],
   "source": [
    "import time \n",
    "\n",
    "start = time.perf_counter()\n",
    "\n",
    "def do_something():\n",
    "    print('Sleeping 1 second..')\n",
    "    time.sleep(1)\n",
    "    print('Done Sleeping..')\n",
    "    \n",
    "do_something()\n",
    "do_something()\n",
    "finish = time.perf_counter()\n",
    "\n",
    "print(f'Finished in {round(finish-start,2)} second(s)')"
   ]
  },
  {
   "cell_type": "markdown",
   "id": "b9b2cd19-d64f-4b6c-8912-2cae09f49911",
   "metadata": {},
   "source": [
    "With multiprocessing we are going to spread the work out on the multiple processors on the machine, and run those tasks at the same time.\n",
    "\n",
    "We can use this with both I/O bound tasks and CPU bound tasks. Remember that Multithreading was only for I/O bound tasks"
   ]
  },
  {
   "cell_type": "code",
   "execution_count": 6,
   "id": "f62fb8dd-f0fd-4940-a281-569538608c25",
   "metadata": {},
   "outputs": [
    {
     "name": "stdout",
     "output_type": "stream",
     "text": [
      "Sleeping 1 second..\n",
      "Finished in 0.01 second(s)\n",
      "Sleeping 1 second..\n",
      "Done Sleeping..\n",
      "Done Sleeping..\n"
     ]
    }
   ],
   "source": [
    "import multiprocessing\n",
    "import time \n",
    "\n",
    "start = time.perf_counter()\n",
    "\n",
    "def do_something():\n",
    "    print('Sleeping 1 second..')\n",
    "    time.sleep(1)\n",
    "    print('Done Sleeping..')\n",
    "\n",
    "#lets turn both of the following function calls to separate processes\n",
    "#do_something()\n",
    "#do_something()\n",
    "\n",
    "p1 = multiprocessing.Process(target=do_something)\n",
    "p2 = multiprocessing.Process(target=do_something)\n",
    "\n",
    "#start both the processes\n",
    "p1.start()\n",
    "p2.start()\n",
    "\n",
    "finish = time.perf_counter()\n",
    "\n",
    "print(f'Finished in {round(finish-start,2)} second(s)')"
   ]
  },
  {
   "cell_type": "markdown",
   "id": "e0a3aec1-8594-45fb-80b2-db1390d8dc3f",
   "metadata": {},
   "source": [
    "Note that the above output is not exactly what we were expecting. It is because when the funciton sleeps for one second during the process execution, the program moves on with the rest of the code for that one second. to avoid that (to do so that the program waits for both the processes to finish executing) we can use the join methods"
   ]
  },
  {
   "cell_type": "code",
   "execution_count": 7,
   "id": "265221cc-338f-489d-944e-aa417995f4ce",
   "metadata": {},
   "outputs": [
    {
     "name": "stdout",
     "output_type": "stream",
     "text": [
      "Sleeping 1 second..\n",
      "Sleeping 1 second..\n",
      "Done Sleeping..\n",
      "Done Sleeping..\n",
      "Finished in 1.02 second(s)\n"
     ]
    }
   ],
   "source": [
    "import multiprocessing\n",
    "import time \n",
    "\n",
    "start = time.perf_counter()\n",
    "\n",
    "def do_something():\n",
    "    print('Sleeping 1 second..')\n",
    "    time.sleep(1)\n",
    "    print('Done Sleeping..')\n",
    "\n",
    "#lets turn both of the following function calls to separate processes\n",
    "#do_something()\n",
    "#do_something()\n",
    "\n",
    "p1 = multiprocessing.Process(target=do_something)\n",
    "p2 = multiprocessing.Process(target=do_something)\n",
    "\n",
    "#start both the processes\n",
    "p1.start()\n",
    "p2.start()\n",
    "\n",
    "#join both the processes so the program don't move on to next lines before finishing the proecess\n",
    "p1.join()\n",
    "p2.join()\n",
    "\n",
    "finish = time.perf_counter()\n",
    "\n",
    "print(f'Finished in {round(finish-start,2)} second(s)')"
   ]
  },
  {
   "cell_type": "code",
   "execution_count": 8,
   "id": "4e7ca129-cfc2-4b99-9040-86e6bc601393",
   "metadata": {},
   "outputs": [
    {
     "name": "stdout",
     "output_type": "stream",
     "text": [
      "Sleeping 1 second..\n",
      "Sleeping 1 second..\n",
      "Sleeping 1 second..\n",
      "Sleeping 1 second..\n",
      "Sleeping 1 second..\n",
      "Sleeping 1 second..\n",
      "Sleeping 1 second..\n",
      "Sleeping 1 second..\n",
      "Sleeping 1 second..\n",
      "Sleeping 1 second..\n",
      "Done Sleeping..\n",
      "Done Sleeping..\n",
      "Done Sleeping..\n",
      "Done Sleeping..\n",
      "Done Sleeping..\n",
      "Done Sleeping..\n",
      "Done Sleeping..\n",
      "Done Sleeping..\n",
      "Done Sleeping..\n",
      "Done Sleeping..\n",
      "Finished in 1.07 second(s)\n"
     ]
    }
   ],
   "source": [
    "import multiprocessing\n",
    "import time \n",
    "\n",
    "start = time.perf_counter()\n",
    "\n",
    "def do_something():\n",
    "    print('Sleeping 1 second..')\n",
    "    time.sleep(1)\n",
    "    print('Done Sleeping..')\n",
    "\n",
    "processes=[]\n",
    "for _ in range(10):\n",
    "    p = multiprocessing.Process(target=do_something)\n",
    "    p.start()\n",
    "    processes.append(p)\n",
    "\n",
    "for process in processes:\n",
    "    process.join()\n",
    "\n",
    "finish = time.perf_counter()\n",
    "\n",
    "print(f'Finished in {round(finish-start,2)} second(s)')"
   ]
  },
  {
   "cell_type": "markdown",
   "id": "2a2bff68-b591-42b4-bca3-d50c6c852ae7",
   "metadata": {},
   "source": [
    "All the processes that should have taken 10 seconds to complete took only 1 second. Because the tasks were spread between all the cores. \n",
    "\n",
    "Now, it might seem a little strange because even though we may not actually have 10 cores on our machine, but our computers has ways of switching off between cores when one of them isn't too busy."
   ]
  },
  {
   "cell_type": "code",
   "execution_count": 11,
   "id": "77dff045-9a7f-4ddc-9a13-460ae864d7a0",
   "metadata": {},
   "outputs": [
    {
     "name": "stdout",
     "output_type": "stream",
     "text": [
      "Sleeping for 1.5 second(s)..\n",
      "Sleeping for 1.5 second(s)..\n",
      "Sleeping for 1.5 second(s)..\n",
      "Sleeping for 1.5 second(s)..\n",
      "Sleeping for 1.5 second(s)..\n",
      "Sleeping for 1.5 second(s)..\n",
      "Sleeping for 1.5 second(s)..\n",
      "Sleeping for 1.5 second(s)..\n",
      "Sleeping for 1.5 second(s)..\n",
      "Sleeping for 1.5 second(s)..\n",
      "Done Sleeping..\n",
      "Done Sleeping..\n",
      "Done Sleeping..\n",
      "Done Sleeping..\n",
      "Done Sleeping..\n",
      "Done Sleeping..\n",
      "Done Sleeping..\n",
      "Done Sleeping..\n",
      "Done Sleeping..\n",
      "Done Sleeping..\n",
      "Finished in 1.58 second(s)\n"
     ]
    }
   ],
   "source": [
    "import multiprocessing\n",
    "import time \n",
    "\n",
    "start = time.perf_counter()\n",
    "\n",
    "def do_something(seconds):\n",
    "    print(f'Sleeping for {seconds} second(s)..')\n",
    "    time.sleep(seconds)\n",
    "    print('Done Sleeping..')\n",
    "\n",
    "processes=[]\n",
    "for _ in range(10):\n",
    "    p = multiprocessing.Process(target=do_something, args = (1.5,))\n",
    "    p.start()\n",
    "    processes.append(p)\n",
    "\n",
    "for process in processes:\n",
    "    process.join()\n",
    "\n",
    "finish = time.perf_counter()\n",
    "\n",
    "print(f'Finished in {round(finish-start,2)} second(s)')"
   ]
  },
  {
   "cell_type": "markdown",
   "id": "1b67deaf-4f01-4e32-b778-7d4477f1d84f",
   "metadata": {},
   "source": [
    "## multiprocessing.Queue():\n",
    "The multiprocessing.Queue() is a way to pass data between processes in a multiprocessing environment. It allows multiple processes to communicate with each other by putting and getting items from a shared queue. You can use it to create a pipeline of tasks or to collect results from multiple processes. It is a thread-safe way to communicate between processes, which makes it a convenient option for many parallel programming scenarios."
   ]
  },
  {
   "cell_type": "code",
   "execution_count": 8,
   "id": "85c0f788-2ab6-420c-bc9f-4b5c7089fc1e",
   "metadata": {},
   "outputs": [
    {
     "name": "stdout",
     "output_type": "stream",
     "text": [
      "From reader:Child1:Message0\n",
      "From reader:Child3:Message0\n",
      "From reader:Child1:Message1\n",
      "From reader:Child3:Message1\n",
      "From reader:Child1:Message2\n",
      "From reader:Child3:Message2\n",
      "From reader:Child1:Message3\n",
      "From reader:Child3:Message3\n",
      "From reader:Child1:Message4\n",
      "From reader:Child3:Message4\n",
      "From reader:Child1:Message5\n",
      "From reader:Child3:Message5\n",
      "From reader:Child1:Message6\n",
      "From reader:Child3:Message6\n",
      "From reader:Child1:Message7\n",
      "From reader:Child3:Message7\n",
      "From reader:Child1:Message8\n",
      "From reader:Child3:Message8\n",
      "From reader:Child1:Message9\n",
      "From reader:Child3:Message9\n"
     ]
    }
   ],
   "source": [
    "import multiprocessing \n",
    "import time\n",
    "\n",
    "#producer\n",
    "def procFunction0(messageQueue):\n",
    "    for i in range(10):\n",
    "        messageQueue.put(\"Child1:Message%d\"%i)\n",
    "        time.sleep(1)\n",
    "        \n",
    "#consumer\n",
    "def procFunction1(messageQueue):\n",
    "    while messageQueue.empty() is False:\n",
    "        print(\"From reader:%s\"%messageQueue.get())\n",
    "        time.sleep(1)\n",
    "\n",
    "\n",
    "#producer\n",
    "def procFunction2(messageQueue):\n",
    "    for i in range(10):\n",
    "        messageQueue.put(\"Child3:Message%d\"%i)\n",
    "        time.sleep(1)\n",
    "    \n",
    "if __name__ == '__main__':\n",
    "    messageQueue = multiprocessing.Queue()\n",
    "    \n",
    "    \n",
    "    #create child processes\n",
    "    childProcess0=multiprocessing.Process(target=procFunction0, args = (messageQueue,))\n",
    "    childProcess1=multiprocessing.Process(target=procFunction1, args = (messageQueue,))\n",
    "    childProcess2=multiprocessing.Process(target=procFunction2, args = (messageQueue,))\n",
    "\n",
    "    #start the child processes: writer, reader\n",
    "    childProcess0.start()\n",
    "    childProcess1.start()\n",
    "    childProcess2.start()\n",
    "    #ch\n",
    "\n",
    "    #wait for child processes to finish\n",
    "    childProcess0.join()\n",
    "    childProcess1.join()\n",
    "    childProcess2.join()"
   ]
  },
  {
   "cell_type": "markdown",
   "id": "213d7c3a-6c18-4253-bf7f-5cc1c2c374b0",
   "metadata": {},
   "source": [
    "## multiprocessing.Pool():\n",
    "The multiprocessing.Pool() is a way to create a pool of worker processes that can perform a set of tasks in parallel. It allows you to apply a function to multiple inputs in parallel and collect the results. This is useful when you have a large number of independent tasks that can be executed in parallel. The Pool provides a simple way to distribute the workload across multiple CPUs, which can result in significant performance improvements."
   ]
  },
  {
   "cell_type": "code",
   "execution_count": 10,
   "id": "91e879e5-b3d8-4502-a05b-15cb388e0336",
   "metadata": {},
   "outputs": [
    {
     "name": "stdout",
     "output_type": "stream",
     "text": [
      "[4, 9, 25, 36, 16]\n"
     ]
    }
   ],
   "source": [
    "def squares(n):\n",
    "    return n**2\n",
    "\n",
    "if __name__ == \"__main__\":\n",
    "    nums = [2,3,5,6,4]\n",
    "    with multiprocessing.Pool() as pool:\n",
    "        result = pool.map(squares, nums)\n",
    "        print(result)"
   ]
  },
  {
   "cell_type": "markdown",
   "id": "917ba6ee-1c0c-40e6-9afe-892f46901e72",
   "metadata": {},
   "source": [
    "In summary, use the multiprocessing.Queue() to pass data between processes and multiprocessing.Pool() to execute independent tasks in parallel."
   ]
  },
  {
   "cell_type": "code",
   "execution_count": null,
   "id": "b608f465-c3c6-4eff-96c1-baa533266b61",
   "metadata": {},
   "outputs": [],
   "source": []
  }
 ],
 "metadata": {
  "kernelspec": {
   "display_name": "Python 3 (ipykernel)",
   "language": "python",
   "name": "python3"
  },
  "language_info": {
   "codemirror_mode": {
    "name": "ipython",
    "version": 3
   },
   "file_extension": ".py",
   "mimetype": "text/x-python",
   "name": "python",
   "nbconvert_exporter": "python",
   "pygments_lexer": "ipython3",
   "version": "3.10.8"
  }
 },
 "nbformat": 4,
 "nbformat_minor": 5
}
