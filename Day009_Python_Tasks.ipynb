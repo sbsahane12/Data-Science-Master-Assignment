{
 "cells": [
  {
   "cell_type": "markdown",
   "id": "78c47990-6425-4fcb-9c60-56ae547427b0",
   "metadata": {},
   "source": [
    "# Task No. 1:\n",
    "Create a function which will take a list as an argument and return the product of all the number after creating a flat list. <br>\n",
    "Use the below-given list as an argument for your function.\n",
    "\n",
    "lst1 = [1,2,3,5,[44,55,66,True],False,(34,56,78,89,34),{1,2,3,3,2,1},{1:34,'key2':[55,67,78,89],4:(45,22,61,34)},[56,'data science'],'Machine Learning']\n",
    "\n",
    "**Note: You must extract numeric keys and values of the dictionary also.**"
   ]
  },
  {
   "cell_type": "markdown",
   "id": "e1e57f03-9d33-4be4-9733-5642660e4b85",
   "metadata": {},
   "source": [
    "## Answer"
   ]
  },
  {
   "cell_type": "code",
   "execution_count": 1,
   "id": "b0a736fe-3f34-40da-bef5-a08670010938",
   "metadata": {},
   "outputs": [],
   "source": [
    "def flat_func(given_collection):\n",
    "    flat_list=[]\n",
    "    for each_element in given_collection:\n",
    "        if type(each_element)==int or type(each_element)==float:\n",
    "            flat_list.append(each_element)\n",
    "        #elif type(each_element)==bool:\n",
    "         #   flat_list.append(int(each_element))\n",
    "        elif type(each_element)==list or type(each_element)==set or type(each_element)==tuple:\n",
    "            flat_list.extend(flat_func(each_element))\n",
    "        elif type(each_element)==dict:\n",
    "            for each_nested_element in each_element.keys():\n",
    "                if type(each_nested_element)==int or type(each_nested_element)==float:\n",
    "                    flat_list.append(each_nested_element)\n",
    "            for each_nested_element in each_element.values():\n",
    "                if type(each_nested_element)==int or type(each_nested_element)==float:\n",
    "                    flat_list.append(each_nested_element)\n",
    "                elif type(each_nested_element)==list or type(each_nested_element)==tuple or type(each_nested_element)==set:\n",
    "                    flat_list.extend(flat_func(each_nested_element))\n",
    "            \n",
    "    return flat_list"
   ]
  },
  {
   "cell_type": "code",
   "execution_count": 2,
   "id": "09920aaa-3bf7-4a69-a9a5-745acc6110d5",
   "metadata": {},
   "outputs": [
    {
     "name": "stdout",
     "output_type": "stream",
     "text": [
      "Flat List:  [1, 2, 3, 4, 44, 55, 66, 34, 56, 78, 89, 34, 1, 2, 3, 1, 4, 34, 55, 67, 78, 89, 45, 22, 61, 34, 56]\n",
      "Product of all the numbers:  4134711838987085478833841242112000\n"
     ]
    }
   ],
   "source": [
    "given_list = [1,2,3,4,[44,55,66,True],False,(34,56,78,89,34),{1,2,3,3,2,1},{1:34,'key2':[55,67,78,89],4:(45,22,61,34)},[56,'data science'],'Machine Learning']\n",
    "\n",
    "flat_list=flat_func(given_list)\n",
    "\n",
    "result = 1\n",
    "for each_element in flat_list:\n",
    "    result = result*each_element\n",
    "\n",
    "print('Flat List: ', flat_list)\n",
    "print('Product of all the numbers: ',result)"
   ]
  },
  {
   "cell_type": "markdown",
   "id": "cc853ff4-7c23-4403-a95f-cfe10713a97f",
   "metadata": {},
   "source": [
    "# Task No. 2:\n",
    "Write a Python program for encrypting a message sent to you by your friend. The logic of encryption should be such that, for a the output should be z. For b, the output should by y. For c, the output should be x repectively. Also, the whitespace should be replaced with a dollar sign. Keep the punctuation marks unchanged.\n",
    "\n",
    "Input Sentence: I want to become a Data Scientist.\n",
    "\n",
    "Encrypt the above input sentence using the program you just created.\n",
    "\n",
    "**Note: Convert the given input sentence into lowercase before encrypting. The final output should be lowercase.**"
   ]
  },
  {
   "cell_type": "markdown",
   "id": "6c9b8b0a-98c1-4b3e-9c02-b3878258b386",
   "metadata": {},
   "source": [
    "### Method 1:"
   ]
  },
  {
   "cell_type": "code",
   "execution_count": 3,
   "id": "c34569c8-fbff-461d-89ef-e483b7a06b74",
   "metadata": {},
   "outputs": [
    {
     "name": "stdout",
     "output_type": "stream",
     "text": [
      "r$dzmg$gl$yvxlnv$z$wzgz$hxrvmgrhg\n"
     ]
    }
   ],
   "source": [
    "def encrypt_message(string):\n",
    "    \"\"\"\n",
    "    This function encrypts input string\n",
    "    \"\"\"\n",
    "    string = string.lower()\n",
    "    trans_letters = str.maketrans('abcdefghijklmnopqrstuvwxyz','zyxwvutsrqponmlkjihgfedcba')\n",
    "    encrypted_string = string.translate(trans_letters)\n",
    "    encrypted_string = encrypted_string.replace(' ', '$')\n",
    "    return encrypted_string\n",
    "\n",
    "string = 'I want to become a Data Scientist'\n",
    "print(encrypt_message(string))"
   ]
  },
  {
   "cell_type": "markdown",
   "id": "86cf5aea-31e1-4ac8-885e-bf9e16c57406",
   "metadata": {},
   "source": [
    "### Method 2:"
   ]
  },
  {
   "cell_type": "code",
   "execution_count": 5,
   "id": "7fbe4801-cd20-4b48-9cde-cb7bc84b4572",
   "metadata": {},
   "outputs": [
    {
     "name": "stdout",
     "output_type": "stream",
     "text": [
      "r$dzmg$gl$yvxlnv$z$wzgz$hxrvmgrhg\n"
     ]
    }
   ],
   "source": [
    "def encrypt_message(message):\n",
    "    \"\"\"\n",
    "    This function encrypts input string\n",
    "    \"\"\"\n",
    "    message = message.lower()\n",
    "    letters_asc= ['a','b','c','d','e','f','g','h','i','j','k','l','m','n','o','p','q','r','s','t','u','v','w','x','y','z']\n",
    "    letters_des = sorted(letters_asc, reverse=True)\n",
    "    encrypted_message = ''\n",
    "    for letter in message:\n",
    "        if letter in letters_asc:\n",
    "            pos_in_asc = letters_asc.index(letter)\n",
    "            let_at_des = letters_des[pos_in_asc]\n",
    "            encrypted_message=encrypted_message+let_at_des\n",
    "        elif letter==' ':\n",
    "            encrypted_message=encrypted_message+'$'\n",
    "    return encrypted_message\n",
    "\n",
    "message = 'I want to become a Data Scientist'\n",
    "print(encrypt_message(message))"
   ]
  }
 ],
 "metadata": {
  "kernelspec": {
   "display_name": "Python 3 (ipykernel)",
   "language": "python",
   "name": "python3"
  },
  "language_info": {
   "codemirror_mode": {
    "name": "ipython",
    "version": 3
   },
   "file_extension": ".py",
   "mimetype": "text/x-python",
   "name": "python",
   "nbconvert_exporter": "python",
   "pygments_lexer": "ipython3",
   "version": "3.10.8"
  }
 },
 "nbformat": 4,
 "nbformat_minor": 5
}
