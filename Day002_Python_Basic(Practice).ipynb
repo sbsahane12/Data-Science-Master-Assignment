{
 "cells": [
  {
   "cell_type": "code",
   "execution_count": 1,
   "id": "b942d3e8-d468-4633-9c7a-784fe99ea6d1",
   "metadata": {},
   "outputs": [],
   "source": [
    "string1 = \"Python Programming\""
   ]
  },
  {
   "cell_type": "code",
   "execution_count": 2,
   "id": "0ca46406-fc3c-479a-b697-42d9af5f3a8c",
   "metadata": {},
   "outputs": [
    {
     "name": "stdout",
     "output_type": "stream",
     "text": [
      "Python\n",
      "I love Python\n"
     ]
    }
   ],
   "source": [
    "name = \"Python\"\n",
    "print(name)\n",
    "message = \"I love Python\"\n",
    "print(message)"
   ]
  },
  {
   "cell_type": "code",
   "execution_count": 3,
   "id": "f2fce03b-53c5-47a8-a24c-07281167efde",
   "metadata": {},
   "outputs": [
    {
     "name": "stdout",
     "output_type": "stream",
     "text": [
      "e\n"
     ]
    }
   ],
   "source": [
    "# Accessing string characters\n",
    "greet = 'hello'\n",
    "print(greet[1])"
   ]
  },
  {
   "cell_type": "code",
   "execution_count": 4,
   "id": "d2de5485-aaf5-45d3-9193-141abcdecb6f",
   "metadata": {},
   "outputs": [
    {
     "name": "stdout",
     "output_type": "stream",
     "text": [
      "o\n"
     ]
    }
   ],
   "source": [
    "# Negative indexing\n",
    "print(greet[-1])"
   ]
  },
  {
   "cell_type": "code",
   "execution_count": 5,
   "id": "beeb3c96-4f49-4ba1-87b8-e5dad4b7d6c9",
   "metadata": {},
   "outputs": [
    {
     "name": "stdout",
     "output_type": "stream",
     "text": [
      "A quick br\n"
     ]
    }
   ],
   "source": [
    "# accessing range of character\n",
    "sentence = 'A quick brown fox jumps over the lazy dog'\n",
    "print(sentence[0:10])"
   ]
  },
  {
   "cell_type": "code",
   "execution_count": 6,
   "id": "84922a14-e59b-4cc2-a1d6-85ca938227d0",
   "metadata": {},
   "outputs": [
    {
     "name": "stdout",
     "output_type": "stream",
     "text": [
      "Aqikbonfxjmsoe h ayd\n"
     ]
    }
   ],
   "source": [
    "print(sentence[0:40:2])"
   ]
  },
  {
   "cell_type": "code",
   "execution_count": 7,
   "id": "34bbaa94-4756-41ac-92e4-0f694089c584",
   "metadata": {},
   "outputs": [
    {
     "ename": "TypeError",
     "evalue": "'str' object does not support item assignment",
     "output_type": "error",
     "traceback": [
      "\u001b[0;31m---------------------------------------------------------------------------\u001b[0m",
      "\u001b[0;31mTypeError\u001b[0m                                 Traceback (most recent call last)",
      "Cell \u001b[0;32mIn[7], line 3\u001b[0m\n\u001b[1;32m      1\u001b[0m \u001b[38;5;66;03m# strings are immutable\u001b[39;00m\n\u001b[1;32m      2\u001b[0m message \u001b[38;5;241m=\u001b[39m \u001b[38;5;124m'\u001b[39m\u001b[38;5;124mHola Amigos\u001b[39m\u001b[38;5;124m'\u001b[39m\n\u001b[0;32m----> 3\u001b[0m \u001b[43mmessage\u001b[49m\u001b[43m[\u001b[49m\u001b[38;5;241;43m0\u001b[39;49m\u001b[43m]\u001b[49m\u001b[38;5;241m=\u001b[39m \u001b[38;5;124m'\u001b[39m\u001b[38;5;124me\u001b[39m\u001b[38;5;124m'\u001b[39m\n",
      "\u001b[0;31mTypeError\u001b[0m: 'str' object does not support item assignment"
     ]
    }
   ],
   "source": [
    "# strings are immutable\n",
    "message = 'Hola Amigos'\n",
    "message[0]= 'e'"
   ]
  },
  {
   "cell_type": "code",
   "execution_count": 8,
   "id": "a7db58b1-a397-463e-8b30-0cd43c4b148b",
   "metadata": {},
   "outputs": [
    {
     "name": "stdout",
     "output_type": "stream",
     "text": [
      "\n",
      "never gonna give you up\n",
      "never goona let you down\n",
      "\n"
     ]
    }
   ],
   "source": [
    "# multiline string\n",
    "message = \"\"\"\n",
    "never gonna give you up\n",
    "never goona let you down\n",
    "\"\"\"\n",
    "print(message)"
   ]
  },
  {
   "cell_type": "code",
   "execution_count": 9,
   "id": "607a6b14-95ef-4c6e-9688-c94ed2262fcf",
   "metadata": {},
   "outputs": [
    {
     "name": "stdout",
     "output_type": "stream",
     "text": [
      "False\n",
      "False\n",
      "True\n"
     ]
    }
   ],
   "source": [
    "# string comparison\n",
    "#compare if one string to another\n",
    "\n",
    "string1 = \"Hello world\"\n",
    "string2 = \"Hello space\"\n",
    "string3 = \"Hello universe\"\n",
    "string4 = \"Hello space\"\n",
    "\n",
    "print(string1 == string2)\n",
    "print(string3 == string1)\n",
    "print(string2 == string4)"
   ]
  },
  {
   "cell_type": "code",
   "execution_count": 10,
   "id": "361fe1f3-3e5e-4e19-a93f-4aee6cf39b9e",
   "metadata": {},
   "outputs": [
    {
     "name": "stdout",
     "output_type": "stream",
     "text": [
      "HelloOwais\n"
     ]
    }
   ],
   "source": [
    "# join two or more strings\n",
    "\n",
    "greet = 'Hello'\n",
    "name = 'Owais'\n",
    "\n",
    "print(greet+name)"
   ]
  },
  {
   "cell_type": "code",
   "execution_count": 11,
   "id": "89d382a2-777c-4245-99e0-f3130c995ee5",
   "metadata": {},
   "outputs": [
    {
     "name": "stdout",
     "output_type": "stream",
     "text": [
      "\n",
      "\n",
      "I\n",
      " \n",
      "a\n",
      "m\n",
      " \n",
      "g\n",
      "o\n",
      "i\n",
      "n\n",
      "g\n",
      " \n",
      "t\n",
      "o\n",
      " \n",
      "i\n",
      "t\n",
      "e\n",
      "r\n",
      "a\n",
      "t\n",
      "e\n",
      " \n",
      "t\n",
      "h\n",
      "r\n",
      "o\n",
      "u\n",
      "g\n",
      "h\n",
      " \n",
      "t\n",
      "h\n",
      "i\n",
      "s\n",
      " \n",
      "s\n",
      "t\n",
      "r\n",
      "i\n",
      "n\n",
      "g\n",
      " \n",
      "l\n",
      "e\n",
      "t\n",
      "t\n",
      "e\n",
      "r\n",
      " \n",
      "b\n",
      "y\n",
      " \n",
      "l\n",
      "e\n",
      "t\n",
      "t\n",
      "e\n",
      "r\n",
      "\n",
      "\n"
     ]
    }
   ],
   "source": [
    "# iterate through a string\n",
    "\n",
    "string =\"\"\"\n",
    "I am going to iterate through this string letter by letter\n",
    "\"\"\"\n",
    "\n",
    "for letter in string:\n",
    "    print(letter)"
   ]
  },
  {
   "cell_type": "code",
   "execution_count": 12,
   "id": "89a303ab-ec70-4c9d-9b91-d4644206328f",
   "metadata": {},
   "outputs": [
    {
     "data": {
      "text/plain": [
       "60"
      ]
     },
     "execution_count": 12,
     "metadata": {},
     "output_type": "execute_result"
    }
   ],
   "source": [
    "# string length\n",
    "\n",
    "len(string)"
   ]
  },
  {
   "cell_type": "code",
   "execution_count": 13,
   "id": "279cde6c-b4af-40ea-bd40-2e71c55b1bb1",
   "metadata": {},
   "outputs": [
    {
     "name": "stdout",
     "output_type": "stream",
     "text": [
      "False\n",
      "True\n",
      "False\n"
     ]
    }
   ],
   "source": [
    "# string membership test\n",
    "\n",
    "print('a' in 'Science')\n",
    "print('e' in 'Science')\n",
    "print('E' in 'Science')"
   ]
  },
  {
   "cell_type": "markdown",
   "id": "5e9f19dc-6559-43ae-9df3-fa255b0be7b4",
   "metadata": {},
   "source": [
    "# Methods of String"
   ]
  },
  {
   "cell_type": "code",
   "execution_count": 14,
   "id": "c798ecd3-dc0d-4bfd-9f4b-b5ae14cbc79c",
   "metadata": {},
   "outputs": [
    {
     "name": "stdout",
     "output_type": "stream",
     "text": [
      "THIS STRING IS IN LOWERCASE,\n",
      "BUT I AM GOING TO CONVERT IT TO UPPERCASE\n",
      "BY CALLING THE UPPER METHOD ON IT.\n",
      "\n"
     ]
    }
   ],
   "source": [
    "# upper\n",
    "string = \"\"\"this string is in lowercase,\n",
    "but i am going to convert it to uppercase\n",
    "by calling the upper method on it.\n",
    "\"\"\"\n",
    "\n",
    "print(string.upper())"
   ]
  },
  {
   "cell_type": "code",
   "execution_count": 15,
   "id": "0366d757-6773-4ebd-a865-fe643e3a493b",
   "metadata": {},
   "outputs": [
    {
     "name": "stdout",
     "output_type": "stream",
     "text": [
      "this string is in uppercase\n",
      "but i am going to convert it to lowercase\n",
      "by calling the lower method on it.\n",
      "\n"
     ]
    }
   ],
   "source": [
    "# lower\n",
    "string =\"\"\"THIS STRING IS IN UPPERCASE\n",
    "BUT I AM GOING TO CONVERT IT TO LOWERCASE\n",
    "BY CALLING THE LOWER METHOD ON IT.\n",
    "\"\"\"\n",
    "print(string.lower())"
   ]
  },
  {
   "cell_type": "code",
   "execution_count": 16,
   "id": "022f231d-5582-4098-b92e-eb0590d93dc4",
   "metadata": {},
   "outputs": [
    {
     "name": "stdout",
     "output_type": "stream",
     "text": [
      "('THIS', ' ', 'STRING IS IN UPPERCASE\\nBUT I AM GOING TO CONVERT IT TO LOWERCASE\\nBY CALLING THE LOWER METHOD ON IT.\\n')\n"
     ]
    }
   ],
   "source": [
    "# partition\n",
    "print(string.partition(' '))"
   ]
  },
  {
   "cell_type": "code",
   "execution_count": 17,
   "id": "c91d4bb7-aa37-45e8-b8d2-f3f22843c2b1",
   "metadata": {},
   "outputs": [
    {
     "name": "stdout",
     "output_type": "stream",
     "text": [
      "THIS PRING IS IN UPPERCASE\n",
      "BUT I AM GOING TO CONVERT IT TO LOWERCASE\n",
      "BY CALLING THE LOWER METHOD ON IT.\n",
      "\n"
     ]
    }
   ],
   "source": [
    "# replace\n",
    "print(string.replace('ST', 'P'))"
   ]
  },
  {
   "cell_type": "code",
   "execution_count": 18,
   "id": "44b18338-dddd-466c-a58b-7f87f7775ab2",
   "metadata": {},
   "outputs": [
    {
     "name": "stdout",
     "output_type": "stream",
     "text": [
      "5\n"
     ]
    }
   ],
   "source": [
    "# find\n",
    "print(string.find('STRING'))"
   ]
  },
  {
   "cell_type": "code",
   "execution_count": 19,
   "id": "c0b2200d-0ca5-4278-97de-e11c59e96444",
   "metadata": {},
   "outputs": [
    {
     "name": "stdout",
     "output_type": "stream",
     "text": [
      "11\n",
      "6\n"
     ]
    }
   ],
   "source": [
    "# rstrip\n",
    "this_string = \"Spaces     \"\n",
    "print(len(this_string))\n",
    "this_string = this_string.rstrip()\n",
    "print(len(this_string))"
   ]
  },
  {
   "cell_type": "code",
   "execution_count": 20,
   "id": "655af8d9-1813-4e5c-b58d-f0862b795549",
   "metadata": {},
   "outputs": [
    {
     "name": "stdout",
     "output_type": "stream",
     "text": [
      "15\n",
      "11\n"
     ]
    }
   ],
   "source": [
    "# lstrip\n",
    "this_string = \"    Spaces     \"\n",
    "print(len(this_string))\n",
    "this_string = this_string.lstrip()\n",
    "print(len(this_string))"
   ]
  },
  {
   "cell_type": "code",
   "execution_count": 21,
   "id": "3d5b85e7-4015-4fc4-87c1-973c07e5cb40",
   "metadata": {},
   "outputs": [
    {
     "name": "stdout",
     "output_type": "stream",
     "text": [
      "15\n",
      "6\n"
     ]
    }
   ],
   "source": [
    "# strip\n",
    "this_string = \"    Spaces     \"\n",
    "print(len(this_string))\n",
    "this_string = this_string.strip()\n",
    "print(len(this_string))"
   ]
  },
  {
   "cell_type": "code",
   "execution_count": 22,
   "id": "5b059273-4e6b-4194-8ba8-44f1daae2f35",
   "metadata": {},
   "outputs": [
    {
     "name": "stdout",
     "output_type": "stream",
     "text": [
      "True\n",
      "False\n",
      "False\n",
      "True\n"
     ]
    }
   ],
   "source": [
    "# startswith\n",
    "now_this_string = \"\"\"This string starts with the word 'This' not with the word 'That'\n",
    "And it does not end with the word 'This', is it?\"\"\"\n",
    "\n",
    "print(now_this_string.startswith('This'))\n",
    "print(now_this_string.startswith('That'))\n",
    "\n",
    "print(now_this_string.endswith('This'))\n",
    "print(now_this_string.endswith('it?'))"
   ]
  },
  {
   "cell_type": "code",
   "execution_count": 28,
   "id": "7fb3147b-f76e-42bb-815f-e71633922c4e",
   "metadata": {},
   "outputs": [
    {
     "name": "stdout",
     "output_type": "stream",
     "text": [
      "['This string will ', \" be split by the letter '\", \"'\"]\n",
      "['This will also ', ' be split by the same letter']\n",
      "This will also \n",
      " be split by the same letter\n"
     ]
    }
   ],
   "source": [
    "# split\n",
    "but_this_string = \"This string will / be split by the letter '/'\"\n",
    "suppose_this_string = \"This will also / be split by the same letter\"\n",
    "\n",
    "print(but_this_string.split('/'))\n",
    "new_suppose_string = suppose_this_string.split('/')\n",
    "print(new_suppose_string)\n",
    "print(new_suppose_string[0])\n",
    "print(new_suppose_string[1])"
   ]
  },
  {
   "cell_type": "code",
   "execution_count": 24,
   "id": "86101f42-0ca8-483a-ac10-a11593afb239",
   "metadata": {},
   "outputs": [
    {
     "name": "stdout",
     "output_type": "stream",
     "text": [
      "False\n",
      "True\n",
      "False\n"
     ]
    }
   ],
   "source": [
    "# isnumeric\n",
    "also_this_string = \"Including numbers 1 2 and 3 in this string\"\n",
    "or_this_string = \"123\"\n",
    "even_this_string = \"1 2 3\"\n",
    "\n",
    "print(also_this_string.isnumeric())\n",
    "print(or_this_string.isnumeric())\n",
    "print(even_this_string.isnumeric())"
   ]
  },
  {
   "cell_type": "code",
   "execution_count": 25,
   "id": "87eee416-2b1c-4392-8ddd-18a2153c67fc",
   "metadata": {},
   "outputs": [
    {
     "name": "stdout",
     "output_type": "stream",
     "text": [
      "35\n"
     ]
    }
   ],
   "source": [
    "# index\n",
    "either_this_string = \"Can anyone tell me the position of This word in this string?\"\n",
    "\n",
    "print(either_this_string.index('This word')) "
   ]
  },
  {
   "cell_type": "markdown",
   "id": "f32d0693-e132-458f-9022-a81e18ab3442",
   "metadata": {},
   "source": [
    "What is the difference between the find method and the index method?"
   ]
  },
  {
   "cell_type": "code",
   "execution_count": 26,
   "id": "aa1bcfe9-a853-45c6-b8f0-8029b2db317b",
   "metadata": {},
   "outputs": [
    {
     "name": "stdout",
     "output_type": "stream",
     "text": [
      "-1\n"
     ]
    }
   ],
   "source": [
    "print(either_this_string.find('That'))"
   ]
  },
  {
   "cell_type": "code",
   "execution_count": 27,
   "id": "f16f470e-b1ee-49ed-bc7a-8f4943baf691",
   "metadata": {},
   "outputs": [
    {
     "ename": "ValueError",
     "evalue": "substring not found",
     "output_type": "error",
     "traceback": [
      "\u001b[0;31m---------------------------------------------------------------------------\u001b[0m",
      "\u001b[0;31mValueError\u001b[0m                                Traceback (most recent call last)",
      "Cell \u001b[0;32mIn[27], line 1\u001b[0m\n\u001b[0;32m----> 1\u001b[0m \u001b[38;5;28mprint\u001b[39m(\u001b[43meither_this_string\u001b[49m\u001b[38;5;241;43m.\u001b[39;49m\u001b[43mindex\u001b[49m\u001b[43m(\u001b[49m\u001b[38;5;124;43m'\u001b[39;49m\u001b[38;5;124;43mThat\u001b[39;49m\u001b[38;5;124;43m'\u001b[39;49m\u001b[43m)\u001b[49m)\n",
      "\u001b[0;31mValueError\u001b[0m: substring not found"
     ]
    }
   ],
   "source": [
    "print(either_this_string.index('That'))"
   ]
  },
  {
   "cell_type": "code",
   "execution_count": 43,
   "id": "2e24fa0f-1d8a-4b7c-a1ba-6f4fe6a6fc9f",
   "metadata": {},
   "outputs": [
    {
     "name": "stdout",
     "output_type": "stream",
     "text": [
      "**********************banana**********************\n"
     ]
    }
   ],
   "source": [
    "how_this_string = \"banana\"\n",
    "print(how_this_string.center(50,'*'))"
   ]
  },
  {
   "cell_type": "code",
   "execution_count": 45,
   "id": "2f963225-4ea1-4150-822c-e16fced5ce54",
   "metadata": {},
   "outputs": [
    {
     "name": "stdout",
     "output_type": "stream",
     "text": [
      "bizoo bizoo\n"
     ]
    }
   ],
   "source": [
    "initialize_this_string = \"BIZOO BIZOO\"\n",
    "print(initialize_this_string.casefold())"
   ]
  },
  {
   "cell_type": "code",
   "execution_count": 54,
   "id": "259724f4-00e5-4ae3-86c0-89258fccbf38",
   "metadata": {},
   "outputs": [
    {
     "name": "stdout",
     "output_type": "stream",
     "text": [
      "b'My name is St\\\\xe5le'\n",
      "b'My name is St\\xc3\\xa5le'\n",
      "b'My name is St\\\\N{LATIN SMALL LETTER A WITH RING ABOVE}le'\n",
      "b'My name is St?le'\n",
      "b'My name is St&#229;le'\n"
     ]
    }
   ],
   "source": [
    "txt = \"My name is Ståle\"\n",
    "\n",
    "print(txt.encode(encoding=\"ascii\",errors=\"backslashreplace\"))\n",
    "print(txt.encode(encoding=\"utf-8\",errors=\"backslashreplace\"))\n",
    "print(txt.encode(encoding=\"ascii\",errors=\"namereplace\"))\n",
    "print(txt.encode(encoding=\"ascii\",errors=\"replace\"))\n",
    "print(txt.encode(encoding=\"ascii\",errors=\"xmlcharrefreplace\"))"
   ]
  },
  {
   "cell_type": "code",
   "execution_count": 65,
   "id": "fe8f1e00-02ce-42e2-b81c-84e91ebc0390",
   "metadata": {},
   "outputs": [
    {
     "name": "stdout",
     "output_type": "stream",
     "text": [
      "A.m.a.z.o.n. .o.r. .n.o.t. .A.m.a.z.o.n\n"
     ]
    }
   ],
   "source": [
    "this_txt = 'Amazon or not Amazon'\n",
    "\n",
    "print('.'.join(this_txt))"
   ]
  },
  {
   "cell_type": "code",
   "execution_count": 67,
   "id": "f19e49d8-9ec1-4238-8c58-b78b39b7db54",
   "metadata": {},
   "outputs": [
    {
     "name": "stdout",
     "output_type": "stream",
     "text": [
      "0000000000000000000000Spinning the wheel\n"
     ]
    }
   ],
   "source": [
    "now_this_txt = 'Spinning the wheel'\n",
    "\n",
    "print(now_this_txt.zfill(40))"
   ]
  },
  {
   "cell_type": "code",
   "execution_count": 70,
   "id": "de5338e6-ed70-421e-bc21-765c00e9a7f0",
   "metadata": {},
   "outputs": [
    {
     "name": "stdout",
     "output_type": "stream",
     "text": [
      "Hello Pam!\n"
     ]
    }
   ],
   "source": [
    "#use a dictionary with ascii codes to replace 83 (S) with 80 (P):\n",
    "mydict = {83:  80}\n",
    "and_this_txt = \"Hello Sam!\"\n",
    "print(and_this_txt.translate(mydict))"
   ]
  },
  {
   "cell_type": "code",
   "execution_count": 72,
   "id": "9430158f-2a6c-4b21-9bfa-d9338dd2abc3",
   "metadata": {},
   "outputs": [
    {
     "name": "stdout",
     "output_type": "stream",
     "text": [
      "how is everythingH alrightH\n"
     ]
    }
   ],
   "source": [
    "here_this_txt = 'how is everything? alright?'\n",
    "table = here_this_txt.maketrans('?', 'H')\n",
    "\n",
    "print(here_this_txt.translate(table))"
   ]
  },
  {
   "cell_type": "code",
   "execution_count": 73,
   "id": "6a4c912b-d0b3-4e13-90cc-54c543774452",
   "metadata": {},
   "outputs": [
    {
     "ename": "ValueError",
     "evalue": "the first two maketrans arguments must have equal length",
     "output_type": "error",
     "traceback": [
      "\u001b[0;31m---------------------------------------------------------------------------\u001b[0m",
      "\u001b[0;31mValueError\u001b[0m                                Traceback (most recent call last)",
      "Cell \u001b[0;32mIn[73], line 2\u001b[0m\n\u001b[1;32m      1\u001b[0m here_this_txt \u001b[38;5;241m=\u001b[39m \u001b[38;5;124m'\u001b[39m\u001b[38;5;124mhow is everything? alright?\u001b[39m\u001b[38;5;124m'\u001b[39m\n\u001b[0;32m----> 2\u001b[0m table \u001b[38;5;241m=\u001b[39m \u001b[43mhere_this_txt\u001b[49m\u001b[38;5;241;43m.\u001b[39;49m\u001b[43mmaketrans\u001b[49m\u001b[43m(\u001b[49m\u001b[38;5;124;43m'\u001b[39;49m\u001b[38;5;124;43m?\u001b[39;49m\u001b[38;5;124;43m'\u001b[39;49m\u001b[43m,\u001b[49m\u001b[43m \u001b[49m\u001b[38;5;124;43m'\u001b[39;49m\u001b[38;5;124;43mHHHHHH\u001b[39;49m\u001b[38;5;124;43m'\u001b[39;49m\u001b[43m)\u001b[49m\n\u001b[1;32m      4\u001b[0m \u001b[38;5;28mprint\u001b[39m(here_this_txt\u001b[38;5;241m.\u001b[39mtranslate(table))\n",
      "\u001b[0;31mValueError\u001b[0m: the first two maketrans arguments must have equal length"
     ]
    }
   ],
   "source": [
    "here_this_txt = 'how is everything? alright?'\n",
    "table = here_this_txt.maketrans('?', 'HHHHHH')\n",
    "\n",
    "print(here_this_txt.translate(table))"
   ]
  },
  {
   "cell_type": "code",
   "execution_count": 77,
   "id": "267d0249-1dc2-4f81-aaeb-a0c268d512a6",
   "metadata": {},
   "outputs": [
    {
     "name": "stdout",
     "output_type": "stream",
     "text": [
      "how s everythngH alrghtH\n"
     ]
    }
   ],
   "source": [
    "#The third parameter in the mapping table describes characters that you want to remove from the string\n",
    "table = here_this_txt.maketrans('?', 'H', 'i')\n",
    "\n",
    "print(here_this_txt.translate(table))"
   ]
  },
  {
   "cell_type": "code",
   "execution_count": 78,
   "id": "fb70ad6c-efac-439c-96bf-84cf5783b6cb",
   "metadata": {},
   "outputs": [
    {
     "name": "stdout",
     "output_type": "stream",
     "text": [
      "G i Joe!\n"
     ]
    }
   ],
   "source": [
    "txt = \"Good night Sam!\"\n",
    "mydict = {109: 101, 83: 74, 97: 111, 111: None, 100: None, 110: None, 103: None, 104: None, 116: None} #ascii values\n",
    "print(txt.translate(mydict))"
   ]
  },
  {
   "cell_type": "code",
   "execution_count": 82,
   "id": "0aa4b02e-253e-4c54-8cd6-9aa3289dc29e",
   "metadata": {},
   "outputs": [
    {
     "data": {
      "text/plain": [
       "'texthi'"
      ]
     },
     "execution_count": 82,
     "metadata": {},
     "output_type": "execute_result"
    }
   ],
   "source": [
    "value = 'hi'\n",
    "'text{}'.format(value)"
   ]
  },
  {
   "cell_type": "code",
   "execution_count": 83,
   "id": "e6b99674-c3fa-416c-8f3a-7e21e5bb3706",
   "metadata": {},
   "outputs": [
    {
     "name": "stdout",
     "output_type": "stream",
     "text": [
      "this is not a normal string\n"
     ]
    }
   ],
   "source": [
    "value = 'normal'\n",
    "txt = f'this is not a {value} string'\n",
    "print(txt)"
   ]
  },
  {
   "cell_type": "code",
   "execution_count": 87,
   "id": "5f65f52e-40ab-4690-a1d2-3d912f6ab8cb",
   "metadata": {},
   "outputs": [
    {
     "name": "stdout",
     "output_type": "stream",
     "text": [
      "False\n",
      "True\n",
      "False\n"
     ]
    }
   ],
   "source": [
    "txt = 'i am tired and bored but i got to do this'\n",
    "txt_new = '2problems1reason'\n",
    "txt_new_two = '2 problems 1 reason'\n",
    "print(txt.isalnum()) # checks if the string is alphanumeric\n",
    "print(txt_new.isalnum())\n",
    "print(txt_new_two.isalnum())"
   ]
  },
  {
   "cell_type": "code",
   "execution_count": 88,
   "id": "0f28ee52-2aae-4b48-8a9a-26e41c6faec2",
   "metadata": {},
   "outputs": [
    {
     "name": "stdout",
     "output_type": "stream",
     "text": [
      "False\n",
      "True\n"
     ]
    }
   ],
   "source": [
    "txt = 'when will these methods end? there are so many of them'\n",
    "txt_new = 'def'\n",
    "print(txt.isidentifier())\n",
    "print(txt_new.isidentifier())"
   ]
  },
  {
   "cell_type": "code",
   "execution_count": 91,
   "id": "0a01d54d-d6ea-48f2-8d36-3332d826f3f7",
   "metadata": {},
   "outputs": [
    {
     "name": "stdout",
     "output_type": "stream",
     "text": [
      "ok, i am going to try a couple of more methods then i am done+++++++++++++++++++++++++++++++++++++++\n",
      "+++++++++++++++++++++++++++++++++++++++ok, i am going to try a couple of more methods then i am done\n"
     ]
    }
   ],
   "source": [
    "txt = 'ok, i am going to try a couple of more methods then i am done'\n",
    "print(txt.ljust(100,'+'))\n",
    "print(txt.rjust(100, '+'))"
   ]
  },
  {
   "cell_type": "code",
   "execution_count": 96,
   "id": "24499771-1ba8-4c56-bcdd-6515e193cc96",
   "metadata": {},
   "outputs": [
    {
     "name": "stdout",
     "output_type": "stream",
     "text": [
      " more method and then i am done done\n",
      "one more method and then i am done done\n",
      "one more method and then i am done \n",
      "one more method and then i am \n"
     ]
    }
   ],
   "source": [
    "txt = 'one more method and then i am done done'\n",
    "print(txt.removeprefix('one'))\n",
    "print(txt.removeprefix('method'))\n",
    "\n",
    "print(txt.removesuffix('done'))\n",
    "print(txt.removesuffix('done done'))"
   ]
  },
  {
   "cell_type": "code",
   "execution_count": 100,
   "id": "b86e9771-0afe-4357-aa4b-ea64356b1ce9",
   "metadata": {},
   "outputs": [
    {
     "name": "stdout",
     "output_type": "stream",
     "text": [
      "['lets just see if there are any. ', 'more important methods that we missed']\n",
      "['lets just see if there are any. \\n', 'more important methods that we missed\\n']\n"
     ]
    }
   ],
   "source": [
    "txt = \"\"\"lets just see if there are any. \n",
    "more important methods that we missed\n",
    "\"\"\"\n",
    "print(txt.splitlines())\n",
    "print(txt.splitlines(keepends = True))"
   ]
  },
  {
   "cell_type": "code",
   "execution_count": 101,
   "id": "ca4aa0f1-efe8-4637-89ef-a1735c1b1f00",
   "metadata": {},
   "outputs": [
    {
     "name": "stdout",
     "output_type": "stream",
     "text": [
      "tHIS HAS TO BE THE LAST METHOD\n"
     ]
    }
   ],
   "source": [
    "txt = 'This has to be the last method'\n",
    "\n",
    "print(txt.swapcase())"
   ]
  }
 ],
 "metadata": {
  "kernelspec": {
   "display_name": "Python 3 (ipykernel)",
   "language": "python",
   "name": "python3"
  },
  "language_info": {
   "codemirror_mode": {
    "name": "ipython",
    "version": 3
   },
   "file_extension": ".py",
   "mimetype": "text/x-python",
   "name": "python",
   "nbconvert_exporter": "python",
   "pygments_lexer": "ipython3",
   "version": "3.10.8"
  }
 },
 "nbformat": 4,
 "nbformat_minor": 5
}
