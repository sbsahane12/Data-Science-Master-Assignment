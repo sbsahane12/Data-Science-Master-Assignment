{
 "cells": [
  {
   "cell_type": "markdown",
   "id": "f2f41c91-6d81-4245-9ae5-e302b61da0b5",
   "metadata": {},
   "source": [
    "# Question No .1:\n",
    "Which function is used to open a file? What are the different modes of opening a file? Explain each mode of file opening."
   ]
  },
  {
   "cell_type": "markdown",
   "id": "a237fb35-ae48-4270-a3fc-139ad47616b1",
   "metadata": {},
   "source": [
    "## Answer:\n",
    "In Python, we use the **open()** method to open files.\n",
    "\n",
    "The dfferent modes of opering a file are:<br>\n",
    "1. **r**: Open a file for reading.\n",
    "2. **w** : Open a file for writing. Creates a new file if it does not exist or truncates the file if exists.\n",
    "3. **x** : Open a file for exclusive creation. If the file already exists, the operation fails.\n",
    "4. **a** : Open a file for appending at the end of the file without truncating it. Creates a new file if it does not exist.\n",
    "5. **t** : Open in text mode.\n",
    "6. **b** : Open in binary mode.\n",
    "7. **+** : Open a file for updating (reading and writing)"
   ]
  },
  {
   "cell_type": "markdown",
   "id": "3a16dd3f-8aa2-4975-a188-825e9af86165",
   "metadata": {},
   "source": [
    "# Question No. 2:\n",
    "Why **close()** function is used? Why is it important to close a file?"
   ]
  },
  {
   "cell_type": "markdown",
   "id": "34a4e8bb-2b2d-4cf8-affb-90e1277261c5",
   "metadata": {},
   "source": [
    "## Answer:\n",
    "When we are done with the opened file, we need to close it. If it is not closed the resources that are tied with the file are not freed.\n",
    "\n",
    "In Python, the **close()** method is used to close a file. When you're done reading from or writing to a file, you need to close it so that other programs can access it and so that your program frees up the memory it used for the file."
   ]
  },
  {
   "cell_type": "markdown",
   "id": "765abb75-1f8b-4d28-8092-3e5d23f382a6",
   "metadata": {},
   "source": [
    "# Question No. 3:\n",
    "Write a Python progrm to create a text file. Write 'I want to becomae a Data Scientist' in that file. Then close the file. Open this file and read the content of the file."
   ]
  },
  {
   "cell_type": "markdown",
   "id": "233ca337-5476-4c1e-9d70-e29914eedf4d",
   "metadata": {},
   "source": [
    "## Answer:"
   ]
  },
  {
   "cell_type": "code",
   "execution_count": 1,
   "id": "bb0b8cf7-68d3-425b-b512-c152efbce627",
   "metadata": {},
   "outputs": [],
   "source": [
    "# open the file in write mode (creates the file)\n",
    "with open('newfile.txt', 'w') as new_file:\n",
    "    #write contents in the file\n",
    "    new_file.write('I want to become a Data Scientist')\n",
    "\n",
    "#close the file\n",
    "new_file.close()"
   ]
  },
  {
   "cell_type": "code",
   "execution_count": 2,
   "id": "780a2258-73e8-4de2-9608-6adb7baea8c0",
   "metadata": {},
   "outputs": [
    {
     "name": "stdout",
     "output_type": "stream",
     "text": [
      "I want to become a Data Scientist\n"
     ]
    }
   ],
   "source": [
    "# open the file in read mode\n",
    "with open('newfile.txt', 'r') as new_file:\n",
    "    #read contents of the file\n",
    "    read_content = new_file.read()\n",
    "    #display contents of the file\n",
    "    print(read_content)\n",
    "    \n",
    "#close the file\n",
    "new_file.close()"
   ]
  },
  {
   "cell_type": "markdown",
   "id": "8484c7cc-d52f-44de-9d6e-bfb45cf489d7",
   "metadata": {},
   "source": [
    "# Question No. 4:\n",
    "Explain the following with Python code: **read()**, **readline()** and **readlines()**."
   ]
  },
  {
   "cell_type": "markdown",
   "id": "a204b62e-2170-48ea-9e19-bb596d426ab3",
   "metadata": {},
   "source": [
    "## Answer:\n",
    "To understand the functionality of **read()**, **readline()** and **readlines()** properly, let's first create a .txt file and write a few lines of text in it."
   ]
  },
  {
   "cell_type": "code",
   "execution_count": 3,
   "id": "adf8c381-7e02-41b2-9ad6-418d8b848543",
   "metadata": {},
   "outputs": [],
   "source": [
    "with open('example_file.txt', 'w') as file:\n",
    "    file.write('This is the first line in the file\\nThis is second line in the file\\nThis is last line in the file\\n')\n",
    "    \n",
    "file.close()"
   ]
  },
  {
   "cell_type": "markdown",
   "id": "b9f2b031-965a-4f88-b90a-88cbb88f27a6",
   "metadata": {},
   "source": [
    "So we created .txt file and wrote 3 lines in it.\n",
    "\n",
    "the **read()** method is used to read the entire contents of a file as a single string. For example:"
   ]
  },
  {
   "cell_type": "code",
   "execution_count": 4,
   "id": "03ab2193-97fc-4fab-9128-c88bf713915c",
   "metadata": {},
   "outputs": [
    {
     "name": "stdout",
     "output_type": "stream",
     "text": [
      "This is the first line in the file\n",
      "This is second line in the file\n",
      "This is last line in the file\n",
      "\n"
     ]
    }
   ],
   "source": [
    "with open('example_file.txt','r') as file:\n",
    "    contents = file.read()\n",
    "    print(contents)\n",
    "\n",
    "file.close()"
   ]
  },
  {
   "cell_type": "markdown",
   "id": "ab85fa7d-cd5c-4fe3-9568-681b5911d5f4",
   "metadata": {},
   "source": [
    "**readline()** method is used to read a single line form the file. For example:"
   ]
  },
  {
   "cell_type": "code",
   "execution_count": 5,
   "id": "c368c555-0605-4021-a83b-8fb71b95c016",
   "metadata": {},
   "outputs": [
    {
     "name": "stdout",
     "output_type": "stream",
     "text": [
      "This is the first line in the file\n",
      "\n"
     ]
    }
   ],
   "source": [
    "with open('example_file.txt', 'r') as file:\n",
    "    line = file.readline()\n",
    "    print(line)\n",
    "\n",
    "file.close()"
   ]
  },
  {
   "cell_type": "markdown",
   "id": "55f8c285-32a7-4ecd-b655-b58f908cda23",
   "metadata": {},
   "source": [
    "**readlines()** method is used to read all the lines of a file as a list of strings, where each stirng is a line of the file. For example:"
   ]
  },
  {
   "cell_type": "code",
   "execution_count": 6,
   "id": "e04420da-deb4-4f7f-a560-984fe2deed54",
   "metadata": {},
   "outputs": [
    {
     "name": "stdout",
     "output_type": "stream",
     "text": [
      "['This is the first line in the file\\n', 'This is second line in the file\\n', 'This is last line in the file\\n']\n"
     ]
    }
   ],
   "source": [
    "with open('example_file.txt', 'r') as file:\n",
    "    lines = file.readlines()\n",
    "    print(lines)\n",
    "    \n",
    "file.close()"
   ]
  },
  {
   "cell_type": "markdown",
   "id": "36f92ac2-d0b2-4376-9a7e-9618e2b00218",
   "metadata": {},
   "source": [
    "# Question No. 5:\n",
    "Explain why **with** statement is used with **open()**. What is the advantage of using **with** statement and **open()** together?"
   ]
  },
  {
   "cell_type": "markdown",
   "id": "fbd24982-5299-41d7-83f1-45dc159f8139",
   "metadata": {},
   "source": [
    "## Answer:\n",
    "The **with** statement is used with the **open()** function in Python to ensure that the file is properly closed after it has been used. <br> \n",
    "The advantage of using the **with** statement is that it automatically takes care of closing the file for you, even if an error occurs during the execution of the block of code.\n",
    "\n",
    "When you use the **with** statement, Python creates a context in which the file is open and makes it available within the indented block following the **with** statement. When the block of code is executed, the file is automatically closed, even if an exception is raised. This helps prevent resource leaks and reduces the risk of data corruption."
   ]
  },
  {
   "cell_type": "markdown",
   "id": "ba063c9e-b776-4657-be43-e01e35c9bf00",
   "metadata": {},
   "source": [
    "# Question No. 6:\n",
    "Explain the **write()** and **writelines()** functions. Give a suitable example."
   ]
  },
  {
   "cell_type": "markdown",
   "id": "992a3590-f8d1-4236-8ff3-c505f7ae2f44",
   "metadata": {},
   "source": [
    "## Answer:\n",
    "The **write()** and **writelines()** functions in Python are used to write text data to a file.\n",
    "\n",
    "The **write()** function is used to write a string to a file. It takes a single string argument and returns the number of characters written to the file. For example:"
   ]
  },
  {
   "cell_type": "code",
   "execution_count": 7,
   "id": "dcf106a0-6232-48f3-b5f2-d8bf37243aca",
   "metadata": {},
   "outputs": [],
   "source": [
    "with open('example_file.txt', 'w') as file:\n",
    "    file.write('This is the line i wrote to the file using write function\\n')\n",
    "\n",
    "file.close()"
   ]
  },
  {
   "cell_type": "markdown",
   "id": "77433eea-6c52-4aeb-a226-79b5fac8aefb",
   "metadata": {},
   "source": [
    "The **writelines()** function is used to write a list of strings to a file. It takes a list of strings as an argument and writes each string to a separate line in the file. For example:"
   ]
  },
  {
   "cell_type": "code",
   "execution_count": 8,
   "id": "7ef4ebf9-7cbf-4578-9092-ec5afa0fb43f",
   "metadata": {},
   "outputs": [],
   "source": [
    "lines = ['Line 1\\n','Line 2\\n', 'Line 3\\n']\n",
    "\n",
    "with open('example_file.txt', 'a') as file:\n",
    "    file.writelines(lines)\n",
    "    \n",
    "file.close()"
   ]
  },
  {
   "cell_type": "markdown",
   "id": "cd323e36-11c1-4a23-a6cf-0a0e125b5066",
   "metadata": {},
   "source": [
    "Now lets read the file contents for verification"
   ]
  },
  {
   "cell_type": "code",
   "execution_count": 9,
   "id": "7414eeb8-e2bf-4939-87f2-362a5de23f73",
   "metadata": {},
   "outputs": [
    {
     "name": "stdout",
     "output_type": "stream",
     "text": [
      "This is the line i wrote to the file using write function\n",
      "Line 1\n",
      "Line 2\n",
      "Line 3\n",
      "\n"
     ]
    }
   ],
   "source": [
    "with open('example_file.txt', 'r') as file:\n",
    "    contents = file.read()\n",
    "    print(contents)\n",
    "file.close()"
   ]
  }
 ],
 "metadata": {
  "kernelspec": {
   "display_name": "Python 3 (ipykernel)",
   "language": "python",
   "name": "python3"
  },
  "language_info": {
   "codemirror_mode": {
    "name": "ipython",
    "version": 3
   },
   "file_extension": ".py",
   "mimetype": "text/x-python",
   "name": "python",
   "nbconvert_exporter": "python",
   "pygments_lexer": "ipython3",
   "version": "3.10.8"
  }
 },
 "nbformat": 4,
 "nbformat_minor": 5
}
