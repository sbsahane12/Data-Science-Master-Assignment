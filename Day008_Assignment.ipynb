{
 "cells": [
  {
   "cell_type": "markdown",
   "id": "e8ab048e-92e3-442f-9742-47d856fd4faf",
   "metadata": {},
   "source": [
    "# Question No. 1:\n",
    "Explain Class and Object with respect to Object-Oriented Programming.<br>\n",
    "Give a suitable example."
   ]
  },
  {
   "cell_type": "markdown",
   "id": "9175d16d-fdc7-4555-8f1a-3994d7f6a1f0",
   "metadata": {},
   "source": [
    "## Answer\n",
    "***Classes*** in Python provide a blueprint for creating objects (data structures), providing initial values for state (member variables or attributes), and implementations of behavior (member functions or methods). <br> Classes are a way to organize code and encapsulate data and functions that operate on that data within objects.\n",
    "\n",
    "An ***object*** is an instance of a class. Objects are created from class templates and store their own state, which is stored in attributes, and implement behavior, which is provided by methods. The state and behavior of an object can be manipulated through method calls."
   ]
  },
  {
   "cell_type": "code",
   "execution_count": 1,
   "id": "fe04b282-6fac-47e0-93b3-00fcc0fbdf5e",
   "metadata": {},
   "outputs": [],
   "source": [
    "class house:\n",
    "    def __init__(self, total_rooms, total_floors, area):\n",
    "        self.total_rooms = total_rooms\n",
    "        self.total_floors = total_floors\n",
    "        self.area = area\n",
    "        \n",
    "    def buy_or_not(self):\n",
    "        if self.total_rooms<3:\n",
    "            print(\"Not Buying\")\n",
    "        else:\n",
    "            print(\"Buying\")"
   ]
  },
  {
   "cell_type": "code",
   "execution_count": 2,
   "id": "8692ccc9-bf20-46e7-b4b9-67dc2be21d00",
   "metadata": {},
   "outputs": [],
   "source": [
    "client_1 = house(5,2,56) # object 1\n",
    "client_2 = house(2,1,44) # object 2"
   ]
  },
  {
   "cell_type": "code",
   "execution_count": 3,
   "id": "4315ca17-c252-4fa0-8a1d-b92a70bc9c89",
   "metadata": {},
   "outputs": [
    {
     "name": "stdout",
     "output_type": "stream",
     "text": [
      "Buying\n"
     ]
    }
   ],
   "source": [
    "client_1.buy_or_not()"
   ]
  },
  {
   "cell_type": "code",
   "execution_count": 4,
   "id": "a48be123-69b9-4a11-a631-b3ab36827ea0",
   "metadata": {},
   "outputs": [
    {
     "name": "stdout",
     "output_type": "stream",
     "text": [
      "Not Buying\n"
     ]
    }
   ],
   "source": [
    "client_2.buy_or_not()"
   ]
  },
  {
   "cell_type": "markdown",
   "id": "c60b8875-2cbf-40a6-822c-fef1332287b8",
   "metadata": {},
   "source": [
    "In the above **house** class example, **client_1 = house(5,2,56)** creates an object **client_1** which is an instance of the **house** class. The object **client_1** has its own **total_rooms, total_floors and area** attributes set to **(5,2,56)**. <br>\n",
    "When we call **client_1.buy_or_not()**, the **buy_or_not()** method is executed on **client_1**'s instance, and outputs whether the client will buy that house or not."
   ]
  },
  {
   "cell_type": "markdown",
   "id": "be7a6043-8ccc-4637-85cf-3c0cbd002548",
   "metadata": {},
   "source": [
    "# Question No. 2:\n",
    "Name the four pillars of OOPS."
   ]
  },
  {
   "cell_type": "markdown",
   "id": "c3e3c4e9-0ef7-4cf1-8ecd-7f2515f3d67f",
   "metadata": {},
   "source": [
    "## Answer\n",
    "The four pillars of OOPS are: <br>\n",
    "**1.** Inheritance<br>\n",
    "**2.** Polymorphism<br>\n",
    "**3.** Encapsulation, and <br>\n",
    "**4.** Abstraction"
   ]
  },
  {
   "cell_type": "markdown",
   "id": "ce5e6f2a-c79f-4b9e-bf16-86f528e9f5d6",
   "metadata": {},
   "source": [
    "# Question No. 3:\n",
    "Explain why the __init__() function is used. Give a suitable example."
   ]
  },
  {
   "cell_type": "markdown",
   "id": "348eb4fd-1599-4697-8b35-6cc17c9e6669",
   "metadata": {},
   "source": [
    "## Answer:\n",
    "The __init__ method, also known as the constructor, is used in classes to initialize the object's state when it is created. The __init__ method is called automatically when an object is created from the class, and it sets the initial values for the object's attributes.\n",
    "\n",
    "In other words, the __init__ method is used to set up the initial state of an object when it is created, so that each object has its own unique set of attributes that define its state."
   ]
  },
  {
   "cell_type": "code",
   "execution_count": 5,
   "id": "0d6a6104-48b0-44f8-9ee7-be44d38a1a5e",
   "metadata": {},
   "outputs": [],
   "source": [
    "class mobile_phone:\n",
    "    def __init__(self, company_name, model):\n",
    "        self.company_name = company_name\n",
    "        self.model = model\n",
    "    \n",
    "    def display_output(self):\n",
    "        print('Comapny Name: ', self.company_name)\n",
    "        print('Model: ', self.model)"
   ]
  },
  {
   "cell_type": "code",
   "execution_count": 6,
   "id": "a93ca769-fff2-4cc2-a172-fac69870397c",
   "metadata": {},
   "outputs": [],
   "source": [
    "phone_1 = mobile_phone(\"Samsung\", 'S8')\n",
    "phone_2 = mobile_phone(\"Apple\", 'iPhone 8')"
   ]
  },
  {
   "cell_type": "markdown",
   "id": "942ad865-ef2e-4e49-9a79-a2f8cfd1bd80",
   "metadata": {},
   "source": [
    "In the above example, we have a **mobile_phone** class. The **init** method of this class set up the initial state of objects **phone_1** and **phone_2** by assigning value to the **company_name** and **model** attribute for each object."
   ]
  },
  {
   "cell_type": "markdown",
   "id": "f3e5ca91-15a2-4e9a-8b57-32e3c1dfb800",
   "metadata": {},
   "source": [
    "# Question No. 4:\n",
    "Why self is used in OOPS?"
   ]
  },
  {
   "cell_type": "markdown",
   "id": "3bfead21-3772-42f8-91b6-6b1a1dcf4c5a",
   "metadata": {},
   "source": [
    "## Answer\n",
    "**self** parameter is used to access the attributes and methods of the current object, and it must be included as the first parameter in every method definition within a class.\n",
    "\n",
    "By using **self** as a parameter, you can refer to the attributes and methods of the current instance of the object within the class. This allows you to maintain the state and behavior of each object separately, even if multiple instances of the same class are created."
   ]
  },
  {
   "cell_type": "markdown",
   "id": "bc9bac78-5746-4b58-aba2-a6db357a2c55",
   "metadata": {},
   "source": [
    "# Question No. 5:\n",
    "What is inheritance? Give an example for each type of inheritance."
   ]
  },
  {
   "cell_type": "markdown",
   "id": "d0367463-79a6-459d-ab2b-a99689668a52",
   "metadata": {},
   "source": [
    "## Answer\n",
    "**Inheritance** is a fundamental concept in Object-Oriented Programming (OOP) that allows a new class to be derived from an existing class. The new class inherits all the attributes and behaviors of the parent class and can also add new attributes and behaviors of its own. This helps to reuse code and reduce the amount of duplicated code.\n",
    "\n",
    "There are five types of Inheritence in Python."
   ]
  },
  {
   "cell_type": "markdown",
   "id": "2d71e612-659c-463b-9481-17004c9feb0e",
   "metadata": {},
   "source": [
    "### 1. Single Inheritence\n",
    "In Single inheritance, one class inherits another single class. It is the very basic inheritance where a single child class inherits the properties and functions of a parent class.\n",
    "\n",
    "By inheriting class A in class B, we can access the properties and function of class A in class B using the super() method."
   ]
  },
  {
   "cell_type": "code",
   "execution_count": 7,
   "id": "7ec01955-37ca-4033-a8d9-40d1cade6fec",
   "metadata": {},
   "outputs": [
    {
     "name": "stdout",
     "output_type": "stream",
     "text": [
      "This line is of the parent class\n",
      "This line is of the child class\n"
     ]
    }
   ],
   "source": [
    "class A:\n",
    "    def display(self):\n",
    "        print(\"This line is of the parent class\")\n",
    "        \n",
    "class B(A):\n",
    "    def display(self):\n",
    "        super().display()\n",
    "        print(\"This line is of the child class\")\n",
    "    \n",
    "obj_1= B()\n",
    "obj_1.display()"
   ]
  },
  {
   "cell_type": "markdown",
   "id": "852bd2b9-0d38-49f0-adcd-8ffeb46cfb18",
   "metadata": {},
   "source": [
    "### 2. Multiple Inheritance\n",
    "In multiple inheritance, one class inherits multiple other classes. In this, the child class has access to the methods and properties of all its parent classes."
   ]
  },
  {
   "cell_type": "code",
   "execution_count": 8,
   "id": "3a09405e-8b6d-4465-b85f-8c0a8ece940d",
   "metadata": {},
   "outputs": [
    {
     "name": "stdout",
     "output_type": "stream",
     "text": [
      "Hello there!\n",
      "Hello there again!\n",
      "Bye bye!\n"
     ]
    }
   ],
   "source": [
    "class A:\n",
    "    def hello(self):\n",
    "        print(\"Hello there!\")\n",
    "\n",
    "class B:\n",
    "    def hello_again(self):\n",
    "        print(\"Hello there again!\")\n",
    "\n",
    "class C(A,B):\n",
    "    def hello_and_bye(self):\n",
    "        super().hello()\n",
    "        super().hello_again()\n",
    "        print(\"Bye bye!\")\n",
    "        \n",
    "obj_1 = C()\n",
    "obj_1.hello_and_bye()"
   ]
  },
  {
   "cell_type": "markdown",
   "id": "63b3e701-6e16-4dfe-8846-680373fc93ef",
   "metadata": {},
   "source": [
    "### 3. Multilevel Inheritance\n",
    "In multilevel inheritance, the child class inherits another child class. It is the chain of inheritance in which the parent class is the child of some other class."
   ]
  },
  {
   "cell_type": "code",
   "execution_count": 9,
   "id": "eb9b5bd8-92aa-4c44-89cf-3b032d39f6c5",
   "metadata": {},
   "outputs": [
    {
     "name": "stdout",
     "output_type": "stream",
     "text": [
      "This is the first class function\n",
      "This is the second class function, and its also inheriting from the first class\n",
      "This is the third class function, and its also inheriting from the second class\n"
     ]
    }
   ],
   "source": [
    "class A:\n",
    "    def first_func(self):\n",
    "        print('This is the first class function')\n",
    "        \n",
    "class B(A):\n",
    "    def second_func(self):\n",
    "        super().first_func()\n",
    "        print('This is the second class function, and its also inheriting from the first class')\n",
    "        \n",
    "class C(B):\n",
    "    def third_func(self):\n",
    "        super().second_func()\n",
    "        print('This is the third class function, and its also inheriting from the second class')\n",
    "        \n",
    "obj_1 = C()\n",
    "obj_1.third_func()"
   ]
  },
  {
   "cell_type": "markdown",
   "id": "8b51b314-378a-4789-9055-944c95ba263e",
   "metadata": {},
   "source": [
    "### 4. Hierarchical Inheritance\n",
    "Hierarchical inheritance is a type of inheritance where different multiple classes inherit a single parent class."
   ]
  },
  {
   "cell_type": "code",
   "execution_count": 10,
   "id": "163ee56e-e13c-4aff-91e7-32f0aee6c2cc",
   "metadata": {},
   "outputs": [
    {
     "name": "stdout",
     "output_type": "stream",
     "text": [
      "This is a function from the master class\n",
      "This is a function from the assistant class, and it's inheriing from the master class\n",
      "This is a function from the master class\n",
      "This is a function from the manager class, and it's inheriting from the master calss\n"
     ]
    }
   ],
   "source": [
    "class A():\n",
    "    def master_class_func(self):\n",
    "        print(\"This is a function from the master class\")\n",
    "\n",
    "class B(A):\n",
    "    def assistant_class_func(self):\n",
    "        super().master_class_func()\n",
    "        print(\"This is a function from the assistant class, and it's inheriing from the master class\")\n",
    "        \n",
    "class C(A):\n",
    "    def manager_class_func(self):\n",
    "        super().master_class_func()\n",
    "        print(\"This is a function from the manager class, and it's inheriting from the master calss\")\n",
    "        \n",
    "assistant_obj = B()\n",
    "manager_obj = C()\n",
    "\n",
    "assistant_obj.assistant_class_func()\n",
    "manager_obj.manager_class_func()"
   ]
  },
  {
   "cell_type": "markdown",
   "id": "096bc2bd-d87c-4f27-bf52-6db96075878a",
   "metadata": {},
   "source": [
    "### 5. Hybrid Inheritance\n",
    "Hybrid inheritance in Python is a combination of more than one type of inheritance. It is not any sequence or pattern of inheriting classes but is used as a naming convention where more than one type of inheritance is involved."
   ]
  },
  {
   "cell_type": "code",
   "execution_count": 11,
   "id": "a07d8bfc-9d64-4ce0-80f4-751975209b67",
   "metadata": {},
   "outputs": [
    {
     "name": "stdout",
     "output_type": "stream",
     "text": [
      "Super Parent display method\n",
      "Class C display method\n",
      "Super Parent display method\n",
      "Class D display method\n"
     ]
    }
   ],
   "source": [
    "class A:\n",
    "    def display(self):\n",
    "        print(\"Super Parent display method\")\n",
    "\n",
    "\n",
    "\"\"\" class B used as intermediate class\n",
    "to call class A's display method \"\"\"\n",
    "class B(A):\n",
    "    def display(self):\n",
    "        super().display()\n",
    "\n",
    "''' child classes '''\n",
    "class C(B):\n",
    "    def display(self):\n",
    "        super().display()\n",
    "        print(\"Class C display method\")\n",
    "        \n",
    "class D(B):\n",
    "    def display(self):\n",
    "        super().display()\n",
    "        print(\"Class D display method\")\n",
    "\n",
    "c = C()\n",
    "c.display()\n",
    "\n",
    "d = D()\n",
    "d.display()"
   ]
  }
 ],
 "metadata": {
  "kernelspec": {
   "display_name": "Python 3 (ipykernel)",
   "language": "python",
   "name": "python3"
  },
  "language_info": {
   "codemirror_mode": {
    "name": "ipython",
    "version": 3
   },
   "file_extension": ".py",
   "mimetype": "text/x-python",
   "name": "python",
   "nbconvert_exporter": "python",
   "pygments_lexer": "ipython3",
   "version": "3.10.8"
  }
 },
 "nbformat": 4,
 "nbformat_minor": 5
}
