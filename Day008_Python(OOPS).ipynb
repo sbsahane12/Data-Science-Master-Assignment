{
 "cells": [
  {
   "cell_type": "markdown",
   "id": "b4aa8ea8-3a05-4ddd-931c-2a4f36f64f90",
   "metadata": {},
   "source": [
    "# OOPS\n",
    "Stands for Object Oriented Programming System"
   ]
  },
  {
   "cell_type": "code",
   "execution_count": 5,
   "id": "7dddef8a-39d8-4b7f-847f-b3f04af7fd1e",
   "metadata": {},
   "outputs": [],
   "source": [
    " a = 1"
   ]
  },
  {
   "cell_type": "code",
   "execution_count": 6,
   "id": "f1aee7a6-6bb4-43f7-aeca-6d2c43a7fdc8",
   "metadata": {},
   "outputs": [
    {
     "name": "stdout",
     "output_type": "stream",
     "text": [
      "<class 'int'>\n"
     ]
    }
   ],
   "source": [
    "print(type(a))"
   ]
  },
  {
   "cell_type": "code",
   "execution_count": 7,
   "id": "082cbf48-b78a-4a87-81ab-ca3d92806330",
   "metadata": {},
   "outputs": [
    {
     "name": "stdout",
     "output_type": "stream",
     "text": [
      "<class 'str'>\n"
     ]
    }
   ],
   "source": [
    "print(type('pwskills'))"
   ]
  },
  {
   "cell_type": "code",
   "execution_count": 9,
   "id": "37dcdc97-827c-4b10-ad91-4c2835604018",
   "metadata": {},
   "outputs": [],
   "source": [
    "class test :\n",
    "    pass"
   ]
  },
  {
   "cell_type": "code",
   "execution_count": 10,
   "id": "2bd0250b-792c-4b9f-8e67-a07af422c6f9",
   "metadata": {},
   "outputs": [],
   "source": [
    " a = test()"
   ]
  },
  {
   "cell_type": "code",
   "execution_count": 12,
   "id": "e275582a-24c0-422b-bbba-07d2f7bd5439",
   "metadata": {},
   "outputs": [
    {
     "name": "stdout",
     "output_type": "stream",
     "text": [
      "<class '__main__.test'>\n"
     ]
    }
   ],
   "source": [
    "print(type(a))"
   ]
  },
  {
   "cell_type": "code",
   "execution_count": 21,
   "id": "97e7f088-4eab-481c-8cce-0d3beb7d88c8",
   "metadata": {},
   "outputs": [],
   "source": [
    "class pwskills:\n",
    "    def welcome_msg(self):\n",
    "        print('Welcome to PWSkills')"
   ]
  },
  {
   "cell_type": "code",
   "execution_count": 26,
   "id": "74c8b865-72eb-4f49-aa37-7139067e26a8",
   "metadata": {},
   "outputs": [],
   "source": [
    "rohan = pwskills() # class variable, object or instance"
   ]
  },
  {
   "cell_type": "code",
   "execution_count": 24,
   "id": "37c32284-f4ff-416c-b9d6-323268a1b714",
   "metadata": {},
   "outputs": [
    {
     "name": "stdout",
     "output_type": "stream",
     "text": [
      "<class '__main__.pwskills'>\n"
     ]
    }
   ],
   "source": [
    "print(type(rohan))"
   ]
  },
  {
   "cell_type": "code",
   "execution_count": 25,
   "id": "e29f9a1d-cb20-44f7-9ab3-63ea24dedcc6",
   "metadata": {},
   "outputs": [
    {
     "name": "stdout",
     "output_type": "stream",
     "text": [
      "Welcome to PWSkills\n"
     ]
    }
   ],
   "source": [
    "rohan.welcome_msg() #calling any method from within the class"
   ]
  },
  {
   "cell_type": "code",
   "execution_count": 27,
   "id": "5908e61b-fb5c-4232-82f4-48fe75e11c66",
   "metadata": {},
   "outputs": [
    {
     "name": "stdout",
     "output_type": "stream",
     "text": [
      "Welcome to PWSkills\n"
     ]
    }
   ],
   "source": [
    "gourav = pwskills()\n",
    "gourav.welcome_msg()"
   ]
  },
  {
   "cell_type": "code",
   "execution_count": 32,
   "id": "b9045fa7-3b6b-4444-8fa8-c9236a335eff",
   "metadata": {},
   "outputs": [],
   "source": [
    "class pwskills1:\n",
    "    def __init__(self, phone_number, email_id, student_id):# constructor/built-in function. used for passing data into class\n",
    "        #class variables\n",
    "        self.phone_number = phone_number\n",
    "        self.email_id = email_id\n",
    "        self.student_id = student_id\n",
    "    \n",
    "    def return_student_details (self):\n",
    "        return self.student_id, self.phone_number, self.email_id"
   ]
  },
  {
   "cell_type": "code",
   "execution_count": 35,
   "id": "36a7c62b-4cf6-4255-ace1-24f902a911a5",
   "metadata": {},
   "outputs": [],
   "source": [
    "rohan = pwskills1(34245,'example@gmail.com',33)"
   ]
  },
  {
   "cell_type": "code",
   "execution_count": 36,
   "id": "4210696c-4b21-43a7-b9f0-4f895634a26e",
   "metadata": {},
   "outputs": [
    {
     "data": {
      "text/plain": [
       "(33, 34245, 'example@gmail.com')"
      ]
     },
     "execution_count": 36,
     "metadata": {},
     "output_type": "execute_result"
    }
   ],
   "source": [
    "rohan.return_student_details()"
   ]
  },
  {
   "cell_type": "code",
   "execution_count": 46,
   "id": "16569072-a659-42a5-88ae-f7ffafce5fb7",
   "metadata": {},
   "outputs": [
    {
     "data": {
      "text/plain": [
       "34245"
      ]
     },
     "execution_count": 46,
     "metadata": {},
     "output_type": "execute_result"
    }
   ],
   "source": [
    "rohan.phone_number"
   ]
  },
  {
   "cell_type": "code",
   "execution_count": 47,
   "id": "687972d0-90f7-4c5d-9bfd-e7a9ca6bce04",
   "metadata": {},
   "outputs": [
    {
     "data": {
      "text/plain": [
       "'example@gmail.com'"
      ]
     },
     "execution_count": 47,
     "metadata": {},
     "output_type": "execute_result"
    }
   ],
   "source": [
    "rohan.email_id"
   ]
  },
  {
   "cell_type": "code",
   "execution_count": 37,
   "id": "6852d570-e9bd-454e-a814-d0068616546d",
   "metadata": {},
   "outputs": [],
   "source": [
    "gourav = pwskills1(254343, 'gourav@gmail.com', 23)"
   ]
  },
  {
   "cell_type": "code",
   "execution_count": 39,
   "id": "3e2b8a0e-e192-4b9d-8815-cef3889a3ea3",
   "metadata": {},
   "outputs": [
    {
     "data": {
      "text/plain": [
       "(23, 254343, 'gourav@gmail.com')"
      ]
     },
     "execution_count": 39,
     "metadata": {},
     "output_type": "execute_result"
    }
   ],
   "source": [
    "gourav.return_student_details()"
   ]
  },
  {
   "cell_type": "code",
   "execution_count": 52,
   "id": "1ee989e0-7e50-4027-a65c-36a1e421c60f",
   "metadata": {},
   "outputs": [],
   "source": [
    "class pwskills2:\n",
    "    def __init__(self, phone_number, email_id, student_id):# constructor/built-in function. used for passing data into class\n",
    "        #class variables\n",
    "        self.phone_number1 = phone_number\n",
    "        self.email_id1 = email_id\n",
    "        self.student_id1 = student_id\n",
    "        \n",
    "    def return_student_details (self):\n",
    "        return self.student_id1, self.phone_number1, self.email_id1"
   ]
  },
  {
   "cell_type": "code",
   "execution_count": 53,
   "id": "35ee8a09-3e85-466d-81cf-549f7e122ccd",
   "metadata": {},
   "outputs": [],
   "source": [
    "sudh = pwskills2(23424, 'sudh@example.com', 34)"
   ]
  },
  {
   "cell_type": "code",
   "execution_count": 54,
   "id": "a67aada2-e17d-466d-917d-d970082de4b3",
   "metadata": {},
   "outputs": [
    {
     "data": {
      "text/plain": [
       "23424"
      ]
     },
     "execution_count": 54,
     "metadata": {},
     "output_type": "execute_result"
    }
   ],
   "source": [
    "sudh.phone_number1"
   ]
  },
  {
   "cell_type": "code",
   "execution_count": 55,
   "id": "c3984eeb-c289-4425-8730-babdafb954f2",
   "metadata": {},
   "outputs": [
    {
     "data": {
      "text/plain": [
       "'sudh@example.com'"
      ]
     },
     "execution_count": 55,
     "metadata": {},
     "output_type": "execute_result"
    }
   ],
   "source": [
    "sudh.email_id1"
   ]
  },
  {
   "cell_type": "code",
   "execution_count": 56,
   "id": "3b24e7e7-aa45-43e9-aea1-88587e0133de",
   "metadata": {},
   "outputs": [
    {
     "data": {
      "text/plain": [
       "34"
      ]
     },
     "execution_count": 56,
     "metadata": {},
     "output_type": "execute_result"
    }
   ],
   "source": [
    "sudh.student_id1"
   ]
  },
  {
   "cell_type": "code",
   "execution_count": 57,
   "id": "ae285493-c203-4323-9066-25918bf1fda8",
   "metadata": {},
   "outputs": [
    {
     "data": {
      "text/plain": [
       "(34, 23424, 'sudh@example.com')"
      ]
     },
     "execution_count": 57,
     "metadata": {},
     "output_type": "execute_result"
    }
   ],
   "source": [
    "sudh.return_student_details()"
   ]
  },
  {
   "cell_type": "code",
   "execution_count": 61,
   "id": "e5c3dcf9-36a8-4a2f-a16e-fa5082658caa",
   "metadata": {},
   "outputs": [],
   "source": [
    "class pwskills3:\n",
    "    #the first argument of init ftn behaves as a pointer to the class. it can be of anything, not just self\n",
    "    def __init__(sudh, phone_number, email_id, student_id):# constructor/built-in function. used for passing data into class\n",
    "        #class variables\n",
    "        sudh.phone_number1 = phone_number\n",
    "        sudh.email_id1 = email_id\n",
    "        sudh.student_id1 = student_id\n",
    "        \n",
    "    def return_student_details (sudh):\n",
    "        return sudh.student_id1, sudh.phone_number1, sudh.email_id1"
   ]
  },
  {
   "cell_type": "code",
   "execution_count": 62,
   "id": "d6d80b3c-7df1-419f-aa2a-5d0894c6f036",
   "metadata": {},
   "outputs": [],
   "source": [
    "rohan = pwskills3(254654, 'example@example.com',45)"
   ]
  },
  {
   "cell_type": "code",
   "execution_count": 63,
   "id": "0ad521a7-3b02-413f-8282-f28abc2e5ff0",
   "metadata": {},
   "outputs": [
    {
     "data": {
      "text/plain": [
       "254654"
      ]
     },
     "execution_count": 63,
     "metadata": {},
     "output_type": "execute_result"
    }
   ],
   "source": [
    "rohan.phone_number1"
   ]
  }
 ],
 "metadata": {
  "kernelspec": {
   "display_name": "Python 3 (ipykernel)",
   "language": "python",
   "name": "python3"
  },
  "language_info": {
   "codemirror_mode": {
    "name": "ipython",
    "version": 3
   },
   "file_extension": ".py",
   "mimetype": "text/x-python",
   "name": "python",
   "nbconvert_exporter": "python",
   "pygments_lexer": "ipython3",
   "version": "3.10.8"
  }
 },
 "nbformat": 4,
 "nbformat_minor": 5
}
