{
 "cells": [
  {
   "cell_type": "markdown",
   "id": "4c28f243-5ce5-444b-a13d-28d474c7628c",
   "metadata": {},
   "source": [
    "# For loop with lists"
   ]
  },
  {
   "cell_type": "code",
   "execution_count": 1,
   "id": "7bbd1fce-faf5-4b19-bbb9-266e8d8762ee",
   "metadata": {},
   "outputs": [],
   "source": [
    "l = [1,2,3,4,5]"
   ]
  },
  {
   "cell_type": "code",
   "execution_count": 3,
   "id": "0b18cdcd-81db-4ad6-8610-a2d6d00fab24",
   "metadata": {},
   "outputs": [
    {
     "name": "stdout",
     "output_type": "stream",
     "text": [
      "1 <class 'int'>\n",
      "2 <class 'int'>\n",
      "3 <class 'int'>\n",
      "4 <class 'int'>\n",
      "5 <class 'int'>\n"
     ]
    }
   ],
   "source": [
    "for each_element in l:\n",
    "    print(each_element, type(each_element))"
   ]
  },
  {
   "cell_type": "code",
   "execution_count": 4,
   "id": "42660c03-d9cd-425b-ae6e-72deda67b9bb",
   "metadata": {},
   "outputs": [],
   "source": [
    "l1= ['owais', 'tahir','sudh', 'krish','naik']"
   ]
  },
  {
   "cell_type": "code",
   "execution_count": 5,
   "id": "8197a9d1-2975-4f02-ac48-bacc84d1e73a",
   "metadata": {},
   "outputs": [
    {
     "name": "stdout",
     "output_type": "stream",
     "text": [
      "owais\n",
      "tahir\n",
      "sudh\n",
      "krish\n",
      "naik\n"
     ]
    }
   ],
   "source": [
    "for each_element in l1:\n",
    "    print(each_element)"
   ]
  },
  {
   "cell_type": "code",
   "execution_count": 6,
   "id": "4cadf583-4069-464e-ba76-442c9e6a4554",
   "metadata": {},
   "outputs": [
    {
     "data": {
      "text/plain": [
       "['owais', 'tahir', 'sudh', 'krish', 'naik']"
      ]
     },
     "execution_count": 6,
     "metadata": {},
     "output_type": "execute_result"
    }
   ],
   "source": [
    "l1"
   ]
  },
  {
   "cell_type": "code",
   "execution_count": 8,
   "id": "3ac08ca6-5d67-4691-ac92-4a89831d36ac",
   "metadata": {},
   "outputs": [
    {
     "name": "stdout",
     "output_type": "stream",
     "text": [
      "owais\n",
      "tahir\n",
      "sudh\n",
      "krish\n",
      "naik\n",
      "if for loop is able to complete itself then only else will execute\n"
     ]
    }
   ],
   "source": [
    "for i in l1:\n",
    "    print(i)\n",
    "else:\n",
    "    print(\"if for loop is able to complete itself then only else will execute\")"
   ]
  },
  {
   "cell_type": "code",
   "execution_count": 9,
   "id": "fcaaab42-3e4e-4688-85d4-5350957b2506",
   "metadata": {},
   "outputs": [
    {
     "data": {
      "text/plain": [
       "['owais', 'tahir', 'sudh', 'krish', 'naik']"
      ]
     },
     "execution_count": 9,
     "metadata": {},
     "output_type": "execute_result"
    }
   ],
   "source": [
    "l1"
   ]
  },
  {
   "cell_type": "code",
   "execution_count": 10,
   "id": "c5b0ed29-e1aa-4d0b-9fe2-23c75fae1b00",
   "metadata": {},
   "outputs": [
    {
     "name": "stdout",
     "output_type": "stream",
     "text": [
      "owais\n"
     ]
    }
   ],
   "source": [
    "for i in l1:\n",
    "    if i == 'tahir':\n",
    "        break\n",
    "    print(i)"
   ]
  },
  {
   "cell_type": "code",
   "execution_count": 11,
   "id": "f6140346-3a42-4cc5-b5e1-6d4a25b4b8fc",
   "metadata": {},
   "outputs": [
    {
     "data": {
      "text/plain": [
       "['owais', 'tahir', 'sudh', 'krish', 'naik']"
      ]
     },
     "execution_count": 11,
     "metadata": {},
     "output_type": "execute_result"
    }
   ],
   "source": [
    "l1"
   ]
  },
  {
   "cell_type": "code",
   "execution_count": 12,
   "id": "9fce25b3-5298-4143-82d4-e36f809667de",
   "metadata": {},
   "outputs": [
    {
     "name": "stdout",
     "output_type": "stream",
     "text": [
      "owais\n"
     ]
    }
   ],
   "source": [
    "for i in l1:\n",
    "    if i == 'tahir':\n",
    "        break\n",
    "    print(i)\n",
    "else:\n",
    "    print(\"Execute this if for loop is able to complete itself\")"
   ]
  },
  {
   "cell_type": "code",
   "execution_count": 13,
   "id": "0f87b0f3-0912-4863-b9af-6965bfdea12f",
   "metadata": {},
   "outputs": [
    {
     "data": {
      "text/plain": [
       "['owais', 'tahir', 'sudh', 'krish', 'naik']"
      ]
     },
     "execution_count": 13,
     "metadata": {},
     "output_type": "execute_result"
    }
   ],
   "source": [
    "l1"
   ]
  },
  {
   "cell_type": "code",
   "execution_count": 18,
   "id": "ed932886-ed3e-447c-a8d2-1c7532ab4cb2",
   "metadata": {},
   "outputs": [
    {
     "name": "stdout",
     "output_type": "stream",
     "text": [
      "owais\n",
      "sudh\n",
      "krish\n",
      "naik\n",
      "Execute this if for loop is able to complete itself\n"
     ]
    }
   ],
   "source": [
    "for i in l1:\n",
    "    if i == \"tahir\":\n",
    "        continue\n",
    "    print(i)\n",
    "else:\n",
    "    print(\"Execute this if for loop is able to complete itself\")"
   ]
  },
  {
   "cell_type": "code",
   "execution_count": 19,
   "id": "dba47e0c-66b7-4914-ba7a-7a422eb0a1b5",
   "metadata": {},
   "outputs": [
    {
     "name": "stdout",
     "output_type": "stream",
     "text": [
      "owais\n",
      "tahir\n",
      "sudh\n",
      "krish\n",
      "naik\n"
     ]
    }
   ],
   "source": [
    "for i in l1:\n",
    "    if i == \"tahir\":\n",
    "        pass\n",
    "    print(i)"
   ]
  },
  {
   "cell_type": "code",
   "execution_count": 22,
   "id": "1016dba9-e09c-4dc9-b3d5-60bdd83b00d1",
   "metadata": {},
   "outputs": [
    {
     "data": {
      "text/plain": [
       "range(0, 5)"
      ]
     },
     "execution_count": 22,
     "metadata": {},
     "output_type": "execute_result"
    }
   ],
   "source": [
    "range(5) #range is a generator function\n",
    "#range 0 to 5(excluded)"
   ]
  },
  {
   "cell_type": "code",
   "execution_count": 24,
   "id": "14099813-d53d-42a3-b1c2-d903283608f5",
   "metadata": {},
   "outputs": [
    {
     "data": {
      "text/plain": [
       "[0, 1, 2, 3, 4]"
      ]
     },
     "execution_count": 24,
     "metadata": {},
     "output_type": "execute_result"
    }
   ],
   "source": [
    "list(range(5))"
   ]
  },
  {
   "cell_type": "code",
   "execution_count": 25,
   "id": "423dca69-75b6-4f75-b740-598229a55035",
   "metadata": {},
   "outputs": [
    {
     "data": {
      "text/plain": [
       "[0, 1, 2, 3, 4]"
      ]
     },
     "execution_count": 25,
     "metadata": {},
     "output_type": "execute_result"
    }
   ],
   "source": [
    "list(range(0,5,1))"
   ]
  },
  {
   "cell_type": "code",
   "execution_count": 26,
   "id": "16d40e7b-69e5-4bc4-8d95-c7ec8ab6940d",
   "metadata": {},
   "outputs": [
    {
     "data": {
      "text/plain": [
       "[0, 2, 4, 6, 8, 10, 12, 14, 16, 18]"
      ]
     },
     "execution_count": 26,
     "metadata": {},
     "output_type": "execute_result"
    }
   ],
   "source": [
    "list(range(0,20,2))"
   ]
  },
  {
   "cell_type": "code",
   "execution_count": 27,
   "id": "218ab935-0418-461c-a4ca-d234c3738690",
   "metadata": {},
   "outputs": [
    {
     "data": {
      "text/plain": [
       "[-10, -9, -8, -7, -6, -5, -4, -3, -2, -1]"
      ]
     },
     "execution_count": 27,
     "metadata": {},
     "output_type": "execute_result"
    }
   ],
   "source": [
    "list(range(-10,0))"
   ]
  },
  {
   "cell_type": "code",
   "execution_count": 28,
   "id": "3efd61f3-1aa9-4aae-b50e-71ee75011088",
   "metadata": {},
   "outputs": [
    {
     "data": {
      "text/plain": [
       "['owais', 'tahir', 'sudh', 'krish', 'naik']"
      ]
     },
     "execution_count": 28,
     "metadata": {},
     "output_type": "execute_result"
    }
   ],
   "source": [
    "l1"
   ]
  },
  {
   "cell_type": "code",
   "execution_count": 33,
   "id": "ae28788f-85a7-4b46-9f20-9655661dec65",
   "metadata": {},
   "outputs": [
    {
     "name": "stdout",
     "output_type": "stream",
     "text": [
      "owais\n",
      "tahir\n",
      "sudh\n",
      "krish\n",
      "naik\n"
     ]
    }
   ],
   "source": [
    "for i in range(len(l1)):#0 to 4\n",
    "    print(l1[i])"
   ]
  },
  {
   "cell_type": "code",
   "execution_count": 39,
   "id": "d639b3ca-0ea5-49ff-ab0e-cfec7bf56b45",
   "metadata": {},
   "outputs": [
    {
     "name": "stdout",
     "output_type": "stream",
     "text": [
      "naik\n",
      "krish\n",
      "sudh\n",
      "tahir\n",
      "owais\n"
     ]
    }
   ],
   "source": [
    "for i in range(len(l1)-1, -1, -1):\n",
    "    print(l1[i])"
   ]
  },
  {
   "cell_type": "code",
   "execution_count": 40,
   "id": "33682e8b-71c9-4c87-85e9-c012b0eb481c",
   "metadata": {},
   "outputs": [],
   "source": [
    "l2 = [33,22.52,55,22,66,24,466,254,3]"
   ]
  },
  {
   "cell_type": "code",
   "execution_count": 43,
   "id": "4b5af3ae-1ed9-4bc1-aa31-8b82267acc67",
   "metadata": {},
   "outputs": [
    {
     "name": "stdout",
     "output_type": "stream",
     "text": [
      "33\n",
      "55\n",
      "66\n",
      "466\n",
      "3\n"
     ]
    }
   ],
   "source": [
    "for i in range(0,len(l2),2):\n",
    "    print(l2[i])"
   ]
  },
  {
   "cell_type": "code",
   "execution_count": 44,
   "id": "f4ee88ec-83c2-41f1-8685-e4f491f49739",
   "metadata": {},
   "outputs": [
    {
     "data": {
      "text/plain": [
       "[0, 2, 4, 6, 8]"
      ]
     },
     "execution_count": 44,
     "metadata": {},
     "output_type": "execute_result"
    }
   ],
   "source": [
    "list(range(0,len(l2),2))"
   ]
  },
  {
   "cell_type": "code",
   "execution_count": 45,
   "id": "554d6e17-d4eb-4f8a-b450-3e7598ab6b95",
   "metadata": {},
   "outputs": [],
   "source": [
    "l = [1,2,3,4,66,44,24,21]"
   ]
  },
  {
   "cell_type": "code",
   "execution_count": 48,
   "id": "a07e26a0-8c39-4dc5-ac25-9fb75fab9765",
   "metadata": {},
   "outputs": [
    {
     "name": "stdout",
     "output_type": "stream",
     "text": [
      "165\n",
      "165\n"
     ]
    }
   ],
   "source": [
    "result=0\n",
    "for i in range(len(l)):\n",
    "    result=result+l[i]\n",
    "print(result)\n",
    "\n",
    "\n",
    "result2=0\n",
    "for i in l:\n",
    "    result2=result2+i\n",
    "print(result2)"
   ]
  },
  {
   "cell_type": "code",
   "execution_count": 49,
   "id": "68dad4f2-5849-4881-a06b-9b663387066c",
   "metadata": {},
   "outputs": [
    {
     "data": {
      "text/plain": [
       "165"
      ]
     },
     "execution_count": 49,
     "metadata": {},
     "output_type": "execute_result"
    }
   ],
   "source": [
    "sum(l)"
   ]
  },
  {
   "cell_type": "markdown",
   "id": "7fbdd94a-6546-4761-a153-63a9442512a0",
   "metadata": {},
   "source": [
    "# For loop with Tuple"
   ]
  },
  {
   "cell_type": "code",
   "execution_count": 50,
   "id": "7459f4aa-c4a9-4326-8ffa-336b1d65b0e1",
   "metadata": {},
   "outputs": [
    {
     "name": "stdout",
     "output_type": "stream",
     "text": [
      "1\n",
      "2\n",
      "3\n",
      "4\n",
      "5\n",
      "6\n",
      "7\n",
      "9\n"
     ]
    }
   ],
   "source": [
    "t = (1,2,3,4,5,6,7,9)\n",
    "for i in t:\n",
    "    print(i)"
   ]
  },
  {
   "cell_type": "code",
   "execution_count": 51,
   "id": "6bb0ccc4-5ffb-46c3-9ecc-4f44a4cbcdc8",
   "metadata": {},
   "outputs": [
    {
     "name": "stdout",
     "output_type": "stream",
     "text": [
      "37\n"
     ]
    }
   ],
   "source": [
    "result = 0\n",
    "for i in t:\n",
    "    result = result+i\n",
    "print(result)"
   ]
  },
  {
   "cell_type": "markdown",
   "id": "1a1e556d-d10c-444e-90a2-124fb16f5d92",
   "metadata": {},
   "source": [
    "# For loop with Sets"
   ]
  },
  {
   "cell_type": "code",
   "execution_count": 52,
   "id": "b8487bab-8f3f-4472-8696-d2b498dac567",
   "metadata": {},
   "outputs": [
    {
     "name": "stdout",
     "output_type": "stream",
     "text": [
      "1\n",
      "2\n",
      "3\n",
      "4\n",
      "pwskills\n",
      "sudh\n"
     ]
    }
   ],
   "source": [
    "s = {1,2,3,4,'sudh','pwskills'}\n",
    "\n",
    "for i in s:\n",
    "    print(i)"
   ]
  },
  {
   "cell_type": "markdown",
   "id": "402e77ad-c5fc-4127-9756-93481721abb2",
   "metadata": {},
   "source": [
    "## For loop with Strings"
   ]
  },
  {
   "cell_type": "code",
   "execution_count": 53,
   "id": "23f22654-7d89-4d39-98b6-6ea14988b19e",
   "metadata": {},
   "outputs": [],
   "source": [
    "s1 = 'pwskills'"
   ]
  },
  {
   "cell_type": "code",
   "execution_count": 54,
   "id": "17d45cb7-2642-4dea-b0be-e4369fa28ce4",
   "metadata": {},
   "outputs": [
    {
     "name": "stdout",
     "output_type": "stream",
     "text": [
      "p\n",
      "w\n",
      "s\n",
      "k\n",
      "i\n",
      "l\n",
      "l\n",
      "s\n"
     ]
    }
   ],
   "source": [
    "for i in s1:\n",
    "    print(i)"
   ]
  },
  {
   "cell_type": "markdown",
   "id": "506ff245-e12d-4276-96fb-b0f11a4e5122",
   "metadata": {},
   "source": [
    "# For loop with Dicts"
   ]
  },
  {
   "cell_type": "code",
   "execution_count": 55,
   "id": "07781d09-070d-4b96-8635-9631223ac7a9",
   "metadata": {},
   "outputs": [],
   "source": [
    "d = {'name': 'sudh', 'class':'data science masters', 'topic':['python','stats','machine learning','deep learning','computer vison','nlp','resume','interview preparation']}"
   ]
  },
  {
   "cell_type": "code",
   "execution_count": 56,
   "id": "6d0b3688-bd30-4110-a60e-205c754624f4",
   "metadata": {},
   "outputs": [
    {
     "data": {
      "text/plain": [
       "{'name': 'sudh',\n",
       " 'class': 'data science masters',\n",
       " 'topic': ['python',\n",
       "  'stats',\n",
       "  'machine learning',\n",
       "  'deep learning',\n",
       "  'computer vison',\n",
       "  'nlp',\n",
       "  'resume',\n",
       "  'interview preparation']}"
      ]
     },
     "execution_count": 56,
     "metadata": {},
     "output_type": "execute_result"
    }
   ],
   "source": [
    "d"
   ]
  },
  {
   "cell_type": "code",
   "execution_count": 57,
   "id": "a65ba9be-4f70-4cb4-89ca-0b78e102f5c9",
   "metadata": {},
   "outputs": [
    {
     "data": {
      "text/plain": [
       "'sudh'"
      ]
     },
     "execution_count": 57,
     "metadata": {},
     "output_type": "execute_result"
    }
   ],
   "source": [
    "d['name']"
   ]
  },
  {
   "cell_type": "code",
   "execution_count": 58,
   "id": "011d462a-334c-4fdc-b948-430740e1471f",
   "metadata": {},
   "outputs": [
    {
     "name": "stdout",
     "output_type": "stream",
     "text": [
      "sudh\n",
      "data science masters\n",
      "['python', 'stats', 'machine learning', 'deep learning', 'computer vison', 'nlp', 'resume', 'interview preparation']\n"
     ]
    }
   ],
   "source": [
    "for i in d.keys():\n",
    "    print(d[i])"
   ]
  },
  {
   "cell_type": "code",
   "execution_count": 60,
   "id": "f9841383-6e2a-405f-af30-c16b5e2d7ffe",
   "metadata": {},
   "outputs": [
    {
     "name": "stdout",
     "output_type": "stream",
     "text": [
      "sudh\n",
      "data science masters\n",
      "['python', 'stats', 'machine learning', 'deep learning', 'computer vison', 'nlp', 'resume', 'interview preparation']\n"
     ]
    }
   ],
   "source": [
    "for i in d.values():\n",
    "    print(i)"
   ]
  },
  {
   "cell_type": "code",
   "execution_count": 61,
   "id": "db533e8e-413c-4613-af88-2bbc32409937",
   "metadata": {},
   "outputs": [
    {
     "name": "stdout",
     "output_type": "stream",
     "text": [
      "('name', 'sudh')\n",
      "('class', 'data science masters')\n",
      "('topic', ['python', 'stats', 'machine learning', 'deep learning', 'computer vison', 'nlp', 'resume', 'interview preparation'])\n"
     ]
    }
   ],
   "source": [
    "for i in d.items():\n",
    "    print(i)"
   ]
  }
 ],
 "metadata": {
  "kernelspec": {
   "display_name": "Python 3 (ipykernel)",
   "language": "python",
   "name": "python3"
  },
  "language_info": {
   "codemirror_mode": {
    "name": "ipython",
    "version": 3
   },
   "file_extension": ".py",
   "mimetype": "text/x-python",
   "name": "python",
   "nbconvert_exporter": "python",
   "pygments_lexer": "ipython3",
   "version": "3.10.8"
  }
 },
 "nbformat": 4,
 "nbformat_minor": 5
}
