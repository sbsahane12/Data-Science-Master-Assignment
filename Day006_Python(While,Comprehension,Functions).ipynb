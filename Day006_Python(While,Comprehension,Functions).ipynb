{
 "cells": [
  {
   "cell_type": "markdown",
   "id": "16ad19d9-8de7-45ad-be22-6c03b95a963b",
   "metadata": {},
   "source": [
    "# While Loops"
   ]
  },
  {
   "cell_type": "code",
   "execution_count": 1,
   "id": "72c80ab7-3bf6-4f60-b780-2e9de71d0127",
   "metadata": {},
   "outputs": [
    {
     "name": "stdout",
     "output_type": "stream",
     "text": [
      "1\n",
      "2\n",
      "3\n",
      "4\n",
      "5\n",
      "6\n",
      "7\n",
      "8\n",
      "9\n",
      "10\n"
     ]
    }
   ],
   "source": [
    "a = 1\n",
    "\n",
    "while a <= 10:\n",
    "    print(a)\n",
    "    a=a+1"
   ]
  },
  {
   "cell_type": "markdown",
   "id": "6f3cac3c-bfeb-4539-9a77-5a2a902744c4",
   "metadata": {},
   "source": [
    "sum up the number till some point"
   ]
  },
  {
   "cell_type": "code",
   "execution_count": 3,
   "id": "2480c827-b36c-4b50-bbb0-122edd7efdfb",
   "metadata": {},
   "outputs": [
    {
     "name": "stdin",
     "output_type": "stream",
     "text": [
      "Enter your limit:  5\n"
     ]
    },
    {
     "name": "stdout",
     "output_type": "stream",
     "text": [
      "15\n"
     ]
    }
   ],
   "source": [
    "n = int(input('Enter your limit: '))\n",
    "starting_point = 0\n",
    "counter = 1\n",
    "\n",
    "while counter <= n:\n",
    "    starting_point = starting_point+counter\n",
    "    counter = counter+1\n",
    "print(starting_point)"
   ]
  },
  {
   "cell_type": "markdown",
   "id": "759a6eb6-5e9e-4bfb-94f9-791297229d50",
   "metadata": {},
   "source": [
    "Factorial"
   ]
  },
  {
   "cell_type": "code",
   "execution_count": 4,
   "id": "994e0a18-f06b-40c2-b8ee-17f2591d5dca",
   "metadata": {},
   "outputs": [
    {
     "name": "stdin",
     "output_type": "stream",
     "text": [
      "Enter your number:  5\n"
     ]
    },
    {
     "name": "stdout",
     "output_type": "stream",
     "text": [
      "120\n"
     ]
    }
   ],
   "source": [
    "number = int(input('Enter your number: '))\n",
    "\n",
    "factorial = 1\n",
    "while number > 0:\n",
    "    factorial = factorial*number\n",
    "    number = number-1\n",
    "print(factorial)"
   ]
  },
  {
   "cell_type": "markdown",
   "id": "8df304de-3d61-4be0-8743-a320f3e7c7ee",
   "metadata": {},
   "source": [
    "Fibonacci Series"
   ]
  },
  {
   "cell_type": "code",
   "execution_count": 10,
   "id": "9f6a2ad2-a9a1-4ec3-9c20-f2c4ea6f467f",
   "metadata": {},
   "outputs": [
    {
     "name": "stdin",
     "output_type": "stream",
     "text": [
      "Enter your number of elements you are looking for:  10\n"
     ]
    },
    {
     "name": "stdout",
     "output_type": "stream",
     "text": [
      "0\n",
      "1\n",
      "1\n",
      "2\n",
      "3\n",
      "5\n",
      "8\n",
      "13\n",
      "21\n",
      "34\n"
     ]
    }
   ],
   "source": [
    "number = int(input('Enter your number of elements you are looking for: '))\n",
    "\n",
    "a,b = 0,1\n",
    "counter = 0\n",
    "\n",
    "while counter<number:\n",
    "    print(a)\n",
    "    c = a+b\n",
    "    a = b\n",
    "    b = c\n",
    "    counter = counter+1"
   ]
  },
  {
   "cell_type": "code",
   "execution_count": 11,
   "id": "eeb3ac3e-c94f-4bfa-ba09-0be8414ab5ad",
   "metadata": {},
   "outputs": [
    {
     "name": "stdout",
     "output_type": "stream",
     "text": [
      "0\n",
      "1\n",
      "1\n",
      "2\n",
      "3\n",
      "5\n",
      "8\n",
      "13\n",
      "21\n",
      "34\n"
     ]
    }
   ],
   "source": [
    "a,b = 0,1\n",
    "\n",
    "for i in range(10):\n",
    "    print(a)\n",
    "    c = a+b\n",
    "    a = b\n",
    "    b = c\n",
    "    counter = counter+1"
   ]
  },
  {
   "cell_type": "code",
   "execution_count": 12,
   "id": "140c9aa4-60bb-4fc8-a8a8-463f76c514b7",
   "metadata": {},
   "outputs": [],
   "source": [
    "s = 'sudh'"
   ]
  },
  {
   "cell_type": "code",
   "execution_count": 13,
   "id": "3d83524f-7b1a-43d4-8a99-7fc3e7fc5d69",
   "metadata": {},
   "outputs": [
    {
     "data": {
      "text/plain": [
       "'hdus'"
      ]
     },
     "execution_count": 13,
     "metadata": {},
     "output_type": "execute_result"
    }
   ],
   "source": [
    "s[::-1]"
   ]
  },
  {
   "cell_type": "code",
   "execution_count": 20,
   "id": "f242aa0a-939b-4bee-bf34-2a0ac6ebc0e0",
   "metadata": {},
   "outputs": [
    {
     "name": "stdin",
     "output_type": "stream",
     "text": [
      "Enter yous string for reversal:  sudh\n"
     ]
    },
    {
     "name": "stdout",
     "output_type": "stream",
     "text": [
      "hdus\n"
     ]
    }
   ],
   "source": [
    "word = input(\"Enter yous string for reversal: \")\n",
    "\n",
    "reverse = \"\"\n",
    "length = len(word)\n",
    "\n",
    "while length>0:\n",
    "    letter= word[length-1]\n",
    "    reverse = reverse+letter\n",
    "    length = length-1\n",
    "print(reverse)"
   ]
  },
  {
   "cell_type": "code",
   "execution_count": 22,
   "id": "6e4ea098-5cf7-4f71-83e7-15c0a3bdf9c2",
   "metadata": {},
   "outputs": [
    {
     "name": "stdin",
     "output_type": "stream",
     "text": [
      "Enter yous string for reversal:  sudh\n"
     ]
    },
    {
     "name": "stdout",
     "output_type": "stream",
     "text": [
      "h\n",
      "d\n",
      "u\n",
      "s\n"
     ]
    }
   ],
   "source": [
    "word = input(\"Enter yous string for reversal: \")\n",
    "\n",
    "reverse = \"\"\n",
    "length = len(word)\n",
    "while length>0:\n",
    "    letter= word[length-1]\n",
    "    reverse = reverse.join(letter)\n",
    "    length = length-1\n",
    "    print(reverse)"
   ]
  },
  {
   "cell_type": "markdown",
   "id": "0c5ab66b-3359-4133-bdfd-03124356512b",
   "metadata": {},
   "source": [
    "print math tables"
   ]
  },
  {
   "cell_type": "code",
   "execution_count": 27,
   "id": "6e9de788-5fcf-45a6-ae5d-5182d9799fd5",
   "metadata": {},
   "outputs": [
    {
     "name": "stdin",
     "output_type": "stream",
     "text": [
      "Enter number of table:  2\n"
     ]
    },
    {
     "name": "stdout",
     "output_type": "stream",
     "text": [
      "2 x 0 = 0\n",
      "2 x 1 = 2\n",
      "2 x 2 = 4\n",
      "2 x 3 = 6\n",
      "2 x 4 = 8\n",
      "2 x 5 = 10\n",
      "2 x 6 = 12\n",
      "2 x 7 = 14\n",
      "2 x 8 = 16\n",
      "2 x 9 = 18\n",
      "2 x 10 = 20\n"
     ]
    }
   ],
   "source": [
    "number = int(input('Enter number of table: '))\n",
    "counter = 0\n",
    "\n",
    "while counter<=10:\n",
    "    print(number, 'x', counter, '=', number*counter)\n",
    "    counter = counter +1"
   ]
  },
  {
   "cell_type": "code",
   "execution_count": 29,
   "id": "da2e8f3f-8137-47ce-9afe-c20422d4aeda",
   "metadata": {},
   "outputs": [
    {
     "name": "stdin",
     "output_type": "stream",
     "text": [
      "Enter number of table:  2\n"
     ]
    },
    {
     "name": "stdout",
     "output_type": "stream",
     "text": [
      "2 x 0 = 0\n",
      "2 x 1 = 2\n",
      "2 x 2 = 4\n",
      "2 x 3 = 6\n",
      "2 x 4 = 8\n",
      "2 x 5 = 10\n",
      "2 x 6 = 12\n",
      "2 x 7 = 14\n",
      "2 x 8 = 16\n",
      "2 x 9 = 18\n",
      "2 x 10 = 20\n"
     ]
    }
   ],
   "source": [
    "number = int(input('Enter number of table: '))\n",
    "\n",
    "for counter in range(11):\n",
    "    print(number, 'x', counter, '=', number*counter)"
   ]
  },
  {
   "cell_type": "markdown",
   "id": "efb3928c-4f09-4a58-83a5-af7f1179394f",
   "metadata": {},
   "source": [
    "## While-Else"
   ]
  },
  {
   "cell_type": "code",
   "execution_count": 31,
   "id": "6eaa7d51-cf94-450e-b73f-f8412ac193df",
   "metadata": {},
   "outputs": [
    {
     "name": "stdout",
     "output_type": "stream",
     "text": [
      "1\n",
      "2\n",
      "3\n",
      "4\n",
      "i is not less than n\n"
     ]
    }
   ],
   "source": [
    "n= 5\n",
    "i=1\n",
    "\n",
    "while i <n:\n",
    "    print(i)\n",
    "    i = i+1\n",
    "else:\n",
    "    print('i is not less than n')"
   ]
  },
  {
   "cell_type": "code",
   "execution_count": 32,
   "id": "bb49ecc7-10e9-456f-9c4e-a3b3f42e4a75",
   "metadata": {},
   "outputs": [
    {
     "name": "stdout",
     "output_type": "stream",
     "text": [
      "1\n",
      "2\n",
      "3\n"
     ]
    }
   ],
   "source": [
    "n= 5\n",
    "i=1\n",
    "\n",
    "while i <n:\n",
    "    print(i)\n",
    "    if i == 3:\n",
    "        break\n",
    "    i = i+1\n",
    "else:\n",
    "    print('i is not less than n')"
   ]
  },
  {
   "cell_type": "markdown",
   "id": "23537a5c-06b8-41b0-b1ed-1e89eb4f5c7e",
   "metadata": {},
   "source": [
    "# Comprehension"
   ]
  },
  {
   "cell_type": "code",
   "execution_count": 34,
   "id": "5332d368-33ff-44fe-adec-da8e8176545d",
   "metadata": {},
   "outputs": [
    {
     "data": {
      "text/plain": [
       "[1, 9, 16, 25, 9, 36, 3025, 4356]"
      ]
     },
     "execution_count": 34,
     "metadata": {},
     "output_type": "execute_result"
    }
   ],
   "source": [
    "l = [1,3,4,5,3,6,55,66]\n",
    "l1 = []\n",
    "#create a new list that contain squares of the elements of the current list\n",
    "\n",
    "#using simple for loop\n",
    "for each_element in l:\n",
    "    l1.append(each_element**2)\n",
    "l1"
   ]
  },
  {
   "cell_type": "code",
   "execution_count": 36,
   "id": "c9371269-1dd8-4c88-8904-f3df3419408c",
   "metadata": {},
   "outputs": [
    {
     "data": {
      "text/plain": [
       "[1, 9, 16, 25, 9, 36, 3025, 4356]"
      ]
     },
     "execution_count": 36,
     "metadata": {},
     "output_type": "execute_result"
    }
   ],
   "source": [
    "#using list comprehension\n",
    "\n",
    "l2 = [each_element**2 for each_element in l]\n",
    "l2"
   ]
  },
  {
   "cell_type": "code",
   "execution_count": 43,
   "id": "696dae7b-28ae-4d25-a05a-7bc66139ef1e",
   "metadata": {},
   "outputs": [
    {
     "data": {
      "text/plain": [
       "[4, 6, 66]"
      ]
     },
     "execution_count": 43,
     "metadata": {},
     "output_type": "execute_result"
    }
   ],
   "source": [
    "#extract even numbers out of l\n",
    "l3 =[each_element for each_element in l if each_element%2==0]\n",
    "l3"
   ]
  },
  {
   "cell_type": "code",
   "execution_count": 46,
   "id": "b81f4dbf-7e66-4760-b124-1c7717f332e4",
   "metadata": {},
   "outputs": [
    {
     "data": {
      "text/plain": [
       "['SUDH', 'PWSKILLS', 'KUMAR', 'DATA SCIENCE MASTERS']"
      ]
     },
     "execution_count": 46,
     "metadata": {},
     "output_type": "execute_result"
    }
   ],
   "source": [
    "#string comprehension\n",
    "l1 = ['sudh', 'pwskills', 'kumar', 'data science masters']\n",
    "\n",
    "l4 = [each_word.upper() for each_word in l1]\n",
    "l4"
   ]
  },
  {
   "cell_type": "code",
   "execution_count": 47,
   "id": "21422695-5ab2-4ec8-8e9d-a2b60d7216e4",
   "metadata": {},
   "outputs": [
    {
     "data": {
      "text/plain": [
       "[1, 3, 4, 5, 3, 6, 55, 66]"
      ]
     },
     "execution_count": 47,
     "metadata": {},
     "output_type": "execute_result"
    }
   ],
   "source": [
    "l"
   ]
  },
  {
   "cell_type": "code",
   "execution_count": 49,
   "id": "4ab6e916-f523-4ba9-b7c5-dcd35f5a4374",
   "metadata": {},
   "outputs": [
    {
     "data": {
      "text/plain": [
       "[1, 9, 16, 25, 9, 36, 3025, 4356]"
      ]
     },
     "execution_count": 49,
     "metadata": {},
     "output_type": "execute_result"
    }
   ],
   "source": [
    "# tuple comprehension\n",
    "l5= list(each_element**2 for each_element in l)\n",
    "l5"
   ]
  },
  {
   "cell_type": "code",
   "execution_count": 54,
   "id": "6bcba338-07c3-4c25-b972-0c759acae7fe",
   "metadata": {},
   "outputs": [
    {
     "data": {
      "text/plain": [
       "[1, 4, 9, 16]"
      ]
     },
     "execution_count": 54,
     "metadata": {},
     "output_type": "execute_result"
    }
   ],
   "source": [
    "#dict comprehension\n",
    "\n",
    "d = {'key1': 1, 'key2': 2, 'key3': 3, 'key4': 4}\n",
    "\n",
    "#squre each value and return in a list\n",
    "\n",
    "l6=[each_value**2 for each_value in d.values()]\n",
    "l6"
   ]
  },
  {
   "cell_type": "code",
   "execution_count": 55,
   "id": "e9239865-dc1e-4b6b-baa9-eae8374b460c",
   "metadata": {},
   "outputs": [
    {
     "data": {
      "text/plain": [
       "{'key1': 1, 'key2': 4, 'key3': 9, 'key4': 16}"
      ]
     },
     "execution_count": 55,
     "metadata": {},
     "output_type": "execute_result"
    }
   ],
   "source": [
    "#dict comprehension\n",
    "\n",
    "d = {'key1': 1, 'key2': 2, 'key3': 3, 'key4': 4}\n",
    "\n",
    "#squre each value and return in a new dict\n",
    "\n",
    "d2={each_key:each_value**2 for each_key,each_value in d.items()}\n",
    "d2"
   ]
  },
  {
   "cell_type": "code",
   "execution_count": 56,
   "id": "86db4474-af49-4864-bf04-f4407d0d31b6",
   "metadata": {},
   "outputs": [
    {
     "data": {
      "text/plain": [
       "{'key1': 1, 'key2': 2, 'key3': 3, 'key4': 4}"
      ]
     },
     "execution_count": 56,
     "metadata": {},
     "output_type": "execute_result"
    }
   ],
   "source": [
    "d"
   ]
  },
  {
   "cell_type": "code",
   "execution_count": 57,
   "id": "4a67b83b-ad27-48af-9e99-e779f0cf6a7c",
   "metadata": {},
   "outputs": [
    {
     "data": {
      "text/plain": [
       "{'key2': 2, 'key3': 3, 'key4': 4}"
      ]
     },
     "execution_count": 57,
     "metadata": {},
     "output_type": "execute_result"
    }
   ],
   "source": [
    "d3={k:v for k, v in d.items() if v>1}\n",
    "d3"
   ]
  },
  {
   "cell_type": "markdown",
   "id": "fdb47fa1-93f1-4c79-9c69-6b5fe08e2d4c",
   "metadata": {},
   "source": [
    "# Functions"
   ]
  },
  {
   "cell_type": "code",
   "execution_count": 59,
   "id": "ce6a5dd1-b4f5-4c88-98d4-008181723778",
   "metadata": {},
   "outputs": [],
   "source": [
    "def test():\n",
    "    print('this is not my very very first function')"
   ]
  },
  {
   "cell_type": "code",
   "execution_count": 60,
   "id": "ae8b0fd2-2b5e-4f44-86d3-7f037d4ab3bd",
   "metadata": {},
   "outputs": [
    {
     "name": "stdout",
     "output_type": "stream",
     "text": [
      "this is not my very very first function\n"
     ]
    }
   ],
   "source": [
    "test()"
   ]
  },
  {
   "cell_type": "code",
   "execution_count": 63,
   "id": "d7534c8c-ae73-4cef-9a78-a16e5bb590fa",
   "metadata": {},
   "outputs": [
    {
     "name": "stdout",
     "output_type": "stream",
     "text": [
      "this is not my very very first function\n"
     ]
    },
    {
     "ename": "TypeError",
     "evalue": "unsupported operand type(s) for +: 'NoneType' and 'str'",
     "output_type": "error",
     "traceback": [
      "\u001b[0;31m---------------------------------------------------------------------------\u001b[0m",
      "\u001b[0;31mTypeError\u001b[0m                                 Traceback (most recent call last)",
      "Cell \u001b[0;32mIn[63], line 1\u001b[0m\n\u001b[0;32m----> 1\u001b[0m \u001b[43mtest\u001b[49m\u001b[43m(\u001b[49m\u001b[43m)\u001b[49m\u001b[38;5;241;43m+\u001b[39;49m\u001b[38;5;124;43m'\u001b[39;49m\u001b[38;5;124;43msudh\u001b[39;49m\u001b[38;5;124;43m'\u001b[39;49m\n",
      "\u001b[0;31mTypeError\u001b[0m: unsupported operand type(s) for +: 'NoneType' and 'str'"
     ]
    }
   ],
   "source": [
    "test()+'sudh'"
   ]
  },
  {
   "cell_type": "code",
   "execution_count": 61,
   "id": "4d2514a8-49b3-4975-9ff4-70d8246cf6c2",
   "metadata": {},
   "outputs": [],
   "source": [
    "def test2():\n",
    "    return 'this is not my very first return'"
   ]
  },
  {
   "cell_type": "code",
   "execution_count": 62,
   "id": "3803d140-eb30-4557-adf6-5077d4925bec",
   "metadata": {},
   "outputs": [
    {
     "data": {
      "text/plain": [
       "'this is not my very first return'"
      ]
     },
     "execution_count": 62,
     "metadata": {},
     "output_type": "execute_result"
    }
   ],
   "source": [
    "test2()"
   ]
  },
  {
   "cell_type": "code",
   "execution_count": 64,
   "id": "0a89dbb0-0e2a-4509-bcd2-a0874fdef686",
   "metadata": {},
   "outputs": [
    {
     "data": {
      "text/plain": [
       "'this is not my very first returnsudh'"
      ]
     },
     "execution_count": 64,
     "metadata": {},
     "output_type": "execute_result"
    }
   ],
   "source": [
    "test2()+'sudh'"
   ]
  },
  {
   "cell_type": "code",
   "execution_count": 65,
   "id": "8e536258-11c9-4b93-8f12-506de6b0de08",
   "metadata": {},
   "outputs": [],
   "source": [
    "def test3():\n",
    "    return 'sudh', 23, 34.55, [1,2,34,4]"
   ]
  },
  {
   "cell_type": "code",
   "execution_count": 66,
   "id": "acc9cb85-e7b9-48e7-babf-f0ff3e6667f3",
   "metadata": {},
   "outputs": [
    {
     "data": {
      "text/plain": [
       "('sudh', 23, 34.55, [1, 2, 34, 4])"
      ]
     },
     "execution_count": 66,
     "metadata": {},
     "output_type": "execute_result"
    }
   ],
   "source": [
    "test3()"
   ]
  },
  {
   "cell_type": "code",
   "execution_count": 67,
   "id": "97f19e6c-3b2f-455c-bea7-5ef33b9d3349",
   "metadata": {},
   "outputs": [],
   "source": [
    "name, num1, num2, list1 = test3()"
   ]
  },
  {
   "cell_type": "code",
   "execution_count": 69,
   "id": "d274260d-b78c-44c5-9d44-15ec8b8a32d6",
   "metadata": {},
   "outputs": [
    {
     "data": {
      "text/plain": [
       "'sudh'"
      ]
     },
     "execution_count": 69,
     "metadata": {},
     "output_type": "execute_result"
    }
   ],
   "source": [
    "name"
   ]
  },
  {
   "cell_type": "code",
   "execution_count": 70,
   "id": "9996e6d3-766f-49fd-ad48-3042b7d5b8fe",
   "metadata": {},
   "outputs": [
    {
     "data": {
      "text/plain": [
       "23"
      ]
     },
     "execution_count": 70,
     "metadata": {},
     "output_type": "execute_result"
    }
   ],
   "source": [
    "num1"
   ]
  },
  {
   "cell_type": "code",
   "execution_count": 71,
   "id": "1d5ea0f2-e2a7-410d-b635-e3ad8c72f125",
   "metadata": {},
   "outputs": [],
   "source": [
    "def test4():\n",
    "    a = 5+6/7\n",
    "    return a"
   ]
  },
  {
   "cell_type": "code",
   "execution_count": 72,
   "id": "707261ed-0ac3-4a10-aaa1-fb1ea28c3c8a",
   "metadata": {},
   "outputs": [
    {
     "data": {
      "text/plain": [
       "5.857142857142857"
      ]
     },
     "execution_count": 72,
     "metadata": {},
     "output_type": "execute_result"
    }
   ],
   "source": [
    "test4()"
   ]
  },
  {
   "cell_type": "code",
   "execution_count": 73,
   "id": "102dc609-b101-46c2-be03-7617b2ef0ed3",
   "metadata": {},
   "outputs": [],
   "source": [
    "def test5(a,b,c):\n",
    "    d = a+b/c\n",
    "    return d"
   ]
  },
  {
   "cell_type": "code",
   "execution_count": 74,
   "id": "43a9c3ca-9eb5-407e-a769-abe80197670b",
   "metadata": {},
   "outputs": [
    {
     "data": {
      "text/plain": [
       "5.857142857142857"
      ]
     },
     "execution_count": 74,
     "metadata": {},
     "output_type": "execute_result"
    }
   ],
   "source": [
    "test5(5,6,7)"
   ]
  },
  {
   "cell_type": "code",
   "execution_count": 75,
   "id": "3ae8421b-3ed9-429c-9a22-1ec886559db6",
   "metadata": {},
   "outputs": [],
   "source": [
    "def test6(a,b):\n",
    "    return a+b"
   ]
  },
  {
   "cell_type": "code",
   "execution_count": 76,
   "id": "05e07dd1-6708-4394-9ddc-58d8d4802ffd",
   "metadata": {},
   "outputs": [
    {
     "data": {
      "text/plain": [
       "7"
      ]
     },
     "execution_count": 76,
     "metadata": {},
     "output_type": "execute_result"
    }
   ],
   "source": [
    "test6(3,4)"
   ]
  },
  {
   "cell_type": "code",
   "execution_count": 77,
   "id": "2a974ffd-5632-4da3-99d8-127f8e2bd92f",
   "metadata": {},
   "outputs": [
    {
     "data": {
      "text/plain": [
       "'sudhkumar'"
      ]
     },
     "execution_count": 77,
     "metadata": {},
     "output_type": "execute_result"
    }
   ],
   "source": [
    "test6('sudh','kumar')"
   ]
  },
  {
   "cell_type": "code",
   "execution_count": 79,
   "id": "95bf359e-63c4-46fc-b55f-bdf20efca6a9",
   "metadata": {},
   "outputs": [
    {
     "data": {
      "text/plain": [
       "[2, 3, 5, 4, 1, 4, 6, 5]"
      ]
     },
     "execution_count": 79,
     "metadata": {},
     "output_type": "execute_result"
    }
   ],
   "source": [
    "test6([2,3,5,4],[1,4,6,5])"
   ]
  },
  {
   "cell_type": "code",
   "execution_count": 87,
   "id": "847b5822-6cf3-4fb6-92e3-a61ba3c87a77",
   "metadata": {},
   "outputs": [],
   "source": [
    "l = [2,3,4,5,66.5,'sudh','kuamr', [2,35,4,5]]"
   ]
  },
  {
   "cell_type": "code",
   "execution_count": 88,
   "id": "3c22738b-145a-40cc-bd94-809fb989fc01",
   "metadata": {},
   "outputs": [],
   "source": [
    "#write a function that extracts only numbers from a list\n",
    "def nums_from_list(lst):\n",
    "    l2=[each_el for each_el in lst if type(each_el)==int or type(each_el)==float]\n",
    "    return l2"
   ]
  },
  {
   "cell_type": "code",
   "execution_count": 89,
   "id": "7a6ea389-5fc9-4a17-86e1-046841a12abe",
   "metadata": {},
   "outputs": [
    {
     "data": {
      "text/plain": [
       "[2, 3, 4, 5, 66.5]"
      ]
     },
     "execution_count": 89,
     "metadata": {},
     "output_type": "execute_result"
    }
   ],
   "source": [
    "nums_from_list(l)"
   ]
  },
  {
   "cell_type": "code",
   "execution_count": 98,
   "id": "017b144d-e6c3-4d13-b3bc-8ee043a19d71",
   "metadata": {},
   "outputs": [],
   "source": [
    "#write a function that extracts only numbers from a list\n",
    "l3=[]\n",
    "def nums_from_list2(lst):\n",
    "    for each_el in lst:\n",
    "        if type(each_el)==int or type(each_el)==float:\n",
    "            l3.append(each_el)\n",
    "        elif type(each_el)==list:\n",
    "            inside_list = each_el\n",
    "            l3.append(list(i for i in inside_list if type(i)==int or type(i)==float))\n",
    "    return l3"
   ]
  },
  {
   "cell_type": "code",
   "execution_count": 99,
   "id": "d87c81bb-1e2a-4391-a873-1b005067324b",
   "metadata": {},
   "outputs": [
    {
     "data": {
      "text/plain": [
       "[2, 3, 4, 5, 66.5, [2, 35, 4, 5]]"
      ]
     },
     "execution_count": 99,
     "metadata": {},
     "output_type": "execute_result"
    }
   ],
   "source": [
    "nums_from_list2(l)"
   ]
  },
  {
   "cell_type": "code",
   "execution_count": 102,
   "id": "695835bf-7ca4-48b1-ba58-75b20f8b6f7f",
   "metadata": {},
   "outputs": [],
   "source": [
    "l3=[]\n",
    "def nums_from_list3(lst):\n",
    "    \"\"\"\n",
    "    this function extracts numeric data from list\n",
    "    \"\"\"\n",
    "    for each_el in lst:\n",
    "        if type(each_el)==int or type(each_el)==float:\n",
    "            l3.append(each_el)\n",
    "        elif type(each_el)==list:\n",
    "            inside_list = each_el\n",
    "            for i in inside_list:\n",
    "                if type(i)==int or type(i)==float:\n",
    "                    l3.append(i)\n",
    "    return l3"
   ]
  },
  {
   "cell_type": "code",
   "execution_count": 101,
   "id": "13ca24e7-b45a-44dc-b1bb-25e2f4068cc0",
   "metadata": {},
   "outputs": [
    {
     "data": {
      "text/plain": [
       "[2, 3, 4, 5, 66.5, 2, 35, 4, 5]"
      ]
     },
     "execution_count": 101,
     "metadata": {},
     "output_type": "execute_result"
    }
   ],
   "source": [
    "nums_from_list3(l)"
   ]
  },
  {
   "cell_type": "code",
   "execution_count": 105,
   "id": "3c5e202d-80e2-4b4f-81c9-5ee7e47fb1fe",
   "metadata": {},
   "outputs": [],
   "source": [
    "def test7(a,b):\n",
    "    return a+b"
   ]
  },
  {
   "cell_type": "code",
   "execution_count": 107,
   "id": "ceeb0470-4e85-4525-b9b7-4d3bad05bf46",
   "metadata": {},
   "outputs": [],
   "source": [
    "def test8(*args):\n",
    "    return args"
   ]
  },
  {
   "cell_type": "code",
   "execution_count": 108,
   "id": "195ac935-7b80-41d4-bcea-904db2afd2f1",
   "metadata": {},
   "outputs": [
    {
     "data": {
      "text/plain": [
       "()"
      ]
     },
     "execution_count": 108,
     "metadata": {},
     "output_type": "execute_result"
    }
   ],
   "source": [
    "test8()"
   ]
  },
  {
   "cell_type": "code",
   "execution_count": 109,
   "id": "db56f095-6e8a-4ce4-829a-c100f45eca91",
   "metadata": {},
   "outputs": [
    {
     "data": {
      "text/plain": [
       "(3, 5, 2)"
      ]
     },
     "execution_count": 109,
     "metadata": {},
     "output_type": "execute_result"
    }
   ],
   "source": [
    "test8(3,5,2)"
   ]
  },
  {
   "cell_type": "code",
   "execution_count": 110,
   "id": "e735dc97-916a-42ed-a363-328bc2328596",
   "metadata": {},
   "outputs": [
    {
     "data": {
      "text/plain": [
       "(1, 3, 5, 2, 52, 5, 4, 3)"
      ]
     },
     "execution_count": 110,
     "metadata": {},
     "output_type": "execute_result"
    }
   ],
   "source": [
    "test8(1,3,5,2,52,5,4,3)"
   ]
  },
  {
   "cell_type": "code",
   "execution_count": 111,
   "id": "f2455244-a1b7-4cf1-b19a-3d11bc5edf2c",
   "metadata": {},
   "outputs": [],
   "source": [
    "def test9(*args, a):\n",
    "    return args,a"
   ]
  },
  {
   "cell_type": "code",
   "execution_count": 112,
   "id": "17ccfee9-3ae1-4f2b-85eb-621ce01e7089",
   "metadata": {},
   "outputs": [
    {
     "ename": "TypeError",
     "evalue": "test9() missing 1 required keyword-only argument: 'a'",
     "output_type": "error",
     "traceback": [
      "\u001b[0;31m---------------------------------------------------------------------------\u001b[0m",
      "\u001b[0;31mTypeError\u001b[0m                                 Traceback (most recent call last)",
      "Cell \u001b[0;32mIn[112], line 1\u001b[0m\n\u001b[0;32m----> 1\u001b[0m \u001b[43mtest9\u001b[49m\u001b[43m(\u001b[49m\u001b[38;5;241;43m2\u001b[39;49m\u001b[43m,\u001b[49m\u001b[38;5;241;43m5\u001b[39;49m\u001b[43m,\u001b[49m\u001b[38;5;241;43m2\u001b[39;49m\u001b[43m,\u001b[49m\u001b[38;5;241;43m4\u001b[39;49m\u001b[43m)\u001b[49m\n",
      "\u001b[0;31mTypeError\u001b[0m: test9() missing 1 required keyword-only argument: 'a'"
     ]
    }
   ],
   "source": [
    "test9(2,5,2,4)"
   ]
  },
  {
   "cell_type": "code",
   "execution_count": 113,
   "id": "45969194-5c2a-4f3f-8c95-903af54d6dcc",
   "metadata": {},
   "outputs": [],
   "source": [
    "def test10(*args, a=12):\n",
    "    return args,a"
   ]
  },
  {
   "cell_type": "code",
   "execution_count": 114,
   "id": "a596e05b-a390-46f7-b3f9-79aff993f737",
   "metadata": {},
   "outputs": [
    {
     "data": {
      "text/plain": [
       "((23, 52, 4324, 5), 12)"
      ]
     },
     "execution_count": 114,
     "metadata": {},
     "output_type": "execute_result"
    }
   ],
   "source": [
    "test10(23,52,4324,5)"
   ]
  },
  {
   "cell_type": "code",
   "execution_count": 115,
   "id": "fde17e3c-3e6a-463b-a543-79e6366dd5d8",
   "metadata": {},
   "outputs": [],
   "source": [
    "def test11(c,d,a=23, b=1):\n",
    "    return a,b,c,d"
   ]
  },
  {
   "cell_type": "code",
   "execution_count": 116,
   "id": "35eb5625-6f97-4b1a-87d7-1e217ab3cf56",
   "metadata": {},
   "outputs": [
    {
     "ename": "TypeError",
     "evalue": "test11() missing 2 required positional arguments: 'c' and 'd'",
     "output_type": "error",
     "traceback": [
      "\u001b[0;31m---------------------------------------------------------------------------\u001b[0m",
      "\u001b[0;31mTypeError\u001b[0m                                 Traceback (most recent call last)",
      "Cell \u001b[0;32mIn[116], line 1\u001b[0m\n\u001b[0;32m----> 1\u001b[0m \u001b[43mtest11\u001b[49m\u001b[43m(\u001b[49m\u001b[43m)\u001b[49m\n",
      "\u001b[0;31mTypeError\u001b[0m: test11() missing 2 required positional arguments: 'c' and 'd'"
     ]
    }
   ],
   "source": [
    "test11()"
   ]
  },
  {
   "cell_type": "code",
   "execution_count": 117,
   "id": "66233c5e-a69f-4836-9bab-106052210ff5",
   "metadata": {},
   "outputs": [
    {
     "data": {
      "text/plain": [
       "(23, 1, 3, 4)"
      ]
     },
     "execution_count": 117,
     "metadata": {},
     "output_type": "execute_result"
    }
   ],
   "source": [
    "test11(3,4)"
   ]
  },
  {
   "cell_type": "code",
   "execution_count": 118,
   "id": "eeece9e0-6eeb-468e-b235-397c7d9eb9a0",
   "metadata": {},
   "outputs": [
    {
     "data": {
      "text/plain": [
       "(233, 1, 2, 5)"
      ]
     },
     "execution_count": 118,
     "metadata": {},
     "output_type": "execute_result"
    }
   ],
   "source": [
    "test11(2,5, a =233)"
   ]
  },
  {
   "cell_type": "code",
   "execution_count": 119,
   "id": "53357bc2-52f7-4a82-8f06-21aa2a21f1fe",
   "metadata": {},
   "outputs": [],
   "source": [
    "def test12(**kwargs):\n",
    "    return kwargs"
   ]
  },
  {
   "cell_type": "code",
   "execution_count": 124,
   "id": "27d20d9a-d01c-4c57-946d-5b6ef868b435",
   "metadata": {},
   "outputs": [
    {
     "data": {
      "text/plain": [
       "{}"
      ]
     },
     "execution_count": 124,
     "metadata": {},
     "output_type": "execute_result"
    }
   ],
   "source": [
    "test12()"
   ]
  },
  {
   "cell_type": "code",
   "execution_count": 125,
   "id": "c25f9d23-7e64-4c5a-b1c5-ebc1736c7897",
   "metadata": {},
   "outputs": [
    {
     "data": {
      "text/plain": [
       "dict"
      ]
     },
     "execution_count": 125,
     "metadata": {},
     "output_type": "execute_result"
    }
   ],
   "source": [
    "type(test12())"
   ]
  },
  {
   "cell_type": "code",
   "execution_count": 126,
   "id": "3353c9b5-daf7-446d-9d6d-13e1e3729963",
   "metadata": {},
   "outputs": [
    {
     "data": {
      "text/plain": [
       "{'a': [1, 2, 4, 5], 'b': 'sudh', 'c': 24.4}"
      ]
     },
     "execution_count": 126,
     "metadata": {},
     "output_type": "execute_result"
    }
   ],
   "source": [
    "test12(a = [1,2,4,5], b='sudh', c=24.4)"
   ]
  }
 ],
 "metadata": {
  "kernelspec": {
   "display_name": "Python 3 (ipykernel)",
   "language": "python",
   "name": "python3"
  },
  "language_info": {
   "codemirror_mode": {
    "name": "ipython",
    "version": 3
   },
   "file_extension": ".py",
   "mimetype": "text/x-python",
   "name": "python",
   "nbconvert_exporter": "python",
   "pygments_lexer": "ipython3",
   "version": "3.10.8"
  }
 },
 "nbformat": 4,
 "nbformat_minor": 5
}
