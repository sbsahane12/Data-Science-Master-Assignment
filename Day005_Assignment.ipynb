{
 "cells": [
  {
   "cell_type": "markdown",
   "id": "743aefb4-f593-455f-be9b-7ca0c56bc35f",
   "metadata": {},
   "source": [
    "## Question No. 1: \n",
    "Explain with an example each when to use a for loop and a while loop."
   ]
  },
  {
   "cell_type": "markdown",
   "id": "62d69322-7ca3-4859-b203-21243f9a00ed",
   "metadata": {},
   "source": [
    "### Answer:\n",
    "A \"for\" loop is used in Python to iterate over a sequence (such as a list, tuple, dictionary, set, or string) and execute a block of code for each item in the sequence."
   ]
  },
  {
   "cell_type": "code",
   "execution_count": 1,
   "id": "d3c449c5-492b-40ed-9c9c-84f36395e5d1",
   "metadata": {},
   "outputs": [
    {
     "name": "stdout",
     "output_type": "stream",
     "text": [
      "This\n",
      "is\n",
      "a\n",
      "list\n",
      "1\n",
      "35\n"
     ]
    }
   ],
   "source": [
    "l1= ['This', 'is' , 'a', 'list', 1,35]\n",
    "\n",
    "for each_element in l1:\n",
    "    print(each_element)"
   ]
  },
  {
   "cell_type": "markdown",
   "id": "5de95d84-6174-42cd-acc1-0565f79139e8",
   "metadata": {},
   "source": [
    "A \"while\" loop, on the other hand, is used to repeatedly execute a block of code as long as a certain condition is met. It is useful when you do not know beforehand how many iterations are required to meet the condition."
   ]
  },
  {
   "cell_type": "code",
   "execution_count": 2,
   "id": "fe037e38-265f-4553-adb8-ad23b41d06c2",
   "metadata": {},
   "outputs": [
    {
     "name": "stdout",
     "output_type": "stream",
     "text": [
      "0  is not equal to 10\n",
      "1  is not equal to 10\n",
      "2  is not equal to 10\n",
      "3  is not equal to 10\n",
      "4  is not equal to 10\n",
      "5  is not equal to 10\n",
      "6  is not equal to 10\n",
      "7  is not equal to 10\n",
      "8  is not equal to 10\n",
      "9  is not equal to 10\n"
     ]
    }
   ],
   "source": [
    "i=0\n",
    "\n",
    "while i!=10:\n",
    "    print(i, ' is not equal to 10')\n",
    "    i+=1"
   ]
  },
  {
   "cell_type": "markdown",
   "id": "63c97343-97ca-4c72-9b40-0e59338fac63",
   "metadata": {},
   "source": [
    "In short, \"for\" loops are used when you know the number of iterations beforehand, while \"while\" loops are used when you don't."
   ]
  },
  {
   "cell_type": "markdown",
   "id": "a572cd4a-1f32-46a5-8aba-21ccadf1bd6e",
   "metadata": {
    "tags": []
   },
   "source": [
    "## Question No. 2\n",
    "Write a python program to print the sum and product of the first 10 natural numbers."
   ]
  },
  {
   "cell_type": "markdown",
   "id": "7a733715-7abc-46d1-a311-3fb4e7dbd636",
   "metadata": {},
   "source": [
    "### Answer"
   ]
  },
  {
   "cell_type": "code",
   "execution_count": 3,
   "id": "c1cc1dec-5925-40e2-8ba6-a5d49cf60165",
   "metadata": {},
   "outputs": [
    {
     "name": "stdout",
     "output_type": "stream",
     "text": [
      "The sum of the first 10 natural numbers is:  55\n",
      "The product of the first 10 natural number is:  3628800\n"
     ]
    }
   ],
   "source": [
    "natural_list=list(range(1,11))\n",
    "result_sum = 0\n",
    "result_product = 1\n",
    "\n",
    "for each_element in natural_list:\n",
    "    result_sum = result_sum+each_element\n",
    "    result_product = result_product*each_element\n",
    "print('The sum of the first 10 natural numbers is: ', result_sum)\n",
    "print('The product of the first 10 natural number is: ', result_product)"
   ]
  },
  {
   "cell_type": "markdown",
   "id": "0feb6fb0-0110-4498-aca8-c62b32238e0c",
   "metadata": {
    "tags": []
   },
   "source": [
    "## Question No. 3\n",
    "Create a python program to compute the electricity bill for a household. The per-unit charges in rupees are as follows: <br>\n",
    "For the first 100 units, the user will be charged Rs. 4.5 per unit.<br>\n",
    "For the next 100 units, the user will be charged Rs. 6 per unit. <br>\n",
    "And, for the next 100 units, the user will be charged Rs. 10 per unit. <br>\n",
    "After 300 units and above the user will be charged Rs. 20 per unit. <br> <br>\n",
    "You are required to take the units of electricity consumed in a month from the user as input. <br>\n",
    "Your program must pass this test case: when the unit of electricity consumed by the user in a month is 310, the total electricity bill should be 2250."
   ]
  },
  {
   "cell_type": "markdown",
   "id": "40289cef-b0c3-444c-b04a-38c97731a0ba",
   "metadata": {},
   "source": [
    "### Answer"
   ]
  },
  {
   "cell_type": "code",
   "execution_count": 4,
   "id": "92b7ec03-9a23-42af-89a8-c837e76e1439",
   "metadata": {},
   "outputs": [
    {
     "name": "stdin",
     "output_type": "stream",
     "text": [
      "Enter units consumed in a month:  310\n"
     ]
    },
    {
     "name": "stdout",
     "output_type": "stream",
     "text": [
      "Total Bill:  2250.0\n"
     ]
    }
   ],
   "source": [
    "units_consumed = int(input('Enter units consumed in a month: '))\n",
    "total_bill = 0\n",
    "\n",
    "if units_consumed<=100:\n",
    "    total_bill = units_consumed*4.5\n",
    "elif units_consumed>100 and units_consumed <=200:\n",
    "    greater_than_hun_units = units_consumed-100\n",
    "    total_bill = ((greater_than_hun_units*6)+(100*4.5))\n",
    "elif units_consumed>200 and units_consumed <=300:\n",
    "    greater_than_twohun_units = units_consumed-200\n",
    "    total_bill = ((100*6)+(greater_than_twohun_units*10)+(100*4.5))\n",
    "elif units_consumed>300:\n",
    "    greater_than_threehun_units = units_consumed-300\n",
    "    total_bill = ((100*6)+(100*10)+(greater_than_threehun_units*20)+(100*4.5))\n",
    "    \n",
    "print('Total Bill: ', total_bill)"
   ]
  },
  {
   "cell_type": "markdown",
   "id": "318e5736-9ec4-4815-8d0a-a832b05f1128",
   "metadata": {},
   "source": [
    "## Question No. 4\n",
    "Create a list of numbers from 1 to 100. Use for loop and while loop to calculate the cube of each number and if the cube of that number is divisible by 4 or 5 then append that number in a list and print that list."
   ]
  },
  {
   "cell_type": "markdown",
   "id": "e71d5384-5af9-4504-bc85-0b63008aa140",
   "metadata": {},
   "source": [
    "## Answer"
   ]
  },
  {
   "cell_type": "code",
   "execution_count": 5,
   "id": "656aa158-674c-42f7-96f4-063052015bb8",
   "metadata": {},
   "outputs": [
    {
     "name": "stdout",
     "output_type": "stream",
     "text": [
      "Resultant List:  [8, 64, 125, 216, 512, 1000, 1728, 2744, 3375, 4096, 5832, 8000, 10648, 13824, 15625, 17576, 21952, 27000, 32768, 39304, 42875, 46656, 54872, 64000, 74088, 85184, 91125, 97336, 110592, 125000, 140608, 157464, 166375, 175616, 195112, 216000, 238328, 262144, 274625, 287496, 314432, 343000, 373248, 405224, 421875, 438976, 474552, 512000, 551368, 592704, 614125, 636056, 681472, 729000, 778688, 830584, 857375, 884736, 941192, 1000000]\n"
     ]
    }
   ],
   "source": [
    "list_first = list(range(1,101))\n",
    "result = 0\n",
    "list_result =[]\n",
    "\n",
    "for each_element in list_first:\n",
    "    result = each_element**3\n",
    "    if result%4==0 or result%5==0:\n",
    "        list_result.append(result)\n",
    "print('Resultant List: ', list_result)"
   ]
  },
  {
   "cell_type": "code",
   "execution_count": 6,
   "id": "0b370028-c9d9-4df8-ad22-5c1ae91ac841",
   "metadata": {},
   "outputs": [
    {
     "name": "stdout",
     "output_type": "stream",
     "text": [
      "Resultant List:  [8, 64, 125, 216, 512, 1000, 1728, 2744, 3375, 4096, 5832, 8000, 10648, 13824, 15625, 17576, 21952, 27000, 32768, 39304, 42875, 46656, 54872, 64000, 74088, 85184, 91125, 97336, 110592, 125000, 140608, 157464, 166375, 175616, 195112, 216000, 238328, 262144, 274625, 287496, 314432, 343000, 373248, 405224, 421875, 438976, 474552, 512000, 551368, 592704, 614125, 636056, 681472, 729000, 778688, 830584, 857375, 884736, 941192, 1000000]\n"
     ]
    }
   ],
   "source": [
    "iterr = 0\n",
    "list_result2 = []\n",
    "while iterr<100:\n",
    "    result = list_first[iterr]**3\n",
    "    if result%4==0 or result%5==0:\n",
    "        list_result2.append(result)\n",
    "    iterr+=1\n",
    "print('Resultant List: ', list_result2)"
   ]
  },
  {
   "cell_type": "markdown",
   "id": "64205d1d-8a6c-4bb4-a474-0b90c42f87a9",
   "metadata": {},
   "source": [
    "## Question No. 5\n",
    "Write a program to filter count vowels in the below given string. <br>\n",
    "string = \"I want to become a data scientist\""
   ]
  },
  {
   "cell_type": "code",
   "execution_count": 7,
   "id": "28b62944-e8d0-4923-b857-29a00b6a5cea",
   "metadata": {},
   "outputs": [
    {
     "name": "stdout",
     "output_type": "stream",
     "text": [
      "Total vowels in given string:  12\n"
     ]
    }
   ],
   "source": [
    "given_string = 'I want to become a data scientist'\n",
    "vowels= ['a', 'e', 'i', 'I', 'o', 'u']\n",
    "vowels_count = 0\n",
    "\n",
    "for each_letter in given_string:\n",
    "    #print(each_letter)\n",
    "    for each_vowel in vowels:\n",
    "        if each_letter == each_vowel:\n",
    "            #print(each_letter, 'is equal to', each_vowel)\n",
    "            vowels_count+=1\n",
    "            \n",
    "print('Total vowels in given string: ', vowels_count)"
   ]
  }
 ],
 "metadata": {
  "kernelspec": {
   "display_name": "Python 3 (ipykernel)",
   "language": "python",
   "name": "python3"
  },
  "language_info": {
   "codemirror_mode": {
    "name": "ipython",
    "version": 3
   },
   "file_extension": ".py",
   "mimetype": "text/x-python",
   "name": "python",
   "nbconvert_exporter": "python",
   "pygments_lexer": "ipython3",
   "version": "3.10.8"
  }
 },
 "nbformat": 4,
 "nbformat_minor": 5
}
