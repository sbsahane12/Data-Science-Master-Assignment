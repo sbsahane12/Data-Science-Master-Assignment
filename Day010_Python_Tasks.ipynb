{
 "cells": [
  {
   "cell_type": "markdown",
   "id": "8a71f23c-8057-4408-91b7-5fbdf755d5c1",
   "metadata": {},
   "source": [
    "# Task No. 1:\n",
    "You are writing a code for a company. The requirement of the company is that you create a Python functoin that will check whether the password entered by the user is correct or not. The function should take the password as input and return the string \"Valid Password\" if the entered password follows the below-given password guidelines else it should return \"Invalid Password\". \n",
    "\n",
    "**Note:** <br>\n",
    "1. The password should contain at least two uppercase letter and at least two lowercase letters.\n",
    "2. The password should contain at least a number and three special characters.\n",
    "3. The length of the password shoud be 10 character long."
   ]
  },
  {
   "cell_type": "code",
   "execution_count": 1,
   "id": "d8a52b08-ad0d-4239-8c31-c51f9e63a265",
   "metadata": {},
   "outputs": [],
   "source": [
    "import re\n",
    "\n",
    "def password_validator(password):\n",
    "    \"\"\"\n",
    "    This function checks the validity of a password\n",
    "    \"\"\"\n",
    "    special_chars ='[@_!#$%^&*()<>?/\\|}{~:]'\n",
    "    count_upper_chars=0\n",
    "    count_lower_chars=0\n",
    "    count_numerics=0\n",
    "    count_special_chars=0\n",
    "\n",
    "    for each_letter in password:\n",
    "        if each_letter.isupper()==True:\n",
    "            count_upper_chars+=1\n",
    "        if each_letter.islower()==True:\n",
    "            count_lower_chars+=1\n",
    "        if each_letter.isnumeric()==True:\n",
    "            count_numerics+=1\n",
    "        if each_letter in special_chars:\n",
    "            count_special_chars+=1\n",
    "\n",
    "    if count_upper_chars>=2 and count_lower_chars>=2 and count_numerics>=1 and count_special_chars>=3 and len(password)>=10:\n",
    "        print('Valid Password')\n",
    "    else:\n",
    "        print('Invalid Password\\n')\n",
    "        print(f\"Number of upper-case letters in password: {count_upper_chars}\")\n",
    "        print(f\"Number of lower-case letters in password: {count_lower_chars}\")\n",
    "        print(f\"Number of numeric letters in password: {count_numerics}\")\n",
    "        print(f\"Number of special characters in password: {count_special_chars}\")\n",
    "        print(f\"Length of password: {len(password)}\")"
   ]
  },
  {
   "cell_type": "code",
   "execution_count": 2,
   "id": "668bc770-a3d7-4f2e-8593-dda6d36046ef",
   "metadata": {},
   "outputs": [
    {
     "name": "stdin",
     "output_type": "stream",
     "text": [
      "Enter Password:  ShouldReturn**False\n"
     ]
    },
    {
     "name": "stdout",
     "output_type": "stream",
     "text": [
      "Invalid Password\n",
      "\n",
      "Number of upper-case letters in password: 3\n",
      "Number of lower-case letters in password: 14\n",
      "Number of numeric letters in password: 0\n",
      "Number of special characters in password: 2\n",
      "Length of password: 19\n"
     ]
    }
   ],
   "source": [
    "password = input(\"Enter Password: \")\n",
    "password_validator(password) \n",
    "#password entered: ShouldReturn**False"
   ]
  },
  {
   "cell_type": "code",
   "execution_count": 3,
   "id": "b7b5c456-b194-4a7b-a808-25ed738d5dba",
   "metadata": {},
   "outputs": [
    {
     "name": "stdin",
     "output_type": "stream",
     "text": [
      "Enter Password:  1*ThiSshoulDReturNTrue23*&\n"
     ]
    },
    {
     "name": "stdout",
     "output_type": "stream",
     "text": [
      "Valid Password\n"
     ]
    }
   ],
   "source": [
    "password = input(\"Enter Password: \")\n",
    "password_validator(password) \n",
    "#password entered: 1*ThiSshoulDReturNTrue23*&"
   ]
  },
  {
   "cell_type": "markdown",
   "id": "01d098fb-7d0b-4837-980b-bd2763b0f368",
   "metadata": {},
   "source": [
    "# Task No. 2:\n",
    "Solve the below-given questions using at least one of the following:<br>\n",
    "1. Lambda Function\n",
    "2. Filter Function\n",
    "3. Map Function\n",
    "4. List Comprehension"
   ]
  },
  {
   "cell_type": "markdown",
   "id": "80ab99ef-2e83-492d-9164-38e67cb12681",
   "metadata": {},
   "source": [
    "### Question No. 1: \n",
    "Check if the string starts with a particular letter."
   ]
  },
  {
   "cell_type": "code",
   "execution_count": 4,
   "id": "cc74e215-0424-42d5-9140-7191880f24be",
   "metadata": {},
   "outputs": [
    {
     "name": "stdin",
     "output_type": "stream",
     "text": [
      "Enter String:  &3dfaong\n"
     ]
    },
    {
     "name": "stdout",
     "output_type": "stream",
     "text": [
      "String starts with particular letter:  True\n"
     ]
    }
   ],
   "source": [
    "particular_letter='&'\n",
    "string = input('Enter String: ')\n",
    "response = True if string.startswith(particular_letter)==True else False\n",
    "print(\"String starts with particular letter: \",response)\n",
    "#Entered String: &3dfaong"
   ]
  },
  {
   "cell_type": "markdown",
   "id": "bb26f594-1176-475a-986a-fd0cfe315ffb",
   "metadata": {},
   "source": [
    "### Question No. 2:\n",
    "Check if the string is numeric."
   ]
  },
  {
   "cell_type": "code",
   "execution_count": 5,
   "id": "3a85a3cd-a614-4be0-8a50-e04c96595f72",
   "metadata": {},
   "outputs": [
    {
     "name": "stdin",
     "output_type": "stream",
     "text": [
      "Enter String:  46373837846\n"
     ]
    },
    {
     "name": "stdout",
     "output_type": "stream",
     "text": [
      "String is numeric:  True\n"
     ]
    }
   ],
   "source": [
    "string = input('Enter String: ')\n",
    "response = True if string.isnumeric()==True else False\n",
    "print('String is numeric: ', response)\n",
    "#Entered String: 46373837846"
   ]
  },
  {
   "cell_type": "markdown",
   "id": "5fef74ee-9f0c-4906-b0a3-c2a7d07df773",
   "metadata": {},
   "source": [
    "### Question No. 3:\n",
    "Sort a list of tuples having fruit names and their quantity. <br>\n",
    "[('mango',99),('orange',80),('grapes',1000)]"
   ]
  },
  {
   "cell_type": "code",
   "execution_count": 6,
   "id": "1abcaab3-4244-4a0a-b00c-2dd9856d289c",
   "metadata": {},
   "outputs": [
    {
     "data": {
      "text/plain": [
       "[('orange', 80), ('mango', 99), ('grapes', 1000)]"
      ]
     },
     "execution_count": 6,
     "metadata": {},
     "output_type": "execute_result"
    }
   ],
   "source": [
    "list_of_tuples = [('mango',99),('orange',80),('grapes',1000)]\n",
    "sorted(list_of_tuples, key=lambda x: x[1])"
   ]
  },
  {
   "cell_type": "markdown",
   "id": "4b8d0d50-55bd-4935-bc6f-c606112a878a",
   "metadata": {},
   "source": [
    "### Question No. 4:\n",
    "Find the squares of numbers from 1 to 10."
   ]
  },
  {
   "cell_type": "code",
   "execution_count": 7,
   "id": "3394daad-5493-487d-b9e1-0fe4869227a8",
   "metadata": {},
   "outputs": [
    {
     "data": {
      "text/plain": [
       "[0, 1, 4, 9, 16, 25, 36, 49, 64, 81, 100]"
      ]
     },
     "execution_count": 7,
     "metadata": {},
     "output_type": "execute_result"
    }
   ],
   "source": [
    "list_of_nums = list(range(11))\n",
    "list(map(lambda input_list: input_list**2, list_of_nums))"
   ]
  },
  {
   "cell_type": "markdown",
   "id": "974269f0-5a49-44c2-b435-e02deb531b36",
   "metadata": {},
   "source": [
    "### Question No. 5:\n",
    "Find the cube root of numbers from 1 to 10."
   ]
  },
  {
   "cell_type": "markdown",
   "id": "c8024799-f8e4-46f6-b91e-8ffab6bcef2c",
   "metadata": {},
   "source": [
    "#### Method 1"
   ]
  },
  {
   "cell_type": "code",
   "execution_count": 8,
   "id": "d2c139f1-78b5-4344-be7a-a7fd1dde02eb",
   "metadata": {},
   "outputs": [
    {
     "data": {
      "text/plain": [
       "[0.0,\n",
       " 1.0,\n",
       " 1.2599210498948734,\n",
       " 1.4422495703074083,\n",
       " 1.5874010519681996,\n",
       " 1.7099759466766968,\n",
       " 1.8171205928321394,\n",
       " 1.9129311827723894,\n",
       " 2.0,\n",
       " 2.080083823051904,\n",
       " 2.1544346900318834]"
      ]
     },
     "execution_count": 8,
     "metadata": {},
     "output_type": "execute_result"
    }
   ],
   "source": [
    "import numpy as np\n",
    "list_of_nums = list(range(11))\n",
    "list(map(lambda input_list: np.cbrt(input_list), list_of_nums))"
   ]
  },
  {
   "cell_type": "markdown",
   "id": "9305bd51-0c8c-4f5b-a3d6-331ed51d172c",
   "metadata": {},
   "source": [
    "#### Method 2"
   ]
  },
  {
   "cell_type": "code",
   "execution_count": 9,
   "id": "a9f08359-2d1d-49ae-994c-7255a037c70e",
   "metadata": {},
   "outputs": [
    {
     "data": {
      "text/plain": [
       "[0.0,\n",
       " 1.0,\n",
       " 1.2599210498948732,\n",
       " 1.4422495703074083,\n",
       " 1.5874010519681994,\n",
       " 1.7099759466766968,\n",
       " 1.8171205928321397,\n",
       " 1.912931182772389,\n",
       " 2.0,\n",
       " 2.080083823051904,\n",
       " 2.154434690031884]"
      ]
     },
     "execution_count": 9,
     "metadata": {},
     "output_type": "execute_result"
    }
   ],
   "source": [
    "list_of_nums = list(range(11))\n",
    "list(map(lambda input_list: input_list** (1/3), list_of_nums))"
   ]
  },
  {
   "cell_type": "markdown",
   "id": "e23c7005-75ea-47cb-8f9c-3d1d82453b84",
   "metadata": {},
   "source": [
    "### Question No. 6:\n",
    "Check if a given number is even."
   ]
  },
  {
   "cell_type": "code",
   "execution_count": 10,
   "id": "cf87d81e-f0df-4c59-8b23-ca29419d2b39",
   "metadata": {},
   "outputs": [
    {
     "data": {
      "text/plain": [
       "[True, False, True, False, True, False, True, False, True, False, True]"
      ]
     },
     "execution_count": 10,
     "metadata": {},
     "output_type": "execute_result"
    }
   ],
   "source": [
    "given_numbers=list(range(11))\n",
    "list(map(lambda input_list:True if input_list%2==0 else False, given_numbers))"
   ]
  },
  {
   "cell_type": "markdown",
   "id": "102f9f92-4a93-4d84-8c75-3300c28cba5a",
   "metadata": {},
   "source": [
    "### Question No. 7:\n",
    "Filter odd numbers from the given list. <br>\n",
    "[1,2,3,4,5,6,7,8,9,10]"
   ]
  },
  {
   "cell_type": "code",
   "execution_count": 11,
   "id": "4d418f03-a225-4165-8587-acecc83a753e",
   "metadata": {},
   "outputs": [
    {
     "data": {
      "text/plain": [
       "[1, 3, 5, 7, 9]"
      ]
     },
     "execution_count": 11,
     "metadata": {},
     "output_type": "execute_result"
    }
   ],
   "source": [
    "list_of_nums=list(range(11))\n",
    "list(filter(lambda input_list:input_list%2!=0, list_of_nums))"
   ]
  },
  {
   "cell_type": "markdown",
   "id": "6959e83f-e57a-493f-8b6f-541d7ef908f4",
   "metadata": {},
   "source": [
    "### Question No. 8:\n",
    "Sort a list of integers into positive and negative integers lists.<br>\n",
    "[1,2,3,4,5,6,-1,-2,-3,-4,-5,0]"
   ]
  },
  {
   "cell_type": "code",
   "execution_count": 12,
   "id": "d3d86dd0-1303-40d1-b08f-fc9089f84b49",
   "metadata": {},
   "outputs": [
    {
     "name": "stdout",
     "output_type": "stream",
     "text": [
      "[1, 2, 3, 4, 5, 6, 0] [-1, -2, -3, -4, -5]\n"
     ]
    }
   ],
   "source": [
    "given_list = [1,2,3,4,5,6,-1,-2,-3,-4,-5,0]\n",
    "\n",
    "pos_list=[each_element for each_element in given_list if each_element>=0]\n",
    "neg_list=[each_element for each_element in given_list if each_element<0]\n",
    "print(pos_list,neg_list)"
   ]
  }
 ],
 "metadata": {
  "kernelspec": {
   "display_name": "Python 3 (ipykernel)",
   "language": "python",
   "name": "python3"
  },
  "language_info": {
   "codemirror_mode": {
    "name": "ipython",
    "version": 3
   },
   "file_extension": ".py",
   "mimetype": "text/x-python",
   "name": "python",
   "nbconvert_exporter": "python",
   "pygments_lexer": "ipython3",
   "version": "3.10.8"
  }
 },
 "nbformat": 4,
 "nbformat_minor": 5
}
