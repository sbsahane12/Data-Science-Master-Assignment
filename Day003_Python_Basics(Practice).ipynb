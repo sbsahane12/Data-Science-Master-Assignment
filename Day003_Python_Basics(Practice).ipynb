{
 "cells": [
  {
   "cell_type": "markdown",
   "id": "9d1eb829-7af6-47f6-9c65-20ebe6131d19",
   "metadata": {},
   "source": [
    "# Lists"
   ]
  },
  {
   "cell_type": "code",
   "execution_count": 1,
   "id": "363c37da-536b-459c-b7dd-da14d646c719",
   "metadata": {},
   "outputs": [
    {
     "data": {
      "text/plain": [
       "[1, 35, 'owais', 34.5, (4+5j), 4, 66]"
      ]
     },
     "execution_count": 1,
     "metadata": {},
     "output_type": "execute_result"
    }
   ],
   "source": [
    "l = [1,35,'owais', 34.5, 4+5j, 4,66]\n",
    "l"
   ]
  },
  {
   "cell_type": "code",
   "execution_count": 2,
   "id": "7736afc5-11ca-4520-b6cf-bb330375be95",
   "metadata": {},
   "outputs": [
    {
     "data": {
      "text/plain": [
       "1"
      ]
     },
     "execution_count": 2,
     "metadata": {},
     "output_type": "execute_result"
    }
   ],
   "source": [
    "l[0]"
   ]
  },
  {
   "cell_type": "code",
   "execution_count": 3,
   "id": "ed03ce97-f86d-46cc-978d-7395aea4b92b",
   "metadata": {},
   "outputs": [
    {
     "data": {
      "text/plain": [
       "[35, 'owais', 34.5]"
      ]
     },
     "execution_count": 3,
     "metadata": {},
     "output_type": "execute_result"
    }
   ],
   "source": [
    "l[1:4]"
   ]
  },
  {
   "cell_type": "code",
   "execution_count": 4,
   "id": "b2c8b3b8-b1c0-4ac6-8ff3-ea122a612c06",
   "metadata": {},
   "outputs": [],
   "source": [
    "l2 = [3, 5, 6,4, 55]"
   ]
  },
  {
   "cell_type": "code",
   "execution_count": 13,
   "id": "781c8e99-779e-4bbc-bce5-df5b9e4f9fff",
   "metadata": {},
   "outputs": [
    {
     "data": {
      "text/plain": [
       "[1, 35, 'owais', 34.5, (4+5j), 4, 66, 3, 5, 6, 4, 55]"
      ]
     },
     "execution_count": 13,
     "metadata": {},
     "output_type": "execute_result"
    }
   ],
   "source": [
    "l3=l+l2\n",
    "l3"
   ]
  },
  {
   "cell_type": "code",
   "execution_count": 14,
   "id": "c37dc814-7a51-4bb7-83c1-05d0cdb145c0",
   "metadata": {},
   "outputs": [
    {
     "data": {
      "text/plain": [
       "[1, 35, 'owais', 34.5, (4+5j), 4, 66, 3, 5, 6, 4, 55, [33, 55, 'Owais']]"
      ]
     },
     "execution_count": 14,
     "metadata": {},
     "output_type": "execute_result"
    }
   ],
   "source": [
    "l3.append([33,55,'Owais'])\n",
    "l3"
   ]
  },
  {
   "cell_type": "code",
   "execution_count": 15,
   "id": "13ef066a-a061-414d-92b4-059bab3a306c",
   "metadata": {},
   "outputs": [
    {
     "ename": "TypeError",
     "evalue": "'int' object is not iterable",
     "output_type": "error",
     "traceback": [
      "\u001b[0;31m---------------------------------------------------------------------------\u001b[0m",
      "\u001b[0;31mTypeError\u001b[0m                                 Traceback (most recent call last)",
      "Cell \u001b[0;32mIn[15], line 1\u001b[0m\n\u001b[0;32m----> 1\u001b[0m \u001b[43ml3\u001b[49m\u001b[38;5;241;43m.\u001b[39;49m\u001b[43mextend\u001b[49m\u001b[43m(\u001b[49m\u001b[38;5;241;43m4\u001b[39;49m\u001b[43m)\u001b[49m\n",
      "\u001b[0;31mTypeError\u001b[0m: 'int' object is not iterable"
     ]
    }
   ],
   "source": [
    "l3.extend(4)"
   ]
  },
  {
   "cell_type": "code",
   "execution_count": 16,
   "id": "f2a99726-5aca-472b-ad31-86567052c928",
   "metadata": {},
   "outputs": [
    {
     "data": {
      "text/plain": [
       "[1,\n",
       " 35,\n",
       " 'owais',\n",
       " 34.5,\n",
       " (4+5j),\n",
       " 4,\n",
       " 66,\n",
       " 3,\n",
       " 5,\n",
       " 6,\n",
       " 4,\n",
       " 55,\n",
       " [33, 55, 'Owais'],\n",
       " 3,\n",
       " 5,\n",
       " 4]"
      ]
     },
     "execution_count": 16,
     "metadata": {},
     "output_type": "execute_result"
    }
   ],
   "source": [
    "l3.extend([3,5,4]) #extend only take iterable arguments and stores them one by one instead of together as a list\n",
    "l3"
   ]
  },
  {
   "cell_type": "code",
   "execution_count": 20,
   "id": "e12c35e3-8bfa-408a-a5e4-14bc4ea2bfb8",
   "metadata": {},
   "outputs": [
    {
     "data": {
      "text/plain": [
       "[33, 55]"
      ]
     },
     "execution_count": 20,
     "metadata": {},
     "output_type": "execute_result"
    }
   ],
   "source": [
    "l3[-4][0:2]"
   ]
  },
  {
   "cell_type": "code",
   "execution_count": 21,
   "id": "fe8bf46a-aead-47e5-8e28-04c963152cf2",
   "metadata": {},
   "outputs": [
    {
     "data": {
      "text/plain": [
       "[1,\n",
       " 35,\n",
       " 'owais',\n",
       " 34.5,\n",
       " (4+5j),\n",
       " 4,\n",
       " 66,\n",
       " 3,\n",
       " 5,\n",
       " 6,\n",
       " 4,\n",
       " 55,\n",
       " [33, 55, 'Owais'],\n",
       " 3,\n",
       " 5,\n",
       " 4,\n",
       " 1,\n",
       " 35,\n",
       " 'owais',\n",
       " 34.5,\n",
       " (4+5j),\n",
       " 4,\n",
       " 66,\n",
       " 3,\n",
       " 5,\n",
       " 6,\n",
       " 4,\n",
       " 55,\n",
       " [33, 55, 'Owais'],\n",
       " 3,\n",
       " 5,\n",
       " 4]"
      ]
     },
     "execution_count": 21,
     "metadata": {},
     "output_type": "execute_result"
    }
   ],
   "source": [
    "l3*2"
   ]
  },
  {
   "cell_type": "code",
   "execution_count": 22,
   "id": "75d4d39a-6a27-486e-87d7-38ed286f4dbb",
   "metadata": {},
   "outputs": [
    {
     "data": {
      "text/plain": [
       "[3, 5, 6, 4, 55]"
      ]
     },
     "execution_count": 22,
     "metadata": {},
     "output_type": "execute_result"
    }
   ],
   "source": [
    "l2"
   ]
  },
  {
   "cell_type": "code",
   "execution_count": 23,
   "id": "354864a7-3caf-4535-b5c0-d029dbc36808",
   "metadata": {},
   "outputs": [],
   "source": [
    "l2.insert(3,'Owais')"
   ]
  },
  {
   "cell_type": "code",
   "execution_count": 24,
   "id": "8aa1033e-c89d-48a7-bb35-ed39284a3c93",
   "metadata": {},
   "outputs": [
    {
     "data": {
      "text/plain": [
       "[3, 5, 6, 'Owais', 4, 55]"
      ]
     },
     "execution_count": 24,
     "metadata": {},
     "output_type": "execute_result"
    }
   ],
   "source": [
    "l2"
   ]
  },
  {
   "cell_type": "code",
   "execution_count": 25,
   "id": "16bbc4a0-d139-4926-a6e8-6fbbda66fa36",
   "metadata": {},
   "outputs": [
    {
     "data": {
      "text/plain": [
       "[3, 5, 6, 'Owais', 4, [33, 52, 55, 22], 55]"
      ]
     },
     "execution_count": 25,
     "metadata": {},
     "output_type": "execute_result"
    }
   ],
   "source": [
    "l2.insert(5,[33,52,55,22])\n",
    "l2"
   ]
  },
  {
   "cell_type": "code",
   "execution_count": 26,
   "id": "ce87f10d-1cd3-486c-b67a-e69870e377af",
   "metadata": {},
   "outputs": [
    {
     "data": {
      "text/plain": [
       "7"
      ]
     },
     "execution_count": 26,
     "metadata": {},
     "output_type": "execute_result"
    }
   ],
   "source": [
    "len(l2)"
   ]
  },
  {
   "cell_type": "code",
   "execution_count": 28,
   "id": "c94af833-1252-40c4-824c-834a35f3380f",
   "metadata": {},
   "outputs": [
    {
     "data": {
      "text/plain": [
       "[1, 35, 'owais', 34.5, (4+5j), 4, 66]"
      ]
     },
     "execution_count": 28,
     "metadata": {},
     "output_type": "execute_result"
    }
   ],
   "source": [
    "l"
   ]
  },
  {
   "cell_type": "code",
   "execution_count": 30,
   "id": "18ed0510-9a2d-4b73-af73-e86df447385a",
   "metadata": {},
   "outputs": [
    {
     "data": {
      "text/plain": [
       "[]"
      ]
     },
     "execution_count": 30,
     "metadata": {},
     "output_type": "execute_result"
    }
   ],
   "source": [
    "l.clear()\n",
    "l"
   ]
  },
  {
   "cell_type": "code",
   "execution_count": 31,
   "id": "eed9cbd8-4cfa-4b73-92f4-9896e1ef95d3",
   "metadata": {},
   "outputs": [
    {
     "data": {
      "text/plain": [
       "[3, 5, 6, 'Owais', 4, [33, 52, 55, 22], 55]"
      ]
     },
     "execution_count": 31,
     "metadata": {},
     "output_type": "execute_result"
    }
   ],
   "source": [
    "l4 = l2.copy()\n",
    "l4"
   ]
  },
  {
   "cell_type": "code",
   "execution_count": 32,
   "id": "6c0cacc3-d5c8-4a99-8e22-b983beb64e54",
   "metadata": {},
   "outputs": [
    {
     "data": {
      "text/plain": [
       "[3, 5, 6, 'Owais', 4, [33, 52, 55, 22], 55]"
      ]
     },
     "execution_count": 32,
     "metadata": {},
     "output_type": "execute_result"
    }
   ],
   "source": [
    "l2"
   ]
  },
  {
   "cell_type": "code",
   "execution_count": 33,
   "id": "9a6115e9-fe78-4272-b44b-68a5fbec5f63",
   "metadata": {},
   "outputs": [
    {
     "ename": "TypeError",
     "evalue": "'<' not supported between instances of 'str' and 'int'",
     "output_type": "error",
     "traceback": [
      "\u001b[0;31m---------------------------------------------------------------------------\u001b[0m",
      "\u001b[0;31mTypeError\u001b[0m                                 Traceback (most recent call last)",
      "Cell \u001b[0;32mIn[33], line 1\u001b[0m\n\u001b[0;32m----> 1\u001b[0m \u001b[43ml4\u001b[49m\u001b[38;5;241;43m.\u001b[39;49m\u001b[43msort\u001b[49m\u001b[43m(\u001b[49m\u001b[43m)\u001b[49m\n\u001b[1;32m      2\u001b[0m l4\n",
      "\u001b[0;31mTypeError\u001b[0m: '<' not supported between instances of 'str' and 'int'"
     ]
    }
   ],
   "source": [
    "l4.sort()\n",
    "l4"
   ]
  },
  {
   "cell_type": "code",
   "execution_count": 34,
   "id": "81187aa7-7cf1-4914-9428-525c536dbc12",
   "metadata": {},
   "outputs": [],
   "source": [
    "l4.remove('Owais')"
   ]
  },
  {
   "cell_type": "code",
   "execution_count": 35,
   "id": "aff22f7e-0b53-4e35-93e6-6e72c68c4ffb",
   "metadata": {},
   "outputs": [
    {
     "data": {
      "text/plain": [
       "[3, 5, 6, 4, [33, 52, 55, 22], 55]"
      ]
     },
     "execution_count": 35,
     "metadata": {},
     "output_type": "execute_result"
    }
   ],
   "source": [
    "l4"
   ]
  },
  {
   "cell_type": "code",
   "execution_count": 36,
   "id": "84e00e8e-4572-41a9-9eb1-a3db8a167262",
   "metadata": {},
   "outputs": [
    {
     "data": {
      "text/plain": [
       "[3, 5, 6, 4, 55]"
      ]
     },
     "execution_count": 36,
     "metadata": {},
     "output_type": "execute_result"
    }
   ],
   "source": [
    "l4.remove([33, 52, 55, 22])\n",
    "l4"
   ]
  },
  {
   "cell_type": "code",
   "execution_count": 37,
   "id": "265cadc5-d132-46a3-bd49-44e42738762a",
   "metadata": {},
   "outputs": [],
   "source": [
    "l4.sort()"
   ]
  },
  {
   "cell_type": "code",
   "execution_count": 38,
   "id": "12db9d4b-3726-45e1-8489-ed59d5db514e",
   "metadata": {},
   "outputs": [
    {
     "data": {
      "text/plain": [
       "[3, 4, 5, 6, 55]"
      ]
     },
     "execution_count": 38,
     "metadata": {},
     "output_type": "execute_result"
    }
   ],
   "source": [
    "l4"
   ]
  },
  {
   "cell_type": "code",
   "execution_count": 39,
   "id": "3924c4df-dac6-424c-b24e-d61e1c7ffcc2",
   "metadata": {},
   "outputs": [
    {
     "data": {
      "text/plain": [
       "[1,\n",
       " 35,\n",
       " 'owais',\n",
       " 34.5,\n",
       " (4+5j),\n",
       " 4,\n",
       " 66,\n",
       " 3,\n",
       " 5,\n",
       " 6,\n",
       " 4,\n",
       " 55,\n",
       " [33, 55, 'Owais'],\n",
       " 3,\n",
       " 5,\n",
       " 4]"
      ]
     },
     "execution_count": 39,
     "metadata": {},
     "output_type": "execute_result"
    }
   ],
   "source": [
    "l3"
   ]
  },
  {
   "cell_type": "code",
   "execution_count": 40,
   "id": "d6cb8597-0ca9-4454-b419-9b527bba4333",
   "metadata": {},
   "outputs": [],
   "source": [
    "l3.reverse()"
   ]
  },
  {
   "cell_type": "code",
   "execution_count": 41,
   "id": "c2c1356d-12aa-4091-95d5-b944ce8a66d1",
   "metadata": {},
   "outputs": [
    {
     "data": {
      "text/plain": [
       "[4,\n",
       " 5,\n",
       " 3,\n",
       " [33, 55, 'Owais'],\n",
       " 55,\n",
       " 4,\n",
       " 6,\n",
       " 5,\n",
       " 3,\n",
       " 66,\n",
       " 4,\n",
       " (4+5j),\n",
       " 34.5,\n",
       " 'owais',\n",
       " 35,\n",
       " 1]"
      ]
     },
     "execution_count": 41,
     "metadata": {},
     "output_type": "execute_result"
    }
   ],
   "source": [
    "l3"
   ]
  },
  {
   "cell_type": "code",
   "execution_count": 44,
   "id": "91bda700-b74f-4af6-aed5-ba3848a7843c",
   "metadata": {},
   "outputs": [
    {
     "data": {
      "text/plain": [
       "(4+5j)"
      ]
     },
     "execution_count": 44,
     "metadata": {},
     "output_type": "execute_result"
    }
   ],
   "source": [
    "l3.pop(-5)"
   ]
  },
  {
   "cell_type": "code",
   "execution_count": 45,
   "id": "9d489f6d-ea43-4f5b-9a23-c8a00eb184dc",
   "metadata": {},
   "outputs": [
    {
     "data": {
      "text/plain": [
       "[4, 5, 3, [33, 55, 'Owais'], 55, 4, 6, 5, 3, 66, 4, 34.5, 'owais', 35, 1]"
      ]
     },
     "execution_count": 45,
     "metadata": {},
     "output_type": "execute_result"
    }
   ],
   "source": [
    "l3"
   ]
  },
  {
   "cell_type": "code",
   "execution_count": 49,
   "id": "47963093-d4d8-41ab-b839-067e3b0a9ac7",
   "metadata": {},
   "outputs": [
    {
     "data": {
      "text/plain": [
       "[4, 22, 3, [33, 55, 'Owais'], 55, 4, 6, 5, 3, 66, 4, 34.5, 'owais', 35, 1]"
      ]
     },
     "execution_count": 49,
     "metadata": {},
     "output_type": "execute_result"
    }
   ],
   "source": [
    "l3[1]=22 #lists are mutable\n",
    "l3"
   ]
  },
  {
   "cell_type": "markdown",
   "id": "957e404c-8a9b-463a-a024-caf5e5a1b9e1",
   "metadata": {},
   "source": [
    "# Tuples"
   ]
  },
  {
   "cell_type": "code",
   "execution_count": 46,
   "id": "c20000dc-4911-4258-a392-8b3e0531edec",
   "metadata": {},
   "outputs": [
    {
     "data": {
      "text/plain": [
       "(1, 3, 5, 'owais', 44.3)"
      ]
     },
     "execution_count": 46,
     "metadata": {},
     "output_type": "execute_result"
    }
   ],
   "source": [
    "t = (1,3,5,'owais', 44.3)\n",
    "t"
   ]
  },
  {
   "cell_type": "code",
   "execution_count": 47,
   "id": "39e576bd-fecc-4e14-8593-0b8d485e1f2b",
   "metadata": {},
   "outputs": [
    {
     "data": {
      "text/plain": [
       "tuple"
      ]
     },
     "execution_count": 47,
     "metadata": {},
     "output_type": "execute_result"
    }
   ],
   "source": [
    "type(t)"
   ]
  },
  {
   "cell_type": "code",
   "execution_count": 48,
   "id": "0da10dcc-7baa-46e8-a38a-6806e6d5de70",
   "metadata": {},
   "outputs": [
    {
     "data": {
      "text/plain": [
       "3"
      ]
     },
     "execution_count": 48,
     "metadata": {},
     "output_type": "execute_result"
    }
   ],
   "source": [
    "t[1]"
   ]
  },
  {
   "cell_type": "code",
   "execution_count": 50,
   "id": "3df16641-0141-4d9d-96e4-eca65e81bf17",
   "metadata": {},
   "outputs": [
    {
     "ename": "TypeError",
     "evalue": "'tuple' object does not support item assignment",
     "output_type": "error",
     "traceback": [
      "\u001b[0;31m---------------------------------------------------------------------------\u001b[0m",
      "\u001b[0;31mTypeError\u001b[0m                                 Traceback (most recent call last)",
      "Cell \u001b[0;32mIn[50], line 1\u001b[0m\n\u001b[0;32m----> 1\u001b[0m \u001b[43mt\u001b[49m\u001b[43m[\u001b[49m\u001b[38;5;241;43m1\u001b[39;49m\u001b[43m]\u001b[49m\u001b[38;5;241m=\u001b[39m\u001b[38;5;241m33\u001b[39m\n",
      "\u001b[0;31mTypeError\u001b[0m: 'tuple' object does not support item assignment"
     ]
    }
   ],
   "source": [
    "t[1]=33 #tuples are immutable"
   ]
  },
  {
   "cell_type": "code",
   "execution_count": 52,
   "id": "c0670127-4b88-4b9d-ba50-de9726e8a14c",
   "metadata": {},
   "outputs": [],
   "source": [
    "t2 = ([44,55,2,5])"
   ]
  },
  {
   "cell_type": "code",
   "execution_count": 54,
   "id": "10349043-440a-4402-a873-9e1f0ad956cf",
   "metadata": {},
   "outputs": [
    {
     "data": {
      "text/plain": [
       "[44, 55, 2, 5]"
      ]
     },
     "execution_count": 54,
     "metadata": {},
     "output_type": "execute_result"
    }
   ],
   "source": [
    "t2"
   ]
  },
  {
   "cell_type": "code",
   "execution_count": 55,
   "id": "f37b78db-6597-42bf-8d97-b150a9c4c85b",
   "metadata": {},
   "outputs": [
    {
     "data": {
      "text/plain": [
       "list"
      ]
     },
     "execution_count": 55,
     "metadata": {},
     "output_type": "execute_result"
    }
   ],
   "source": [
    "type(t2)"
   ]
  },
  {
   "cell_type": "code",
   "execution_count": 56,
   "id": "7940210e-8df9-46f0-a984-2519951e10ed",
   "metadata": {},
   "outputs": [
    {
     "data": {
      "text/plain": [
       "(1, 3, 5, 'owais', 44.3)"
      ]
     },
     "execution_count": 56,
     "metadata": {},
     "output_type": "execute_result"
    }
   ],
   "source": [
    "t"
   ]
  },
  {
   "cell_type": "code",
   "execution_count": 57,
   "id": "7015e748-5da3-4ca2-877d-949e6c5bbc9d",
   "metadata": {},
   "outputs": [
    {
     "data": {
      "text/plain": [
       "(44.3, 'owais', 5, 3, 1)"
      ]
     },
     "execution_count": 57,
     "metadata": {},
     "output_type": "execute_result"
    }
   ],
   "source": [
    "t[::-1]"
   ]
  },
  {
   "cell_type": "code",
   "execution_count": 58,
   "id": "4724b605-14a9-44a8-a8a8-b5f90dc2426c",
   "metadata": {},
   "outputs": [
    {
     "data": {
      "text/plain": [
       "1"
      ]
     },
     "execution_count": 58,
     "metadata": {},
     "output_type": "execute_result"
    }
   ],
   "source": [
    "t.count(3)"
   ]
  },
  {
   "cell_type": "code",
   "execution_count": 59,
   "id": "7e6b068a-3a98-42f2-acf9-c45051cb3c5a",
   "metadata": {},
   "outputs": [
    {
     "data": {
      "text/plain": [
       "3"
      ]
     },
     "execution_count": 59,
     "metadata": {},
     "output_type": "execute_result"
    }
   ],
   "source": [
    "t.index('owais')"
   ]
  },
  {
   "cell_type": "markdown",
   "id": "acc17853-d0d6-455d-ad26-30fcfc4ce9c4",
   "metadata": {},
   "source": [
    "# Sets"
   ]
  },
  {
   "cell_type": "code",
   "execution_count": 60,
   "id": "e0ede63e-72e4-41da-8985-f35d95b5cb6e",
   "metadata": {},
   "outputs": [],
   "source": [
    "s = {}"
   ]
  },
  {
   "cell_type": "code",
   "execution_count": 61,
   "id": "656178e0-428d-4a20-940e-7a6f4bd1b438",
   "metadata": {},
   "outputs": [
    {
     "data": {
      "text/plain": [
       "dict"
      ]
     },
     "execution_count": 61,
     "metadata": {},
     "output_type": "execute_result"
    }
   ],
   "source": [
    "type(s)"
   ]
  },
  {
   "cell_type": "code",
   "execution_count": 62,
   "id": "68a35159-6c2b-460a-b829-52106553039f",
   "metadata": {},
   "outputs": [
    {
     "data": {
      "text/plain": [
       "{22, 35.4, 'that', 'this'}"
      ]
     },
     "execution_count": 62,
     "metadata": {},
     "output_type": "execute_result"
    }
   ],
   "source": [
    "s = {'this', 22, 'that', 35.4}\n",
    "s"
   ]
  },
  {
   "cell_type": "code",
   "execution_count": 63,
   "id": "209ddcda-09cc-4d4d-8a52-667502a4d8c1",
   "metadata": {},
   "outputs": [
    {
     "data": {
      "text/plain": [
       "set"
      ]
     },
     "execution_count": 63,
     "metadata": {},
     "output_type": "execute_result"
    }
   ],
   "source": [
    "type(s)"
   ]
  },
  {
   "cell_type": "code",
   "execution_count": 65,
   "id": "38e47e38-7719-493c-b5ed-4f92ff69a14d",
   "metadata": {},
   "outputs": [
    {
     "ename": "TypeError",
     "evalue": "'set' object is not subscriptable",
     "output_type": "error",
     "traceback": [
      "\u001b[0;31m---------------------------------------------------------------------------\u001b[0m",
      "\u001b[0;31mTypeError\u001b[0m                                 Traceback (most recent call last)",
      "Cell \u001b[0;32mIn[65], line 1\u001b[0m\n\u001b[0;32m----> 1\u001b[0m \u001b[43ms\u001b[49m\u001b[43m[\u001b[49m\u001b[38;5;241;43m2\u001b[39;49m\u001b[43m]\u001b[49m\n",
      "\u001b[0;31mTypeError\u001b[0m: 'set' object is not subscriptable"
     ]
    }
   ],
   "source": [
    "s[2]"
   ]
  },
  {
   "cell_type": "code",
   "execution_count": 66,
   "id": "ff5151cd-5cb1-4a2a-8310-5e615ac245ba",
   "metadata": {},
   "outputs": [
    {
     "data": {
      "text/plain": [
       "{22, 35.4, 'that', 'this'}"
      ]
     },
     "execution_count": 66,
     "metadata": {},
     "output_type": "execute_result"
    }
   ],
   "source": [
    "s"
   ]
  },
  {
   "cell_type": "code",
   "execution_count": 67,
   "id": "051bb836-dacb-4aac-bf32-18a6362e7708",
   "metadata": {},
   "outputs": [],
   "source": [
    "s.add(42)"
   ]
  },
  {
   "cell_type": "code",
   "execution_count": 68,
   "id": "85cf7bc5-19c0-4274-a3be-5b8f6e4a3362",
   "metadata": {},
   "outputs": [
    {
     "data": {
      "text/plain": [
       "{22, 35.4, 42, 'that', 'this'}"
      ]
     },
     "execution_count": 68,
     "metadata": {},
     "output_type": "execute_result"
    }
   ],
   "source": [
    "s"
   ]
  },
  {
   "cell_type": "code",
   "execution_count": 69,
   "id": "f2e80712-e070-43cc-8efe-7083e194d304",
   "metadata": {},
   "outputs": [
    {
     "data": {
      "text/plain": [
       "{22, 35.4, 42, 'that', 'this'}"
      ]
     },
     "execution_count": 69,
     "metadata": {},
     "output_type": "execute_result"
    }
   ],
   "source": [
    "s2 = s.copy()\n",
    "s2"
   ]
  },
  {
   "cell_type": "code",
   "execution_count": 70,
   "id": "3a541aa6-1b34-40fe-b93c-ba9d981e9ef6",
   "metadata": {},
   "outputs": [
    {
     "data": {
      "text/plain": [
       "{22, 35.4, 42, 'that', 'this'}"
      ]
     },
     "execution_count": 70,
     "metadata": {},
     "output_type": "execute_result"
    }
   ],
   "source": [
    "s"
   ]
  },
  {
   "cell_type": "code",
   "execution_count": 71,
   "id": "d65a59ee-59af-4c93-90d5-4f551e66dc3b",
   "metadata": {},
   "outputs": [
    {
     "data": {
      "text/plain": [
       "set()"
      ]
     },
     "execution_count": 71,
     "metadata": {},
     "output_type": "execute_result"
    }
   ],
   "source": [
    "s.clear()\n",
    "s"
   ]
  },
  {
   "cell_type": "code",
   "execution_count": 72,
   "id": "6e92dd28-f41f-461e-8a95-ffbc186c207b",
   "metadata": {},
   "outputs": [],
   "source": [
    "s3 = {22,11,55,44}"
   ]
  },
  {
   "cell_type": "code",
   "execution_count": 75,
   "id": "faa4db09-4773-43a0-b824-773bac5eec1e",
   "metadata": {},
   "outputs": [
    {
     "data": {
      "text/plain": [
       "{35.4, 42, 'that', 'this'}"
      ]
     },
     "execution_count": 75,
     "metadata": {},
     "output_type": "execute_result"
    }
   ],
   "source": [
    "s2.difference(s3) #returns a set that contains items that only exists in set s2 and not in set s3"
   ]
  },
  {
   "cell_type": "code",
   "execution_count": 76,
   "id": "db7e40a9-eda9-4c4c-ae99-f187543b5d2d",
   "metadata": {},
   "outputs": [
    {
     "data": {
      "text/plain": [
       "{22, 35.4, 42, 'that', 'this'}"
      ]
     },
     "execution_count": 76,
     "metadata": {},
     "output_type": "execute_result"
    }
   ],
   "source": [
    "s2"
   ]
  },
  {
   "cell_type": "code",
   "execution_count": 77,
   "id": "8a8cd571-d2eb-48e4-b2af-797ee7aa6e22",
   "metadata": {},
   "outputs": [
    {
     "data": {
      "text/plain": [
       "{35.4, 42, 'that', 'this'}"
      ]
     },
     "execution_count": 77,
     "metadata": {},
     "output_type": "execute_result"
    }
   ],
   "source": [
    "s2.difference_update(s3)\n",
    "s2"
   ]
  },
  {
   "cell_type": "code",
   "execution_count": 78,
   "id": "338e423e-4265-4613-b639-106b850f0e64",
   "metadata": {},
   "outputs": [
    {
     "data": {
      "text/plain": [
       "{35.4, 42, 'that', 'this'}"
      ]
     },
     "execution_count": 78,
     "metadata": {},
     "output_type": "execute_result"
    }
   ],
   "source": [
    "s2.discard(44)\n",
    "s2"
   ]
  },
  {
   "cell_type": "code",
   "execution_count": 79,
   "id": "abf052ed-d5e1-42ff-99a6-2e939e479b8b",
   "metadata": {},
   "outputs": [
    {
     "data": {
      "text/plain": [
       "{35.4, 'that', 'this'}"
      ]
     },
     "execution_count": 79,
     "metadata": {},
     "output_type": "execute_result"
    }
   ],
   "source": [
    "s2.discard(42)\n",
    "s2"
   ]
  },
  {
   "cell_type": "code",
   "execution_count": 80,
   "id": "5bfe5e6c-ff3d-44e5-aae2-d4359c1e2fbf",
   "metadata": {},
   "outputs": [
    {
     "data": {
      "text/plain": [
       "{11, 22, 35.4, 44, 55, 'that', 'this'}"
      ]
     },
     "execution_count": 80,
     "metadata": {},
     "output_type": "execute_result"
    }
   ],
   "source": [
    "s2.update(s3) #union\n",
    "s2"
   ]
  },
  {
   "cell_type": "code",
   "execution_count": 83,
   "id": "1a009991-6458-480e-a94c-2ab429ffbbe5",
   "metadata": {},
   "outputs": [
    {
     "data": {
      "text/plain": [
       "35.4"
      ]
     },
     "execution_count": 83,
     "metadata": {},
     "output_type": "execute_result"
    }
   ],
   "source": [
    "s2.pop()"
   ]
  },
  {
   "cell_type": "code",
   "execution_count": 84,
   "id": "f8feba6b-3ee8-45ae-8cc7-2a600b3834d6",
   "metadata": {},
   "outputs": [
    {
     "data": {
      "text/plain": [
       "'this'"
      ]
     },
     "execution_count": 84,
     "metadata": {},
     "output_type": "execute_result"
    }
   ],
   "source": [
    "s2.pop()"
   ]
  },
  {
   "cell_type": "code",
   "execution_count": 85,
   "id": "5a54027c-0fb5-4deb-ae2b-0875b2dabe7b",
   "metadata": {},
   "outputs": [
    {
     "data": {
      "text/plain": [
       "{11, 22, 35.4, 44, 55, 'that'}"
      ]
     },
     "execution_count": 85,
     "metadata": {},
     "output_type": "execute_result"
    }
   ],
   "source": [
    "s2.add(35.4)\n",
    "s2"
   ]
  },
  {
   "cell_type": "code",
   "execution_count": null,
   "id": "0a749b7e-7cac-47e1-b7da-5da6e87816f3",
   "metadata": {},
   "outputs": [],
   "source": []
  }
 ],
 "metadata": {
  "kernelspec": {
   "display_name": "Python 3 (ipykernel)",
   "language": "python",
   "name": "python3"
  },
  "language_info": {
   "codemirror_mode": {
    "name": "ipython",
    "version": 3
   },
   "file_extension": ".py",
   "mimetype": "text/x-python",
   "name": "python",
   "nbconvert_exporter": "python",
   "pygments_lexer": "ipython3",
   "version": "3.10.8"
  }
 },
 "nbformat": 4,
 "nbformat_minor": 5
}
