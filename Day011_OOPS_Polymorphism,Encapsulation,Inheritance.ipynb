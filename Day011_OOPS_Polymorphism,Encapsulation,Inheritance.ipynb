{
 "cells": [
  {
   "cell_type": "markdown",
   "id": "418ee329-d29a-4d90-bca8-076eab75ff95",
   "metadata": {},
   "source": [
    "# Polymorphism\n",
    "The behavior of a single entity can be different in different circumstances.\n",
    "\n",
    "Multiple behaviours of an entity in different circumstances"
   ]
  },
  {
   "cell_type": "code",
   "execution_count": 1,
   "id": "45c410c3-ebdc-4347-8cf6-086c8b0018a3",
   "metadata": {},
   "outputs": [],
   "source": [
    "def test(a,b):\n",
    "    return a+b"
   ]
  },
  {
   "cell_type": "code",
   "execution_count": 2,
   "id": "03af0bc0-18ca-4aeb-bbae-86b8c0943ca1",
   "metadata": {},
   "outputs": [
    {
     "data": {
      "text/plain": [
       "7"
      ]
     },
     "execution_count": 2,
     "metadata": {},
     "output_type": "execute_result"
    }
   ],
   "source": [
    "test(3,4)"
   ]
  },
  {
   "cell_type": "code",
   "execution_count": 3,
   "id": "57fbf848-6bb8-4023-bf2e-62aaf3db184d",
   "metadata": {},
   "outputs": [
    {
     "data": {
      "text/plain": [
       "'sudh kumar'"
      ]
     },
     "execution_count": 3,
     "metadata": {},
     "output_type": "execute_result"
    }
   ],
   "source": [
    "test('sudh ','kumar')"
   ]
  },
  {
   "cell_type": "code",
   "execution_count": 4,
   "id": "4d734363-9ef3-4670-a966-e560606772d2",
   "metadata": {},
   "outputs": [
    {
     "data": {
      "text/plain": [
       "[3, 4, 5, 6, 4, 5, 2, 3]"
      ]
     },
     "execution_count": 4,
     "metadata": {},
     "output_type": "execute_result"
    }
   ],
   "source": [
    "test([3,4,5,6],[4,5,2,3])"
   ]
  },
  {
   "cell_type": "markdown",
   "id": "a0ab62b1-6548-4d9b-9d60-a78d68cf561f",
   "metadata": {},
   "source": [
    "same function peforming different operations on different type of inputs. if inputs are integers, the function adds them. if the inputs are strings, the function concatenates them"
   ]
  },
  {
   "cell_type": "markdown",
   "id": "3562bb3e-653d-42b8-9fd5-b4339fef8918",
   "metadata": {},
   "source": [
    "## Polymorphism in classes"
   ]
  },
  {
   "cell_type": "code",
   "execution_count": 5,
   "id": "b174133a-17e5-46ef-96d6-30fe86caa567",
   "metadata": {},
   "outputs": [],
   "source": [
    "class data_sciences:\n",
    "    \n",
    "    def syllabus(self):\n",
    "        print(\"this is my syllabus for data science masters\")"
   ]
  },
  {
   "cell_type": "code",
   "execution_count": 6,
   "id": "b0b978a0-f376-4698-9d27-a9a72a8ac83d",
   "metadata": {},
   "outputs": [],
   "source": [
    "class web_dev:\n",
    "    \n",
    "    def syllabus(self):\n",
    "        print('this is my syllabus for web dev')"
   ]
  },
  {
   "cell_type": "code",
   "execution_count": 7,
   "id": "bd33cdbb-fdd4-45f3-9cc8-23c1f2978c1f",
   "metadata": {},
   "outputs": [],
   "source": [
    "def class_parser(class_obj):\n",
    "    for i in class_obj:\n",
    "        i.syllabus()"
   ]
  },
  {
   "cell_type": "code",
   "execution_count": 8,
   "id": "9f762337-49b6-460c-a27a-f9654125fc0b",
   "metadata": {},
   "outputs": [],
   "source": [
    "data_science = data_sciences()"
   ]
  },
  {
   "cell_type": "code",
   "execution_count": 9,
   "id": "80d8ce05-f0b0-49df-a0d5-3be2ce8b0866",
   "metadata": {},
   "outputs": [],
   "source": [
    "web_dev = web_dev()"
   ]
  },
  {
   "cell_type": "code",
   "execution_count": 10,
   "id": "76b16415-039d-4b1f-b072-698489b42d44",
   "metadata": {},
   "outputs": [],
   "source": [
    "class_obj = [data_science,web_dev]"
   ]
  },
  {
   "cell_type": "code",
   "execution_count": 11,
   "id": "bc4e8917-0f14-4335-9d40-76fbeb15df77",
   "metadata": {},
   "outputs": [
    {
     "name": "stdout",
     "output_type": "stream",
     "text": [
      "this is my syllabus for data science masters\n",
      "this is my syllabus for web dev\n"
     ]
    }
   ],
   "source": [
    "class_parser(class_obj)"
   ]
  },
  {
   "cell_type": "markdown",
   "id": "ca371bf9-e9be-419a-bd96-d7aa3f3406a0",
   "metadata": {},
   "source": [
    "class_parser function is calling two functions (one from each class) and both functions have different outputs. so the class_parser function is displaying different output for two different scenarios/classes. "
   ]
  },
  {
   "cell_type": "markdown",
   "id": "a4716934-fb6a-4c16-8aa1-7702d9dc43ab",
   "metadata": {},
   "source": [
    "# Encapsulation"
   ]
  },
  {
   "cell_type": "code",
   "execution_count": 12,
   "id": "e62f5e9a-fa1e-4bda-98d7-5cbe05f1ce90",
   "metadata": {},
   "outputs": [],
   "source": [
    "class test:\n",
    "    def __init__(self, a,b):\n",
    "        self.a = a\n",
    "        self.b = b"
   ]
  },
  {
   "cell_type": "code",
   "execution_count": 13,
   "id": "d7d64330-0148-4056-8b48-51a5cf8ab08e",
   "metadata": {},
   "outputs": [],
   "source": [
    "t = test(12,34)"
   ]
  },
  {
   "cell_type": "code",
   "execution_count": 14,
   "id": "05113b44-5712-4efd-ab07-7c321c1e9e7f",
   "metadata": {},
   "outputs": [],
   "source": [
    "t.a = 25234"
   ]
  },
  {
   "cell_type": "code",
   "execution_count": 15,
   "id": "451498b8-a538-4f16-8a57-faf7e9ee0405",
   "metadata": {},
   "outputs": [
    {
     "data": {
      "text/plain": [
       "25234"
      ]
     },
     "execution_count": 15,
     "metadata": {},
     "output_type": "execute_result"
    }
   ],
   "source": [
    "t.a"
   ]
  },
  {
   "cell_type": "markdown",
   "id": "746ba955-59db-4744-9f88-2060083b9539",
   "metadata": {},
   "source": [
    "changing the value of 'a' externally outside the class"
   ]
  },
  {
   "cell_type": "markdown",
   "id": "92bcfa58-612b-4f79-a3cc-175537e566f4",
   "metadata": {},
   "source": [
    "how to avoid changing the value of a class variable from outside the class. using encapsulation"
   ]
  },
  {
   "cell_type": "code",
   "execution_count": 16,
   "id": "41d27340-ed97-4f4c-8d93-4175b6dc8fde",
   "metadata": {},
   "outputs": [],
   "source": [
    "class car:\n",
    "    def __init__(self, year, make, model, speed):\n",
    "        self.__year = year #encapsulated variable\n",
    "        self.__make = make\n",
    "        self.__model = model\n",
    "        self.__speed = 0 # default value of speed will be 0 if not priveded by calss call"
   ]
  },
  {
   "cell_type": "code",
   "execution_count": 17,
   "id": "df2a27fb-795b-44a6-bf47-6d1d150734eb",
   "metadata": {},
   "outputs": [],
   "source": [
    "c = car(2022, 'toyota', 'innova', 12)"
   ]
  },
  {
   "cell_type": "code",
   "execution_count": 18,
   "id": "6eb28bf7-5083-4e42-9436-f16720cd642b",
   "metadata": {},
   "outputs": [
    {
     "ename": "AttributeError",
     "evalue": "'car' object has no attribute 'year'",
     "output_type": "error",
     "traceback": [
      "\u001b[0;31m---------------------------------------------------------------------------\u001b[0m",
      "\u001b[0;31mAttributeError\u001b[0m                            Traceback (most recent call last)",
      "Cell \u001b[0;32mIn[18], line 1\u001b[0m\n\u001b[0;32m----> 1\u001b[0m \u001b[43mc\u001b[49m\u001b[38;5;241;43m.\u001b[39;49m\u001b[43myear\u001b[49m \u001b[38;5;66;03m# can't access year variable\u001b[39;00m\n",
      "\u001b[0;31mAttributeError\u001b[0m: 'car' object has no attribute 'year'"
     ]
    }
   ],
   "source": [
    "c.year # can't access year variable"
   ]
  },
  {
   "cell_type": "code",
   "execution_count": 19,
   "id": "eed6c7fc-9174-45f3-be20-835d98b0be1d",
   "metadata": {},
   "outputs": [
    {
     "ename": "AttributeError",
     "evalue": "'car' object has no attribute '__year'",
     "output_type": "error",
     "traceback": [
      "\u001b[0;31m---------------------------------------------------------------------------\u001b[0m",
      "\u001b[0;31mAttributeError\u001b[0m                            Traceback (most recent call last)",
      "Cell \u001b[0;32mIn[19], line 1\u001b[0m\n\u001b[0;32m----> 1\u001b[0m \u001b[43mc\u001b[49m\u001b[38;5;241;43m.\u001b[39;49m\u001b[43m__year\u001b[49m \u001b[38;5;66;03m#can't access\u001b[39;00m\n",
      "\u001b[0;31mAttributeError\u001b[0m: 'car' object has no attribute '__year'"
     ]
    }
   ],
   "source": [
    "c.__year #can't access"
   ]
  },
  {
   "cell_type": "markdown",
   "id": "8ed1e88c-72d5-4f94-851d-d7aea39d15fd",
   "metadata": {},
   "source": [
    "the following is the only way to access private/encapsulated variable of a class"
   ]
  },
  {
   "cell_type": "code",
   "execution_count": 20,
   "id": "0ff78c5d-3796-4d63-957f-a8f2998ec84c",
   "metadata": {},
   "outputs": [
    {
     "data": {
      "text/plain": [
       "2022"
      ]
     },
     "execution_count": 20,
     "metadata": {},
     "output_type": "execute_result"
    }
   ],
   "source": [
    "c._car__year "
   ]
  },
  {
   "cell_type": "markdown",
   "id": "ad04743e-bdba-4591-9fca-2cdff7049297",
   "metadata": {},
   "source": [
    "now let's say we want to create a function that will let the user change/modify values of encapsulated variables"
   ]
  },
  {
   "cell_type": "code",
   "execution_count": 21,
   "id": "133a2475-5e06-432a-b54b-2ceb7e9b3d95",
   "metadata": {},
   "outputs": [],
   "source": [
    "class car:\n",
    "    def __init__(self, year, make, model, speed):\n",
    "        self.__year = year #encapsulated variable\n",
    "        self.__make = make\n",
    "        self.__model = model\n",
    "        self.__speed = 0 # default value of speed will be 0 if not priveded by calss call\n",
    "        \n",
    "    def set_speed(self,speed):\n",
    "        self.__speed = 0 if speed<0 else speed\n",
    "        \n",
    "    def get_speed(self):\n",
    "        return self.__speed"
   ]
  },
  {
   "cell_type": "code",
   "execution_count": 22,
   "id": "737806df-9497-4a78-bdf2-ca2e09b57220",
   "metadata": {},
   "outputs": [],
   "source": [
    "c = car(2022, 'toyota', 'innova', 12)"
   ]
  },
  {
   "cell_type": "code",
   "execution_count": 23,
   "id": "abe0cacd-b3d3-4b24-b6bf-1a69f2bf7995",
   "metadata": {},
   "outputs": [],
   "source": [
    "c.set_speed(112)"
   ]
  },
  {
   "cell_type": "code",
   "execution_count": 24,
   "id": "b78be4ba-c2e1-477d-b0db-3728fd941447",
   "metadata": {},
   "outputs": [
    {
     "data": {
      "text/plain": [
       "112"
      ]
     },
     "execution_count": 24,
     "metadata": {},
     "output_type": "execute_result"
    }
   ],
   "source": [
    "c.get_speed()"
   ]
  },
  {
   "cell_type": "code",
   "execution_count": 25,
   "id": "f7c32c91-bbca-4b30-9bac-96823b985a02",
   "metadata": {},
   "outputs": [],
   "source": [
    "class bank_account:\n",
    "    def __init__(self, balance):\n",
    "        self.__balance = balance\n",
    "        \n",
    "    def deposit(self, amount):\n",
    "        self.__balance = self.__balance+amount\n",
    "        \n",
    "    def withdraw(self, amount):\n",
    "        if self.__balance >=amount:\n",
    "            self.__balance = self.__balance-amount\n",
    "            return (\"Withdrawal successful\")\n",
    "        else:\n",
    "            print(\"Not enough balance in account\")\n",
    "            \n",
    "    def get_balance(self):\n",
    "        return self.__balance"
   ]
  },
  {
   "cell_type": "code",
   "execution_count": 26,
   "id": "bf5dbdf8-b46c-4b70-9082-e57a95cb172f",
   "metadata": {},
   "outputs": [],
   "source": [
    "sudh_acc=bank_account(1000)"
   ]
  },
  {
   "cell_type": "code",
   "execution_count": 27,
   "id": "c5c81e94-1571-4049-aa20-8ada0718515f",
   "metadata": {},
   "outputs": [
    {
     "data": {
      "text/plain": [
       "1000"
      ]
     },
     "execution_count": 27,
     "metadata": {},
     "output_type": "execute_result"
    }
   ],
   "source": [
    "sudh_acc.get_balance()"
   ]
  },
  {
   "cell_type": "code",
   "execution_count": 28,
   "id": "47fb4db0-dfff-4e23-9cf9-9581ce96db21",
   "metadata": {},
   "outputs": [],
   "source": [
    "sudh_acc.deposit(5000)"
   ]
  },
  {
   "cell_type": "code",
   "execution_count": 29,
   "id": "776f0a4c-1957-46ce-b7ab-a25e1871e948",
   "metadata": {},
   "outputs": [
    {
     "data": {
      "text/plain": [
       "6000"
      ]
     },
     "execution_count": 29,
     "metadata": {},
     "output_type": "execute_result"
    }
   ],
   "source": [
    "sudh_acc.get_balance()"
   ]
  },
  {
   "cell_type": "code",
   "execution_count": 30,
   "id": "6f130567-e293-4397-9301-d1743a8beaf7",
   "metadata": {},
   "outputs": [],
   "source": [
    "sudh_acc.deposit(1000)"
   ]
  },
  {
   "cell_type": "code",
   "execution_count": 31,
   "id": "8a27d9e5-2f9e-426a-a3e5-bfc193477194",
   "metadata": {},
   "outputs": [
    {
     "data": {
      "text/plain": [
       "7000"
      ]
     },
     "execution_count": 31,
     "metadata": {},
     "output_type": "execute_result"
    }
   ],
   "source": [
    "sudh_acc.get_balance()"
   ]
  },
  {
   "cell_type": "code",
   "execution_count": 32,
   "id": "83dcdae4-a216-4395-a7db-d76264af04c5",
   "metadata": {},
   "outputs": [
    {
     "name": "stdout",
     "output_type": "stream",
     "text": [
      "Not enough balance in account\n"
     ]
    }
   ],
   "source": [
    "sudh_acc.withdraw(8000)"
   ]
  },
  {
   "cell_type": "code",
   "execution_count": 33,
   "id": "b7f6b023-7ea3-49d9-a64a-e2249a17f7a1",
   "metadata": {},
   "outputs": [
    {
     "data": {
      "text/plain": [
       "'Withdrawal successful'"
      ]
     },
     "execution_count": 33,
     "metadata": {},
     "output_type": "execute_result"
    }
   ],
   "source": [
    "sudh_acc.withdraw(2000)"
   ]
  },
  {
   "cell_type": "code",
   "execution_count": 34,
   "id": "5b34b53c-267d-4716-a810-1fd064971e2b",
   "metadata": {},
   "outputs": [
    {
     "data": {
      "text/plain": [
       "5000"
      ]
     },
     "execution_count": 34,
     "metadata": {},
     "output_type": "execute_result"
    }
   ],
   "source": [
    "sudh_acc.get_balance()"
   ]
  },
  {
   "cell_type": "markdown",
   "id": "6f1b796f-7bb6-455e-b9e4-f88637944907",
   "metadata": {},
   "source": [
    "# Inheritance\n",
    "\n",
    "if we want to reuse same functions and variables of an already existing class in a new class. we do that by Inheriting the functions and variables from the existing class to new class"
   ]
  },
  {
   "cell_type": "code",
   "execution_count": 35,
   "id": "36784426-c9bf-43b6-91e1-43b407ab0b88",
   "metadata": {},
   "outputs": [],
   "source": [
    "class test:\n",
    "    def test_meth(self):\n",
    "        return 'this is my first class'"
   ]
  },
  {
   "cell_type": "code",
   "execution_count": 36,
   "id": "6d59bf64-7a8e-4865-b88b-5ad37f1d6c89",
   "metadata": {},
   "outputs": [],
   "source": [
    "class child_test(test):\n",
    "    pass"
   ]
  },
  {
   "cell_type": "code",
   "execution_count": 37,
   "id": "0a47ba79-c91e-4b72-bde9-f3641acc7bf0",
   "metadata": {},
   "outputs": [],
   "source": [
    "child_test = child_test()"
   ]
  },
  {
   "cell_type": "code",
   "execution_count": 38,
   "id": "c51f1239-db43-49d1-9ceb-6eb90039f455",
   "metadata": {},
   "outputs": [
    {
     "data": {
      "text/plain": [
       "'this is my first class'"
      ]
     },
     "execution_count": 38,
     "metadata": {},
     "output_type": "execute_result"
    }
   ],
   "source": [
    "child_test.test_meth()"
   ]
  },
  {
   "cell_type": "markdown",
   "id": "0426564b-f39f-4413-806c-0f252dba8f98",
   "metadata": {},
   "source": [
    "## Multilabel Inheritance"
   ]
  },
  {
   "cell_type": "code",
   "execution_count": 39,
   "id": "7fbd2288-a449-4719-9c2f-94884145a77a",
   "metadata": {},
   "outputs": [],
   "source": [
    "class class1:\n",
    "    def test_class1(self):\n",
    "        return 'This is a method from class test_class1'"
   ]
  },
  {
   "cell_type": "code",
   "execution_count": 40,
   "id": "b1a7977a-958d-46e3-8652-6d057564cb43",
   "metadata": {},
   "outputs": [],
   "source": [
    "class class2(class1):\n",
    "    def test_class2(self):\n",
    "        return 'This is a method from class test_class2'"
   ]
  },
  {
   "cell_type": "code",
   "execution_count": 41,
   "id": "72a2a685-09ef-4d17-b316-c01c283c0732",
   "metadata": {},
   "outputs": [],
   "source": [
    "class class3(class2):\n",
    "    pass"
   ]
  },
  {
   "cell_type": "code",
   "execution_count": 42,
   "id": "0088c891-aa02-4c7f-b105-23b7231627fe",
   "metadata": {},
   "outputs": [],
   "source": [
    "class3obj= class3()"
   ]
  },
  {
   "cell_type": "code",
   "execution_count": 47,
   "id": "55f5875c-a5aa-4837-bdcd-5f77fbefed99",
   "metadata": {},
   "outputs": [
    {
     "data": {
      "text/plain": [
       "'This is a method from class test_class1'"
      ]
     },
     "execution_count": 47,
     "metadata": {},
     "output_type": "execute_result"
    }
   ],
   "source": [
    "class3obj.test_class1()"
   ]
  },
  {
   "cell_type": "code",
   "execution_count": 48,
   "id": "d076108b-f952-4029-821f-ba37da2dd35c",
   "metadata": {},
   "outputs": [
    {
     "data": {
      "text/plain": [
       "'This is a method from class test_class2'"
      ]
     },
     "execution_count": 48,
     "metadata": {},
     "output_type": "execute_result"
    }
   ],
   "source": [
    "class3obj.test_class2()"
   ]
  },
  {
   "cell_type": "markdown",
   "id": "7f1f6ab4-9f44-43d3-a634-37b6e6249330",
   "metadata": {},
   "source": [
    "## Multiple Inheritance\n",
    "Inheriting properties of mulitple classes into a new single class"
   ]
  },
  {
   "cell_type": "code",
   "execution_count": 49,
   "id": "a93db36e-600d-420c-975d-042596bff8cf",
   "metadata": {},
   "outputs": [],
   "source": [
    "class class1:\n",
    "    def test_class1(self):\n",
    "        print(\"this is a class 1\")"
   ]
  },
  {
   "cell_type": "code",
   "execution_count": 50,
   "id": "48846c1d-d5f5-4112-9a8e-c3071de6ec65",
   "metadata": {},
   "outputs": [],
   "source": [
    "class class2:\n",
    "    def test_class2(self):\n",
    "        print('this is class 2')"
   ]
  },
  {
   "cell_type": "code",
   "execution_count": 51,
   "id": "c399f41e-a1bb-42f0-a8f5-a8626b35c14e",
   "metadata": {},
   "outputs": [],
   "source": [
    "class class3(class1,class2):\n",
    "    pass"
   ]
  },
  {
   "cell_type": "code",
   "execution_count": 52,
   "id": "639d231c-85d0-4670-9d1a-bc123d5844f6",
   "metadata": {},
   "outputs": [],
   "source": [
    "class3obj = class3()"
   ]
  },
  {
   "cell_type": "code",
   "execution_count": 53,
   "id": "20ca8a48-5883-41a9-803a-01e6c18fe0d1",
   "metadata": {},
   "outputs": [
    {
     "name": "stdout",
     "output_type": "stream",
     "text": [
      "this is a class 1\n"
     ]
    }
   ],
   "source": [
    "class3obj.test_class1()"
   ]
  },
  {
   "cell_type": "code",
   "execution_count": 54,
   "id": "507cc5c5-6ccd-4cc8-9ecc-ec5f6341c7a4",
   "metadata": {},
   "outputs": [
    {
     "name": "stdout",
     "output_type": "stream",
     "text": [
      "this is class 2\n"
     ]
    }
   ],
   "source": [
    "class3obj.test_class2()"
   ]
  },
  {
   "cell_type": "code",
   "execution_count": null,
   "id": "b71e4485-ecc2-4aa4-aa13-04a17d4cbf8d",
   "metadata": {},
   "outputs": [],
   "source": []
  }
 ],
 "metadata": {
  "kernelspec": {
   "display_name": "Python 3 (ipykernel)",
   "language": "python",
   "name": "python3"
  },
  "language_info": {
   "codemirror_mode": {
    "name": "ipython",
    "version": 3
   },
   "file_extension": ".py",
   "mimetype": "text/x-python",
   "name": "python",
   "nbconvert_exporter": "python",
   "pygments_lexer": "ipython3",
   "version": "3.10.8"
  }
 },
 "nbformat": 4,
 "nbformat_minor": 5
}
