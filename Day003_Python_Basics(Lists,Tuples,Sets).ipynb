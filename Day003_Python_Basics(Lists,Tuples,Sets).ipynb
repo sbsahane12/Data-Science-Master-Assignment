{
 "cells": [
  {
   "cell_type": "markdown",
   "id": "4340c368-d91d-4c50-a296-9f8e7c66d651",
   "metadata": {},
   "source": [
    "# Lists"
   ]
  },
  {
   "cell_type": "code",
   "execution_count": 17,
   "id": "2c84d3c9-7024-4c11-bf14-5e93a897a5f0",
   "metadata": {},
   "outputs": [],
   "source": [
    "l = [1,35,56,'sudh', True, 5+1j, 45.55]"
   ]
  },
  {
   "cell_type": "code",
   "execution_count": 2,
   "id": "43742511-252a-4bda-81c8-78f2986fdbeb",
   "metadata": {},
   "outputs": [
    {
     "data": {
      "text/plain": [
       "list"
      ]
     },
     "execution_count": 2,
     "metadata": {},
     "output_type": "execute_result"
    }
   ],
   "source": [
    "type(l)"
   ]
  },
  {
   "cell_type": "code",
   "execution_count": 4,
   "id": "de939d66-0f30-4aaa-ba8f-378371c98915",
   "metadata": {},
   "outputs": [
    {
     "data": {
      "text/plain": [
       "1"
      ]
     },
     "execution_count": 4,
     "metadata": {},
     "output_type": "execute_result"
    }
   ],
   "source": [
    "l[0]"
   ]
  },
  {
   "cell_type": "code",
   "execution_count": 5,
   "id": "5bc0d9ed-9dfb-4c88-987b-46f77f3db3f4",
   "metadata": {},
   "outputs": [
    {
     "data": {
      "text/plain": [
       "45.55"
      ]
     },
     "execution_count": 5,
     "metadata": {},
     "output_type": "execute_result"
    }
   ],
   "source": [
    "l[6]"
   ]
  },
  {
   "cell_type": "code",
   "execution_count": 6,
   "id": "e03de05f-aba3-4b61-958a-3029401cc4c9",
   "metadata": {},
   "outputs": [
    {
     "data": {
      "text/plain": [
       "'sudh'"
      ]
     },
     "execution_count": 6,
     "metadata": {},
     "output_type": "execute_result"
    }
   ],
   "source": [
    "l[3]"
   ]
  },
  {
   "cell_type": "code",
   "execution_count": 7,
   "id": "4dcb54b5-4a68-466f-bca8-26b07dad4367",
   "metadata": {},
   "outputs": [
    {
     "data": {
      "text/plain": [
       "[1, 35, 56]"
      ]
     },
     "execution_count": 7,
     "metadata": {},
     "output_type": "execute_result"
    }
   ],
   "source": [
    "l[0:3]"
   ]
  },
  {
   "cell_type": "code",
   "execution_count": 8,
   "id": "29f9f9af-1c13-4295-8a21-554dbf89ee36",
   "metadata": {},
   "outputs": [
    {
     "data": {
      "text/plain": [
       "45.55"
      ]
     },
     "execution_count": 8,
     "metadata": {},
     "output_type": "execute_result"
    }
   ],
   "source": [
    "l[-1]"
   ]
  },
  {
   "cell_type": "code",
   "execution_count": 9,
   "id": "ef32ab06-9767-436f-856b-25433f9aeabd",
   "metadata": {},
   "outputs": [
    {
     "data": {
      "text/plain": [
       "[45.55, (5+1j), True, 'sudh', 56, 35, 1]"
      ]
     },
     "execution_count": 9,
     "metadata": {},
     "output_type": "execute_result"
    }
   ],
   "source": [
    "l[::-1]"
   ]
  },
  {
   "cell_type": "code",
   "execution_count": 12,
   "id": "60764659-f1b9-4856-a277-e12ebe6e9e53",
   "metadata": {},
   "outputs": [
    {
     "data": {
      "text/plain": [
       "[1, 56, True, 45.55]"
      ]
     },
     "execution_count": 12,
     "metadata": {},
     "output_type": "execute_result"
    }
   ],
   "source": [
    "l[::2]"
   ]
  },
  {
   "cell_type": "code",
   "execution_count": 13,
   "id": "68edf71a-758a-4504-8ac0-ef2d4ab52f9a",
   "metadata": {},
   "outputs": [],
   "source": [
    "s = 'pwskills'"
   ]
  },
  {
   "cell_type": "code",
   "execution_count": 18,
   "id": "3381826a-13e6-43eb-85e0-35df0e2f1d83",
   "metadata": {},
   "outputs": [
    {
     "data": {
      "text/plain": [
       "['p',\n",
       " 'w',\n",
       " 's',\n",
       " 'k',\n",
       " 'i',\n",
       " 'l',\n",
       " 'l',\n",
       " 's',\n",
       " 1,\n",
       " 35,\n",
       " 56,\n",
       " 'sudh',\n",
       " True,\n",
       " (5+1j),\n",
       " 45.55]"
      ]
     },
     "execution_count": 18,
     "metadata": {},
     "output_type": "execute_result"
    }
   ],
   "source": [
    "list(s) + l"
   ]
  },
  {
   "cell_type": "code",
   "execution_count": 19,
   "id": "0a898f35-6890-4444-83ec-3196afe8e6c5",
   "metadata": {},
   "outputs": [
    {
     "data": {
      "text/plain": [
       "[1, 35, 56, 'sudh', True, (5+1j), 45.55]"
      ]
     },
     "execution_count": 19,
     "metadata": {},
     "output_type": "execute_result"
    }
   ],
   "source": [
    "l"
   ]
  },
  {
   "cell_type": "code",
   "execution_count": 20,
   "id": "9e268575-fca4-4ae0-91e5-9c14423cbcf2",
   "metadata": {},
   "outputs": [
    {
     "data": {
      "text/plain": [
       "'su'"
      ]
     },
     "execution_count": 20,
     "metadata": {},
     "output_type": "execute_result"
    }
   ],
   "source": [
    "l[3][0:2]"
   ]
  },
  {
   "cell_type": "code",
   "execution_count": 21,
   "id": "bd2378bd-e8fa-436c-993e-593fae418b42",
   "metadata": {},
   "outputs": [
    {
     "ename": "TypeError",
     "evalue": "'bool' object is not subscriptable",
     "output_type": "error",
     "traceback": [
      "\u001b[0;31m---------------------------------------------------------------------------\u001b[0m",
      "\u001b[0;31mTypeError\u001b[0m                                 Traceback (most recent call last)",
      "Cell \u001b[0;32mIn[21], line 1\u001b[0m\n\u001b[0;32m----> 1\u001b[0m \u001b[43ml\u001b[49m\u001b[43m[\u001b[49m\u001b[38;5;241;43m4\u001b[39;49m\u001b[43m]\u001b[49m\u001b[43m[\u001b[49m\u001b[38;5;241;43m0\u001b[39;49m\u001b[43m:\u001b[49m\u001b[38;5;241;43m2\u001b[39;49m\u001b[43m]\u001b[49m\n",
      "\u001b[0;31mTypeError\u001b[0m: 'bool' object is not subscriptable"
     ]
    }
   ],
   "source": [
    "l[4][0:2]"
   ]
  },
  {
   "cell_type": "code",
   "execution_count": 24,
   "id": "6c827be4-daf4-4d75-9caa-ab19e06c5c05",
   "metadata": {},
   "outputs": [
    {
     "data": {
      "text/plain": [
       "'Tr'"
      ]
     },
     "execution_count": 24,
     "metadata": {},
     "output_type": "execute_result"
    }
   ],
   "source": [
    "str(l[4])[0:2]"
   ]
  },
  {
   "cell_type": "code",
   "execution_count": 27,
   "id": "35040cc8-9677-4f6f-8349-2b4114cfa472",
   "metadata": {},
   "outputs": [
    {
     "data": {
      "text/plain": [
       "[1, 35, 56, 'sudh', True, (5+1j), 45.55, 3, 4, 5]"
      ]
     },
     "execution_count": 27,
     "metadata": {},
     "output_type": "execute_result"
    }
   ],
   "source": [
    "l_one= [3,4,5]\n",
    "l+l_one"
   ]
  },
  {
   "cell_type": "code",
   "execution_count": 28,
   "id": "49fc3624-1d31-42be-86ec-c72d02d93e19",
   "metadata": {},
   "outputs": [
    {
     "data": {
      "text/plain": [
       "[3, 4, 5, 3, 4, 5, 3, 4, 5]"
      ]
     },
     "execution_count": 28,
     "metadata": {},
     "output_type": "execute_result"
    }
   ],
   "source": [
    "l_one*3"
   ]
  },
  {
   "cell_type": "code",
   "execution_count": 29,
   "id": "45e5eb39-a7a0-4caa-abfa-530ddbb37c86",
   "metadata": {},
   "outputs": [
    {
     "data": {
      "text/plain": [
       "7"
      ]
     },
     "execution_count": 29,
     "metadata": {},
     "output_type": "execute_result"
    }
   ],
   "source": [
    "len(l)"
   ]
  },
  {
   "cell_type": "code",
   "execution_count": 30,
   "id": "45102ee3-ac36-4978-b91c-bbb808f47d48",
   "metadata": {},
   "outputs": [
    {
     "data": {
      "text/plain": [
       "[1, 35, 56, 'sudh', True, (5+1j), 45.55]"
      ]
     },
     "execution_count": 30,
     "metadata": {},
     "output_type": "execute_result"
    }
   ],
   "source": [
    "l"
   ]
  },
  {
   "cell_type": "code",
   "execution_count": 31,
   "id": "bbdbd748-8c17-4afa-9cc0-c6c017c48045",
   "metadata": {},
   "outputs": [
    {
     "data": {
      "text/plain": [
       "[1, 35, 56, 'sudh', True, (5+1j), 45.55, 5]"
      ]
     },
     "execution_count": 31,
     "metadata": {},
     "output_type": "execute_result"
    }
   ],
   "source": [
    "l.append(5)\n",
    "l"
   ]
  },
  {
   "cell_type": "code",
   "execution_count": 32,
   "id": "ec260ba7-6cd6-4cdc-a924-879c730b0ea6",
   "metadata": {},
   "outputs": [
    {
     "data": {
      "text/plain": [
       "'pwskills'"
      ]
     },
     "execution_count": 32,
     "metadata": {},
     "output_type": "execute_result"
    }
   ],
   "source": [
    "s"
   ]
  },
  {
   "cell_type": "code",
   "execution_count": 38,
   "id": "7318fe34-3d2f-4dcd-be6a-a284a9e2f02f",
   "metadata": {},
   "outputs": [],
   "source": [
    "l.append(s)"
   ]
  },
  {
   "cell_type": "code",
   "execution_count": 39,
   "id": "37dd1d7e-3481-4188-a972-2692587fd711",
   "metadata": {},
   "outputs": [
    {
     "data": {
      "text/plain": [
       "[1, 35, 56, 'sudh', True, (5+1j), 45.55, 5, 'pwskills']"
      ]
     },
     "execution_count": 39,
     "metadata": {},
     "output_type": "execute_result"
    }
   ],
   "source": [
    "l"
   ]
  },
  {
   "cell_type": "code",
   "execution_count": 40,
   "id": "8c011313-ed08-44d5-b5c6-7dca6072b296",
   "metadata": {},
   "outputs": [
    {
     "data": {
      "text/plain": [
       "[3, 4, 5]"
      ]
     },
     "execution_count": 40,
     "metadata": {},
     "output_type": "execute_result"
    }
   ],
   "source": [
    "l_one"
   ]
  },
  {
   "cell_type": "code",
   "execution_count": 41,
   "id": "b39d47de-bd3f-4111-a0e6-23c4618ef372",
   "metadata": {},
   "outputs": [],
   "source": [
    "l.append(l_one)"
   ]
  },
  {
   "cell_type": "code",
   "execution_count": 42,
   "id": "264e97d8-bcb5-475f-9e04-32aec2f14ea9",
   "metadata": {},
   "outputs": [
    {
     "data": {
      "text/plain": [
       "[1, 35, 56, 'sudh', True, (5+1j), 45.55, 5, 'pwskills', [3, 4, 5]]"
      ]
     },
     "execution_count": 42,
     "metadata": {},
     "output_type": "execute_result"
    }
   ],
   "source": [
    "l"
   ]
  },
  {
   "cell_type": "code",
   "execution_count": 45,
   "id": "75361613-22a5-4946-84fb-352d0ccdbfdd",
   "metadata": {},
   "outputs": [
    {
     "data": {
      "text/plain": [
       "[3, 4, 5]"
      ]
     },
     "execution_count": 45,
     "metadata": {},
     "output_type": "execute_result"
    }
   ],
   "source": [
    "l[-1]"
   ]
  },
  {
   "cell_type": "code",
   "execution_count": 44,
   "id": "5d2aeafb-a3ac-401d-8a05-32b701311dbd",
   "metadata": {},
   "outputs": [
    {
     "data": {
      "text/plain": [
       "4"
      ]
     },
     "execution_count": 44,
     "metadata": {},
     "output_type": "execute_result"
    }
   ],
   "source": [
    "l[-1][1]"
   ]
  },
  {
   "cell_type": "code",
   "execution_count": 46,
   "id": "61b8d64d-2c61-4896-99bd-f10ad7c67960",
   "metadata": {},
   "outputs": [
    {
     "ename": "TypeError",
     "evalue": "'int' object is not iterable",
     "output_type": "error",
     "traceback": [
      "\u001b[0;31m---------------------------------------------------------------------------\u001b[0m",
      "\u001b[0;31mTypeError\u001b[0m                                 Traceback (most recent call last)",
      "Cell \u001b[0;32mIn[46], line 1\u001b[0m\n\u001b[0;32m----> 1\u001b[0m \u001b[43ml\u001b[49m\u001b[38;5;241;43m.\u001b[39;49m\u001b[43mextend\u001b[49m\u001b[43m(\u001b[49m\u001b[38;5;241;43m4\u001b[39;49m\u001b[43m)\u001b[49m\n",
      "\u001b[0;31mTypeError\u001b[0m: 'int' object is not iterable"
     ]
    }
   ],
   "source": [
    "l.extend(4)"
   ]
  },
  {
   "cell_type": "code",
   "execution_count": 47,
   "id": "b0c06624-c6c6-4a10-b779-988da19cd3fd",
   "metadata": {},
   "outputs": [],
   "source": [
    "l.extend('Owais') #extend only take elements that are iterable"
   ]
  },
  {
   "cell_type": "code",
   "execution_count": 48,
   "id": "d195790a-e7a4-41b7-a874-b980b731447b",
   "metadata": {},
   "outputs": [
    {
     "data": {
      "text/plain": [
       "[1,\n",
       " 35,\n",
       " 56,\n",
       " 'sudh',\n",
       " True,\n",
       " (5+1j),\n",
       " 45.55,\n",
       " 5,\n",
       " 'pwskills',\n",
       " [3, 4, 5],\n",
       " 'O',\n",
       " 'w',\n",
       " 'a',\n",
       " 'i',\n",
       " 's']"
      ]
     },
     "execution_count": 48,
     "metadata": {},
     "output_type": "execute_result"
    }
   ],
   "source": [
    "l"
   ]
  },
  {
   "cell_type": "code",
   "execution_count": 49,
   "id": "8c216d36-45cf-4ae1-bbec-5cd2eeb5d0d9",
   "metadata": {},
   "outputs": [
    {
     "data": {
      "text/plain": [
       "[1,\n",
       " 35,\n",
       " 56,\n",
       " 'sudh',\n",
       " True,\n",
       " (5+1j),\n",
       " 45.55,\n",
       " 5,\n",
       " 'pwskills',\n",
       " [3, 4, 5],\n",
       " 'O',\n",
       " 'w',\n",
       " 'a',\n",
       " 'i',\n",
       " 's',\n",
       " 3,\n",
       " 4,\n",
       " 5]"
      ]
     },
     "execution_count": 49,
     "metadata": {},
     "output_type": "execute_result"
    }
   ],
   "source": [
    "l.extend([3,4,5])\n",
    "l"
   ]
  },
  {
   "cell_type": "code",
   "execution_count": 50,
   "id": "da3f53c6-fe59-4f31-a9d5-0703aed3ba85",
   "metadata": {},
   "outputs": [
    {
     "data": {
      "text/plain": [
       "[3, 4, 5]"
      ]
     },
     "execution_count": 50,
     "metadata": {},
     "output_type": "execute_result"
    }
   ],
   "source": [
    "l_one"
   ]
  },
  {
   "cell_type": "code",
   "execution_count": 52,
   "id": "8060c9c7-8d32-4910-865b-b73535f09bcf",
   "metadata": {},
   "outputs": [
    {
     "data": {
      "text/plain": [
       "[6, 3, 4, 5]"
      ]
     },
     "execution_count": 52,
     "metadata": {},
     "output_type": "execute_result"
    }
   ],
   "source": [
    "l_one.insert(0,6)\n",
    "l_one"
   ]
  },
  {
   "cell_type": "code",
   "execution_count": 51,
   "id": "30b54a7f-433e-44ea-bf7e-6db913b07e15",
   "metadata": {},
   "outputs": [
    {
     "data": {
      "text/plain": [
       "[5,\n",
       " 1,\n",
       " 35,\n",
       " 56,\n",
       " 'sudh',\n",
       " True,\n",
       " (5+1j),\n",
       " 45.55,\n",
       " 5,\n",
       " 'pwskills',\n",
       " [3, 4, 5],\n",
       " 'O',\n",
       " 'w',\n",
       " 'a',\n",
       " 'i',\n",
       " 's',\n",
       " 3,\n",
       " 4,\n",
       " 5]"
      ]
     },
     "execution_count": 51,
     "metadata": {},
     "output_type": "execute_result"
    }
   ],
   "source": [
    "l.insert(0,5)\n",
    "l"
   ]
  },
  {
   "cell_type": "code",
   "execution_count": 53,
   "id": "f7ae2ed3-a4bd-4de6-af48-fe9c259660b7",
   "metadata": {},
   "outputs": [
    {
     "data": {
      "text/plain": [
       "['Owais', 6, 3, 4, 5]"
      ]
     },
     "execution_count": 53,
     "metadata": {},
     "output_type": "execute_result"
    }
   ],
   "source": [
    "l_one.insert(0,'Owais')\n",
    "l_one"
   ]
  },
  {
   "cell_type": "code",
   "execution_count": 54,
   "id": "ffaebf96-7bb7-4ffc-8d1b-c19e968eb589",
   "metadata": {},
   "outputs": [
    {
     "data": {
      "text/plain": [
       "[[44, 66], 'Owais', 6, 3, 4, 5]"
      ]
     },
     "execution_count": 54,
     "metadata": {},
     "output_type": "execute_result"
    }
   ],
   "source": [
    "l_one.insert(0,[44,66])\n",
    "l_one"
   ]
  },
  {
   "cell_type": "code",
   "execution_count": 55,
   "id": "6222adca-5b4e-4448-85f0-833bd7f73659",
   "metadata": {},
   "outputs": [],
   "source": [
    "l_one.insert(-1,45)"
   ]
  },
  {
   "cell_type": "code",
   "execution_count": 56,
   "id": "1d9ab41a-17e6-4591-8d04-cb6797b18674",
   "metadata": {},
   "outputs": [
    {
     "data": {
      "text/plain": [
       "[[44, 66], 'Owais', 6, 3, 4, 45, 5]"
      ]
     },
     "execution_count": 56,
     "metadata": {},
     "output_type": "execute_result"
    }
   ],
   "source": [
    "l_one"
   ]
  },
  {
   "cell_type": "code",
   "execution_count": 57,
   "id": "2a07be7f-a871-4167-a40c-f44c1a6c5a83",
   "metadata": {},
   "outputs": [
    {
     "data": {
      "text/plain": [
       "[22, [44, 66], 'Owais', 6, 3, 4, 45, 5]"
      ]
     },
     "execution_count": 57,
     "metadata": {},
     "output_type": "execute_result"
    }
   ],
   "source": [
    "l_one.insert(-0,22)\n",
    "l_one"
   ]
  },
  {
   "cell_type": "code",
   "execution_count": 58,
   "id": "a59db244-118a-4e83-93e1-83512f30df99",
   "metadata": {},
   "outputs": [
    {
     "data": {
      "text/plain": [
       "5"
      ]
     },
     "execution_count": 58,
     "metadata": {},
     "output_type": "execute_result"
    }
   ],
   "source": [
    "l_one.pop()"
   ]
  },
  {
   "cell_type": "code",
   "execution_count": 59,
   "id": "8fa29d95-6db4-47f5-82fd-f4858ec82cee",
   "metadata": {},
   "outputs": [
    {
     "data": {
      "text/plain": [
       "[22, [44, 66], 'Owais', 6, 3, 4, 45]"
      ]
     },
     "execution_count": 59,
     "metadata": {},
     "output_type": "execute_result"
    }
   ],
   "source": [
    "l_one"
   ]
  },
  {
   "cell_type": "code",
   "execution_count": 60,
   "id": "183ead65-444f-431d-9a18-7390e885d822",
   "metadata": {},
   "outputs": [
    {
     "data": {
      "text/plain": [
       "[22, 'Owais', 6, 3, 4, 45]"
      ]
     },
     "execution_count": 60,
     "metadata": {},
     "output_type": "execute_result"
    }
   ],
   "source": [
    "l_one.pop(1)\n",
    "l_one"
   ]
  },
  {
   "cell_type": "code",
   "execution_count": 62,
   "id": "050f3ee1-d003-42eb-9327-a323eb5e1a73",
   "metadata": {},
   "outputs": [
    {
     "data": {
      "text/plain": [
       "[22, 'Owais', 6, 4, 45]"
      ]
     },
     "execution_count": 62,
     "metadata": {},
     "output_type": "execute_result"
    }
   ],
   "source": [
    "l_one.remove(3)\n",
    "l_one"
   ]
  },
  {
   "cell_type": "code",
   "execution_count": 63,
   "id": "9959f31e-c003-4c27-b3ac-f451d1a319db",
   "metadata": {},
   "outputs": [
    {
     "ename": "ValueError",
     "evalue": "list.remove(x): x not in list",
     "output_type": "error",
     "traceback": [
      "\u001b[0;31m---------------------------------------------------------------------------\u001b[0m",
      "\u001b[0;31mValueError\u001b[0m                                Traceback (most recent call last)",
      "Cell \u001b[0;32mIn[63], line 1\u001b[0m\n\u001b[0;32m----> 1\u001b[0m \u001b[43ml_one\u001b[49m\u001b[38;5;241;43m.\u001b[39;49m\u001b[43mremove\u001b[49m\u001b[43m(\u001b[49m\u001b[38;5;241;43m234\u001b[39;49m\u001b[43m)\u001b[49m\n",
      "\u001b[0;31mValueError\u001b[0m: list.remove(x): x not in list"
     ]
    }
   ],
   "source": [
    "l_one.remove(234)"
   ]
  },
  {
   "cell_type": "code",
   "execution_count": 64,
   "id": "c10635a3-9dc3-4318-a377-77673349e7e4",
   "metadata": {},
   "outputs": [
    {
     "data": {
      "text/plain": [
       "[22, 'Owais', 6, [4, 6, 'l'], 4, 45]"
      ]
     },
     "execution_count": 64,
     "metadata": {},
     "output_type": "execute_result"
    }
   ],
   "source": [
    "l_one.insert(3,[4,6,'l'])\n",
    "l_one"
   ]
  },
  {
   "cell_type": "code",
   "execution_count": 66,
   "id": "5a8f7167-addb-4e78-adea-165916f9ee9f",
   "metadata": {},
   "outputs": [
    {
     "data": {
      "text/plain": [
       "[22, 'Owais', 6, [4, 'l'], 4, 45]"
      ]
     },
     "execution_count": 66,
     "metadata": {},
     "output_type": "execute_result"
    }
   ],
   "source": [
    "l_one[3].remove(6)\n",
    "l_one"
   ]
  },
  {
   "cell_type": "code",
   "execution_count": 67,
   "id": "ab4a486f-5ca2-4cd3-bc60-a1f14f67cb78",
   "metadata": {},
   "outputs": [
    {
     "ename": "AttributeError",
     "evalue": "'str' object has no attribute 'remove'",
     "output_type": "error",
     "traceback": [
      "\u001b[0;31m---------------------------------------------------------------------------\u001b[0m",
      "\u001b[0;31mAttributeError\u001b[0m                            Traceback (most recent call last)",
      "Cell \u001b[0;32mIn[67], line 1\u001b[0m\n\u001b[0;32m----> 1\u001b[0m \u001b[43ml_one\u001b[49m\u001b[43m[\u001b[49m\u001b[38;5;241;43m1\u001b[39;49m\u001b[43m]\u001b[49m\u001b[38;5;241;43m.\u001b[39;49m\u001b[43mremove\u001b[49m(\u001b[38;5;124m'\u001b[39m\u001b[38;5;124mais\u001b[39m\u001b[38;5;124m'\u001b[39m)\n\u001b[1;32m      2\u001b[0m l_one\n",
      "\u001b[0;31mAttributeError\u001b[0m: 'str' object has no attribute 'remove'"
     ]
    }
   ],
   "source": [
    "l_one[1].remove('ais') #string is immutable\n",
    "l_one"
   ]
  },
  {
   "cell_type": "code",
   "execution_count": 68,
   "id": "d83ad3a3-83dc-4f56-8ffc-075f12049a46",
   "metadata": {},
   "outputs": [
    {
     "data": {
      "text/plain": [
       "[22, 'Owais', 6, [4, 'l'], 4, 45, 4]"
      ]
     },
     "execution_count": 68,
     "metadata": {},
     "output_type": "execute_result"
    }
   ],
   "source": [
    "l_one.append(4)\n",
    "l_one"
   ]
  },
  {
   "cell_type": "code",
   "execution_count": 69,
   "id": "be999d6b-f702-4d40-a22d-3fcc2a830cc1",
   "metadata": {},
   "outputs": [
    {
     "data": {
      "text/plain": [
       "[22, 'Owais', 6, [4, 'l'], 45, 4]"
      ]
     },
     "execution_count": 69,
     "metadata": {},
     "output_type": "execute_result"
    }
   ],
   "source": [
    "l_one.remove(4)\n",
    "l_one"
   ]
  },
  {
   "cell_type": "code",
   "execution_count": 71,
   "id": "5937302d-5371-46e9-ba5a-bae3eb5bf71f",
   "metadata": {},
   "outputs": [
    {
     "data": {
      "text/plain": [
       "[4, 45, [4, 'l'], 6, 'Owais', 22]"
      ]
     },
     "execution_count": 71,
     "metadata": {},
     "output_type": "execute_result"
    }
   ],
   "source": [
    "l_one[::-1] #this reverses the list but it only displays in output \n",
    "#but it doesn't reverse the l_one (list) variable"
   ]
  },
  {
   "cell_type": "code",
   "execution_count": 74,
   "id": "078c4de6-d40c-48c4-b0d1-0b9b3328aebc",
   "metadata": {},
   "outputs": [
    {
     "data": {
      "text/plain": [
       "[4, 45, [4, 'l'], 6, 'Owais', 22]"
      ]
     },
     "execution_count": 74,
     "metadata": {},
     "output_type": "execute_result"
    }
   ],
   "source": [
    "l_one.reverse() #this reverses the original list (variable)\n",
    "l_one"
   ]
  },
  {
   "cell_type": "code",
   "execution_count": 75,
   "id": "94abcaae-de63-47e1-aec4-7ff1e7d13daf",
   "metadata": {},
   "outputs": [
    {
     "ename": "TypeError",
     "evalue": "'<' not supported between instances of 'list' and 'int'",
     "output_type": "error",
     "traceback": [
      "\u001b[0;31m---------------------------------------------------------------------------\u001b[0m",
      "\u001b[0;31mTypeError\u001b[0m                                 Traceback (most recent call last)",
      "Cell \u001b[0;32mIn[75], line 1\u001b[0m\n\u001b[0;32m----> 1\u001b[0m \u001b[43ml_one\u001b[49m\u001b[38;5;241;43m.\u001b[39;49m\u001b[43msort\u001b[49m\u001b[43m(\u001b[49m\u001b[43m)\u001b[49m\n",
      "\u001b[0;31mTypeError\u001b[0m: '<' not supported between instances of 'list' and 'int'"
     ]
    }
   ],
   "source": [
    "l_one.sort()"
   ]
  },
  {
   "cell_type": "code",
   "execution_count": 77,
   "id": "c4010cca-d1dd-48fa-aedb-cb1266ff7a19",
   "metadata": {},
   "outputs": [
    {
     "data": {
      "text/plain": [
       "[3, 5, 2, 6, 1]"
      ]
     },
     "execution_count": 77,
     "metadata": {},
     "output_type": "execute_result"
    }
   ],
   "source": [
    "l_two = [3,5,2,6,1]\n",
    "l_two"
   ]
  },
  {
   "cell_type": "code",
   "execution_count": 78,
   "id": "8cb563e8-0bf0-4f50-9127-074217a03e52",
   "metadata": {},
   "outputs": [
    {
     "data": {
      "text/plain": [
       "[1, 2, 3, 5, 6]"
      ]
     },
     "execution_count": 78,
     "metadata": {},
     "output_type": "execute_result"
    }
   ],
   "source": [
    "l_two.sort()\n",
    "l_two"
   ]
  },
  {
   "cell_type": "code",
   "execution_count": 79,
   "id": "e372e45e-6549-4cff-875a-13ba498381ed",
   "metadata": {},
   "outputs": [
    {
     "data": {
      "text/plain": [
       "['this', 'that', 'and', 'band']"
      ]
     },
     "execution_count": 79,
     "metadata": {},
     "output_type": "execute_result"
    }
   ],
   "source": [
    "l_three=['this','that','and','band']\n",
    "l_three"
   ]
  },
  {
   "cell_type": "code",
   "execution_count": 80,
   "id": "1383861d-ed73-48c9-9324-84688ca8394c",
   "metadata": {},
   "outputs": [
    {
     "data": {
      "text/plain": [
       "['and', 'band', 'that', 'this']"
      ]
     },
     "execution_count": 80,
     "metadata": {},
     "output_type": "execute_result"
    }
   ],
   "source": [
    "l_three.sort()\n",
    "l_three"
   ]
  },
  {
   "cell_type": "code",
   "execution_count": 81,
   "id": "fb2dd7d5-1be2-4492-9770-02509f50acb8",
   "metadata": {},
   "outputs": [
    {
     "ename": "TypeError",
     "evalue": "'<' not supported between instances of 'str' and 'int'",
     "output_type": "error",
     "traceback": [
      "\u001b[0;31m---------------------------------------------------------------------------\u001b[0m",
      "\u001b[0;31mTypeError\u001b[0m                                 Traceback (most recent call last)",
      "Cell \u001b[0;32mIn[81], line 2\u001b[0m\n\u001b[1;32m      1\u001b[0m l_four \u001b[38;5;241m=\u001b[39m [\u001b[38;5;241m3\u001b[39m,\u001b[38;5;124m'\u001b[39m\u001b[38;5;124mas\u001b[39m\u001b[38;5;124m'\u001b[39m]\n\u001b[0;32m----> 2\u001b[0m \u001b[43ml_four\u001b[49m\u001b[38;5;241;43m.\u001b[39;49m\u001b[43msort\u001b[49m\u001b[43m(\u001b[49m\u001b[43m)\u001b[49m\n\u001b[1;32m      3\u001b[0m l_four\n",
      "\u001b[0;31mTypeError\u001b[0m: '<' not supported between instances of 'str' and 'int'"
     ]
    }
   ],
   "source": [
    "l_four = [3,'as']\n",
    "l_four.sort()\n",
    "l_four"
   ]
  },
  {
   "cell_type": "code",
   "execution_count": 82,
   "id": "38a3a9aa-5206-4f8c-a7bf-c82287a09273",
   "metadata": {},
   "outputs": [
    {
     "data": {
      "text/plain": [
       "['and', 'band', 'that', 'this']"
      ]
     },
     "execution_count": 82,
     "metadata": {},
     "output_type": "execute_result"
    }
   ],
   "source": [
    "l_three"
   ]
  },
  {
   "cell_type": "code",
   "execution_count": 83,
   "id": "0a77cfa0-2445-4c47-a4ad-113e03a77c6b",
   "metadata": {},
   "outputs": [
    {
     "data": {
      "text/plain": [
       "['this', 'that', 'band', 'and']"
      ]
     },
     "execution_count": 83,
     "metadata": {},
     "output_type": "execute_result"
    }
   ],
   "source": [
    "l_three.sort(reverse=True)\n",
    "l_three"
   ]
  },
  {
   "cell_type": "code",
   "execution_count": 84,
   "id": "aefe94fa-6459-4064-a65e-319c54e1f833",
   "metadata": {},
   "outputs": [
    {
     "data": {
      "text/plain": [
       "1"
      ]
     },
     "execution_count": 84,
     "metadata": {},
     "output_type": "execute_result"
    }
   ],
   "source": [
    "l_three.index('that')"
   ]
  },
  {
   "cell_type": "code",
   "execution_count": 85,
   "id": "42863468-461d-417c-93ba-ffd99b0ad299",
   "metadata": {},
   "outputs": [
    {
     "data": {
      "text/plain": [
       "['this', 'that', 'band', 'and', 'that']"
      ]
     },
     "execution_count": 85,
     "metadata": {},
     "output_type": "execute_result"
    }
   ],
   "source": [
    "l_three.append('that')\n",
    "l_three"
   ]
  },
  {
   "cell_type": "code",
   "execution_count": 86,
   "id": "af6cbbc0-57d0-4b6d-af8b-c055e14708ea",
   "metadata": {},
   "outputs": [
    {
     "data": {
      "text/plain": [
       "2"
      ]
     },
     "execution_count": 86,
     "metadata": {},
     "output_type": "execute_result"
    }
   ],
   "source": [
    "l_three.count('that')"
   ]
  },
  {
   "cell_type": "code",
   "execution_count": 87,
   "id": "4cb701de-1671-4143-9062-e85927e7ad5f",
   "metadata": {},
   "outputs": [],
   "source": [
    "s= 'Owais'\n",
    "l_five = [4,6,7]"
   ]
  },
  {
   "cell_type": "code",
   "execution_count": 88,
   "id": "cac1472a-7d30-43de-8827-db2268760d89",
   "metadata": {},
   "outputs": [
    {
     "ename": "TypeError",
     "evalue": "'str' object does not support item assignment",
     "output_type": "error",
     "traceback": [
      "\u001b[0;31m---------------------------------------------------------------------------\u001b[0m",
      "\u001b[0;31mTypeError\u001b[0m                                 Traceback (most recent call last)",
      "Cell \u001b[0;32mIn[88], line 1\u001b[0m\n\u001b[0;32m----> 1\u001b[0m \u001b[43ms\u001b[49m\u001b[43m[\u001b[49m\u001b[38;5;241;43m0\u001b[39;49m\u001b[43m]\u001b[49m\u001b[38;5;241m=\u001b[39m\u001b[38;5;124m'\u001b[39m\u001b[38;5;124ms\u001b[39m\u001b[38;5;124m'\u001b[39m\n",
      "\u001b[0;31mTypeError\u001b[0m: 'str' object does not support item assignment"
     ]
    }
   ],
   "source": [
    "s[0]='s'"
   ]
  },
  {
   "cell_type": "code",
   "execution_count": 89,
   "id": "b5c9420a-6e09-4bad-9ade-4c089bf01e9f",
   "metadata": {},
   "outputs": [
    {
     "data": {
      "text/plain": [
       "[30, 6, 7]"
      ]
     },
     "execution_count": 89,
     "metadata": {},
     "output_type": "execute_result"
    }
   ],
   "source": [
    "l_five[0]=30\n",
    "l_five"
   ]
  },
  {
   "cell_type": "code",
   "execution_count": 90,
   "id": "b8b6862f-4770-4974-b554-418880786bb5",
   "metadata": {},
   "outputs": [
    {
     "data": {
      "text/plain": [
       "'Swais'"
      ]
     },
     "execution_count": 90,
     "metadata": {},
     "output_type": "execute_result"
    }
   ],
   "source": [
    "s.replace('O','S')"
   ]
  },
  {
   "cell_type": "code",
   "execution_count": 91,
   "id": "18b51013-5da6-443d-8874-2df800d0f4cb",
   "metadata": {},
   "outputs": [
    {
     "data": {
      "text/plain": [
       "'Owais'"
      ]
     },
     "execution_count": 91,
     "metadata": {},
     "output_type": "execute_result"
    }
   ],
   "source": [
    "s"
   ]
  },
  {
   "cell_type": "markdown",
   "id": "d4e07d9e-c6d3-45d5-98e0-031c7fc20f7a",
   "metadata": {
    "tags": []
   },
   "source": [
    "# Tuples"
   ]
  },
  {
   "cell_type": "code",
   "execution_count": 92,
   "id": "f1cd9310-d87a-4e6f-bd6f-d617876c28ae",
   "metadata": {},
   "outputs": [
    {
     "data": {
      "text/plain": [
       "(1, 3, 5, 'sudh', 54.5, (4+4j))"
      ]
     },
     "execution_count": 92,
     "metadata": {},
     "output_type": "execute_result"
    }
   ],
   "source": [
    "t = (1,3,5,'sudh',54.5,4+4j)\n",
    "t"
   ]
  },
  {
   "cell_type": "code",
   "execution_count": 93,
   "id": "b0668b4d-ecf9-4b37-94d8-9eab95a330dd",
   "metadata": {},
   "outputs": [
    {
     "data": {
      "text/plain": [
       "tuple"
      ]
     },
     "execution_count": 93,
     "metadata": {},
     "output_type": "execute_result"
    }
   ],
   "source": [
    "type(t)"
   ]
  },
  {
   "cell_type": "code",
   "execution_count": 94,
   "id": "73c2347e-8af6-41dd-88f4-eb9ccafc2c02",
   "metadata": {},
   "outputs": [
    {
     "data": {
      "text/plain": [
       "6"
      ]
     },
     "execution_count": 94,
     "metadata": {},
     "output_type": "execute_result"
    }
   ],
   "source": [
    "len(t)"
   ]
  },
  {
   "cell_type": "code",
   "execution_count": 96,
   "id": "2467e8bb-238b-4e76-aa8c-97ed96eecac8",
   "metadata": {},
   "outputs": [
    {
     "data": {
      "text/plain": [
       "1"
      ]
     },
     "execution_count": 96,
     "metadata": {},
     "output_type": "execute_result"
    }
   ],
   "source": [
    "t[0]"
   ]
  },
  {
   "cell_type": "code",
   "execution_count": 97,
   "id": "704a0365-596b-4082-8299-e2c1f9d5c610",
   "metadata": {},
   "outputs": [
    {
     "data": {
      "text/plain": [
       "(4+4j)"
      ]
     },
     "execution_count": 97,
     "metadata": {},
     "output_type": "execute_result"
    }
   ],
   "source": [
    "t[-1]"
   ]
  },
  {
   "cell_type": "code",
   "execution_count": 98,
   "id": "c84b1fb7-29ba-4990-9721-625e45b428d1",
   "metadata": {},
   "outputs": [
    {
     "data": {
      "text/plain": [
       "((4+4j), 54.5, 'sudh', 5, 3, 1)"
      ]
     },
     "execution_count": 98,
     "metadata": {},
     "output_type": "execute_result"
    }
   ],
   "source": [
    "t[::-1]"
   ]
  },
  {
   "cell_type": "code",
   "execution_count": 102,
   "id": "1daaedfb-955f-44b7-a7db-b8e66b1a4257",
   "metadata": {},
   "outputs": [
    {
     "data": {
      "text/plain": [
       "(1, 3, 5, 'sudh', 54.5, (4+4j))"
      ]
     },
     "execution_count": 102,
     "metadata": {},
     "output_type": "execute_result"
    }
   ],
   "source": [
    "t"
   ]
  },
  {
   "cell_type": "code",
   "execution_count": 103,
   "id": "80d74823-ef07-4b2b-a65b-22f2f55541f7",
   "metadata": {},
   "outputs": [
    {
     "ename": "TypeError",
     "evalue": "'tuple' object does not support item assignment",
     "output_type": "error",
     "traceback": [
      "\u001b[0;31m---------------------------------------------------------------------------\u001b[0m",
      "\u001b[0;31mTypeError\u001b[0m                                 Traceback (most recent call last)",
      "Cell \u001b[0;32mIn[103], line 1\u001b[0m\n\u001b[0;32m----> 1\u001b[0m \u001b[43mt\u001b[49m\u001b[43m[\u001b[49m\u001b[38;5;241;43m4\u001b[39;49m\u001b[43m]\u001b[49m\u001b[38;5;241m=\u001b[39m\u001b[38;5;124m'\u001b[39m\u001b[38;5;124mowas\u001b[39m\u001b[38;5;124m'\u001b[39m\n",
      "\u001b[0;31mTypeError\u001b[0m: 'tuple' object does not support item assignment"
     ]
    }
   ],
   "source": [
    "t[4]='owas' #tuples are immutable"
   ]
  },
  {
   "cell_type": "code",
   "execution_count": 99,
   "id": "7602eb75-3dae-4079-a492-1d1eb98fb9ba",
   "metadata": {},
   "outputs": [
    {
     "data": {
      "text/plain": [
       "1"
      ]
     },
     "execution_count": 99,
     "metadata": {},
     "output_type": "execute_result"
    }
   ],
   "source": [
    "t.count(3)"
   ]
  },
  {
   "cell_type": "code",
   "execution_count": 101,
   "id": "1c5870f7-6b6a-43c3-9a0e-168ae07b2994",
   "metadata": {},
   "outputs": [
    {
     "data": {
      "text/plain": [
       "3"
      ]
     },
     "execution_count": 101,
     "metadata": {},
     "output_type": "execute_result"
    }
   ],
   "source": [
    "t.index('sudh')"
   ]
  },
  {
   "cell_type": "markdown",
   "id": "325befc3-3562-47c2-bb7a-134b5c600cc6",
   "metadata": {},
   "source": [
    "why use tuple?<br>\n",
    "in case of storing passwords, so that passoword cannot be changed, because tuple is immutable."
   ]
  },
  {
   "cell_type": "code",
   "execution_count": 105,
   "id": "a2df556c-7429-4338-886a-0c903bd6cdea",
   "metadata": {},
   "outputs": [
    {
     "data": {
      "text/plain": [
       "((4+4j), 54.5, 'sudh', 5, 3, 1)"
      ]
     },
     "execution_count": 105,
     "metadata": {},
     "output_type": "execute_result"
    }
   ],
   "source": [
    "t[::-1]"
   ]
  },
  {
   "cell_type": "code",
   "execution_count": 106,
   "id": "126b9394-bdd5-4e71-8606-86569bbb5e82",
   "metadata": {},
   "outputs": [
    {
     "data": {
      "text/plain": [
       "(1, 3, 5, 'sudh', 54.5, (4+4j))"
      ]
     },
     "execution_count": 106,
     "metadata": {},
     "output_type": "execute_result"
    }
   ],
   "source": [
    "t"
   ]
  },
  {
   "cell_type": "markdown",
   "id": "d5b29d4a-d935-4005-ad8d-4e025e779de3",
   "metadata": {},
   "source": [
    "# Sets"
   ]
  },
  {
   "cell_type": "code",
   "execution_count": 107,
   "id": "e8ca02dc-50eb-445c-9ebf-f5c5c8b39d95",
   "metadata": {},
   "outputs": [],
   "source": [
    "s_one = {}"
   ]
  },
  {
   "cell_type": "code",
   "execution_count": 108,
   "id": "22b131aa-8dbe-4f8a-b2de-16cb7c4b1091",
   "metadata": {},
   "outputs": [
    {
     "data": {
      "text/plain": [
       "dict"
      ]
     },
     "execution_count": 108,
     "metadata": {},
     "output_type": "execute_result"
    }
   ],
   "source": [
    "type(s_one)"
   ]
  },
  {
   "cell_type": "code",
   "execution_count": 109,
   "id": "9028da58-48ff-4849-b769-7965bc703d91",
   "metadata": {},
   "outputs": [],
   "source": [
    "s_two = {3,5,4,6}"
   ]
  },
  {
   "cell_type": "code",
   "execution_count": 110,
   "id": "fd39a4fd-0c38-442a-bc0e-0d31292a94bf",
   "metadata": {},
   "outputs": [
    {
     "data": {
      "text/plain": [
       "set"
      ]
     },
     "execution_count": 110,
     "metadata": {},
     "output_type": "execute_result"
    }
   ],
   "source": [
    "type(s_two)"
   ]
  },
  {
   "cell_type": "code",
   "execution_count": 112,
   "id": "f0611f3b-64e0-4639-9c1e-c47a54b08116",
   "metadata": {},
   "outputs": [],
   "source": [
    "s_three = {332,523,66.44,'sudh',5+4j, (4,3)}"
   ]
  },
  {
   "cell_type": "code",
   "execution_count": 113,
   "id": "a936c4f5-1a9f-4b82-80ee-8572ba4f7d80",
   "metadata": {},
   "outputs": [
    {
     "data": {
      "text/plain": [
       "{(4, 3), (5+4j), 332, 523, 66.44, 'sudh'}"
      ]
     },
     "execution_count": 113,
     "metadata": {},
     "output_type": "execute_result"
    }
   ],
   "source": [
    "s_three"
   ]
  },
  {
   "cell_type": "markdown",
   "id": "ec2ebba4-6d77-4831-9f71-99569590f0f7",
   "metadata": {},
   "source": [
    "why use sets? <br>\n",
    "to get only unique entries of a collection and ignore duplicated entries"
   ]
  },
  {
   "cell_type": "code",
   "execution_count": 116,
   "id": "72e7d0dc-a597-43a6-8345-2599321518ad",
   "metadata": {},
   "outputs": [],
   "source": [
    "s_four = {4,3,5,6,3,6,6,4,2,1,6,7,2,'sudh', 'Sudh'}"
   ]
  },
  {
   "cell_type": "code",
   "execution_count": 117,
   "id": "65f94d13-824a-4a29-89d9-84874fbcaa01",
   "metadata": {},
   "outputs": [
    {
     "data": {
      "text/plain": [
       "{1, 2, 3, 4, 5, 6, 7, 'Sudh', 'sudh'}"
      ]
     },
     "execution_count": 117,
     "metadata": {},
     "output_type": "execute_result"
    }
   ],
   "source": [
    "s_four"
   ]
  },
  {
   "cell_type": "code",
   "execution_count": 118,
   "id": "dfda8db4-4f1a-4c16-9616-556e502a0f04",
   "metadata": {},
   "outputs": [
    {
     "data": {
      "text/plain": [
       "[4, 2, 4, 25, 6, 2, 6, 6, 3, 2, 3, 4]"
      ]
     },
     "execution_count": 118,
     "metadata": {},
     "output_type": "execute_result"
    }
   ],
   "source": [
    "l_six = [4,2,4,25,6,2,6,6,3,2,3,4]\n",
    "l_six"
   ]
  },
  {
   "cell_type": "code",
   "execution_count": 119,
   "id": "739db02d-0d41-4f1d-ac4b-db8391f9cd27",
   "metadata": {},
   "outputs": [
    {
     "data": {
      "text/plain": [
       "{2, 3, 4, 6, 25}"
      ]
     },
     "execution_count": 119,
     "metadata": {},
     "output_type": "execute_result"
    }
   ],
   "source": [
    "l_six = set(l_six)\n",
    "l_six"
   ]
  },
  {
   "cell_type": "code",
   "execution_count": 121,
   "id": "26141702-ed27-454d-9002-4bb6f6900cdf",
   "metadata": {},
   "outputs": [
    {
     "data": {
      "text/plain": [
       "{2, 3, 44, 453, 5, 6, 632, 'sudh'}"
      ]
     },
     "execution_count": 121,
     "metadata": {},
     "output_type": "execute_result"
    }
   ],
   "source": [
    "s_five = {44,5,3,2,6,3,'sudh',453,632,6,6,2,5}\n",
    "s_five"
   ]
  },
  {
   "cell_type": "code",
   "execution_count": 125,
   "id": "e5c35212-1631-45d5-beb8-5c60872bb2b8",
   "metadata": {},
   "outputs": [
    {
     "ename": "TypeError",
     "evalue": "'set' object is not subscriptable",
     "output_type": "error",
     "traceback": [
      "\u001b[0;31m---------------------------------------------------------------------------\u001b[0m",
      "\u001b[0;31mTypeError\u001b[0m                                 Traceback (most recent call last)",
      "Cell \u001b[0;32mIn[125], line 2\u001b[0m\n\u001b[1;32m      1\u001b[0m \u001b[38;5;66;03m# in case of sets indexing and slicing won't work\u001b[39;00m\n\u001b[0;32m----> 2\u001b[0m \u001b[43ms_five\u001b[49m\u001b[43m[\u001b[49m\u001b[38;5;241;43m5\u001b[39;49m\u001b[43m]\u001b[49m\n",
      "\u001b[0;31mTypeError\u001b[0m: 'set' object is not subscriptable"
     ]
    }
   ],
   "source": [
    "# in case of sets indexing and slicing won't work\n",
    "s_five[5]"
   ]
  },
  {
   "cell_type": "code",
   "execution_count": 123,
   "id": "92206d90-abe9-4066-aa59-be775e458b54",
   "metadata": {},
   "outputs": [
    {
     "data": {
      "text/plain": [
       "{12, 2, 3, 44, 453, 5, 6, 632, 'sudh'}"
      ]
     },
     "execution_count": 123,
     "metadata": {},
     "output_type": "execute_result"
    }
   ],
   "source": [
    "s_five.add(12) #adds 12 to set if it is not already available\n",
    "s_five"
   ]
  },
  {
   "cell_type": "code",
   "execution_count": 124,
   "id": "0f4f2df1-eb3b-4667-bd84-da4802a7e98b",
   "metadata": {},
   "outputs": [
    {
     "data": {
      "text/plain": [
       "{12, 2, 3, 453, 5, 6, 632, 'sudh'}"
      ]
     },
     "execution_count": 124,
     "metadata": {},
     "output_type": "execute_result"
    }
   ],
   "source": [
    "s_five.remove(44)\n",
    "s_five"
   ]
  },
  {
   "cell_type": "code",
   "execution_count": null,
   "id": "1014787f-1d7b-48bc-9a7f-23f54687a3c8",
   "metadata": {},
   "outputs": [],
   "source": []
  }
 ],
 "metadata": {
  "kernelspec": {
   "display_name": "Python 3 (ipykernel)",
   "language": "python",
   "name": "python3"
  },
  "language_info": {
   "codemirror_mode": {
    "name": "ipython",
    "version": 3
   },
   "file_extension": ".py",
   "mimetype": "text/x-python",
   "name": "python",
   "nbconvert_exporter": "python",
   "pygments_lexer": "ipython3",
   "version": "3.10.8"
  }
 },
 "nbformat": 4,
 "nbformat_minor": 5
}
