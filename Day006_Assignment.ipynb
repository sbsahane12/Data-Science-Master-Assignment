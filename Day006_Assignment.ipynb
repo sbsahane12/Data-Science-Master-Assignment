{
 "cells": [
  {
   "cell_type": "markdown",
   "id": "8205c024-52b8-4ce1-8c4e-1518ab3da2f1",
   "metadata": {},
   "source": [
    "# Question No. 1:\n",
    "Which keyword is use to create a function? <br>\n",
    "Create a function to return a list of odd numbers in the range of 1 to 25."
   ]
  },
  {
   "cell_type": "markdown",
   "id": "5aa2352d-3f93-4076-b5f4-c012ee31eb72",
   "metadata": {},
   "source": [
    "## Answer\n",
    "The 'def' keyword is used to create a function in Python."
   ]
  },
  {
   "cell_type": "code",
   "execution_count": 3,
   "id": "748ae855-2c59-4719-b7cc-d19e7ed8d316",
   "metadata": {},
   "outputs": [
    {
     "name": "stdout",
     "output_type": "stream",
     "text": [
      "[1, 3, 5, 7, 9, 11, 13, 15, 17, 19, 21, 23, 25]\n"
     ]
    }
   ],
   "source": [
    "def odd_numbers():\n",
    "    '''\n",
    "    This function returns a list of odd numbers in the range 1 to 25 \n",
    "    '''\n",
    "    numbers_list=list(range(1,26))\n",
    "    resultant_list=[each_number for each_number in numbers_list if each_number%2==1]\n",
    "    return resultant_list\n",
    "\n",
    "print(odd_numbers())"
   ]
  },
  {
   "cell_type": "markdown",
   "id": "49376d36-f969-490a-b0eb-374f7e0c1982",
   "metadata": {},
   "source": [
    "# Question No. 2:\n",
    "Why args and kwargs are used in some functions? Create a function each for args and kwargs to demonstrate their use."
   ]
  },
  {
   "cell_type": "markdown",
   "id": "9fa2da46-f587-4cff-808b-61e41c1c8e35",
   "metadata": {},
   "source": [
    "## Answer\n",
    "args allows us to pass a variable number of non-keyword arguments to a Python function."
   ]
  },
  {
   "cell_type": "code",
   "execution_count": 4,
   "id": "accb9c4d-b3e4-4d28-9837-17ddc1ca8ca9",
   "metadata": {},
   "outputs": [
    {
     "name": "stdout",
     "output_type": "stream",
     "text": [
      "[9, 16, 25, 36]\n"
     ]
    }
   ],
   "source": [
    "def dem_args(*args):\n",
    "    '''\n",
    "    This function returns a list containing square of numbers\n",
    "    '''\n",
    "    result=[each_arg**2 for each_arg in args]\n",
    "    return result\n",
    "\n",
    "print(dem_args(3,4,5,6))"
   ]
  },
  {
   "cell_type": "markdown",
   "id": "e4aa56ba-6180-40c0-97d9-307eaf8c8328",
   "metadata": {},
   "source": [
    "kwargs allows us to pass a variable number of keyword arguments to a Python function."
   ]
  },
  {
   "cell_type": "code",
   "execution_count": 5,
   "id": "c02af825-0a05-4755-a98c-aa04d633efcd",
   "metadata": {},
   "outputs": [
    {
     "name": "stdout",
     "output_type": "stream",
     "text": [
      "{'name': 'owais', 'age': 27}\n"
     ]
    }
   ],
   "source": [
    "def dem_kwargs(**kwargs):\n",
    "    '''\n",
    "    This function returns a dictionary of input keyword arguments\n",
    "    '''\n",
    "    print(kwargs)\n",
    "\n",
    "dem_kwargs(name ='owais', age =27)"
   ]
  },
  {
   "cell_type": "markdown",
   "id": "94bd8185-7ea0-4faa-919f-338e73fc1d82",
   "metadata": {},
   "source": [
    "# Question No. 3:\n",
    "What is an iterator in python? Name the method used to initialise the iterator object and the method used for iteration.<br> Use these methods to print the first five elements of the given list [2,4,6,8,10,12,14,16,20]"
   ]
  },
  {
   "cell_type": "markdown",
   "id": "0dc95018-dd3e-4262-9c51-80623e8930d1",
   "metadata": {},
   "source": [
    "## Answer\n",
    "An iterator is an object that contains a countable number of values.<br>\n",
    "An iterator is an object that can be iterated upon, meaning that you can traverse through all the values.\n",
    "\n",
    "The method used to initialise an iterator is **iter()**, which is used to get an iterator"
   ]
  },
  {
   "cell_type": "code",
   "execution_count": 6,
   "id": "dfff72c2-8a57-454f-a7a8-679e07774a4f",
   "metadata": {},
   "outputs": [
    {
     "name": "stdout",
     "output_type": "stream",
     "text": [
      "2\n",
      "4\n",
      "6\n",
      "8\n",
      "10\n"
     ]
    }
   ],
   "source": [
    "given_list = [2,4,6,8,10,12,14,16,20]\n",
    "\n",
    "i=0\n",
    "myiter = iter(given_list)\n",
    "while i<+5:\n",
    "    print(next(myiter))\n",
    "    i+=1"
   ]
  },
  {
   "cell_type": "markdown",
   "id": "1a87ec88-c3b4-4468-a79d-ed1fa45a1d25",
   "metadata": {},
   "source": [
    "# Question No. 4:\n",
    "What is a generator function in python? Why yield is used? Give an example of a generator function."
   ]
  },
  {
   "cell_type": "markdown",
   "id": "52c86a06-953b-4581-8603-b6c1e3db11bd",
   "metadata": {},
   "source": [
    "## Answer\n",
    "In Python, a generator is a function that returns an iterator that produces a sequence of values when iterated over.\n",
    "\n",
    "yield keyword is used to create a generator function. A type of function that is memory efficient and can be used like an iterator object. In layman terms, the yield keyword will turn any expression that is given with it into a generator object and return it to the caller."
   ]
  },
  {
   "cell_type": "code",
   "execution_count": 7,
   "id": "34a6fb5f-0d1f-4580-9596-3310518b948c",
   "metadata": {},
   "outputs": [
    {
     "name": "stdout",
     "output_type": "stream",
     "text": [
      "5\n",
      "10\n",
      "15\n",
      "20\n",
      "25\n",
      "30\n",
      "35\n",
      "40\n",
      "45\n"
     ]
    }
   ],
   "source": [
    "def my_generator():\n",
    "    '''\n",
    "    This generator function yields multiples of 5 in the range 1 to 50\n",
    "    '''\n",
    "    total_nums=list(range(1,50))\n",
    "    for each_num in total_nums:\n",
    "        if each_num%5==0:\n",
    "            yield each_num\n",
    "\n",
    "for each_num in my_generator():\n",
    "    print(each_num)"
   ]
  },
  {
   "cell_type": "markdown",
   "id": "59aa8fd3-d6a5-4de8-aedd-f92a592779cd",
   "metadata": {},
   "source": [
    "# Question No.5:\n",
    "Create a generator function for prime numbers less than 1000.<br> Use the next() method to print the first 20 prime numbers."
   ]
  },
  {
   "cell_type": "code",
   "execution_count": 5,
   "id": "95317dd8-7413-4d8a-830e-95455ac7404a",
   "metadata": {},
   "outputs": [
    {
     "name": "stdout",
     "output_type": "stream",
     "text": [
      "2\n",
      "3\n",
      "5\n",
      "7\n",
      "11\n",
      "13\n",
      "17\n",
      "19\n",
      "23\n",
      "29\n",
      "31\n",
      "37\n",
      "41\n",
      "43\n",
      "47\n",
      "53\n",
      "59\n",
      "61\n",
      "67\n",
      "71\n"
     ]
    }
   ],
   "source": [
    "def prime_numbers():\n",
    "    '''\n",
    "    This generator function generates the first 20 prime numbers in the range 2 to 1000\n",
    "    '''\n",
    "    primes = []\n",
    "    for num in range(2, 1000):\n",
    "        for prime in primes:\n",
    "            if num % prime == 0:\n",
    "                break\n",
    "        else:\n",
    "            primes.append(num)\n",
    "            yield num\n",
    "\n",
    "# Print the first 20 prime numbers\n",
    "prime = prime_numbers()\n",
    "for i in range(1,21):\n",
    "    print(next(prime))"
   ]
  },
  {
   "cell_type": "markdown",
   "id": "81d530b4-9922-46a8-a2c3-01311ac0035a",
   "metadata": {},
   "source": [
    "# Question No. 6\n",
    "Write a python program to print the first 10 Fibonacci numbers using a while loop."
   ]
  },
  {
   "cell_type": "markdown",
   "id": "571ed2bf-e70f-4a40-b84b-c9baa0fb3b3e",
   "metadata": {},
   "source": [
    "## Answer"
   ]
  },
  {
   "cell_type": "code",
   "execution_count": 10,
   "id": "9b3ef21e-ea6e-4434-a5de-7d1f8421cc84",
   "metadata": {},
   "outputs": [
    {
     "name": "stdout",
     "output_type": "stream",
     "text": [
      "0\n",
      "1\n",
      "1\n",
      "2\n",
      "3\n",
      "5\n",
      "8\n",
      "13\n",
      "21\n",
      "34\n"
     ]
    }
   ],
   "source": [
    "a,b = 0,1\n",
    "\n",
    "for i in range(10):\n",
    "    print(a)\n",
    "    c = a+b\n",
    "    a = b\n",
    "    b = c\n",
    "    counter = counter+1"
   ]
  },
  {
   "cell_type": "markdown",
   "id": "cbae8d9d-10e1-4047-8713-b92d1abecb05",
   "metadata": {},
   "source": [
    "# Question No. 7\n",
    "Write a list comprehension to iterate through the given string: 'pwskills'. <br>\n",
    "Expected output: ['p','w','s','k','i','l','l','s']"
   ]
  },
  {
   "cell_type": "markdown",
   "id": "e647624b-9c6c-4b09-b8b4-8a3d3044bab9",
   "metadata": {},
   "source": [
    "## Answer"
   ]
  },
  {
   "cell_type": "code",
   "execution_count": 11,
   "id": "4652b06f-7e30-4bd8-8c08-8f8ae5b6281f",
   "metadata": {},
   "outputs": [
    {
     "name": "stdout",
     "output_type": "stream",
     "text": [
      "['p', 'w', 's', 'k', 'i', 'l', 'l', 's']\n"
     ]
    }
   ],
   "source": [
    "string = 'pwskills'\n",
    "\n",
    "result =[each_letter for each_letter in string]\n",
    "print(result)"
   ]
  },
  {
   "cell_type": "markdown",
   "id": "3d8f7557-6d9d-4c6d-b30d-05deba80a891",
   "metadata": {},
   "source": [
    "# Question No. 8\n",
    "Write a python program to check whether a given number is Palindrome or not using a while loop."
   ]
  },
  {
   "cell_type": "markdown",
   "id": "6d4202fe-4c59-45fe-ada7-916c5c85aa08",
   "metadata": {},
   "source": [
    "## Answer"
   ]
  },
  {
   "cell_type": "markdown",
   "id": "62cb95ac-4eef-4e00-99c4-692ab06c5e1d",
   "metadata": {},
   "source": [
    "### Using String Manipulation"
   ]
  },
  {
   "cell_type": "code",
   "execution_count": 12,
   "id": "13ac3e55-eb14-410a-94d7-8f9d22817dcc",
   "metadata": {},
   "outputs": [
    {
     "name": "stdout",
     "output_type": "stream",
     "text": [
      "Enter a number: 22\n",
      "Palindrome!\n"
     ]
    }
   ],
   "source": [
    "number = int(input('Enter a number: '))\n",
    "\n",
    "reversed_num = str(number)[::-1]\n",
    "if int(reversed_num) == number:\n",
    "    print('Palindrome!')\n",
    "else:\n",
    "    print('Not Palindrome!')\n"
   ]
  },
  {
   "cell_type": "markdown",
   "id": "76911732-a1fc-4124-83fa-24437cc24dfe",
   "metadata": {},
   "source": [
    "### Using While"
   ]
  },
  {
   "cell_type": "code",
   "execution_count": 13,
   "id": "d1876912-1d54-47ff-8257-49bb88c7efb3",
   "metadata": {},
   "outputs": [
    {
     "name": "stdout",
     "output_type": "stream",
     "text": [
      "Enter any number: 33\n",
      "Palindrome!\n"
     ]
    }
   ],
   "source": [
    "num=int(input('Enter any number: '))\n",
    "temp=num\n",
    "rev=0\n",
    "while(num>0):\n",
    "    dig=num%10\n",
    "    rev=rev*10+dig\n",
    "    num=num//10\n",
    "if(temp==rev):\n",
    "    print('Palindrome!')\n",
    "else:\n",
    "    print('Not a palindrome!')"
   ]
  },
  {
   "cell_type": "markdown",
   "id": "9574072c-02c3-4b24-819e-c23101dcb9c5",
   "metadata": {},
   "source": [
    "# Question No. 9:\n",
    "Write a code to print odd number from 1 to 100 using list comprehension.<br>\n",
    "*Use a list comprehension to create a list from 1 to 100 and use another list comprehension to filter out odd numbers.*"
   ]
  },
  {
   "cell_type": "markdown",
   "id": "7f300f0b-35db-488a-864d-52d28ea75d71",
   "metadata": {},
   "source": [
    "## Answer"
   ]
  },
  {
   "cell_type": "code",
   "execution_count": 14,
   "id": "c90f36d8-a96a-4602-ade5-387915012052",
   "metadata": {},
   "outputs": [
    {
     "name": "stdout",
     "output_type": "stream",
     "text": [
      "[1, 3, 5, 7, 9, 11, 13, 15, 17, 19, 21, 23, 25, 27, 29, 31, 33, 35, 37, 39, 41, 43, 45, 47, 49, 51, 53, 55, 57, 59, 61, 63, 65, 67, 69, 71, 73, 75, 77, 79, 81, 83, 85, 87, 89, 91, 93, 95, 97, 99]\n"
     ]
    }
   ],
   "source": [
    "numbers_list = [nums for nums in range(1,101)]\n",
    "odd_list = [each_num for each_num in numbers_list if each_num%2==1]\n",
    "print(odd_list)"
   ]
  }
 ],
 "metadata": {
  "kernelspec": {
   "display_name": "Python 3 (ipykernel)",
   "language": "python",
   "name": "python3"
  },
  "language_info": {
   "codemirror_mode": {
    "name": "ipython",
    "version": 3
   },
   "file_extension": ".py",
   "mimetype": "text/x-python",
   "name": "python",
   "nbconvert_exporter": "python",
   "pygments_lexer": "ipython3",
   "version": "3.10.8"
  }
 },
 "nbformat": 4,
 "nbformat_minor": 5
}
