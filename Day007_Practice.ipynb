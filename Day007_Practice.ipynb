{
 "cells": [
  {
   "cell_type": "markdown",
   "id": "e78c1887-65b1-432c-81a7-ef1ae9c02780",
   "metadata": {},
   "source": [
    "# Map Function Exercises\n",
    "**1:** Write a Python program to triple all numbers in a given list of integers. Use Python map."
   ]
  },
  {
   "cell_type": "code",
   "execution_count": 4,
   "id": "73e3a830-ab3a-4f08-9d89-c545ebb4a99e",
   "metadata": {},
   "outputs": [
    {
     "data": {
      "text/plain": [
       "[6, 12, 15, 18]"
      ]
     },
     "execution_count": 4,
     "metadata": {},
     "output_type": "execute_result"
    }
   ],
   "source": [
    "def trippler(numbers):\n",
    "    return numbers*3\n",
    "\n",
    "given_list = [2,4,5,6]\n",
    "list(map(trippler,given_list))"
   ]
  },
  {
   "cell_type": "markdown",
   "id": "7b334c35-f97a-459b-ab31-5d0773b6a1d2",
   "metadata": {},
   "source": [
    "**2:** Write a Python program to add three given lists using Python map and lambda"
   ]
  },
  {
   "cell_type": "code",
   "execution_count": 6,
   "id": "20959e5b-cc25-4ff5-94d4-546045ffc26d",
   "metadata": {},
   "outputs": [
    {
     "data": {
      "text/plain": [
       "[6, 8, 16, 13, 18]"
      ]
     },
     "execution_count": 6,
     "metadata": {},
     "output_type": "execute_result"
    }
   ],
   "source": [
    "given_list1=[1,2,4,5,6]\n",
    "given_list2=[4,2,5,6,6]\n",
    "given_list3=[1,4,7,2,6]\n",
    "\n",
    "list(map(lambda input_list1,input_list2,input_list3: input_list1+input_list2+input_list3, given_list1,given_list2,given_list3))"
   ]
  },
  {
   "cell_type": "markdown",
   "id": "740a891b-c05a-43f8-a7bf-bb5d6346eda2",
   "metadata": {},
   "source": [
    "**3:** Write a Python program to listify the list of given strings individually using Python map."
   ]
  },
  {
   "cell_type": "code",
   "execution_count": 20,
   "id": "003cc5f7-de95-43d1-825b-533e4a8a8315",
   "metadata": {},
   "outputs": [
    {
     "data": {
      "text/plain": [
       "[['R', 'e', 'd'],\n",
       " ['B', 'l', 'u', 'e'],\n",
       " ['B', 'l', 'a', 'c', 'k'],\n",
       " ['W', 'h', 'i', 't', 'e'],\n",
       " ['P', 'i', 'n', 'k']]"
      ]
     },
     "execution_count": 20,
     "metadata": {},
     "output_type": "execute_result"
    }
   ],
   "source": [
    "def listifier(str_list):\n",
    "    listified=[]\n",
    "    for each_element in str_list:\n",
    "        listified.append(each_element)   \n",
    "    return listified\n",
    "\n",
    "given_list=['Red', 'Blue', 'Black', 'White', 'Pink']\n",
    "\n",
    "list(map(listifier,given_list))"
   ]
  },
  {
   "cell_type": "markdown",
   "id": "5a98d14c-7b2d-4ddb-938a-12738be5b51d",
   "metadata": {},
   "source": [
    "**4:** Write a Python program to create a list containing the power of said number in bases raised to the corresponding number in the index using Python map "
   ]
  },
  {
   "cell_type": "code",
   "execution_count": 21,
   "id": "5846ef39-34cc-4626-b09d-34ebaa931e6c",
   "metadata": {},
   "outputs": [
    {
     "data": {
      "text/plain": [
       "[10,\n",
       " 400,\n",
       " 27000,\n",
       " 2560000,\n",
       " 312500000,\n",
       " 46656000000,\n",
       " 8235430000000,\n",
       " 1677721600000000,\n",
       " 387420489000000000,\n",
       " 100000000000000000000]"
      ]
     },
     "execution_count": 21,
     "metadata": {},
     "output_type": "execute_result"
    }
   ],
   "source": [
    "base_numbers=[10, 20, 30, 40, 50, 60, 70, 80, 90, 100]\n",
    "indeces = [1, 2, 3, 4, 5, 6, 7, 8, 9, 10]\n",
    "\n",
    "list(map(lambda base_numbers,indeces: base_numbers**indeces, base_numbers,indeces))"
   ]
  },
  {
   "cell_type": "code",
   "execution_count": 23,
   "id": "45557d3f-d148-4583-bad7-b98d24628670",
   "metadata": {},
   "outputs": [
    {
     "data": {
      "text/plain": [
       "[10,\n",
       " 400,\n",
       " 27000,\n",
       " 2560000,\n",
       " 312500000,\n",
       " 46656000000,\n",
       " 8235430000000,\n",
       " 1677721600000000,\n",
       " 387420489000000000,\n",
       " 100000000000000000000]"
      ]
     },
     "execution_count": 23,
     "metadata": {},
     "output_type": "execute_result"
    }
   ],
   "source": [
    "base_numbers=[10, 20, 30, 40, 50, 60, 70, 80, 90, 100]\n",
    "indeces = [1, 2, 3, 4, 5, 6, 7, 8, 9, 10]\n",
    "\n",
    "def power_multiplier(base_numbers, indeces):\n",
    "    return base_numbers**indeces\n",
    "\n",
    "list(map(power_multiplier,base_numbers,indeces))"
   ]
  },
  {
   "cell_type": "markdown",
   "id": "b49071ae-9952-495c-b3f2-3bb75cfd33f4",
   "metadata": {},
   "source": [
    "**5:** Write a Python program to square the elements of a list using the map() function."
   ]
  },
  {
   "cell_type": "code",
   "execution_count": 24,
   "id": "86bb34cd-2b0e-4a6c-9ccf-0198aefac9f6",
   "metadata": {},
   "outputs": [
    {
     "data": {
      "text/plain": [
       "[16, 25, 4, 81]"
      ]
     },
     "execution_count": 24,
     "metadata": {},
     "output_type": "execute_result"
    }
   ],
   "source": [
    "given_list = [4, 5, 2, 9]\n",
    "\n",
    "def squared_list(given_list):\n",
    "     return given_list**2\n",
    "    \n",
    "list(map(squared_list,given_list))"
   ]
  },
  {
   "cell_type": "code",
   "execution_count": 25,
   "id": "bc6d3816-114e-4c73-a05c-06d53c528b96",
   "metadata": {},
   "outputs": [
    {
     "data": {
      "text/plain": [
       "[16, 25, 4, 81]"
      ]
     },
     "execution_count": 25,
     "metadata": {},
     "output_type": "execute_result"
    }
   ],
   "source": [
    "given_list = [4, 5, 2, 9]\n",
    "\n",
    "list(map(lambda input_list: input_list**2, given_list))"
   ]
  },
  {
   "cell_type": "markdown",
   "id": "13e0e12f-0cdd-4a3b-b19e-5073c37c6cc7",
   "metadata": {},
   "source": [
    "**6:** Write a Python program to convert all the characters into uppercase and lowercase and eliminate duplicate letters from a given sequence. Use the map() function."
   ]
  },
  {
   "cell_type": "code",
   "execution_count": 28,
   "id": "132195d7-60e6-4e50-9c33-7f8755ad58b1",
   "metadata": {},
   "outputs": [
    {
     "data": {
      "text/plain": [
       "{('A', 'a'),\n",
       " ('B', 'b'),\n",
       " ('E', 'e'),\n",
       " ('F', 'f'),\n",
       " ('I', 'i'),\n",
       " ('O', 'o'),\n",
       " ('U', 'u')}"
      ]
     },
     "execution_count": 28,
     "metadata": {},
     "output_type": "execute_result"
    }
   ],
   "source": [
    "given_sequence = {'f', 'b', 'U', 'i', 'o', 'E', 'a'}\n",
    "\n",
    "def my_func(given_sequence):\n",
    "    return given_sequence.upper(),given_sequence.lower()\n",
    "set(map(my_func,given_sequence))"
   ]
  },
  {
   "cell_type": "markdown",
   "id": "d9e25b78-3973-4ed3-9ca9-146ca4fda12a",
   "metadata": {},
   "source": [
    "**8:** Write a Python program to add two given lists and find the difference between them. Use the map() function."
   ]
  },
  {
   "cell_type": "code",
   "execution_count": 29,
   "id": "a03ee401-8873-435b-91e2-ccb2648018e2",
   "metadata": {},
   "outputs": [
    {
     "data": {
      "text/plain": [
       "[(6, 6), (6, 4), (10, -4), (16, 2)]"
      ]
     },
     "execution_count": 29,
     "metadata": {},
     "output_type": "execute_result"
    }
   ],
   "source": [
    "given_list1 = [6, 5, 3, 9]\n",
    "given_list2 = [0, 1, 7, 7]\n",
    "\n",
    "def my_func(given_list1,given_list2):\n",
    "    return given_list1+given_list2, given_list1-given_list2\n",
    "\n",
    "list(map(my_func, given_list1,given_list2))"
   ]
  },
  {
   "cell_type": "markdown",
   "id": "514f8bbd-6d75-492a-bc71-6666d049a712",
   "metadata": {},
   "source": [
    "**9:** Write a Python program to convert a given list of integers and a tuple of integers in a list of strings"
   ]
  },
  {
   "cell_type": "code",
   "execution_count": 33,
   "id": "dee47ac6-41ff-49ee-8e2c-59d84f15164b",
   "metadata": {},
   "outputs": [
    {
     "name": "stdout",
     "output_type": "stream",
     "text": [
      "['6', '5', '3', '9']\n",
      "('5', '2', '5', '7')\n"
     ]
    }
   ],
   "source": [
    "given_list = [6, 5, 3, 9]\n",
    "given_tuple = (5, 2, 5, 7)\n",
    "\n",
    "def string_converter(given_sequence):\n",
    "    return str(given_sequence)\n",
    "\n",
    "list_strings = list(map(string_converter, given_list))\n",
    "tuple_strings = tuple(map(string_converter, given_tuple))\n",
    "\n",
    "print(list_strings)\n",
    "print(tuple_strings)"
   ]
  },
  {
   "cell_type": "markdown",
   "id": "29e4cf71-089f-4bbe-907b-6c5dffdf964f",
   "metadata": {},
   "source": [
    "**9:** Write a Python program to create a new list taking specific elements from a tuple and convert a string value to an integer."
   ]
  },
  {
   "cell_type": "code",
   "execution_count": 42,
   "id": "3026a24f-3223-41d3-87a6-3d1c9fc8eb8c",
   "metadata": {},
   "outputs": [
    {
     "name": "stdout",
     "output_type": "stream",
     "text": [
      "['Alberto Franco', 'Gino Mcneill', 'Ryan Parkes', 'Eesha Hinton']\n",
      "['15/05/2002', '17/05/2002', '16/02/1999', '25/09/1998']\n",
      "['35kg', '37kg', '39kg', '35kg']\n"
     ]
    }
   ],
   "source": [
    "given_list = [('Alberto Franco', '15/05/2002', '35kg'), ('Gino Mcneill', '17/05/2002', '37kg'), ('Ryan Parkes', '16/02/1999', '39kg'), ('Eesha Hinton', '25/09/1998', '35kg')]\n",
    "\n",
    "print(list(map(lambda element: element[0], given_list)))\n",
    "print(list(map(lambda element: element[1], given_list)))\n",
    "print(list(map(lambda element: element[2], given_list)))"
   ]
  },
  {
   "cell_type": "markdown",
   "id": "d6b0dc78-cc7e-47fb-a4ca-64f5cbe33372",
   "metadata": {},
   "source": [
    "# Filter Function Exercises\n",
    "**1:** Using filter() function filter the list so that only negative numbers are left."
   ]
  },
  {
   "cell_type": "code",
   "execution_count": 43,
   "id": "511b60bf-a929-4afa-965d-973cc34b8701",
   "metadata": {},
   "outputs": [
    {
     "data": {
      "text/plain": [
       "[-1, -0.5, -0.2, -100]"
      ]
     },
     "execution_count": 43,
     "metadata": {},
     "output_type": "execute_result"
    }
   ],
   "source": [
    "lst1=[12, -1, 9, 8, -0.5, -0.2, -100]\n",
    "\n",
    "def negs(given_list):\n",
    "    if given_list <0:\n",
    "        return given_list\n",
    "\n",
    "lst2 = list(filter(negs,lst1))\n",
    "lst2"
   ]
  },
  {
   "cell_type": "code",
   "execution_count": 44,
   "id": "11ba6523-4b85-40bb-984c-5dcdf929f32d",
   "metadata": {},
   "outputs": [
    {
     "data": {
      "text/plain": [
       "[-1, -0.5, -0.2, -100]"
      ]
     },
     "execution_count": 44,
     "metadata": {},
     "output_type": "execute_result"
    }
   ],
   "source": [
    "lst1=[12, -1, 9, 8, -0.5, -0.2, -100]\n",
    "lst2 = list(filter(lambda input_list: input_list<0, lst1))\n",
    "lst2"
   ]
  },
  {
   "cell_type": "markdown",
   "id": "bc509dd5-45cd-4299-9777-2802fc9435ae",
   "metadata": {},
   "source": [
    "**2:** Using filter function, filter the even numbers so that only odd numbers are passed to the new list."
   ]
  },
  {
   "cell_type": "code",
   "execution_count": 49,
   "id": "d755574f-ac77-405e-99af-06f78f130b83",
   "metadata": {},
   "outputs": [
    {
     "name": "stdout",
     "output_type": "stream",
     "text": [
      "[19, 13, 11, 1]\n"
     ]
    }
   ],
   "source": [
    "lst1=[22, 100, 19, 13, 11, 1, 4, 66]\n",
    "lst2=list(filter(lambda input_list: input_list%2==1, lst1))\n",
    "print(lst2)"
   ]
  },
  {
   "cell_type": "markdown",
   "id": "7dfcdef0-a878-46a2-a140-78944da6c786",
   "metadata": {},
   "source": [
    "**3:** Using filter() and list() functions and .lower() method filter all the vowels in a given string."
   ]
  },
  {
   "cell_type": "code",
   "execution_count": 52,
   "id": "02972d14-5441-413b-a7b7-074c6bd62a16",
   "metadata": {},
   "outputs": [
    {
     "name": "stdout",
     "output_type": "stream",
     "text": [
      "['i', 'e', 'O', 'i', 'i', 'i', 'a', 'e', 'a', 'e', 'i', 'e', 'i', 'i', 'i', 'a']\n"
     ]
    }
   ],
   "source": [
    "str1=\"Winter Olympics in 2022 will take place in Beijing China\"\n",
    "vowels = ['a','e','i','o','u']\n",
    "lst=list(filter(lambda input_str:input_str.lower() in vowels, str1))\n",
    "\n",
    "print(lst)"
   ]
  },
  {
   "cell_type": "markdown",
   "id": "327aa423-7053-476e-93f3-157beb39cd9f",
   "metadata": {},
   "source": [
    "**4:** This time using filter() and list() functions filter all the positive integers in the string."
   ]
  },
  {
   "cell_type": "code",
   "execution_count": 54,
   "id": "659d8659-6c7d-4776-b168-2100c62ba661",
   "metadata": {},
   "outputs": [
    {
     "name": "stdout",
     "output_type": "stream",
     "text": [
      "['2', '0', '2', '2']\n"
     ]
    }
   ],
   "source": [
    "str1=\"Winter Olympics in 2022 will take place in Beijing China\"\n",
    "#Type your answer here.\n",
    "\n",
    "lst=list(filter(lambda input_str: input_str.split() and input_str.isdigit(),str1))\n",
    "print(lst)"
   ]
  },
  {
   "cell_type": "markdown",
   "id": "67ad2da8-b2ef-4746-a90d-dd6f25f3e5e8",
   "metadata": {},
   "source": [
    "**5:** Using map() and filter() functions add 2000 to the values below 8000."
   ]
  },
  {
   "cell_type": "code",
   "execution_count": 57,
   "id": "f688b8c0-59d7-4790-b4e5-4ed3f4adb5d9",
   "metadata": {},
   "outputs": [
    {
     "name": "stdout",
     "output_type": "stream",
     "text": [
      "[3000, 2500, 2600, 2700, 7000]\n"
     ]
    }
   ],
   "source": [
    "lst1=[1000, 500, 600, 700, 5000, 90000, 17500]\n",
    "\n",
    "lst2 = list(map(lambda input_list: input_list+2000,filter(lambda input_list:input_list<8000,lst1)))\n",
    "print(lst2)"
   ]
  },
  {
   "cell_type": "markdown",
   "id": "629c7fc4-844d-4a89-9b80-363c9e83d13d",
   "metadata": {},
   "source": [
    "**6:** This time swap the map() and filter() functions so that map() function is inside filter() function. Convert a number to positive if it's negative in the list. Only pass those that are converted from negative to positive to the new list."
   ]
  },
  {
   "cell_type": "code",
   "execution_count": 1,
   "id": "0c72e453-647e-4728-abf1-bcc3cb828d6d",
   "metadata": {},
   "outputs": [
    {
     "name": "stdout",
     "output_type": "stream",
     "text": [
      "[1000, 600, 90000, 17500]\n"
     ]
    }
   ],
   "source": [
    "lst1=[-1000, 500, -600, 700, 5000, -90000, -17500]\n",
    "\n",
    "lst2=list(filter(lambda input_list:input_list>0, map(lambda input_list: input_list*-1,lst1)))\n",
    "\n",
    "print(lst2)"
   ]
  }
 ],
 "metadata": {
  "kernelspec": {
   "display_name": "Python 3 (ipykernel)",
   "language": "python",
   "name": "python3"
  },
  "language_info": {
   "codemirror_mode": {
    "name": "ipython",
    "version": 3
   },
   "file_extension": ".py",
   "mimetype": "text/x-python",
   "name": "python",
   "nbconvert_exporter": "python",
   "pygments_lexer": "ipython3",
   "version": "3.10.8"
  }
 },
 "nbformat": 4,
 "nbformat_minor": 5
}
