{
 "cells": [
  {
   "cell_type": "markdown",
   "id": "39dba050-7d3b-4288-9fde-08f242df23a4",
   "metadata": {},
   "source": [
    "# Dictionaries\n",
    "Key and Value pair"
   ]
  },
  {
   "cell_type": "code",
   "execution_count": 1,
   "id": "36244969-ea6b-4ff3-9877-7624dbf15431",
   "metadata": {},
   "outputs": [],
   "source": [
    "d = {}"
   ]
  },
  {
   "cell_type": "code",
   "execution_count": 2,
   "id": "ea55e578-6f0a-45c9-9c74-7cdde45749a6",
   "metadata": {},
   "outputs": [
    {
     "data": {
      "text/plain": [
       "dict"
      ]
     },
     "execution_count": 2,
     "metadata": {},
     "output_type": "execute_result"
    }
   ],
   "source": [
    "type(d)"
   ]
  },
  {
   "cell_type": "code",
   "execution_count": 6,
   "id": "a0cff19c-6b57-4a9e-9e0c-0b32fad01cd7",
   "metadata": {},
   "outputs": [],
   "source": [
    "d1 = {'name' : 'sudh' } #key should always be unique, if not then it will upldate"
   ]
  },
  {
   "cell_type": "code",
   "execution_count": 7,
   "id": "59b3a901-7d2e-410b-895c-8045c1ca0252",
   "metadata": {},
   "outputs": [
    {
     "data": {
      "text/plain": [
       "{'name': 'sudh'}"
      ]
     },
     "execution_count": 7,
     "metadata": {},
     "output_type": "execute_result"
    }
   ],
   "source": [
    "d1"
   ]
  },
  {
   "cell_type": "code",
   "execution_count": 9,
   "id": "c0b77734-e423-420b-bb7c-5664f3d59505",
   "metadata": {},
   "outputs": [],
   "source": [
    "d2 = {'name' : 'Owais', 'email' : 'oo_wais@hotmail.com', 'number' : 4516320}"
   ]
  },
  {
   "cell_type": "code",
   "execution_count": 10,
   "id": "e736bff8-2a64-4052-b3e0-11b57fd3b274",
   "metadata": {},
   "outputs": [
    {
     "data": {
      "text/plain": [
       "{'name': 'Owais', 'email': 'oo_wais@hotmail.com', 'number': 4516320}"
      ]
     },
     "execution_count": 10,
     "metadata": {},
     "output_type": "execute_result"
    }
   ],
   "source": [
    "d2"
   ]
  },
  {
   "cell_type": "code",
   "execution_count": 14,
   "id": "ea9ee201-1461-41c6-b5c9-2f6fefa69c39",
   "metadata": {},
   "outputs": [],
   "source": [
    "d3 = {234 : 'sudh'}"
   ]
  },
  {
   "cell_type": "code",
   "execution_count": 12,
   "id": "e4657505-90bf-4403-a8c6-2252c2e161b2",
   "metadata": {},
   "outputs": [
    {
     "data": {
      "text/plain": [
       "{234: 'sudh'}"
      ]
     },
     "execution_count": 12,
     "metadata": {},
     "output_type": "execute_result"
    }
   ],
   "source": [
    "d3"
   ]
  },
  {
   "cell_type": "code",
   "execution_count": 15,
   "id": "15c3d3e6-e02f-43d1-8154-447b0f6b6707",
   "metadata": {},
   "outputs": [
    {
     "ename": "NameError",
     "evalue": "name '_usr' is not defined",
     "output_type": "error",
     "traceback": [
      "\u001b[0;31m---------------------------------------------------------------------------\u001b[0m",
      "\u001b[0;31mNameError\u001b[0m                                 Traceback (most recent call last)",
      "Cell \u001b[0;32mIn[15], line 1\u001b[0m\n\u001b[0;32m----> 1\u001b[0m d4 \u001b[38;5;241m=\u001b[39m {\u001b[38;5;241m234\u001b[39m : \u001b[38;5;124m'\u001b[39m\u001b[38;5;124msudh\u001b[39m\u001b[38;5;124m'\u001b[39m, \u001b[43m_usr\u001b[49m: \u001b[38;5;124m'\u001b[39m\u001b[38;5;124msomething\u001b[39m\u001b[38;5;124m'\u001b[39m}\n",
      "\u001b[0;31mNameError\u001b[0m: name '_usr' is not defined"
     ]
    }
   ],
   "source": [
    "d4 = {234 : 'sudh', _usr: 'something'}"
   ]
  },
  {
   "cell_type": "code",
   "execution_count": 16,
   "id": "9b402ddb-506a-48e0-bfe0-207c66b5450f",
   "metadata": {},
   "outputs": [
    {
     "ename": "SyntaxError",
     "evalue": "invalid syntax (2094328242.py, line 1)",
     "output_type": "error",
     "traceback": [
      "\u001b[0;36m  Cell \u001b[0;32mIn[16], line 1\u001b[0;36m\u001b[0m\n\u001b[0;31m    d4 = {234 : 'sudh', @usr: 'something'}\u001b[0m\n\u001b[0m                        ^\u001b[0m\n\u001b[0;31mSyntaxError\u001b[0m\u001b[0;31m:\u001b[0m invalid syntax\n"
     ]
    }
   ],
   "source": [
    "d4 = {234 : 'sudh', @usr: 'something'}"
   ]
  },
  {
   "cell_type": "code",
   "execution_count": 19,
   "id": "272df5e7-9a29-46bf-bce9-e0f65e6f5dc4",
   "metadata": {},
   "outputs": [],
   "source": [
    "d4 = {234 : 'sudh', True: 'something', 'name': 'Owais'}"
   ]
  },
  {
   "cell_type": "code",
   "execution_count": 20,
   "id": "15cbd830-1434-460f-a05a-1adef9a17b86",
   "metadata": {},
   "outputs": [
    {
     "data": {
      "text/plain": [
       "{234: 'sudh', True: 'something', 'name': 'Owais'}"
      ]
     },
     "execution_count": 20,
     "metadata": {},
     "output_type": "execute_result"
    }
   ],
   "source": [
    "d4"
   ]
  },
  {
   "cell_type": "code",
   "execution_count": 22,
   "id": "a8ab6ca3-00cc-4567-a1c5-5f2d82f19bad",
   "metadata": {},
   "outputs": [
    {
     "data": {
      "text/plain": [
       "'sudh'"
      ]
     },
     "execution_count": 22,
     "metadata": {},
     "output_type": "execute_result"
    }
   ],
   "source": [
    "d4[234] #access values of dict via keys"
   ]
  },
  {
   "cell_type": "code",
   "execution_count": 23,
   "id": "12f90886-996b-4c08-a1d2-1192c93daf1b",
   "metadata": {},
   "outputs": [
    {
     "data": {
      "text/plain": [
       "'something'"
      ]
     },
     "execution_count": 23,
     "metadata": {},
     "output_type": "execute_result"
    }
   ],
   "source": [
    "d4[True]"
   ]
  },
  {
   "cell_type": "code",
   "execution_count": 25,
   "id": "20cb792b-15b4-443f-abe5-634ed3f8c087",
   "metadata": {},
   "outputs": [
    {
     "data": {
      "text/plain": [
       "'something'"
      ]
     },
     "execution_count": 25,
     "metadata": {},
     "output_type": "execute_result"
    }
   ],
   "source": [
    "d4[1] #True is also stored as 1 so d4[1] means d4[True]"
   ]
  },
  {
   "cell_type": "code",
   "execution_count": 28,
   "id": "31896afa-37a8-4e13-b4e9-7cfb71d42baa",
   "metadata": {},
   "outputs": [],
   "source": [
    "d4 = {'name': 'sudh', 'mail' : 'faesfa@gmail.com', 'name': 'sudhanshu'}"
   ]
  },
  {
   "cell_type": "code",
   "execution_count": 29,
   "id": "1b4fe411-9f89-49bb-abee-ce916505226f",
   "metadata": {},
   "outputs": [
    {
     "data": {
      "text/plain": [
       "'sudhanshu'"
      ]
     },
     "execution_count": 29,
     "metadata": {},
     "output_type": "execute_result"
    }
   ],
   "source": [
    "d4['name'] #key 'name' is overwritten by its new value 'sudhanshu'"
   ]
  },
  {
   "cell_type": "code",
   "execution_count": 30,
   "id": "97ba70ee-7a43-4d06-8895-92737f0e9aa5",
   "metadata": {},
   "outputs": [],
   "source": [
    "d5 = {'company' : 'pwskills', 'courses' : ['dev','ds', 'java', 'system design']}"
   ]
  },
  {
   "cell_type": "code",
   "execution_count": 31,
   "id": "05eee052-fdc7-4953-9ce7-1cf9141a1b62",
   "metadata": {},
   "outputs": [
    {
     "data": {
      "text/plain": [
       "'dev'"
      ]
     },
     "execution_count": 31,
     "metadata": {},
     "output_type": "execute_result"
    }
   ],
   "source": [
    "d5['courses'][0] #accesing a vlaue of list inside a dict"
   ]
  },
  {
   "cell_type": "code",
   "execution_count": 33,
   "id": "6d8b4407-1957-4097-8a46-0233a76a29e5",
   "metadata": {},
   "outputs": [],
   "source": [
    "d6 = {'number' : [2,3,52,6,4], 'assignments' : (1,2,3,4,5,6), 'launch_date' : {28,12,14}, 'class_time': {'web_dev': 8, 'ds': 8, 'java': 7}}"
   ]
  },
  {
   "cell_type": "code",
   "execution_count": 34,
   "id": "ab20086a-c8f1-472d-8cd5-518b96feeca7",
   "metadata": {},
   "outputs": [
    {
     "data": {
      "text/plain": [
       "{'number': [2, 3, 52, 6, 4],\n",
       " 'assignments': (1, 2, 3, 4, 5, 6),\n",
       " 'launch_date': {12, 14, 28},\n",
       " 'class_time': {'web_dev': 8, 'ds': 8, 'java': 7}}"
      ]
     },
     "execution_count": 34,
     "metadata": {},
     "output_type": "execute_result"
    }
   ],
   "source": [
    "d6"
   ]
  },
  {
   "cell_type": "code",
   "execution_count": 35,
   "id": "1b13aaa7-5e7d-470a-9399-a3e7a7efcf10",
   "metadata": {},
   "outputs": [
    {
     "data": {
      "text/plain": [
       "7"
      ]
     },
     "execution_count": 35,
     "metadata": {},
     "output_type": "execute_result"
    }
   ],
   "source": [
    "d6['class_time']['java']"
   ]
  },
  {
   "cell_type": "code",
   "execution_count": 36,
   "id": "4f298748-4259-4b20-b1ad-77304dcb5b5d",
   "metadata": {},
   "outputs": [],
   "source": [
    "d6['mentor'] = ['sudhanshu', 'krish', 'anurag','haider']"
   ]
  },
  {
   "cell_type": "code",
   "execution_count": 37,
   "id": "e50e18fa-8823-4a1f-9ed0-88ed2eee4467",
   "metadata": {},
   "outputs": [
    {
     "data": {
      "text/plain": [
       "{'number': [2, 3, 52, 6, 4],\n",
       " 'assignments': (1, 2, 3, 4, 5, 6),\n",
       " 'launch_date': {12, 14, 28},\n",
       " 'class_time': {'web_dev': 8, 'ds': 8, 'java': 7},\n",
       " 'mentor': ['sudhanshu', 'krish', 'anurag', 'haider']}"
      ]
     },
     "execution_count": 37,
     "metadata": {},
     "output_type": "execute_result"
    }
   ],
   "source": [
    "d6"
   ]
  },
  {
   "cell_type": "code",
   "execution_count": 38,
   "id": "83eb4a22-8ffd-4f75-b76d-25f93ecafb27",
   "metadata": {},
   "outputs": [],
   "source": [
    "del d6['number']"
   ]
  },
  {
   "cell_type": "code",
   "execution_count": 39,
   "id": "bb0713a7-9df1-4084-93bd-f21d8e2b7e94",
   "metadata": {},
   "outputs": [
    {
     "data": {
      "text/plain": [
       "{'assignments': (1, 2, 3, 4, 5, 6),\n",
       " 'launch_date': {12, 14, 28},\n",
       " 'class_time': {'web_dev': 8, 'ds': 8, 'java': 7},\n",
       " 'mentor': ['sudhanshu', 'krish', 'anurag', 'haider']}"
      ]
     },
     "execution_count": 39,
     "metadata": {},
     "output_type": "execute_result"
    }
   ],
   "source": [
    "d6"
   ]
  },
  {
   "cell_type": "code",
   "execution_count": 41,
   "id": "ef83ad9f-6dca-4dda-bd8d-1d4dbc85ff3d",
   "metadata": {},
   "outputs": [
    {
     "data": {
      "text/plain": [
       "dict_keys(['assignments', 'launch_date', 'class_time', 'mentor'])"
      ]
     },
     "execution_count": 41,
     "metadata": {},
     "output_type": "execute_result"
    }
   ],
   "source": [
    "d6.keys() #extract keys"
   ]
  },
  {
   "cell_type": "code",
   "execution_count": 42,
   "id": "6e995ab9-0a16-48fd-9edc-264cc88b0c3f",
   "metadata": {},
   "outputs": [
    {
     "data": {
      "text/plain": [
       "['assignments', 'launch_date', 'class_time', 'mentor']"
      ]
     },
     "execution_count": 42,
     "metadata": {},
     "output_type": "execute_result"
    }
   ],
   "source": [
    "list(d6.keys()) #convert the keys to list"
   ]
  },
  {
   "cell_type": "code",
   "execution_count": 43,
   "id": "61646cd9-0597-4e04-9de4-79af94c653da",
   "metadata": {},
   "outputs": [
    {
     "data": {
      "text/plain": [
       "dict_values([(1, 2, 3, 4, 5, 6), {28, 12, 14}, {'web_dev': 8, 'ds': 8, 'java': 7}, ['sudhanshu', 'krish', 'anurag', 'haider']])"
      ]
     },
     "execution_count": 43,
     "metadata": {},
     "output_type": "execute_result"
    }
   ],
   "source": [
    "d6.values() #extract values"
   ]
  },
  {
   "cell_type": "code",
   "execution_count": 44,
   "id": "de38566f-6d39-4c11-8825-6d9f78d9b3b9",
   "metadata": {},
   "outputs": [
    {
     "data": {
      "text/plain": [
       "dict_items([('assignments', (1, 2, 3, 4, 5, 6)), ('launch_date', {28, 12, 14}), ('class_time', {'web_dev': 8, 'ds': 8, 'java': 7}), ('mentor', ['sudhanshu', 'krish', 'anurag', 'haider'])])"
      ]
     },
     "execution_count": 44,
     "metadata": {},
     "output_type": "execute_result"
    }
   ],
   "source": [
    "d6.items()"
   ]
  },
  {
   "cell_type": "code",
   "execution_count": 45,
   "id": "e218cb10-6e45-4ca8-9e1d-8550dfae50ad",
   "metadata": {},
   "outputs": [
    {
     "data": {
      "text/plain": [
       "[('assignments', (1, 2, 3, 4, 5, 6)),\n",
       " ('launch_date', {12, 14, 28}),\n",
       " ('class_time', {'web_dev': 8, 'ds': 8, 'java': 7}),\n",
       " ('mentor', ['sudhanshu', 'krish', 'anurag', 'haider'])]"
      ]
     },
     "execution_count": 45,
     "metadata": {},
     "output_type": "execute_result"
    }
   ],
   "source": [
    "list(d6.items())"
   ]
  },
  {
   "cell_type": "code",
   "execution_count": 46,
   "id": "ba25e6b8-7807-4a8f-9e34-82195d242fe0",
   "metadata": {},
   "outputs": [
    {
     "data": {
      "text/plain": [
       "(1, 2, 3, 4, 5, 6)"
      ]
     },
     "execution_count": 46,
     "metadata": {},
     "output_type": "execute_result"
    }
   ],
   "source": [
    "d6.pop('assignments')"
   ]
  },
  {
   "cell_type": "code",
   "execution_count": 47,
   "id": "9e683e39-c1ff-4669-a451-406a1372892a",
   "metadata": {},
   "outputs": [
    {
     "data": {
      "text/plain": [
       "{'launch_date': {12, 14, 28},\n",
       " 'class_time': {'web_dev': 8, 'ds': 8, 'java': 7},\n",
       " 'mentor': ['sudhanshu', 'krish', 'anurag', 'haider']}"
      ]
     },
     "execution_count": 47,
     "metadata": {},
     "output_type": "execute_result"
    }
   ],
   "source": [
    "d6"
   ]
  },
  {
   "cell_type": "markdown",
   "id": "9da0fc90-001b-4e9a-b7bd-97efc4ac2d5f",
   "metadata": {},
   "source": [
    "# Control Statements"
   ]
  },
  {
   "cell_type": "code",
   "execution_count": 55,
   "id": "1c8e6473-ecdd-4583-80d5-acfc5f5a933b",
   "metadata": {},
   "outputs": [
    {
     "name": "stdin",
     "output_type": "stream",
     "text": [
      "Enter your marks:  20\n"
     ]
    },
    {
     "name": "stdout",
     "output_type": "stream",
     "text": [
      "You will be a part of A3 batch\n"
     ]
    }
   ],
   "source": [
    "marks = int(input('Enter your marks: '))\n",
    "\n",
    "if marks>=80:\n",
    "    print(\"You will be a part of A0 batch\")\n",
    "elif marks >= 60 and marks <80:\n",
    "    print('You will be a part of A1 batch')\n",
    "elif marks>=40 and marks <60:\n",
    "    print('You will be a part of A2 batch')\n",
    "else:\n",
    "    print('You will be a part of A3 batch')\n"
   ]
  },
  {
   "cell_type": "code",
   "execution_count": 57,
   "id": "71c60a48-98d7-4de3-a230-69195853c0db",
   "metadata": {},
   "outputs": [
    {
     "name": "stdin",
     "output_type": "stream",
     "text": [
      "Enter Price:  1001\n"
     ]
    },
    {
     "name": "stdout",
     "output_type": "stream",
     "text": [
      "I will not purchase\n"
     ]
    }
   ],
   "source": [
    "price = int(input(\"Enter Price: \"))\n",
    "\n",
    "if price > 1000:\n",
    "    print('I will not purchase')\n",
    "else:\n",
    "    print('I will purchase')"
   ]
  },
  {
   "cell_type": "code",
   "execution_count": 63,
   "id": "992a45c6-40d7-4e23-8a91-bdbb61738513",
   "metadata": {},
   "outputs": [
    {
     "name": "stdin",
     "output_type": "stream",
     "text": [
      "Enter Price:  555\n"
     ]
    },
    {
     "name": "stdout",
     "output_type": "stream",
     "text": [
      "I will purchase\n"
     ]
    }
   ],
   "source": [
    "price = int(input(\"Enter Price: \"))\n",
    "\n",
    "if price > 1000:\n",
    "    print('I will not purchase')\n",
    "    if price >5000:\n",
    "        print('This is too much')\n",
    "    elif price < 2000:\n",
    "        print('its okay')\n",
    "elif price <1000:\n",
    "    print('I will purchase')"
   ]
  },
  {
   "cell_type": "markdown",
   "id": "a8e4c907-547c-4670-917c-e1734300725d",
   "metadata": {},
   "source": [
    "# Loops"
   ]
  },
  {
   "cell_type": "code",
   "execution_count": 70,
   "id": "409c2613-ff24-434f-bd59-cdf8d4e6c25e",
   "metadata": {},
   "outputs": [
    {
     "name": "stdout",
     "output_type": "stream",
     "text": [
      "1\n",
      "2\n",
      "4\n",
      "5\n",
      "6\n",
      "7\n",
      "8\n",
      "9\n"
     ]
    }
   ],
   "source": [
    "l = [1,2,4,5,6,7,8,9]\n",
    "\n",
    "for each_l in l:\n",
    "    print(each_l)"
   ]
  },
  {
   "cell_type": "code",
   "execution_count": 71,
   "id": "c327e279-dbca-474e-886a-f1f15e816725",
   "metadata": {},
   "outputs": [
    {
     "name": "stdout",
     "output_type": "stream",
     "text": [
      "2\n",
      "3\n",
      "5\n",
      "6\n",
      "7\n",
      "8\n",
      "9\n",
      "10\n"
     ]
    }
   ],
   "source": [
    "for each_l in l:\n",
    "    print(each_l+1)"
   ]
  },
  {
   "cell_type": "code",
   "execution_count": 72,
   "id": "067ce868-d52b-4434-96e4-74fd9a846374",
   "metadata": {},
   "outputs": [],
   "source": [
    "l2 = []\n",
    "\n",
    "for each_l in l:\n",
    "    l2.append(each_l+1)"
   ]
  },
  {
   "cell_type": "code",
   "execution_count": 73,
   "id": "25541564-2b81-4b56-8c51-ce7ddd14c65d",
   "metadata": {},
   "outputs": [
    {
     "data": {
      "text/plain": [
       "[2, 3, 5, 6, 7, 8, 9, 10]"
      ]
     },
     "execution_count": 73,
     "metadata": {},
     "output_type": "execute_result"
    }
   ],
   "source": [
    "l2"
   ]
  },
  {
   "cell_type": "code",
   "execution_count": 75,
   "id": "566b75a9-2ff1-4dd9-9d42-a0f8d5d32307",
   "metadata": {},
   "outputs": [
    {
     "data": {
      "text/plain": [
       "['SUDH', 'KUMAR', 'PWSKILLS', 'COURSE']"
      ]
     },
     "execution_count": 75,
     "metadata": {},
     "output_type": "execute_result"
    }
   ],
   "source": [
    "l = ['sudh','kumar','pwskills','course']\n",
    "l2 = []\n",
    "\n",
    "for each_element in l:\n",
    "    each_element=each_element.upper()\n",
    "    l2.append(each_element)\n",
    "\n",
    "l2"
   ]
  },
  {
   "cell_type": "code",
   "execution_count": 77,
   "id": "1cdf5871-7e8f-4e01-b436-9c5009a05cc0",
   "metadata": {},
   "outputs": [],
   "source": [
    "l2.clear()"
   ]
  },
  {
   "cell_type": "code",
   "execution_count": 78,
   "id": "3447b9f1-556b-43aa-953a-2700fa93a168",
   "metadata": {},
   "outputs": [
    {
     "data": {
      "text/plain": [
       "['SUDH', 'KUMAR', 'PWSKILLS', 'COURSE']"
      ]
     },
     "execution_count": 78,
     "metadata": {},
     "output_type": "execute_result"
    }
   ],
   "source": [
    "for each_element in l:\n",
    "    l2.append(each_element.upper())\n",
    "l2"
   ]
  },
  {
   "cell_type": "code",
   "execution_count": 85,
   "id": "283f6421-938d-4aa5-8983-77daf9a5eba0",
   "metadata": {},
   "outputs": [
    {
     "name": "stdout",
     "output_type": "stream",
     "text": [
      "[1, 2, 3, 4, 4, 324, 45.23]\n",
      "['sudh', 'kumar', 'abc']\n"
     ]
    }
   ],
   "source": [
    "l = [1,2,3,4,4,'sudh','kumar',324,45.23,'abc']\n",
    "l_numerics =[]\n",
    "l_strings =[]\n",
    "\n",
    "for each_element in l:\n",
    "    if type(each_element)== int or type(each_element)==float:\n",
    "        l_numerics.append(each_element)\n",
    "    elif type(each_element) ==str:\n",
    "        l_strings.append(each_element)\n",
    "\n",
    "print(l_numerics)\n",
    "print(l_strings)"
   ]
  }
 ],
 "metadata": {
  "kernelspec": {
   "display_name": "Python 3 (ipykernel)",
   "language": "python",
   "name": "python3"
  },
  "language_info": {
   "codemirror_mode": {
    "name": "ipython",
    "version": 3
   },
   "file_extension": ".py",
   "mimetype": "text/x-python",
   "name": "python",
   "nbconvert_exporter": "python",
   "pygments_lexer": "ipython3",
   "version": "3.10.8"
  }
 },
 "nbformat": 4,
 "nbformat_minor": 5
}
