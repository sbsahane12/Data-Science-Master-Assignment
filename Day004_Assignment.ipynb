{
 "cells": [
  {
   "cell_type": "code",
   "execution_count": 2,
   "id": "07a187c9-4c51-4684-a689-60762f8b449d",
   "metadata": {},
   "outputs": [
    {
     "name": "stdin",
     "output_type": "stream",
     "text": [
      "Enter your marks:  52\n"
     ]
    },
    {
     "name": "stdout",
     "output_type": "stream",
     "text": [
      "Grade: D\n"
     ]
    }
   ],
   "source": [
    "marks = int(input('Enter your marks: '))\n",
    "\n",
    "if marks>90:\n",
    "    print('Grade: A')\n",
    "elif marks>80 and marks<=90:\n",
    "    print('Grade: B')\n",
    "elif marks>=60 and marks<=80:\n",
    "    print('Grade: C')\n",
    "elif marks<60:\n",
    "    print('Grade: D')\n",
    "else:\n",
    "    print('Enter marks in the range 1-100')"
   ]
  },
  {
   "cell_type": "code",
   "execution_count": 4,
   "id": "dab2ea74-6f4e-4ea6-ae0a-6ef8da050ba2",
   "metadata": {},
   "outputs": [
    {
     "name": "stdin",
     "output_type": "stream",
     "text": [
      "Enter cost of the bike:  100001\n"
     ]
    },
    {
     "name": "stdout",
     "output_type": "stream",
     "text": [
      "Tax: 15%\n"
     ]
    }
   ],
   "source": [
    "cost = int(input('Enter cost of the bike: '))\n",
    "\n",
    "if cost>100000:\n",
    "    print('Tax: 15%')\n",
    "elif cost>50000 and cost<100000:\n",
    "    print('Tax: 10%')\n",
    "elif cost<=50000:\n",
    "    print('Tax: 5%')\n",
    "else:\n",
    "    print('Enter valid cost input')"
   ]
  },
  {
   "cell_type": "code",
   "execution_count": 5,
   "id": "c03bda26-a817-4452-9dcb-cc3c8d09e085",
   "metadata": {},
   "outputs": [
    {
     "name": "stdin",
     "output_type": "stream",
     "text": [
      "Enter city name:  Agra\n"
     ]
    },
    {
     "name": "stdout",
     "output_type": "stream",
     "text": [
      "Monument: Taj Mahal\n"
     ]
    }
   ],
   "source": [
    "city = input('Enter city name: ')\n",
    "\n",
    "if city == 'Delhi':\n",
    "    print('Monument: Red Fort')\n",
    "elif city == 'Agra':\n",
    "    print('Monument: Taj Mahal')\n",
    "elif city == 'Jaipur':\n",
    "    print('Monument: Jal Mahal')\n",
    "else:\n",
    "    print('Invalid city name/ City not in our list')"
   ]
  },
  {
   "cell_type": "code",
   "execution_count": 10,
   "id": "6eb8b4e7-76f5-41f7-80ae-90dabe8bce25",
   "metadata": {},
   "outputs": [
    {
     "name": "stdin",
     "output_type": "stream",
     "text": [
      "Enter Number:  100\n"
     ]
    },
    {
     "name": "stdout",
     "output_type": "stream",
     "text": [
      "Times the number can be divided by 3:  31\n"
     ]
    }
   ],
   "source": [
    "number = int(input('Enter Number: '))\n",
    "count = 0\n",
    "iterr=number\n",
    "\n",
    "for i in range(0,iterr):\n",
    "    if number%3==0:\n",
    "        count+=1\n",
    "    elif number%3==1:\n",
    "        pass\n",
    "    elif number<=10:\n",
    "        break\n",
    "    number-=1\n",
    "\n",
    "print('Times the number can be divided by 3 (and is >10): ', count)"
   ]
  },
  {
   "cell_type": "markdown",
   "id": "8cc42f2d-3243-4518-a6fb-2b971b418ef7",
   "metadata": {},
   "source": [
    "## Triangular Pattern"
   ]
  },
  {
   "cell_type": "code",
   "execution_count": 1,
   "id": "91f39f47-240f-4920-8c26-076a8f632ea7",
   "metadata": {},
   "outputs": [
    {
     "name": "stdout",
     "output_type": "stream",
     "text": [
      "*\n",
      "**\n",
      "***\n",
      "****\n",
      "*****\n"
     ]
    }
   ],
   "source": [
    "i = 1\n",
    "while i <= 5:\n",
    "    j = 1\n",
    "    while j <= i:\n",
    "        print(\"*\", end=\"\")\n",
    "        j = j + 1\n",
    "    print()\n",
    "    i = i + 1"
   ]
  },
  {
   "cell_type": "markdown",
   "id": "f153917b-5dc3-440d-ad3f-59389c133fc2",
   "metadata": {},
   "source": [
    "## Rectangular Pattern"
   ]
  },
  {
   "cell_type": "code",
   "execution_count": 2,
   "id": "8fdbbe2e-ef13-46ac-8ef1-85e92402daa9",
   "metadata": {},
   "outputs": [
    {
     "name": "stdout",
     "output_type": "stream",
     "text": [
      "*******\n",
      "*******\n",
      "*******\n",
      "*******\n",
      "*******\n"
     ]
    }
   ],
   "source": [
    "i = 1\n",
    "while i <= 5:\n",
    "    j = 1\n",
    "    while j <= 7:\n",
    "        print(\"*\", end=\"\")\n",
    "        j = j + 1\n",
    "    print()\n",
    "    i = i + 1"
   ]
  },
  {
   "cell_type": "markdown",
   "id": "40ad45f6-9dd8-4c08-b5c1-b908366d2def",
   "metadata": {},
   "source": [
    "## Pyramid Pattern"
   ]
  },
  {
   "cell_type": "code",
   "execution_count": 3,
   "id": "7c2178fb-21f6-4f63-a639-2409e98363f6",
   "metadata": {},
   "outputs": [
    {
     "name": "stdout",
     "output_type": "stream",
     "text": [
      "    *\n",
      "   ***\n",
      "  *****\n",
      " *******\n",
      "*********\n"
     ]
    }
   ],
   "source": [
    "n = 5\n",
    "for i in range(1, n + 1):\n",
    "    for j in range(n - i):\n",
    "        print(\" \", end=\"\")\n",
    "    for k in range(2 * i - 1):\n",
    "        print(\"*\", end=\"\")\n",
    "    print()"
   ]
  },
  {
   "cell_type": "code",
   "execution_count": 1,
   "id": "cdc675b4-7064-4735-91c7-39ace5439e8c",
   "metadata": {},
   "outputs": [
    {
     "name": "stdout",
     "output_type": "stream",
     "text": [
      "10\n",
      "9\n",
      "8\n",
      "7\n",
      "6\n",
      "5\n",
      "4\n",
      "3\n",
      "2\n",
      "1\n"
     ]
    }
   ],
   "source": [
    "i=10\n",
    "while i>=1:\n",
    "    print(i)\n",
    "    i-=1"
   ]
  },
  {
   "cell_type": "code",
   "execution_count": null,
   "id": "c4784a1b-230a-47be-bd89-00f5fbb017ef",
   "metadata": {},
   "outputs": [],
   "source": []
  }
 ],
 "metadata": {
  "kernelspec": {
   "display_name": "Python 3 (ipykernel)",
   "language": "python",
   "name": "python3"
  },
  "language_info": {
   "codemirror_mode": {
    "name": "ipython",
    "version": 3
   },
   "file_extension": ".py",
   "mimetype": "text/x-python",
   "name": "python",
   "nbconvert_exporter": "python",
   "pygments_lexer": "ipython3",
   "version": "3.10.8"
  }
 },
 "nbformat": 4,
 "nbformat_minor": 5
}
