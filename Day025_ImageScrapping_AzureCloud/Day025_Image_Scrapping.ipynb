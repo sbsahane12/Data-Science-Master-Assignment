{
 "cells": [
  {
   "cell_type": "code",
   "execution_count": 3,
   "id": "ed133b6c-8ab2-43f9-b3c6-4c8d76c9fc18",
   "metadata": {},
   "outputs": [],
   "source": [
    "import requests\n",
    "from bs4 import BeautifulSoup\n",
    "from urllib.request import urlopen\n",
    "import logging\n",
    "import os"
   ]
  },
  {
   "cell_type": "code",
   "execution_count": 6,
   "id": "7cf9cae6-61fa-4181-b62e-a95f5790144a",
   "metadata": {},
   "outputs": [],
   "source": [
    "save_dir = 'images/'\n",
    "if not os.path.exists(save_dir):\n",
    "    os.makedirs(save_dir)"
   ]
  },
  {
   "cell_type": "code",
   "execution_count": 9,
   "id": "69dd2f97-4bc7-436d-9f44-3ba5939463c4",
   "metadata": {},
   "outputs": [],
   "source": [
    "headers = {\"User-Agent\": \"Mozilla/5.0 (Windows NT 10.0; Win64; x64) AppleWebKit/537.36 (KHTML, like Gecko) Chrome/58.0.3029.110 Safari/537.36\"}"
   ]
  },
  {
   "cell_type": "code",
   "execution_count": 10,
   "id": "a2b7e113-062e-4088-9658-9b79e4b2726e",
   "metadata": {},
   "outputs": [],
   "source": [
    "query = 'elon musk'\n",
    "response = requests.get(f'https://www.google.com/search?q={query}&rlz=1C1KNTJ_enPK1019PK1019&sxsrf=AJOqlzU0xMfYrsor7am1QWaGIm8f4VrLzw:1677085819725&source=lnms&tbm=isch&sa=X&ved=2ahUKEwjvjavEz6n9AhXL8qQKHSOWCKsQ_AUoAnoECAcQBA&biw=685&bih=616&dpr=1.4')"
   ]
  },
  {
   "cell_type": "code",
   "execution_count": 11,
   "id": "f7897590-b4d8-4bde-b7c8-2be2ba6af0b1",
   "metadata": {},
   "outputs": [
    {
     "data": {
      "text/plain": [
       "<Response [200]>"
      ]
     },
     "execution_count": 11,
     "metadata": {},
     "output_type": "execute_result"
    }
   ],
   "source": [
    "response"
   ]
  },
  {
   "cell_type": "code",
   "execution_count": 13,
   "id": "007605c0-c115-47e0-910a-288ca899d854",
   "metadata": {},
   "outputs": [],
   "source": [
    "soup=BeautifulSoup(response.content,'html.parser')"
   ]
  },
  {
   "cell_type": "code",
   "execution_count": 17,
   "id": "b6d8d025-79ef-4a2f-a277-f51af8e2edfd",
   "metadata": {},
   "outputs": [],
   "source": [
    "image_tags = soup.find_all(\"img\")"
   ]
  },
  {
   "cell_type": "code",
   "execution_count": 18,
   "id": "3e4bd1b9-4acd-49a8-a9ff-a9b1a0260b45",
   "metadata": {},
   "outputs": [],
   "source": [
    "del image_tags[0]"
   ]
  },
  {
   "cell_type": "code",
   "execution_count": 19,
   "id": "4961b42e-2325-43f0-a7c2-cc36202b2aeb",
   "metadata": {},
   "outputs": [
    {
     "data": {
      "text/plain": [
       "20"
      ]
     },
     "execution_count": 19,
     "metadata": {},
     "output_type": "execute_result"
    }
   ],
   "source": [
    "len(image_tags)"
   ]
  },
  {
   "cell_type": "code",
   "execution_count": 20,
   "id": "d423d7ea-7298-491f-b8d4-4c4d4c63a2bc",
   "metadata": {},
   "outputs": [],
   "source": [
    "image_data_mongo = []\n",
    "for i in image_tags:\n",
    "    image_url = i['src']\n",
    "    image_data = requests.get(image_url).content\n",
    "    mydict = {\"index\": image_url, \"image\": image_data}\n",
    "    image_data_mongo.append(mydict)\n",
    "    with open(os.path.join(save_dir, f\"{query}_{image_tags.index(i)}.jpg\"), \"wb\") as f:\n",
    "        f.write(image_data)"
   ]
  },
  {
   "cell_type": "code",
   "execution_count": null,
   "id": "c10d1b7e-f6d8-4d93-a0c3-feaec04a680b",
   "metadata": {},
   "outputs": [],
   "source": []
  }
 ],
 "metadata": {
  "kernelspec": {
   "display_name": "Python 3 (ipykernel)",
   "language": "python",
   "name": "python3"
  },
  "language_info": {
   "codemirror_mode": {
    "name": "ipython",
    "version": 3
   },
   "file_extension": ".py",
   "mimetype": "text/x-python",
   "name": "python",
   "nbconvert_exporter": "python",
   "pygments_lexer": "ipython3",
   "version": "3.10.8"
  }
 },
 "nbformat": 4,
 "nbformat_minor": 5
}
