{
 "cells": [
  {
   "cell_type": "code",
   "execution_count": 1,
   "id": "329fe85c-9624-47e6-86b3-26fc5ba3f4fb",
   "metadata": {},
   "outputs": [
    {
     "data": {
      "text/plain": [
       "True"
      ]
     },
     "execution_count": 1,
     "metadata": {},
     "output_type": "execute_result"
    }
   ],
   "source": [
    "True"
   ]
  },
  {
   "cell_type": "code",
   "execution_count": 2,
   "id": "57b927f7-bdb5-49a4-b574-ed110d859df8",
   "metadata": {},
   "outputs": [
    {
     "data": {
      "text/plain": [
       "0"
      ]
     },
     "execution_count": 2,
     "metadata": {},
     "output_type": "execute_result"
    }
   ],
   "source": [
    "True*False"
   ]
  },
  {
   "cell_type": "code",
   "execution_count": 3,
   "id": "e0aeeb4b-3e2a-4cf5-b89c-c55f9b47a521",
   "metadata": {},
   "outputs": [
    {
     "ename": "ZeroDivisionError",
     "evalue": "division by zero",
     "output_type": "error",
     "traceback": [
      "\u001b[0;31m---------------------------------------------------------------------------\u001b[0m",
      "\u001b[0;31mZeroDivisionError\u001b[0m                         Traceback (most recent call last)",
      "Cell \u001b[0;32mIn[3], line 1\u001b[0m\n\u001b[0;32m----> 1\u001b[0m \u001b[38;5;28;43;01mTrue\u001b[39;49;00m\u001b[38;5;241;43m/\u001b[39;49m\u001b[38;5;28;43;01mFalse\u001b[39;49;00m\n",
      "\u001b[0;31mZeroDivisionError\u001b[0m: division by zero"
     ]
    }
   ],
   "source": [
    "True/False"
   ]
  },
  {
   "cell_type": "code",
   "execution_count": 4,
   "id": "3a788c13-9b53-45bf-ba6e-210f78af866d",
   "metadata": {},
   "outputs": [
    {
     "ename": "ZeroDivisionError",
     "evalue": "division by zero",
     "output_type": "error",
     "traceback": [
      "\u001b[0;31m---------------------------------------------------------------------------\u001b[0m",
      "\u001b[0;31mZeroDivisionError\u001b[0m                         Traceback (most recent call last)",
      "Cell \u001b[0;32mIn[4], line 1\u001b[0m\n\u001b[0;32m----> 1\u001b[0m \u001b[38;5;241;43m1\u001b[39;49m\u001b[38;5;241;43m/\u001b[39;49m\u001b[38;5;241;43m0\u001b[39;49m\n",
      "\u001b[0;31mZeroDivisionError\u001b[0m: division by zero"
     ]
    }
   ],
   "source": [
    "1/0"
   ]
  },
  {
   "cell_type": "code",
   "execution_count": 8,
   "id": "550fa892-eacb-41f2-9b6f-261f7981509c",
   "metadata": {},
   "outputs": [
    {
     "data": {
      "text/plain": [
       "complex"
      ]
     },
     "execution_count": 8,
     "metadata": {},
     "output_type": "execute_result"
    }
   ],
   "source": [
    "# complex variable\n",
    "v = 5+8j # 5 is a real component/number, and 8j is an imaginary component/number\n",
    "type(v)"
   ]
  },
  {
   "cell_type": "code",
   "execution_count": 9,
   "id": "651cc72d-b940-49a6-a10b-a02a2094c878",
   "metadata": {},
   "outputs": [
    {
     "ename": "SyntaxError",
     "evalue": "invalid decimal literal (690443381.py, line 1)",
     "output_type": "error",
     "traceback": [
      "\u001b[0;36m  Cell \u001b[0;32mIn[9], line 1\u001b[0;36m\u001b[0m\n\u001b[0;31m    v = 5+8i #python only understands 'j' to be representing imaginary number\u001b[0m\n\u001b[0m          ^\u001b[0m\n\u001b[0;31mSyntaxError\u001b[0m\u001b[0;31m:\u001b[0m invalid decimal literal\n"
     ]
    }
   ],
   "source": [
    "v = 5+8i #python only understands 'j' to be representing imaginary number\n"
   ]
  },
  {
   "cell_type": "code",
   "execution_count": 10,
   "id": "3510846e-a69a-4509-82d1-616d661ca92e",
   "metadata": {},
   "outputs": [
    {
     "data": {
      "text/plain": [
       "5.0"
      ]
     },
     "execution_count": 10,
     "metadata": {},
     "output_type": "execute_result"
    }
   ],
   "source": [
    "#only want to extract real component\n",
    "v.real"
   ]
  },
  {
   "cell_type": "code",
   "execution_count": 12,
   "id": "84c8448d-c983-42fa-b67d-e7abbba1497b",
   "metadata": {},
   "outputs": [
    {
     "data": {
      "text/plain": [
       "8.0"
      ]
     },
     "execution_count": 12,
     "metadata": {},
     "output_type": "execute_result"
    }
   ],
   "source": [
    "v.imag"
   ]
  },
  {
   "cell_type": "code",
   "execution_count": 11,
   "id": "347f1974-9c96-4e1b-aef3-95e8bba9b01f",
   "metadata": {},
   "outputs": [],
   "source": [
    "#when we replace a variable with new value. the old value of the variable\n",
    "#is no longer accessible by the variable. the old value is treated as \n",
    "#garbage and it is cleared out by garbageCollection"
   ]
  },
  {
   "cell_type": "code",
   "execution_count": 14,
   "id": "540c38c9-a878-45ba-b77d-64b5071a18b9",
   "metadata": {},
   "outputs": [
    {
     "data": {
      "text/plain": [
       "complex"
      ]
     },
     "execution_count": 14,
     "metadata": {},
     "output_type": "execute_result"
    }
   ],
   "source": [
    "#if you don't know what a python method does press shift+tab next to the method\n",
    "#and it will display information about the method\n",
    "\n",
    "type(v)"
   ]
  },
  {
   "cell_type": "code",
   "execution_count": 15,
   "id": "a5baacdb-01dc-427c-862e-4babda96edb7",
   "metadata": {},
   "outputs": [
    {
     "data": {
      "text/plain": [
       "(5+8j)"
      ]
     },
     "execution_count": 15,
     "metadata": {},
     "output_type": "execute_result"
    }
   ],
   "source": [
    "v"
   ]
  },
  {
   "cell_type": "code",
   "execution_count": 16,
   "id": "f1826458-8ed4-41a9-8a82-a2724d416ea7",
   "metadata": {},
   "outputs": [
    {
     "name": "stdout",
     "output_type": "stream",
     "text": [
      "my name is Owais\n"
     ]
    }
   ],
   "source": [
    "#print method\n",
    "print('my name is Owais')"
   ]
  },
  {
   "cell_type": "code",
   "execution_count": 17,
   "id": "093b456a-7793-4554-9278-8c2031aa3102",
   "metadata": {},
   "outputs": [
    {
     "name": "stdout",
     "output_type": "stream",
     "text": [
      "(5+8j)\n"
     ]
    }
   ],
   "source": [
    "print(v)"
   ]
  },
  {
   "cell_type": "markdown",
   "id": "cc2d7eed-0958-4b22-b46c-d419dab28dc9",
   "metadata": {},
   "source": [
    "# String Slicing"
   ]
  },
  {
   "cell_type": "code",
   "execution_count": 18,
   "id": "a43740d3-63ba-4bdf-8ce5-339d826a251a",
   "metadata": {},
   "outputs": [],
   "source": [
    "s = 'PWSkills'"
   ]
  },
  {
   "cell_type": "code",
   "execution_count": 19,
   "id": "277a50ee-d455-4123-b3e8-ab543b09d8aa",
   "metadata": {},
   "outputs": [
    {
     "data": {
      "text/plain": [
       "str"
      ]
     },
     "execution_count": 19,
     "metadata": {},
     "output_type": "execute_result"
    }
   ],
   "source": [
    "type(s)"
   ]
  },
  {
   "cell_type": "code",
   "execution_count": 26,
   "id": "e25e4e31-b384-4d31-802b-c0e6bf7ee57f",
   "metadata": {},
   "outputs": [
    {
     "data": {
      "text/plain": [
       "'WSkill'"
      ]
     },
     "execution_count": 26,
     "metadata": {},
     "output_type": "execute_result"
    }
   ],
   "source": [
    "s[1:7]"
   ]
  },
  {
   "cell_type": "code",
   "execution_count": 29,
   "id": "8f4bbcb7-bf3a-413a-bebf-99559eed1f07",
   "metadata": {},
   "outputs": [
    {
     "data": {
      "text/plain": [
       "'S'"
      ]
     },
     "execution_count": 29,
     "metadata": {},
     "output_type": "execute_result"
    }
   ],
   "source": [
    "#forward indexing\n",
    "s[2]"
   ]
  },
  {
   "cell_type": "code",
   "execution_count": 30,
   "id": "b2c59f5e-7368-4ea2-b843-d8f184fd51ac",
   "metadata": {},
   "outputs": [
    {
     "data": {
      "text/plain": [
       "'s'"
      ]
     },
     "execution_count": 30,
     "metadata": {},
     "output_type": "execute_result"
    }
   ],
   "source": [
    "#backward indexing\n",
    "s[-1]"
   ]
  },
  {
   "cell_type": "code",
   "execution_count": 33,
   "id": "fe77de6e-bd5f-4aa7-8db0-b9188d38586b",
   "metadata": {},
   "outputs": [
    {
     "data": {
      "text/plain": [
       "'PWS'"
      ]
     },
     "execution_count": 33,
     "metadata": {},
     "output_type": "execute_result"
    }
   ],
   "source": [
    "#slicing: extract the first 3 characters\n",
    "s[0:3]\n",
    "#logically it should've been s[0:2] but the last index is not considered\n",
    "#in string slicing"
   ]
  },
  {
   "cell_type": "code",
   "execution_count": 34,
   "id": "0d0f650b-6e3d-486b-b6dd-1498708834db",
   "metadata": {},
   "outputs": [
    {
     "data": {
      "text/plain": [
       "'PWSk'"
      ]
     },
     "execution_count": 34,
     "metadata": {},
     "output_type": "execute_result"
    }
   ],
   "source": [
    "s[0:4]"
   ]
  },
  {
   "cell_type": "code",
   "execution_count": 37,
   "id": "7340deb3-7bee-43e0-8b00-985e757dbf67",
   "metadata": {},
   "outputs": [
    {
     "data": {
      "text/plain": [
       "'PSil'"
      ]
     },
     "execution_count": 37,
     "metadata": {},
     "output_type": "execute_result"
    }
   ],
   "source": [
    "#the third parameter is step/jump size. We only want to extract every second\n",
    "#character of the string\n",
    "s[0:8:2]"
   ]
  },
  {
   "cell_type": "code",
   "execution_count": 39,
   "id": "99f7d63e-809e-4dfc-a3d5-858d1df079fe",
   "metadata": {},
   "outputs": [
    {
     "data": {
      "text/plain": [
       "'PSil'"
      ]
     },
     "execution_count": 39,
     "metadata": {},
     "output_type": "execute_result"
    }
   ],
   "source": [
    "#you don't need to tell the start and end point, leave them empty\n",
    "#just specify the step/jump size\n",
    "s[::2]"
   ]
  },
  {
   "cell_type": "code",
   "execution_count": 40,
   "id": "61ca211f-c129-44b9-b4d3-2a0bbda4628e",
   "metadata": {},
   "outputs": [
    {
     "data": {
      "text/plain": [
       "'Sil'"
      ]
     },
     "execution_count": 40,
     "metadata": {},
     "output_type": "execute_result"
    }
   ],
   "source": [
    "#start from index 2, go till the end of the string, with 2 jump size\n",
    "s[2::2]"
   ]
  },
  {
   "cell_type": "code",
   "execution_count": 41,
   "id": "ba121cd9-7a41-422d-94ab-3ff8fec9e6a5",
   "metadata": {},
   "outputs": [
    {
     "data": {
      "text/plain": [
       "'sllikSWP'"
      ]
     },
     "execution_count": 41,
     "metadata": {},
     "output_type": "execute_result"
    }
   ],
   "source": [
    "s[::-1]"
   ]
  },
  {
   "cell_type": "code",
   "execution_count": 49,
   "id": "812945f3-a910-456e-8d49-b7c17f2af2b7",
   "metadata": {},
   "outputs": [
    {
     "data": {
      "text/plain": [
       "''"
      ]
     },
     "execution_count": 49,
     "metadata": {},
     "output_type": "execute_result"
    }
   ],
   "source": [
    "s[2:7:-1]\n",
    "# why empty? we want to go from 2 till 7 in backward direction so\n",
    "#that's not possilbe. \n",
    "#but if we want to go from 7 till 2 in backward direction then that\n",
    "#will work fine"
   ]
  },
  {
   "cell_type": "code",
   "execution_count": 50,
   "id": "028bc02c-4f52-434d-bd44-0789213f8bc4",
   "metadata": {},
   "outputs": [
    {
     "data": {
      "text/plain": [
       "'sllik'"
      ]
     },
     "execution_count": 50,
     "metadata": {},
     "output_type": "execute_result"
    }
   ],
   "source": [
    "s[7:2:-1]\n"
   ]
  },
  {
   "cell_type": "code",
   "execution_count": 52,
   "id": "12972cb3-2f9c-4915-9967-7c8e47d8bfe3",
   "metadata": {},
   "outputs": [
    {
     "data": {
      "text/plain": [
       "''"
      ]
     },
     "execution_count": 52,
     "metadata": {},
     "output_type": "execute_result"
    }
   ],
   "source": [
    "s[8:0]\n",
    "#why empty? same problem as above. can't go from 8 to 0 in forward\n",
    "#direction"
   ]
  },
  {
   "cell_type": "code",
   "execution_count": 54,
   "id": "048cd588-1e5b-4f4d-9caf-d0f928931e21",
   "metadata": {},
   "outputs": [
    {
     "data": {
      "text/plain": [
       "'sllikSW'"
      ]
     },
     "execution_count": 54,
     "metadata": {},
     "output_type": "execute_result"
    }
   ],
   "source": [
    "s[8:0:-1]\n",
    "#why is P not printed.. the the last index of lower bound is not considered"
   ]
  },
  {
   "cell_type": "code",
   "execution_count": 58,
   "id": "ad4b4175-3064-4fb8-86c8-784d9b384d95",
   "metadata": {},
   "outputs": [
    {
     "data": {
      "text/plain": [
       "''"
      ]
     },
     "execution_count": 58,
     "metadata": {},
     "output_type": "execute_result"
    }
   ],
   "source": [
    "s[-2:-8:1]"
   ]
  },
  {
   "cell_type": "code",
   "execution_count": 59,
   "id": "767ecf27-3f64-4434-af6a-8e9a898fa074",
   "metadata": {},
   "outputs": [
    {
     "data": {
      "text/plain": [
       "'PWSkil'"
      ]
     },
     "execution_count": 59,
     "metadata": {},
     "output_type": "execute_result"
    }
   ],
   "source": [
    "s[-8:-2:1]"
   ]
  },
  {
   "cell_type": "code",
   "execution_count": 60,
   "id": "503af5e8-6c43-45dc-9ea3-4b0075dd2d4e",
   "metadata": {},
   "outputs": [
    {
     "data": {
      "text/plain": [
       "'llikSWP'"
      ]
     },
     "execution_count": 60,
     "metadata": {},
     "output_type": "execute_result"
    }
   ],
   "source": [
    "s[-2::-1]"
   ]
  },
  {
   "cell_type": "code",
   "execution_count": 62,
   "id": "87cc9c49-fe4c-404a-b34e-f1d692aa3904",
   "metadata": {},
   "outputs": [
    {
     "data": {
      "text/plain": [
       "'sllikSWP'"
      ]
     },
     "execution_count": 62,
     "metadata": {},
     "output_type": "execute_result"
    }
   ],
   "source": [
    "s[::-1] #no upper and lower bounds"
   ]
  },
  {
   "cell_type": "code",
   "execution_count": 63,
   "id": "15068daf-ef1c-44d0-a891-cfba6064b08b",
   "metadata": {},
   "outputs": [
    {
     "data": {
      "text/plain": [
       "''"
      ]
     },
     "execution_count": 63,
     "metadata": {},
     "output_type": "execute_result"
    }
   ],
   "source": [
    "s[:-90:]"
   ]
  },
  {
   "cell_type": "code",
   "execution_count": 64,
   "id": "edf9547a-4138-4030-ae4f-1e0fcdc39972",
   "metadata": {},
   "outputs": [
    {
     "ename": "IndexError",
     "evalue": "string index out of range",
     "output_type": "error",
     "traceback": [
      "\u001b[0;31m---------------------------------------------------------------------------\u001b[0m",
      "\u001b[0;31mIndexError\u001b[0m                                Traceback (most recent call last)",
      "Cell \u001b[0;32mIn[64], line 1\u001b[0m\n\u001b[0;32m----> 1\u001b[0m \u001b[43ms\u001b[49m\u001b[43m[\u001b[49m\u001b[38;5;241;43m90\u001b[39;49m\u001b[43m]\u001b[49m\n",
      "\u001b[0;31mIndexError\u001b[0m: string index out of range"
     ]
    }
   ],
   "source": [
    "s[90]"
   ]
  },
  {
   "cell_type": "code",
   "execution_count": 65,
   "id": "23bc8805-27a3-4b86-a171-0a9518f301d4",
   "metadata": {},
   "outputs": [
    {
     "data": {
      "text/plain": [
       "'sllikSWP'"
      ]
     },
     "execution_count": 65,
     "metadata": {},
     "output_type": "execute_result"
    }
   ],
   "source": [
    "s[:-90:-1]"
   ]
  },
  {
   "cell_type": "markdown",
   "id": "50abe2e5-f862-4a04-9528-b4642e76052b",
   "metadata": {},
   "source": [
    "# String Manipulation"
   ]
  },
  {
   "cell_type": "code",
   "execution_count": 67,
   "id": "e7d643b1-9297-4a11-a5bb-f5532217825c",
   "metadata": {},
   "outputs": [],
   "source": [
    "s_one = 'this is my string class'"
   ]
  },
  {
   "cell_type": "code",
   "execution_count": 68,
   "id": "445401aa-7d27-485c-a593-7dce0ac5c1e6",
   "metadata": {},
   "outputs": [
    {
     "data": {
      "text/plain": [
       "23"
      ]
     },
     "execution_count": 68,
     "metadata": {},
     "output_type": "execute_result"
    }
   ],
   "source": [
    "#length of string\n",
    "len(s_one)"
   ]
  },
  {
   "cell_type": "code",
   "execution_count": 71,
   "id": "47c1b4e9-6254-45ce-aa1d-52e826f0d331",
   "metadata": {},
   "outputs": [
    {
     "data": {
      "text/plain": [
       "3"
      ]
     },
     "execution_count": 71,
     "metadata": {},
     "output_type": "execute_result"
    }
   ],
   "source": [
    "s_one.find('s') #returns index of first 's' that it encounters"
   ]
  },
  {
   "cell_type": "code",
   "execution_count": 72,
   "id": "bbad855f-5ca8-405d-aaae-e2004f066bfb",
   "metadata": {},
   "outputs": [
    {
     "data": {
      "text/plain": [
       "2"
      ]
     },
     "execution_count": 72,
     "metadata": {},
     "output_type": "execute_result"
    }
   ],
   "source": [
    "s_one.find('i')"
   ]
  },
  {
   "cell_type": "code",
   "execution_count": 73,
   "id": "8b0f5078-8444-4133-8e39-fe57550f6ab1",
   "metadata": {},
   "outputs": [
    {
     "data": {
      "text/plain": [
       "2"
      ]
     },
     "execution_count": 73,
     "metadata": {},
     "output_type": "execute_result"
    }
   ],
   "source": [
    "s_one.find('is')"
   ]
  },
  {
   "cell_type": "code",
   "execution_count": 75,
   "id": "82b02c22-eae9-4df5-b744-a31d1e95d0d4",
   "metadata": {},
   "outputs": [
    {
     "data": {
      "text/plain": [
       "-1"
      ]
     },
     "execution_count": 75,
     "metadata": {},
     "output_type": "execute_result"
    }
   ],
   "source": [
    "s_one.find('IS') #when it doesn't find the requested characters, it returns -1"
   ]
  },
  {
   "cell_type": "code",
   "execution_count": 77,
   "id": "462a7bb7-723c-47f9-a949-13d3a569759a",
   "metadata": {},
   "outputs": [
    {
     "data": {
      "text/plain": [
       "5"
      ]
     },
     "execution_count": 77,
     "metadata": {},
     "output_type": "execute_result"
    }
   ],
   "source": [
    "s_one.count('s') #returns the count of 's'"
   ]
  },
  {
   "cell_type": "code",
   "execution_count": 78,
   "id": "435ca5bd-5ea2-4ffe-8c4d-18021ceed5ce",
   "metadata": {},
   "outputs": [
    {
     "data": {
      "text/plain": [
       "0"
      ]
     },
     "execution_count": 78,
     "metadata": {},
     "output_type": "execute_result"
    }
   ],
   "source": [
    "s_one.count('z')"
   ]
  },
  {
   "cell_type": "code",
   "execution_count": 80,
   "id": "7fd23a62-14e9-4c80-b359-8a5aec9ff209",
   "metadata": {},
   "outputs": [
    {
     "data": {
      "text/plain": [
       "'THIS IS MY STRING CLASS'"
      ]
     },
     "execution_count": 80,
     "metadata": {},
     "output_type": "execute_result"
    }
   ],
   "source": [
    "s_one.upper()"
   ]
  },
  {
   "cell_type": "code",
   "execution_count": 81,
   "id": "a281eea5-a58e-4fa6-b15b-a7a2e4781db1",
   "metadata": {},
   "outputs": [],
   "source": [
    "s_two = 'THIS IS MY STRING CLASS'"
   ]
  },
  {
   "cell_type": "code",
   "execution_count": 82,
   "id": "cf3505f7-f82b-4595-bae1-b23bd5751451",
   "metadata": {},
   "outputs": [
    {
     "data": {
      "text/plain": [
       "'this is my string class'"
      ]
     },
     "execution_count": 82,
     "metadata": {},
     "output_type": "execute_result"
    }
   ],
   "source": [
    "s_two.lower()"
   ]
  },
  {
   "cell_type": "code",
   "execution_count": 88,
   "id": "05d210bb-7d1a-46b2-b122-7ec68ee53161",
   "metadata": {},
   "outputs": [
    {
     "data": {
      "text/plain": [
       "'This Is My String Class'"
      ]
     },
     "execution_count": 88,
     "metadata": {},
     "output_type": "execute_result"
    }
   ],
   "source": [
    "s_one.title() # the first letter of each word is capitalilized"
   ]
  },
  {
   "cell_type": "code",
   "execution_count": 87,
   "id": "9d68afa5-ea22-4418-b3a4-95d63e8758cb",
   "metadata": {},
   "outputs": [
    {
     "data": {
      "text/plain": [
       "'This is my string class'"
      ]
     },
     "execution_count": 87,
     "metadata": {},
     "output_type": "execute_result"
    }
   ],
   "source": [
    "s_one.capitalize() #only the first leeter of the entire string is capitalized"
   ]
  },
  {
   "cell_type": "code",
   "execution_count": 89,
   "id": "71a64855-6572-4dd0-a2cf-948d7ea6293f",
   "metadata": {},
   "outputs": [
    {
     "ename": "TypeError",
     "evalue": "can only concatenate str (not \"int\") to str",
     "output_type": "error",
     "traceback": [
      "\u001b[0;31m---------------------------------------------------------------------------\u001b[0m",
      "\u001b[0;31mTypeError\u001b[0m                                 Traceback (most recent call last)",
      "Cell \u001b[0;32mIn[89], line 1\u001b[0m\n\u001b[0;32m----> 1\u001b[0m \u001b[43ms\u001b[49m\u001b[43m \u001b[49m\u001b[38;5;241;43m+\u001b[39;49m\u001b[43m \u001b[49m\u001b[38;5;241;43m1\u001b[39;49m\n",
      "\u001b[0;31mTypeError\u001b[0m: can only concatenate str (not \"int\") to str"
     ]
    }
   ],
   "source": [
    "s + 1 # can't concatenate variables of different data types"
   ]
  },
  {
   "cell_type": "code",
   "execution_count": 91,
   "id": "fb1820e7-8ad2-4cb7-8082-ba9f9538205e",
   "metadata": {},
   "outputs": [
    {
     "data": {
      "text/plain": [
       "'PWSkills1'"
      ]
     },
     "execution_count": 91,
     "metadata": {},
     "output_type": "execute_result"
    }
   ],
   "source": [
    "s+'1'"
   ]
  },
  {
   "cell_type": "code",
   "execution_count": 92,
   "id": "82be464d-53bd-4fb0-8b42-d38a52c3c5ab",
   "metadata": {},
   "outputs": [
    {
     "data": {
      "text/plain": [
       "'PWSkillssudh'"
      ]
     },
     "execution_count": 92,
     "metadata": {},
     "output_type": "execute_result"
    }
   ],
   "source": [
    "s + \"sudh\""
   ]
  },
  {
   "cell_type": "code",
   "execution_count": 93,
   "id": "cf014902-61a3-4b18-8f6c-2c7f4a14f0ed",
   "metadata": {},
   "outputs": [
    {
     "data": {
      "text/plain": [
       "'PWSkillsPWSkillsPWSkills'"
      ]
     },
     "execution_count": 93,
     "metadata": {},
     "output_type": "execute_result"
    }
   ],
   "source": [
    "s*3"
   ]
  },
  {
   "cell_type": "code",
   "execution_count": 94,
   "id": "6d5bfecd-6cb6-4f0b-ac0a-8bde44c39ee6",
   "metadata": {},
   "outputs": [
    {
     "data": {
      "text/plain": [
       "'sudhsudhsudhsudhsudh'"
      ]
     },
     "execution_count": 94,
     "metadata": {},
     "output_type": "execute_result"
    }
   ],
   "source": [
    "\"sudh\"*5"
   ]
  },
  {
   "cell_type": "code",
   "execution_count": 95,
   "id": "211fe625-7dbf-44fa-ba3c-1665309e083a",
   "metadata": {},
   "outputs": [
    {
     "ename": "TypeError",
     "evalue": "unsupported operand type(s) for /: 'str' and 'int'",
     "output_type": "error",
     "traceback": [
      "\u001b[0;31m---------------------------------------------------------------------------\u001b[0m",
      "\u001b[0;31mTypeError\u001b[0m                                 Traceback (most recent call last)",
      "Cell \u001b[0;32mIn[95], line 1\u001b[0m\n\u001b[0;32m----> 1\u001b[0m \u001b[38;5;124;43m\"\u001b[39;49m\u001b[38;5;124;43msudh\u001b[39;49m\u001b[38;5;124;43m\"\u001b[39;49m\u001b[38;5;241;43m/\u001b[39;49m\u001b[38;5;241;43m5\u001b[39;49m\n",
      "\u001b[0;31mTypeError\u001b[0m: unsupported operand type(s) for /: 'str' and 'int'"
     ]
    }
   ],
   "source": [
    "\"sudh\"/5 #division and subtraction can't be applied to string"
   ]
  },
  {
   "cell_type": "code",
   "execution_count": 98,
   "id": "e244686d",
   "metadata": {},
   "outputs": [],
   "source": [
    "'OK, i won't copy and paste in your class'"
   ]
  },
  {
   "cell_type": "code",
   "execution_count": 99,
   "id": "38e3827f-b13d-48e3-bc5c-a580f2db9118",
   "metadata": {},
   "outputs": [
    {
     "data": {
      "text/plain": [
       "\"OK, i won't copy and paste in your class\""
      ]
     },
     "execution_count": 99,
     "metadata": {},
     "output_type": "execute_result"
    }
   ],
   "source": [
    "\"OK, i won't copy and paste in your class\""
   ]
  },
  {
   "cell_type": "code",
   "execution_count": 101,
   "id": "6838b9f3-6f49-416e-8bf6-376cbf6221bf",
   "metadata": {},
   "outputs": [
    {
     "data": {
      "text/plain": [
       "'this is not my first class in programming\\ni have learnt variable delcearation, datat yep, string, iont , boolean, complex number\\ni have seen some example of string and indexing\\ni have gone thorugh som eof the string inbuilt fucntion \\napart form that i am trying to practicea in my system\\nbut some of us are no executing code and still they are answering'"
      ]
     },
     "execution_count": 101,
     "metadata": {},
     "output_type": "execute_result"
    }
   ],
   "source": [
    "'''this is not my first class in programming\n",
    "i have learnt variable delcearation, datat yep, string, iont , boolean, complex number\n",
    "i have seen some example of string and indexing\n",
    "i have gone thorugh som eof the string inbuilt fucntion \n",
    "apart form that i am trying to practicea in my system\n",
    "but some of us are no executing code and still they are answering'''"
   ]
  },
  {
   "cell_type": "code",
   "execution_count": 102,
   "id": "3041dd44-d282-47ec-a592-d369c9a4d180",
   "metadata": {},
   "outputs": [],
   "source": [
    "# this is not my first class in programming\n",
    "# i have learnt variable delcearation, datat yep, string, iont , boolean, complex number\n",
    "# i have seen some example of string and indexing\n",
    "# i have gone thorugh som eof the string inbuilt fucntion \n",
    "# apart form that i am trying to practicea in my system\n",
    "# but some of us are no executing code and still they are answering"
   ]
  },
  {
   "cell_type": "code",
   "execution_count": 105,
   "id": "089f67c8-f025-4aa8-94e0-9d6469c47924",
   "metadata": {},
   "outputs": [],
   "source": [
    "s3 ='''this is not my first class in programming\n",
    "i have learnt variable delcearation, datat yep, string, iont , boolean, complex number\n",
    "i have seen some example of string and indexing\n",
    "i have gone thorugh some of the string inbuilt fucntion \n",
    "apart form that i am trying to practicea in my system\n",
    "but some of us are no executing code and still they are answering'''"
   ]
  },
  {
   "cell_type": "code",
   "execution_count": 106,
   "id": "cc9b92f5-e0f9-4506-b29f-cc02028d5b44",
   "metadata": {},
   "outputs": [
    {
     "data": {
      "text/plain": [
       "'this is not my first class in programming\\ni have learnt variable delcearation, datat yep, string, iont , boolean, complex number\\ni have seen some example of string and indexing\\ni have gone thorugh some of the string inbuilt fucntion \\napart form that i am trying to practicea in my system\\nbut some of us are no executing code and still they are answering'"
      ]
     },
     "execution_count": 106,
     "metadata": {},
     "output_type": "execute_result"
    }
   ],
   "source": [
    "s3"
   ]
  },
  {
   "cell_type": "code",
   "execution_count": null,
   "id": "94bdaac7-6cbd-41dc-8b15-f5fce5657b4c",
   "metadata": {},
   "outputs": [],
   "source": []
  }
 ],
 "metadata": {
  "kernelspec": {
   "display_name": "Python 3 (ipykernel)",
   "language": "python",
   "name": "python3"
  },
  "language_info": {
   "codemirror_mode": {
    "name": "ipython",
    "version": 3
   },
   "file_extension": ".py",
   "mimetype": "text/x-python",
   "name": "python",
   "nbconvert_exporter": "python",
   "pygments_lexer": "ipython3",
   "version": "3.10.8"
  }
 },
 "nbformat": 4,
 "nbformat_minor": 5
}
