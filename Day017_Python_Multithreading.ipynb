{
 "cells": [
  {
   "cell_type": "markdown",
   "id": "66ed1ff5-24ac-434f-8252-0a5d7692b8f0",
   "metadata": {},
   "source": [
    "# Multithreading\n",
    "Executing multple threads on a single core"
   ]
  },
  {
   "cell_type": "code",
   "execution_count": 1,
   "id": "41e26142-9b5e-45d7-92ae-613eec2fd8eb",
   "metadata": {},
   "outputs": [],
   "source": [
    "import threading"
   ]
  },
  {
   "cell_type": "code",
   "execution_count": 2,
   "id": "fd612e0b-73c9-4f38-8c95-70fa645ed406",
   "metadata": {},
   "outputs": [],
   "source": [
    "def test(id):\n",
    "    print('program starts: ', id)"
   ]
  },
  {
   "cell_type": "code",
   "execution_count": 3,
   "id": "352fe9f5-d6b8-4917-962e-faa3b809feef",
   "metadata": {},
   "outputs": [
    {
     "name": "stdout",
     "output_type": "stream",
     "text": [
      "program starts:  45\n"
     ]
    }
   ],
   "source": [
    "test(45)"
   ]
  },
  {
   "cell_type": "code",
   "execution_count": 5,
   "id": "74e1ee61-7419-4f17-a31e-8c99da613bf0",
   "metadata": {},
   "outputs": [],
   "source": [
    "thread=[threading.Thread(target = test, args=(i,)) for i in range(10)]"
   ]
  },
  {
   "cell_type": "code",
   "execution_count": 6,
   "id": "9fdf8ce5-e13b-49e7-a344-44f9db550896",
   "metadata": {},
   "outputs": [
    {
     "name": "stdout",
     "output_type": "stream",
     "text": [
      "program starts:  0\n",
      "program starts:  1\n",
      "program starts:  2\n",
      "program starts:  3\n",
      "program starts:  4\n",
      "program starts:  5\n",
      "program starts:  6\n",
      "program starts:  7\n",
      "program starts:  8\n",
      "program starts:  9\n"
     ]
    }
   ],
   "source": [
    "for t in thread:\n",
    "    t.start()"
   ]
  },
  {
   "cell_type": "code",
   "execution_count": 7,
   "id": "9f56ab00-0012-47f6-a404-c9d8f3418317",
   "metadata": {},
   "outputs": [
    {
     "data": {
      "text/plain": [
       "[<Thread(Thread-5 (test), stopped 140345773913664)>,\n",
       " <Thread(Thread-6 (test), stopped 140345773913664)>,\n",
       " <Thread(Thread-7 (test), stopped 140345773913664)>,\n",
       " <Thread(Thread-8 (test), stopped 140345773913664)>,\n",
       " <Thread(Thread-9 (test), stopped 140345773913664)>,\n",
       " <Thread(Thread-10 (test), stopped 140345773913664)>,\n",
       " <Thread(Thread-11 (test), stopped 140345773913664)>,\n",
       " <Thread(Thread-12 (test), stopped 140345773913664)>,\n",
       " <Thread(Thread-13 (test), stopped 140345773913664)>,\n",
       " <Thread(Thread-14 (test), stopped 140345773913664)>]"
      ]
     },
     "execution_count": 7,
     "metadata": {},
     "output_type": "execute_result"
    }
   ],
   "source": [
    "thread"
   ]
  },
  {
   "cell_type": "code",
   "execution_count": 8,
   "id": "7c399ac6-71a7-42ba-b154-8f4d122ee12d",
   "metadata": {},
   "outputs": [
    {
     "data": {
      "text/plain": [
       "140346381857664"
      ]
     },
     "execution_count": 8,
     "metadata": {},
     "output_type": "execute_result"
    }
   ],
   "source": [
    "id(thread)"
   ]
  },
  {
   "cell_type": "markdown",
   "id": "2dc6cd3e-f46a-4db3-9a35-e95521e27464",
   "metadata": {},
   "source": [
    "### Example"
   ]
  },
  {
   "cell_type": "code",
   "execution_count": 9,
   "id": "ff9f53fd-d825-437b-923c-1262bdd2e0bb",
   "metadata": {},
   "outputs": [],
   "source": [
    "import threading\n",
    "import urllib.request\n",
    "\n",
    "def file_download(url, filename):\n",
    "    urllib.request.urlretrieve(url, filename)"
   ]
  },
  {
   "cell_type": "code",
   "execution_count": 11,
   "id": "80744437-99be-4b0d-be2b-501d8f586cb7",
   "metadata": {},
   "outputs": [],
   "source": [
    "#downloading single flle\n",
    "file_download('https://raw.githubusercontent.com/itsfoss/text-files/master/agatha.txt' , \"test.txt\")"
   ]
  },
  {
   "cell_type": "code",
   "execution_count": 12,
   "id": "1eabb41e-ec6f-4e04-9e5b-ef8c170a383b",
   "metadata": {},
   "outputs": [],
   "source": [
    "url_list  = ['https://raw.githubusercontent.com/itsfoss/text-files/master/agatha.txt','https://raw.githubusercontent.com/itsfoss/text-files/master/sherlock.txt','https://raw.githubusercontent.com/itsfoss/text-files/master/sample_log_file.txt']"
   ]
  },
  {
   "cell_type": "code",
   "execution_count": 13,
   "id": "4f359203-9b19-420a-8c4f-4e3f7ba21892",
   "metadata": {},
   "outputs": [
    {
     "data": {
      "text/plain": [
       "['https://raw.githubusercontent.com/itsfoss/text-files/master/agatha.txt',\n",
       " 'https://raw.githubusercontent.com/itsfoss/text-files/master/sherlock.txt',\n",
       " 'https://raw.githubusercontent.com/itsfoss/text-files/master/sample_log_file.txt']"
      ]
     },
     "execution_count": 13,
     "metadata": {},
     "output_type": "execute_result"
    }
   ],
   "source": [
    "url_list"
   ]
  },
  {
   "cell_type": "code",
   "execution_count": 19,
   "id": "191373d7-977e-4287-bcab-a6dac2190a9d",
   "metadata": {},
   "outputs": [],
   "source": [
    "#downloading from multiple urls\n",
    "file_name_list = ['data1.txt', 'data2.txt','data3.txt']\n",
    "\n",
    "thread2=[threading.Thread(target=file_download, args=(url_list[i], file_name_list[i])) for i in range(len(url_list))]\n"
   ]
  },
  {
   "cell_type": "code",
   "execution_count": 20,
   "id": "58ce289f-8b77-4695-a334-2042d15a5a5f",
   "metadata": {},
   "outputs": [
    {
     "data": {
      "text/plain": [
       "[<Thread(Thread-18 (file_download), initial)>,\n",
       " <Thread(Thread-19 (file_download), initial)>,\n",
       " <Thread(Thread-20 (file_download), initial)>]"
      ]
     },
     "execution_count": 20,
     "metadata": {},
     "output_type": "execute_result"
    }
   ],
   "source": [
    "thread2"
   ]
  },
  {
   "cell_type": "markdown",
   "id": "14190978-d195-4eba-a0b9-9073ff7c51eb",
   "metadata": {},
   "source": [
    "Created three threads of file_download method for downloading each file"
   ]
  },
  {
   "cell_type": "code",
   "execution_count": 21,
   "id": "0543b9e9-e671-416a-b795-05a8e6f6da1e",
   "metadata": {},
   "outputs": [],
   "source": [
    "for t in thread2:\n",
    "    t.start()"
   ]
  },
  {
   "cell_type": "code",
   "execution_count": 22,
   "id": "11d1f480-9cc8-435e-bddc-7319647aa8c1",
   "metadata": {},
   "outputs": [
    {
     "data": {
      "text/plain": [
       "[<Thread(Thread-18 (file_download), stopped 140345758180928)>,\n",
       " <Thread(Thread-19 (file_download), stopped 140345749788224)>,\n",
       " <Thread(Thread-20 (file_download), stopped 140345773913664)>]"
      ]
     },
     "execution_count": 22,
     "metadata": {},
     "output_type": "execute_result"
    }
   ],
   "source": [
    "thread2"
   ]
  },
  {
   "cell_type": "markdown",
   "id": "7aba1947-3569-47f2-baa6-c4ea0b825ca8",
   "metadata": {},
   "source": [
    "### Example 2"
   ]
  },
  {
   "cell_type": "code",
   "execution_count": 23,
   "id": "d7b9f67b-3231-4919-ba87-dace8c057a94",
   "metadata": {},
   "outputs": [],
   "source": [
    "import time\n",
    "import threading"
   ]
  },
  {
   "cell_type": "code",
   "execution_count": 35,
   "id": "047baaf9-4ea1-4ea8-81e5-c3e1cb095cc2",
   "metadata": {},
   "outputs": [],
   "source": [
    "def test1(id):\n",
    "    for i in range(10):\n",
    "        print('test1 %id printing %d %s' %(id,i,time.ctime()))\n",
    "        time.sleep(1)"
   ]
  },
  {
   "cell_type": "code",
   "execution_count": 36,
   "id": "f05b0dba-7b7f-4a09-a9a8-1bfd167c732a",
   "metadata": {},
   "outputs": [
    {
     "name": "stdout",
     "output_type": "stream",
     "text": [
      "test1 1d printing 0 Tue Feb 14 15:47:28 2023\n",
      "test1 1d printing 1 Tue Feb 14 15:47:29 2023\n",
      "test1 1d printing 2 Tue Feb 14 15:47:30 2023\n",
      "test1 1d printing 3 Tue Feb 14 15:47:31 2023\n",
      "test1 1d printing 4 Tue Feb 14 15:47:32 2023\n",
      "test1 1d printing 5 Tue Feb 14 15:47:33 2023\n",
      "test1 1d printing 6 Tue Feb 14 15:47:34 2023\n",
      "test1 1d printing 7 Tue Feb 14 15:47:35 2023\n",
      "test1 1d printing 8 Tue Feb 14 15:47:36 2023\n",
      "test1 1d printing 9 Tue Feb 14 15:47:37 2023\n"
     ]
    }
   ],
   "source": [
    "test1(1)"
   ]
  },
  {
   "cell_type": "code",
   "execution_count": 37,
   "id": "bd347472-b363-4079-a036-9caba853833b",
   "metadata": {},
   "outputs": [],
   "source": [
    "thread2=[threading.Thread(target=test1, args=(i,)) for i in range(3)]"
   ]
  },
  {
   "cell_type": "code",
   "execution_count": 38,
   "id": "d20d856e-ba56-4bb4-bed5-c539bfa50f85",
   "metadata": {},
   "outputs": [
    {
     "name": "stdout",
     "output_type": "stream",
     "text": [
      "test1 0d printing 0 Tue Feb 14 15:47:48 2023\n",
      "test1 1d printing 0 Tue Feb 14 15:47:48 2023\n",
      "test1 2d printing 0 Tue Feb 14 15:47:48 2023\n",
      "test1 0d printing 1 Tue Feb 14 15:47:49 2023\n",
      "test1 1d printing 1 Tue Feb 14 15:47:49 2023\n",
      "test1 2d printing 1 Tue Feb 14 15:47:49 2023\n",
      "test1 0d printing 2 Tue Feb 14 15:47:50 2023test1 1d printing 2 Tue Feb 14 15:47:50 2023\n",
      "test1 2d printing 2 Tue Feb 14 15:47:50 2023\n",
      "\n",
      "test1 1d printing 3 Tue Feb 14 15:47:51 2023test1 0d printing 3 Tue Feb 14 15:47:51 2023\n",
      "test1 2d printing 3 Tue Feb 14 15:47:51 2023\n",
      "\n",
      "test1 0d printing 4 Tue Feb 14 15:47:52 2023test1 2d printing 4 Tue Feb 14 15:47:52 2023\n",
      "test1 1d printing 4 Tue Feb 14 15:47:52 2023\n",
      "\n",
      "test1 2d printing 5 Tue Feb 14 15:47:53 2023\n",
      "test1 0d printing 5 Tue Feb 14 15:47:53 2023\n",
      "test1 1d printing 5 Tue Feb 14 15:47:53 2023\n",
      "test1 2d printing 6 Tue Feb 14 15:47:54 2023test1 0d printing 6 Tue Feb 14 15:47:54 2023\n",
      "\n",
      "test1 1d printing 6 Tue Feb 14 15:47:54 2023\n",
      "test1 0d printing 7 Tue Feb 14 15:47:55 2023test1 2d printing 7 Tue Feb 14 15:47:55 2023\n",
      "test1 1d printing 7 Tue Feb 14 15:47:55 2023\n",
      "\n",
      "test1 0d printing 8 Tue Feb 14 15:47:56 2023\n",
      "test1 2d printing 8 Tue Feb 14 15:47:56 2023\n",
      "test1 1d printing 8 Tue Feb 14 15:47:56 2023\n",
      "test1 0d printing 9 Tue Feb 14 15:47:57 2023test1 1d printing 9 Tue Feb 14 15:47:57 2023\n",
      "\n",
      "test1 2d printing 9 Tue Feb 14 15:47:57 2023\n"
     ]
    }
   ],
   "source": [
    "for t in thread2:\n",
    "    t.start()"
   ]
  },
  {
   "cell_type": "markdown",
   "id": "a196d5ca-92c3-4ff9-ae69-688f3bde125f",
   "metadata": {},
   "source": [
    "Three threads are created. the first thread runs 3 times then when it sleeps at time.sleep(). the program is switched to the next thread and so on.\n",
    "\n",
    "Now lets remove time.sleep()"
   ]
  },
  {
   "cell_type": "code",
   "execution_count": 39,
   "id": "800f2644-29de-46cb-a908-968952eac7fa",
   "metadata": {},
   "outputs": [],
   "source": [
    "def test1(id):\n",
    "    for i in range(10):\n",
    "        print('test1 %id printing %d %s' %(id,i,time.ctime()))\n",
    "        #time.sleep(1)"
   ]
  },
  {
   "cell_type": "code",
   "execution_count": 40,
   "id": "a66fa00f-23f5-4c8f-9e6d-27ad96f83427",
   "metadata": {},
   "outputs": [],
   "source": [
    "thread3=[threading.Thread(target=test1, args=(i,)) for i in range(3)]"
   ]
  },
  {
   "cell_type": "code",
   "execution_count": 41,
   "id": "b00af7f6-5f6d-447d-80b1-f1d32a16b949",
   "metadata": {},
   "outputs": [
    {
     "name": "stdout",
     "output_type": "stream",
     "text": [
      "test1 0d printing 0 Tue Feb 14 15:48:02 2023\n",
      "test1 0d printing 1 Tue Feb 14 15:48:02 2023\n",
      "test1 0d printing 2 Tue Feb 14 15:48:02 2023\n",
      "test1 0d printing 3 Tue Feb 14 15:48:02 2023\n",
      "test1 0d printing 4 Tue Feb 14 15:48:02 2023\n",
      "test1 0d printing 5 Tue Feb 14 15:48:02 2023\n",
      "test1 0d printing 6 Tue Feb 14 15:48:02 2023\n",
      "test1 0d printing 7 Tue Feb 14 15:48:02 2023\n",
      "test1 0d printing 8 Tue Feb 14 15:48:02 2023\n",
      "test1 0d printing 9 Tue Feb 14 15:48:02 2023\n",
      "test1 1d printing 0 Tue Feb 14 15:48:02 2023\n",
      "test1 1d printing 1 Tue Feb 14 15:48:02 2023\n",
      "test1 1d printing 2 Tue Feb 14 15:48:02 2023\n",
      "test1 1d printing 3 Tue Feb 14 15:48:02 2023\n",
      "test1 1d printing 4 Tue Feb 14 15:48:02 2023\n",
      "test1 1d printing 5 Tue Feb 14 15:48:02 2023\n",
      "test1 1d printing 6 Tue Feb 14 15:48:02 2023\n",
      "test1 1d printing 7 Tue Feb 14 15:48:02 2023\n",
      "test1 1d printing 8 Tue Feb 14 15:48:02 2023\n",
      "test1 1d printing 9 Tue Feb 14 15:48:02 2023\n",
      "test1 2d printing 0 Tue Feb 14 15:48:02 2023\n",
      "test1 2d printing 1 Tue Feb 14 15:48:02 2023\n",
      "test1 2d printing 2 Tue Feb 14 15:48:02 2023\n",
      "test1 2d printing 3 Tue Feb 14 15:48:02 2023\n",
      "test1 2d printing 4 Tue Feb 14 15:48:02 2023\n",
      "test1 2d printing 5 Tue Feb 14 15:48:02 2023\n",
      "test1 2d printing 6 Tue Feb 14 15:48:02 2023\n",
      "test1 2d printing 7 Tue Feb 14 15:48:02 2023\n",
      "test1 2d printing 8 Tue Feb 14 15:48:02 2023\n",
      "test1 2d printing 9 Tue Feb 14 15:48:02 2023\n"
     ]
    }
   ],
   "source": [
    "for t in thread3:\n",
    "    t.start()"
   ]
  },
  {
   "cell_type": "markdown",
   "id": "808e92f2-615f-435c-b6be-fc1f726b8848",
   "metadata": {},
   "source": [
    "when there's no time to sleep, the single core will execute the first thread completely and then move on to the next thread"
   ]
  },
  {
   "cell_type": "markdown",
   "id": "e7e3eb6d-7839-46db-9926-97f5d34b5ee3",
   "metadata": {},
   "source": [
    "### Example 3"
   ]
  },
  {
   "cell_type": "code",
   "execution_count": 60,
   "id": "026b0490-3470-4d87-8265-c2323343a4bf",
   "metadata": {},
   "outputs": [],
   "source": [
    "shared_var = 0\n",
    "lock_var = threading.Lock()\n",
    "def test2(id):\n",
    "    global shared_var\n",
    "    with lock_var:\n",
    "        shared_var = shared_var+1\n",
    "        print('test2 id is %d has increased the shared variable by %d ' %(id,shared_var)) "
   ]
  },
  {
   "cell_type": "code",
   "execution_count": 64,
   "id": "6150e4a7-db15-47f5-a92a-a964c259ce4a",
   "metadata": {},
   "outputs": [],
   "source": [
    "thread3=[threading.Thread(target=test2, args=(i,)) for i in range(3)]"
   ]
  },
  {
   "cell_type": "code",
   "execution_count": 65,
   "id": "13956872-30ae-4756-9442-0eaf031acb56",
   "metadata": {},
   "outputs": [
    {
     "data": {
      "text/plain": [
       "[<Thread(Thread-51 (test2), initial)>,\n",
       " <Thread(Thread-52 (test2), initial)>,\n",
       " <Thread(Thread-53 (test2), initial)>]"
      ]
     },
     "execution_count": 65,
     "metadata": {},
     "output_type": "execute_result"
    }
   ],
   "source": [
    "thread3"
   ]
  },
  {
   "cell_type": "code",
   "execution_count": 66,
   "id": "997f1610-6661-4034-94a0-d5a4aadf30fa",
   "metadata": {},
   "outputs": [
    {
     "name": "stdout",
     "output_type": "stream",
     "text": [
      "test2 id is 0 has increased the shared variable by 4 \n",
      "test2 id is 1 has increased the shared variable by 5 \n",
      "test2 id is 2 has increased the shared variable by 6 \n"
     ]
    }
   ],
   "source": [
    "for t in thread3:\n",
    "    t.start()"
   ]
  },
  {
   "cell_type": "code",
   "execution_count": 67,
   "id": "316f7149-3a7b-48e7-beb1-e2ac12354ddc",
   "metadata": {},
   "outputs": [
    {
     "name": "stdout",
     "output_type": "stream",
     "text": [
      "test2 id is 0 has increased the shared variable by 7 \n"
     ]
    }
   ],
   "source": [
    "test2(0)"
   ]
  },
  {
   "cell_type": "code",
   "execution_count": null,
   "id": "084824e3-01e7-4f32-bfd9-dd169188bc88",
   "metadata": {},
   "outputs": [],
   "source": []
  }
 ],
 "metadata": {
  "kernelspec": {
   "display_name": "Python 3 (ipykernel)",
   "language": "python",
   "name": "python3"
  },
  "language_info": {
   "codemirror_mode": {
    "name": "ipython",
    "version": 3
   },
   "file_extension": ".py",
   "mimetype": "text/x-python",
   "name": "python",
   "nbconvert_exporter": "python",
   "pygments_lexer": "ipython3",
   "version": "3.10.8"
  }
 },
 "nbformat": 4,
 "nbformat_minor": 5
}
