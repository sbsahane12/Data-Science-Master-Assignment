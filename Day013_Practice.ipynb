{
 "cells": [
  {
   "cell_type": "markdown",
   "id": "f21deedf-38ca-493a-b159-c9172fff3a3c",
   "metadata": {},
   "source": [
    "# First-Class Functions:\n",
    "We should be able to treat functions just like any other object or variable. i.e- pass it to another fuction, assign a function to a variable, return in a result from another function"
   ]
  },
  {
   "cell_type": "markdown",
   "id": "854e3e7a-4fd5-45be-aa3f-613868651840",
   "metadata": {},
   "source": [
    "## Assign a function to a variable"
   ]
  },
  {
   "cell_type": "code",
   "execution_count": 1,
   "id": "993905ae-a1ea-49b6-a192-a09a71cc4479",
   "metadata": {},
   "outputs": [
    {
     "name": "stdout",
     "output_type": "stream",
     "text": [
      "<function square at 0x7f689cf9b880>\n",
      "25\n"
     ]
    }
   ],
   "source": [
    "def square(x):\n",
    "    return x*x\n",
    "\n",
    "f = square(5)\n",
    "\n",
    "print(square)\n",
    "print(f)"
   ]
  },
  {
   "cell_type": "code",
   "execution_count": 2,
   "id": "db38ce26-41a3-4951-9215-8c56496c1c38",
   "metadata": {},
   "outputs": [
    {
     "name": "stdout",
     "output_type": "stream",
     "text": [
      "<function square at 0x7f689cf9ac20>\n",
      "<function square at 0x7f689cf9ac20>\n"
     ]
    }
   ],
   "source": [
    "def square(x):\n",
    "    return x*x\n",
    "\n",
    "f = square ## assigned function to a variable\n",
    "\n",
    "print(square)\n",
    "print(f)"
   ]
  },
  {
   "cell_type": "code",
   "execution_count": 3,
   "id": "e07c381b-c3f0-412c-b100-c3173efd7798",
   "metadata": {},
   "outputs": [
    {
     "data": {
      "text/plain": [
       "25"
      ]
     },
     "execution_count": 3,
     "metadata": {},
     "output_type": "execute_result"
    }
   ],
   "source": [
    "square(5)"
   ]
  },
  {
   "cell_type": "code",
   "execution_count": 4,
   "id": "ca977701-2856-4fd5-99ae-cb34e23fde83",
   "metadata": {},
   "outputs": [
    {
     "data": {
      "text/plain": [
       "25"
      ]
     },
     "execution_count": 4,
     "metadata": {},
     "output_type": "execute_result"
    }
   ],
   "source": [
    "f(5)"
   ]
  },
  {
   "cell_type": "markdown",
   "id": "caa6d687-5a92-4f72-8e87-1957e15ea82d",
   "metadata": {},
   "source": [
    "## Pass Functions as arguments to other functions\n",
    "if a function accepts other functions as arguments or return other functions, that's what we call **Higher-order functions**"
   ]
  },
  {
   "cell_type": "code",
   "execution_count": 10,
   "id": "63677689-c3a5-4bcc-9c8c-cf65e93f9c53",
   "metadata": {},
   "outputs": [],
   "source": [
    "def square_func(x):\n",
    "    return x*x"
   ]
  },
  {
   "cell_type": "code",
   "execution_count": 14,
   "id": "28a9748f-8c1c-4f44-a217-ecde3f360059",
   "metadata": {},
   "outputs": [],
   "source": [
    "def cube_func(x):\n",
    "    return x*x*x"
   ]
  },
  {
   "cell_type": "code",
   "execution_count": 13,
   "id": "f5d29ff1-d941-4458-90a9-be4bfc958da3",
   "metadata": {},
   "outputs": [
    {
     "data": {
      "text/plain": [
       "[1, 4, 9, 16, 25]"
      ]
     },
     "execution_count": 13,
     "metadata": {},
     "output_type": "execute_result"
    }
   ],
   "source": [
    "def my_map(func,arg_list):\n",
    "    result = []\n",
    "    for each_elem in arg_list:\n",
    "        result.append(func(each_elem))\n",
    "    return result\n",
    "\n",
    "test_list = [1,2,3,4,5]\n",
    "\n",
    "my_map(square_func, test_list)"
   ]
  },
  {
   "cell_type": "code",
   "execution_count": 15,
   "id": "aeb539d2-e946-41e5-9b36-a9a858f558e6",
   "metadata": {},
   "outputs": [
    {
     "data": {
      "text/plain": [
       "[1, 8, 27, 64, 125]"
      ]
     },
     "execution_count": 15,
     "metadata": {},
     "output_type": "execute_result"
    }
   ],
   "source": [
    "my_map(cube_func, test_list)"
   ]
  },
  {
   "cell_type": "markdown",
   "id": "7c0f11a0-0710-498b-a3e6-b0f52ce62965",
   "metadata": {},
   "source": [
    "## Return Function from another Function"
   ]
  },
  {
   "cell_type": "code",
   "execution_count": 16,
   "id": "f1c80400-060d-43e2-ba7f-0dce98fd83ca",
   "metadata": {},
   "outputs": [],
   "source": [
    "def logger(msg):\n",
    "    def log_message():\n",
    "        print('Log: ', msg)\n",
    "        \n",
    "    return log_message #returning log_message function"
   ]
  },
  {
   "cell_type": "code",
   "execution_count": 18,
   "id": "f25374d2-671c-41e6-8da1-8c0036f54a29",
   "metadata": {},
   "outputs": [],
   "source": [
    "log_hi = logger('hi!') #log_hi is storing the returned log_message function"
   ]
  },
  {
   "cell_type": "code",
   "execution_count": 20,
   "id": "5c67422a-7366-4071-9a5d-76bab3e5f3a6",
   "metadata": {},
   "outputs": [
    {
     "name": "stdout",
     "output_type": "stream",
     "text": [
      "Log:  hi!\n"
     ]
    }
   ],
   "source": [
    "log_hi()"
   ]
  },
  {
   "cell_type": "code",
   "execution_count": 26,
   "id": "140d437f-6549-4776-8b3a-03c6ef0549af",
   "metadata": {},
   "outputs": [],
   "source": [
    "def html_tag(tag):\n",
    "    def wrap_text(msg):\n",
    "        print('<{0}>{1}</{0}>'.format(tag,msg))\n",
    "    return wrap_text #returning wrap_text function"
   ]
  },
  {
   "cell_type": "code",
   "execution_count": 27,
   "id": "2553ea37-fc4a-42a9-a663-ee332a9f3ab1",
   "metadata": {},
   "outputs": [
    {
     "name": "stdout",
     "output_type": "stream",
     "text": [
      "<function html_tag.<locals>.wrap_text at 0x7f68985268c0>\n"
     ]
    }
   ],
   "source": [
    "print_h1 = html_tag('h1') #print_h1 storing the returned wrap_text function\n",
    "print(print_h1)"
   ]
  },
  {
   "cell_type": "code",
   "execution_count": 28,
   "id": "c8bc7dd7-6f65-41e6-9d20-d2ae3d4db6c4",
   "metadata": {},
   "outputs": [
    {
     "name": "stdout",
     "output_type": "stream",
     "text": [
      "<h1>Test Headline!</h1>\n"
     ]
    }
   ],
   "source": [
    "print_h1('Test Headline!')"
   ]
  },
  {
   "cell_type": "code",
   "execution_count": 29,
   "id": "ba93e250-d582-4ea2-9c37-812b6d361000",
   "metadata": {},
   "outputs": [
    {
     "name": "stdout",
     "output_type": "stream",
     "text": [
      "<h1>Another Headline!</h1>\n"
     ]
    }
   ],
   "source": [
    "print_h1('Another Headline!')"
   ]
  },
  {
   "cell_type": "markdown",
   "id": "513497d9-7c65-4223-98b5-fb86d3a11674",
   "metadata": {},
   "source": [
    "notice that the print_h1 remembers the argument **h1** that we passed to html_tag(**h1**) method."
   ]
  },
  {
   "cell_type": "markdown",
   "id": "378c5940-4b3b-423e-aa18-513c3199e02e",
   "metadata": {},
   "source": [
    "# Closures"
   ]
  },
  {
   "cell_type": "code",
   "execution_count": 52,
   "id": "906fdd17-f105-498f-b0c8-c49f603a9d88",
   "metadata": {},
   "outputs": [],
   "source": [
    "def outer_func():\n",
    "    message = 'Hi'\n",
    "    \n",
    "    def inner_func():\n",
    "        print(message)\n",
    "    \n",
    "    return inner_func() #executing the function and returning it"
   ]
  },
  {
   "cell_type": "markdown",
   "id": "0abcedaa-4680-48ed-ba45-7735767b2e23",
   "metadata": {},
   "source": [
    "Notice above that we're executing the function and Then returning it"
   ]
  },
  {
   "cell_type": "code",
   "execution_count": 53,
   "id": "435af095-d061-4fc2-b1d2-67c8e9280163",
   "metadata": {},
   "outputs": [
    {
     "name": "stdout",
     "output_type": "stream",
     "text": [
      "Hi\n"
     ]
    }
   ],
   "source": [
    "outer_func()"
   ]
  },
  {
   "cell_type": "code",
   "execution_count": 54,
   "id": "f96d9daf-9dda-44da-8079-509e858d8c17",
   "metadata": {},
   "outputs": [],
   "source": [
    "def outer_func():\n",
    "    message = 'Hi'\n",
    "    \n",
    "    def inner_func():\n",
    "        print(message)\n",
    "    \n",
    "    return inner_func #returning the function without executing"
   ]
  },
  {
   "cell_type": "markdown",
   "id": "bd5baa4a-a254-429e-af06-31d91e226fa9",
   "metadata": {},
   "source": [
    "Notice above that we are returning the function without executing it"
   ]
  },
  {
   "cell_type": "code",
   "execution_count": 55,
   "id": "2e51fd7b-9232-432d-98ec-8f33112d1ff2",
   "metadata": {},
   "outputs": [
    {
     "name": "stdout",
     "output_type": "stream",
     "text": [
      "<function outer_func.<locals>.inner_func at 0x7f68982a57e0>\n"
     ]
    }
   ],
   "source": [
    "print(outer_func())"
   ]
  },
  {
   "cell_type": "code",
   "execution_count": 56,
   "id": "7eafaadd-1045-4fde-901c-24117f6bacc1",
   "metadata": {},
   "outputs": [],
   "source": [
    "my_func = outer_func() # store the returned inner_func"
   ]
  },
  {
   "cell_type": "code",
   "execution_count": 57,
   "id": "b8d66cbe-4e75-423c-9982-567a66c023c8",
   "metadata": {},
   "outputs": [
    {
     "name": "stdout",
     "output_type": "stream",
     "text": [
      "inner_func\n"
     ]
    }
   ],
   "source": [
    "print(my_func.__name__)"
   ]
  },
  {
   "cell_type": "code",
   "execution_count": 58,
   "id": "5f80ee1f-6809-4f2d-8863-e677529bbd67",
   "metadata": {},
   "outputs": [
    {
     "name": "stdout",
     "output_type": "stream",
     "text": [
      "Hi\n"
     ]
    }
   ],
   "source": [
    "my_func()"
   ]
  },
  {
   "cell_type": "markdown",
   "id": "b6a76277-c200-49ae-975b-6b4f95c55b8c",
   "metadata": {},
   "source": [
    "Notice that executing **my_fucn** which is the returned **inner_func()** is printing **Hi**, which is the message variable that we defined in the **outer_func()**"
   ]
  },
  {
   "cell_type": "markdown",
   "id": "150608b2-34db-4ef6-a8cc-f33fd63a8da9",
   "metadata": {},
   "source": [
    "**A closure is an inner function that remembers, and has access to,  variables in the local scope in which it was created. Even after the outer function has finished executing.**\n",
    "\n",
    "**A closure closes over the free variable from their environment** "
   ]
  },
  {
   "cell_type": "code",
   "execution_count": 59,
   "id": "aa67f760-befa-4a0e-8a2a-f1e143853edf",
   "metadata": {},
   "outputs": [],
   "source": [
    "def outer_func(msg):\n",
    "    message = msg\n",
    "    def inner_func():\n",
    "        print(message)\n",
    "    return inner_func"
   ]
  },
  {
   "cell_type": "code",
   "execution_count": 60,
   "id": "e147dfdf-bc16-4ddb-920b-4aaa7a4b5c42",
   "metadata": {},
   "outputs": [],
   "source": [
    "hi_func = outer_func('Hi')\n",
    "hello_func = outer_func('Hello')"
   ]
  },
  {
   "cell_type": "code",
   "execution_count": 62,
   "id": "62584cab-da04-42ae-9230-e0a9ae0e07bf",
   "metadata": {},
   "outputs": [
    {
     "name": "stdout",
     "output_type": "stream",
     "text": [
      "Hi\n",
      "Hello\n"
     ]
    }
   ],
   "source": [
    "hi_func()\n",
    "hello_func()"
   ]
  },
  {
   "cell_type": "markdown",
   "id": "a00c4416-2fbc-4a28-bfad-07ef9446ed33",
   "metadata": {},
   "source": [
    "Again, **A closure closes over the free variable from their environment** <br>\n",
    "In the above case **msg** is that free variable"
   ]
  },
  {
   "cell_type": "markdown",
   "id": "8c08dbaf-fee9-4e62-8c45-f66ef839143a",
   "metadata": {},
   "source": [
    "### Good Example:"
   ]
  },
  {
   "cell_type": "code",
   "execution_count": 68,
   "id": "d9c71713-486d-4baf-845e-5f673562bd36",
   "metadata": {},
   "outputs": [],
   "source": [
    "import logging\n",
    "logging.basicConfig(filename = 'example.log', level = logging.INFO)\n",
    "\n",
    "def logger(func):\n",
    "    def log_func(*args): #takes any number of arguments\n",
    "        logging.info('Running \"{}\" with arguments {}'.format(func.__name__,args))\n",
    "        print(func(*args))\n",
    "    return log_func"
   ]
  },
  {
   "cell_type": "code",
   "execution_count": 69,
   "id": "ef1eb33a-222f-4cba-813f-8f6734e2fd9c",
   "metadata": {},
   "outputs": [],
   "source": [
    "def add(x,y):\n",
    "    return x+y\n",
    "\n",
    "def sub(x,y):\n",
    "    return x-y"
   ]
  },
  {
   "cell_type": "code",
   "execution_count": 70,
   "id": "172dc475-0728-4a9c-89fe-7c881036e80a",
   "metadata": {},
   "outputs": [],
   "source": [
    "add_logger = logger(add)\n",
    "sub_logger = logger(sub)"
   ]
  },
  {
   "cell_type": "code",
   "execution_count": 71,
   "id": "1ddf92a5-2d4a-46e3-8420-8b5919d747a0",
   "metadata": {},
   "outputs": [
    {
     "name": "stdout",
     "output_type": "stream",
     "text": [
      "6\n",
      "9\n"
     ]
    }
   ],
   "source": [
    "add_logger(3,3)\n",
    "add_logger(4,5)"
   ]
  },
  {
   "cell_type": "code",
   "execution_count": 72,
   "id": "6fda2e32-8248-42b1-ae25-94370be2ea69",
   "metadata": {},
   "outputs": [
    {
     "name": "stdout",
     "output_type": "stream",
     "text": [
      "5\n",
      "29\n"
     ]
    }
   ],
   "source": [
    "sub_logger(10,5)\n",
    "sub_logger(45,16)"
   ]
  },
  {
   "cell_type": "markdown",
   "id": "67b17793-ec4b-4522-87fd-5480870bbcfa",
   "metadata": {},
   "source": [
    "# Decorators\n",
    "**A decorator is a function that takes another function as an argument, add some kind of functionality and then returns another function. All of this without altering the source code of the original function that we passed in.**"
   ]
  },
  {
   "cell_type": "code",
   "execution_count": 85,
   "id": "761f7f5e-f332-452d-b96e-afcbc8f787fe",
   "metadata": {},
   "outputs": [],
   "source": [
    "def decorator_function(original_function):\n",
    "    def wrapper_function():\n",
    "        #adding functionality\n",
    "        print('wrapper execute this before {}'.format(original_function.__name__))\n",
    "        return original_function()\n",
    "    return wrapper_function"
   ]
  },
  {
   "cell_type": "code",
   "execution_count": 86,
   "id": "51cb620a-c57a-4b57-862d-dad47ac27301",
   "metadata": {},
   "outputs": [],
   "source": [
    "def display():\n",
    "    print('display function ran')"
   ]
  },
  {
   "cell_type": "code",
   "execution_count": 88,
   "id": "9ac82017-ff62-430f-b026-6e6294be0bc6",
   "metadata": {},
   "outputs": [],
   "source": [
    "decorated_display = decorator_function(display)"
   ]
  },
  {
   "cell_type": "code",
   "execution_count": 89,
   "id": "d37e9202-f5f6-4a39-b9c3-5f9f64aa17f2",
   "metadata": {},
   "outputs": [
    {
     "name": "stdout",
     "output_type": "stream",
     "text": [
      "wrapper execute this before display\n",
      "display function ran\n"
     ]
    }
   ],
   "source": [
    "decorated_display()"
   ]
  },
  {
   "cell_type": "markdown",
   "id": "ae350a87-21a5-4afc-bfd1-0d24db94d21b",
   "metadata": {},
   "source": [
    "In the above example the line **decorated_display = decorator_function(display)** adds extra functionality to our **display** function by passing it to the **decorator_function**\n",
    "\n",
    "We can acheive the same objective by just writing **@decorator_function** where **decoartor_function** is just the name of our decorator function.\n",
    "\n",
    "So every time we write **@somedecoratorfunctionname** above some other function, it just simply means we're modifying that function using the decorator function. \n",
    "\n",
    "Let's rewrite the above example:"
   ]
  },
  {
   "cell_type": "code",
   "execution_count": 90,
   "id": "908ba33b-8f8c-4692-95fa-8d0854b2128a",
   "metadata": {},
   "outputs": [],
   "source": [
    "def decorator_function(original_function):\n",
    "    def wrapper_function():\n",
    "        #adding functionality\n",
    "        print('wrapper execute this before {}'.format(original_function.__name__))\n",
    "        return original_function()\n",
    "    return wrapper_function"
   ]
  },
  {
   "cell_type": "code",
   "execution_count": 91,
   "id": "64373c24-adcb-42cd-bf8b-d7891967450b",
   "metadata": {},
   "outputs": [],
   "source": [
    "@decorator_function\n",
    "def display():\n",
    "    print('display function ran')"
   ]
  },
  {
   "cell_type": "code",
   "execution_count": 92,
   "id": "42290308-6b32-4e4c-bbe2-462dccdb7f78",
   "metadata": {},
   "outputs": [
    {
     "name": "stdout",
     "output_type": "stream",
     "text": [
      "wrapper execute this before display\n",
      "display function ran\n"
     ]
    }
   ],
   "source": [
    "display()"
   ]
  },
  {
   "cell_type": "markdown",
   "id": "0809318f-9a7b-467a-833f-5fed464b5f79",
   "metadata": {},
   "source": [
    "**Let's try applyting the same decorator to another function**"
   ]
  },
  {
   "cell_type": "code",
   "execution_count": 93,
   "id": "6da1f1be-efd5-423f-b5c3-8bb6194ed7d0",
   "metadata": {},
   "outputs": [],
   "source": [
    "@decorator_function\n",
    "def display_info(name,age):\n",
    "    print('display_info ran with arguments ({},{})'.format(name,age))"
   ]
  },
  {
   "cell_type": "code",
   "execution_count": 95,
   "id": "c0c20b51-88a1-41ec-a46e-993f56a867af",
   "metadata": {},
   "outputs": [
    {
     "ename": "TypeError",
     "evalue": "decorator_function.<locals>.wrapper_function() takes 0 positional arguments but 2 were given",
     "output_type": "error",
     "traceback": [
      "\u001b[0;31m---------------------------------------------------------------------------\u001b[0m",
      "\u001b[0;31mTypeError\u001b[0m                                 Traceback (most recent call last)",
      "Cell \u001b[0;32mIn[95], line 1\u001b[0m\n\u001b[0;32m----> 1\u001b[0m \u001b[43mdisplay_info\u001b[49m\u001b[43m(\u001b[49m\u001b[38;5;124;43m'\u001b[39;49m\u001b[38;5;124;43mJohn\u001b[39;49m\u001b[38;5;124;43m'\u001b[39;49m\u001b[43m,\u001b[49m\u001b[38;5;241;43m25\u001b[39;49m\u001b[43m)\u001b[49m\n",
      "\u001b[0;31mTypeError\u001b[0m: decorator_function.<locals>.wrapper_function() takes 0 positional arguments but 2 were given"
     ]
    }
   ],
   "source": [
    "display_info('John',25)"
   ]
  },
  {
   "cell_type": "markdown",
   "id": "825d6463-b316-4b74-8247-fe8f92152256",
   "metadata": {},
   "source": [
    "We get an error because our wrapper_function inside the deocorator_function is not expecting any input arguments. We can overcome this by passing *args and *kwargs to the wrapper function\n",
    "**So lets rewrite our decorator function with these arguments and then try applying the decorator function to both the other functions**"
   ]
  },
  {
   "cell_type": "code",
   "execution_count": 96,
   "id": "37902daa-1e57-4ed8-9656-7c2d00b6649b",
   "metadata": {},
   "outputs": [],
   "source": [
    "def decorator_function(original_function):\n",
    "    def wrapper_function(*args, **kwargs): ##adding args and kwargs\n",
    "        #adding functionality\n",
    "        print('wrapper execute this before {}'.format(original_function.__name__))\n",
    "        return original_function(*args, **kwargs)\n",
    "    return wrapper_function"
   ]
  },
  {
   "cell_type": "code",
   "execution_count": 97,
   "id": "e4f667f3-df0e-48b8-8600-11f958ac9eff",
   "metadata": {},
   "outputs": [],
   "source": [
    "@decorator_function\n",
    "def display():\n",
    "    print('display function ran')"
   ]
  },
  {
   "cell_type": "code",
   "execution_count": 98,
   "id": "b21c65a4-de34-4129-aca9-2d12c16552b3",
   "metadata": {},
   "outputs": [
    {
     "name": "stdout",
     "output_type": "stream",
     "text": [
      "wrapper execute this before display\n",
      "display function ran\n"
     ]
    }
   ],
   "source": [
    "display()"
   ]
  },
  {
   "cell_type": "markdown",
   "id": "fe98623a-54f7-418b-adb8-abfe1462803e",
   "metadata": {},
   "source": [
    "@decorator_function\n",
    "def display_info(name,age):\n",
    "    print('display_info ran with arguments ({},{})'.format(name,age))"
   ]
  },
  {
   "cell_type": "code",
   "execution_count": 101,
   "id": "47ab81ea-df98-483a-8a1d-046234071655",
   "metadata": {},
   "outputs": [
    {
     "name": "stdout",
     "output_type": "stream",
     "text": [
      "wrapper execute this before display_info\n",
      "display_info ran with arguments (John,25)\n"
     ]
    }
   ],
   "source": [
    "display_info('John',25)"
   ]
  },
  {
   "cell_type": "markdown",
   "id": "8de7a147-ce62-4e42-9e17-8eb16638a28e",
   "metadata": {},
   "source": [
    "## Good Example 1:"
   ]
  },
  {
   "cell_type": "code",
   "execution_count": 118,
   "id": "8b5b3f29-1ea2-4235-9b28-f4aebe389fbf",
   "metadata": {},
   "outputs": [],
   "source": [
    "def my_logger(orig_func):\n",
    "    import logging\n",
    "    logging.basicConfig(filename = 'display_info.log', level = logging.INFO)\n",
    "\n",
    "    def wrapper(*args, **kwargs): ##adding args and kwargs\n",
    "        #adding functionality\n",
    "        logging.info(\n",
    "            'Ran with args: {}, and kwargs: {}'.format(args,kwargs))\n",
    "        return orig_func(*args, **kwargs)\n",
    "        \n",
    "    return wrapper"
   ]
  },
  {
   "cell_type": "code",
   "execution_count": 119,
   "id": "68919048-7622-4355-9aed-c6dd4ab99309",
   "metadata": {},
   "outputs": [],
   "source": [
    "@my_logger\n",
    "def display_info(name,age):\n",
    "    print('display_info ran with arguments ({},{})'.format(name,age))"
   ]
  },
  {
   "cell_type": "code",
   "execution_count": 121,
   "id": "0eba00e2-0e29-4a26-83fe-c96024d0c347",
   "metadata": {},
   "outputs": [
    {
     "name": "stdout",
     "output_type": "stream",
     "text": [
      "display_info ran with arguments (John,30)\n"
     ]
    }
   ],
   "source": [
    "display_info('John',30)"
   ]
  },
  {
   "cell_type": "markdown",
   "id": "56ac469a-b275-4b97-9b84-cf16cd4d7875",
   "metadata": {},
   "source": [
    "## Good Example 2:"
   ]
  },
  {
   "cell_type": "code",
   "execution_count": 124,
   "id": "5b17acaf-ee6d-4371-ad70-43b09096d3a0",
   "metadata": {},
   "outputs": [],
   "source": [
    "def my_timer(orig_func):\n",
    "    import time\n",
    "    def wrapper(*args, **kwargs):\n",
    "        t1 = time.time()\n",
    "        result = orig_func(*args,**kwargs)\n",
    "        t2 = time.time() - t1\n",
    "        print(f\"{orig_func} ran in {t2}\")\n",
    "        return result\n",
    "    return wrapper"
   ]
  },
  {
   "cell_type": "code",
   "execution_count": 125,
   "id": "74180d70-f4cf-4172-b771-f89f564bc841",
   "metadata": {},
   "outputs": [],
   "source": [
    "import time\n",
    "\n",
    "@my_timer\n",
    "def display_info(name,age):\n",
    "    time.sleep(1)\n",
    "    print('display_info ran with arguments ({},{})'.format(name,age))"
   ]
  },
  {
   "cell_type": "code",
   "execution_count": 126,
   "id": "5dbd639f-9ff2-48d3-b7d8-337b251a0f8e",
   "metadata": {},
   "outputs": [
    {
     "name": "stdout",
     "output_type": "stream",
     "text": [
      "display_info ran with arguments (John,30)\n",
      "<function display_info at 0x7f68982a4670> ran in 1.0011563301086426\n"
     ]
    }
   ],
   "source": [
    "display_info('John',30)"
   ]
  },
  {
   "cell_type": "markdown",
   "id": "56259849-ce05-44ab-a20b-af926ba77333",
   "metadata": {},
   "source": [
    "## Using classes as decorators"
   ]
  },
  {
   "cell_type": "code",
   "execution_count": 104,
   "id": "e4d37e27-d2cb-418c-bbc0-8648fbf4acc9",
   "metadata": {},
   "outputs": [],
   "source": [
    "class decorator_class(object):\n",
    "    def __init__(self,original_function):\n",
    "        self.original_function = original_function\n",
    "        \n",
    "    def __call__(self, *args, **kwargs):\n",
    "        print('call method execute this before {}'.format(self.original_function.__name__))\n",
    "        return self.original_function(*args, **kwargs)"
   ]
  },
  {
   "cell_type": "code",
   "execution_count": 106,
   "id": "a54ad4dc-6340-4653-abad-3512144d72ca",
   "metadata": {},
   "outputs": [
    {
     "name": "stdout",
     "output_type": "stream",
     "text": [
      "call method execute this before display\n",
      "display function ran\n"
     ]
    }
   ],
   "source": [
    "@decorator_class\n",
    "def display():\n",
    "    print('display function ran')\n",
    "    \n",
    "display()"
   ]
  },
  {
   "cell_type": "code",
   "execution_count": 107,
   "id": "429ff5b2-e3ad-4ff0-8f93-4941c83b0ee0",
   "metadata": {},
   "outputs": [
    {
     "name": "stdout",
     "output_type": "stream",
     "text": [
      "call method execute this before display_info\n",
      "display_info ran with arguments (John,25)\n"
     ]
    }
   ],
   "source": [
    "@decorator_class\n",
    "def display_info(name,age):\n",
    "    print('display_info ran with arguments ({},{})'.format(name,age))\n",
    "\n",
    "display_info('John',25)"
   ]
  }
 ],
 "metadata": {
  "kernelspec": {
   "display_name": "Python 3 (ipykernel)",
   "language": "python",
   "name": "python3"
  },
  "language_info": {
   "codemirror_mode": {
    "name": "ipython",
    "version": 3
   },
   "file_extension": ".py",
   "mimetype": "text/x-python",
   "name": "python",
   "nbconvert_exporter": "python",
   "pygments_lexer": "ipython3",
   "version": "3.10.8"
  }
 },
 "nbformat": 4,
 "nbformat_minor": 5
}
