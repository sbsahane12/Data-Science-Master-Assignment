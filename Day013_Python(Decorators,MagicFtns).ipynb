{
 "cells": [
  {
   "cell_type": "markdown",
   "id": "14242664-77cf-4ac4-b539-ddd6a62099e2",
   "metadata": {},
   "source": [
    "# Decorators:"
   ]
  },
  {
   "cell_type": "code",
   "execution_count": 5,
   "id": "409d7862-d07d-4a3d-a1f2-03866321ae8a",
   "metadata": {},
   "outputs": [],
   "source": [
    "def test():\n",
    "    print('this is the start of my function')\n",
    "    print('this is my fun to test')\n",
    "    print(4+5)\n",
    "    print('this is the end of my function')"
   ]
  },
  {
   "cell_type": "code",
   "execution_count": 6,
   "id": "32dea907-8ba7-4c51-8797-d41af450d027",
   "metadata": {},
   "outputs": [
    {
     "name": "stdout",
     "output_type": "stream",
     "text": [
      "this is the start of my function\n",
      "this is my fun to test\n",
      "9\n",
      "this is the end of my function\n"
     ]
    }
   ],
   "source": [
    "test()"
   ]
  },
  {
   "cell_type": "code",
   "execution_count": 8,
   "id": "f239f33a-bef6-4dbf-80b9-efc10a6015a0",
   "metadata": {},
   "outputs": [],
   "source": [
    "def deco(func):\n",
    "    def inner_dec():\n",
    "        print('this is the start of my function')\n",
    "        func()\n",
    "        print('this is the end of my function')\n",
    "    return inner_dec"
   ]
  },
  {
   "cell_type": "code",
   "execution_count": 10,
   "id": "7109dfcd-60c1-489b-946a-bc520989a6fa",
   "metadata": {},
   "outputs": [],
   "source": [
    "@deco\n",
    "def test1():\n",
    "    print(6+7)"
   ]
  },
  {
   "cell_type": "code",
   "execution_count": 11,
   "id": "c3309c86-dd02-49cf-a79e-fc282f95a12b",
   "metadata": {},
   "outputs": [
    {
     "name": "stdout",
     "output_type": "stream",
     "text": [
      "this is the start of my function\n",
      "13\n",
      "this is the end of my function\n"
     ]
    }
   ],
   "source": [
    "test1()"
   ]
  },
  {
   "cell_type": "markdown",
   "id": "1916af32-6bb5-4e9c-ac71-5a7ae0569ee9",
   "metadata": {},
   "source": [
    "write a decorator function that'll display the execution time of any function"
   ]
  },
  {
   "cell_type": "code",
   "execution_count": 17,
   "id": "002b82df-8ea4-4e3e-adfd-d340f7733ac5",
   "metadata": {},
   "outputs": [],
   "source": [
    "import time\n",
    "\n",
    "def timer_test(func):\n",
    "    def timer_test_inner():\n",
    "        start = time.time()\n",
    "        func()\n",
    "        end = time.time()\n",
    "        print(end-start)\n",
    "    return timer_test_inner"
   ]
  },
  {
   "cell_type": "code",
   "execution_count": 18,
   "id": "65567326-d033-4e86-80b7-df6b1a4529f8",
   "metadata": {},
   "outputs": [],
   "source": [
    "@timer_test\n",
    "def test2():\n",
    "    print(45+78)"
   ]
  },
  {
   "cell_type": "code",
   "execution_count": 19,
   "id": "a335c167-6ba6-46e0-84c8-d5312a5f995a",
   "metadata": {},
   "outputs": [
    {
     "name": "stdout",
     "output_type": "stream",
     "text": [
      "123\n",
      "0.00010800361633300781\n"
     ]
    }
   ],
   "source": [
    "test2()"
   ]
  },
  {
   "cell_type": "code",
   "execution_count": 22,
   "id": "a49d54ae-fe7e-48e9-87e8-fa40c62494c7",
   "metadata": {},
   "outputs": [],
   "source": [
    "@timer_test\n",
    "def test3():\n",
    "    for i in range(10000000):\n",
    "        pass"
   ]
  },
  {
   "cell_type": "code",
   "execution_count": 23,
   "id": "a4305933-57c2-484d-bfa1-a7c6335ee30b",
   "metadata": {},
   "outputs": [
    {
     "name": "stdout",
     "output_type": "stream",
     "text": [
      "0.26021432876586914\n"
     ]
    }
   ],
   "source": [
    "test3()"
   ]
  },
  {
   "cell_type": "markdown",
   "id": "260d33a9-1c9c-425e-9d74-c9c64d177208",
   "metadata": {},
   "source": [
    "# Class Methods\n",
    "## Overloading init using class method"
   ]
  },
  {
   "cell_type": "code",
   "execution_count": 24,
   "id": "291f4234-07f7-4d64-96f6-dfbc87c5e6e1",
   "metadata": {},
   "outputs": [],
   "source": [
    "class pwskills:\n",
    "    def __init__ (self, name,email):\n",
    "        self.name = name\n",
    "        self.email = email\n",
    "        \n",
    "    def students_details(self):\n",
    "        print(self.name, self.email)"
   ]
  },
  {
   "cell_type": "code",
   "execution_count": 26,
   "id": "853b8717-9b7f-444f-8598-0be6c551ccaa",
   "metadata": {},
   "outputs": [],
   "source": [
    "pw = pwskills('mohan', 'mohan@gmail.com')"
   ]
  },
  {
   "cell_type": "code",
   "execution_count": 27,
   "id": "ed79dadd-8e48-4ba0-93f8-975b57dd9047",
   "metadata": {},
   "outputs": [
    {
     "data": {
      "text/plain": [
       "'mohan'"
      ]
     },
     "execution_count": 27,
     "metadata": {},
     "output_type": "execute_result"
    }
   ],
   "source": [
    "pw.name"
   ]
  },
  {
   "cell_type": "code",
   "execution_count": 28,
   "id": "bab13891-ff21-439d-977a-04a168f37515",
   "metadata": {},
   "outputs": [
    {
     "data": {
      "text/plain": [
       "'mohan@gmail.com'"
      ]
     },
     "execution_count": 28,
     "metadata": {},
     "output_type": "execute_result"
    }
   ],
   "source": [
    "pw.email"
   ]
  },
  {
   "cell_type": "code",
   "execution_count": 30,
   "id": "e5344c67-172b-4917-93f2-8ff3af94d026",
   "metadata": {},
   "outputs": [
    {
     "name": "stdout",
     "output_type": "stream",
     "text": [
      "mohan mohan@gmail.com\n"
     ]
    }
   ],
   "source": [
    "pw.students_details()"
   ]
  },
  {
   "cell_type": "markdown",
   "id": "ed5a0420-7196-41ce-b141-edf4453f661d",
   "metadata": {},
   "source": [
    "overloading init method with class methods"
   ]
  },
  {
   "cell_type": "code",
   "execution_count": 32,
   "id": "ea0b9191-8257-4196-87e8-d59553ff907f",
   "metadata": {},
   "outputs": [],
   "source": [
    "class pwskills:\n",
    "    def __init__ (self, name,email):\n",
    "        self.name = name\n",
    "        self.email = email\n",
    "    \n",
    "    @classmethod\n",
    "    def details(cls, name, email):\n",
    "        return cls(name,email)\n",
    "    \n",
    "    def students_details(self):\n",
    "        print(self.name, self.email)"
   ]
  },
  {
   "cell_type": "markdown",
   "id": "5d33c53a-15ef-4c5c-bfb9-bfbec6ca2a6d",
   "metadata": {},
   "source": [
    "we can pass data to a class and use it without creating any object/calling init using class method. if we don't use classmethod decorator, we won't be able to do this"
   ]
  },
  {
   "cell_type": "code",
   "execution_count": 41,
   "id": "4d1ccdbf-0a05-4a48-b249-5389e14eefd7",
   "metadata": {},
   "outputs": [],
   "source": [
    "pw1= pwskills.details('sudh','mohan@gmail.com')"
   ]
  },
  {
   "cell_type": "code",
   "execution_count": 42,
   "id": "4ccc5a5e-449d-49c5-bfe2-1a75f7f0c617",
   "metadata": {},
   "outputs": [
    {
     "data": {
      "text/plain": [
       "'sudh'"
      ]
     },
     "execution_count": 42,
     "metadata": {},
     "output_type": "execute_result"
    }
   ],
   "source": [
    "pw1.name"
   ]
  },
  {
   "cell_type": "code",
   "execution_count": 43,
   "id": "17abe68c-d990-46f5-8bbb-5c9aeb8c33d1",
   "metadata": {},
   "outputs": [
    {
     "data": {
      "text/plain": [
       "'mohan@gmail.com'"
      ]
     },
     "execution_count": 43,
     "metadata": {},
     "output_type": "execute_result"
    }
   ],
   "source": [
    "pw1.email"
   ]
  },
  {
   "cell_type": "code",
   "execution_count": 44,
   "id": "d24ecdd4-1adf-407e-8075-833900e9a84e",
   "metadata": {},
   "outputs": [
    {
     "name": "stdout",
     "output_type": "stream",
     "text": [
      "sudh mohan@gmail.com\n"
     ]
    }
   ],
   "source": [
    "pw1.students_details()"
   ]
  },
  {
   "cell_type": "code",
   "execution_count": 55,
   "id": "8a10a641-c744-4bef-9f66-6c6993d129aa",
   "metadata": {},
   "outputs": [],
   "source": [
    "class pwskills2:\n",
    "    \n",
    "    mobile_num = 9146521 #class variable\n",
    "    \n",
    "    def __init__ (self, name,email):\n",
    "        self.name = name\n",
    "        self.email = email\n",
    "    \n",
    "    @classmethod\n",
    "    def change_number(cls,mobile):\n",
    "        pwskills2.mobile_num = mobile\n",
    "    \n",
    "    @classmethod\n",
    "    def details(cls, name, email):\n",
    "        return cls(name,email)\n",
    "    \n",
    "    def students_details(self):\n",
    "        print(self.name, self.email, pwskills2.mobile_num)"
   ]
  },
  {
   "cell_type": "code",
   "execution_count": 59,
   "id": "bf5d0156-959d-40da-9301-3328596e57ad",
   "metadata": {},
   "outputs": [],
   "source": [
    "pw_obj = pwskills2('sudh','sudh@gmail.com')"
   ]
  },
  {
   "cell_type": "code",
   "execution_count": 60,
   "id": "ab347d8d-aed4-4cf9-9eb1-040c55f4bcb4",
   "metadata": {},
   "outputs": [
    {
     "name": "stdout",
     "output_type": "stream",
     "text": [
      "sudh sudh@gmail.com 521563201\n"
     ]
    }
   ],
   "source": [
    "pw_obj.students_details()"
   ]
  },
  {
   "cell_type": "markdown",
   "id": "3dc63e9c-d666-49de-a40b-c14f029d7965",
   "metadata": {},
   "source": [
    "we can access the class variables without creating class object using class method"
   ]
  },
  {
   "cell_type": "code",
   "execution_count": 61,
   "id": "0c9b63f8-d477-44a1-b701-c5e87ced5c6b",
   "metadata": {},
   "outputs": [],
   "source": [
    "pw = pwskills2.details('rohan','rohan@gmail.com')"
   ]
  },
  {
   "cell_type": "code",
   "execution_count": 63,
   "id": "ebccd84d-d009-47b7-bef4-2150051d150b",
   "metadata": {},
   "outputs": [
    {
     "name": "stdout",
     "output_type": "stream",
     "text": [
      "rohan rohan@gmail.com 521563201\n"
     ]
    }
   ],
   "source": [
    "pw.students_details()"
   ]
  },
  {
   "cell_type": "code",
   "execution_count": 64,
   "id": "eb31e984-cae6-4258-bb1a-9ca08bfbf8d8",
   "metadata": {
    "tags": []
   },
   "outputs": [
    {
     "data": {
      "text/plain": [
       "521563201"
      ]
     },
     "execution_count": 64,
     "metadata": {},
     "output_type": "execute_result"
    }
   ],
   "source": [
    "pwskills2.mobile_num"
   ]
  },
  {
   "cell_type": "code",
   "execution_count": 65,
   "id": "ec6734c9-bbb6-4950-a4e7-b88f21c012dd",
   "metadata": {
    "tags": []
   },
   "outputs": [],
   "source": [
    "pwskills2.change_number(521563201)"
   ]
  },
  {
   "cell_type": "code",
   "execution_count": 66,
   "id": "2dbb9dd7-7ad6-40dd-be3c-1bc40c9b4b77",
   "metadata": {},
   "outputs": [
    {
     "data": {
      "text/plain": [
       "521563201"
      ]
     },
     "execution_count": 66,
     "metadata": {},
     "output_type": "execute_result"
    }
   ],
   "source": [
    "pwskills2.mobile_num"
   ]
  },
  {
   "cell_type": "code",
   "execution_count": 67,
   "id": "169b61e8-0079-43ce-9bdd-ba8f69280ad1",
   "metadata": {},
   "outputs": [
    {
     "data": {
      "text/plain": [
       "521563201"
      ]
     },
     "execution_count": 67,
     "metadata": {},
     "output_type": "execute_result"
    }
   ],
   "source": [
    "pw.mobile_nu"
   ]
  },
  {
   "cell_type": "code",
   "execution_count": 68,
   "id": "908e7115-02bc-4095-83b2-8af1108d46e2",
   "metadata": {},
   "outputs": [],
   "source": [
    "class pwskills3:\n",
    "    \n",
    "    mobile_num = 9146521 #class variable\n",
    "    \n",
    "    def __init__ (self, name,email):\n",
    "        self.name = name\n",
    "        self.email = email\n",
    "    \n",
    "    @classmethod\n",
    "    def change_number(cls,mobile):\n",
    "        pwskills2.mobile_num = mobile\n",
    "    \n",
    "    @classmethod\n",
    "    def details(cls, name, email):\n",
    "        return cls(name,email)\n",
    "    \n",
    "    def students_details(self):\n",
    "        print(self.name, self.email, pwskills2.mobile_num)"
   ]
  },
  {
   "cell_type": "code",
   "execution_count": 70,
   "id": "0c7e45bc-f281-46e0-8c76-6a1f1de134d5",
   "metadata": {},
   "outputs": [],
   "source": [
    "def course_details(): # external function\n",
    "    pass"
   ]
  },
  {
   "cell_type": "markdown",
   "id": "212e5a96-ca1a-474d-bb1c-40060e6daa4c",
   "metadata": {},
   "source": [
    "we can make this external function as an internal function of the class pwskills3"
   ]
  },
  {
   "cell_type": "code",
   "execution_count": 81,
   "id": "22a6544b-9c86-440d-a9ef-24242a05a76b",
   "metadata": {},
   "outputs": [],
   "source": [
    "def course_details(cls,course_name):\n",
    "    print('course name is: ', course_name)"
   ]
  },
  {
   "cell_type": "code",
   "execution_count": 82,
   "id": "cd1fae4c-796c-4839-a142-bd8fba4d0a54",
   "metadata": {},
   "outputs": [],
   "source": [
    "pwskills3.course_details = classmethod(course_details)"
   ]
  },
  {
   "cell_type": "code",
   "execution_count": 83,
   "id": "717603d9-b7e1-4fc0-89ab-68ef40bbe244",
   "metadata": {},
   "outputs": [
    {
     "data": {
      "text/plain": [
       "<bound method course_details of <class '__main__.pwskills3'>>"
      ]
     },
     "execution_count": 83,
     "metadata": {},
     "output_type": "execute_result"
    }
   ],
   "source": [
    "pwskills3.course_details #now the external function is a part of the class"
   ]
  },
  {
   "cell_type": "code",
   "execution_count": 84,
   "id": "b290f34e-8873-40f7-bb93-23796be0268b",
   "metadata": {},
   "outputs": [
    {
     "name": "stdout",
     "output_type": "stream",
     "text": [
      "course name is:  data science masters\n"
     ]
    }
   ],
   "source": [
    "pwskills3.course_details('data science masters')"
   ]
  },
  {
   "cell_type": "markdown",
   "id": "a7797dbb-f6da-4b20-a653-a888f6b5f514",
   "metadata": {},
   "source": [
    "lets add another external function to class"
   ]
  },
  {
   "cell_type": "code",
   "execution_count": 85,
   "id": "abf68f47-c8f3-40a8-b014-b7be24935de8",
   "metadata": {},
   "outputs": [],
   "source": [
    "def mentor(cls, list_of_mentor):\n",
    "    print(list_of_mentor)"
   ]
  },
  {
   "cell_type": "code",
   "execution_count": 86,
   "id": "0797367f-6e19-4982-a116-e52cb6ed24ab",
   "metadata": {},
   "outputs": [],
   "source": [
    "pwskills3.mentor = classmethod(mentor)"
   ]
  },
  {
   "cell_type": "code",
   "execution_count": 87,
   "id": "4d56a18a-3388-44ce-9a40-e636df0bc8ed",
   "metadata": {},
   "outputs": [
    {
     "data": {
      "text/plain": [
       "<bound method mentor of <class '__main__.pwskills3'>>"
      ]
     },
     "execution_count": 87,
     "metadata": {},
     "output_type": "execute_result"
    }
   ],
   "source": [
    "pwskills3.mentor"
   ]
  },
  {
   "cell_type": "code",
   "execution_count": 89,
   "id": "3dfeaa28-90e5-4a05-a3fa-15e3ec8343a1",
   "metadata": {},
   "outputs": [
    {
     "name": "stdout",
     "output_type": "stream",
     "text": [
      "['sudh', 'krish naik']\n"
     ]
    }
   ],
   "source": [
    "pwskills3.mentor(['sudh','krish naik'])"
   ]
  },
  {
   "cell_type": "code",
   "execution_count": 91,
   "id": "226a9bdc-a247-4002-a1be-28d518d6cfa8",
   "metadata": {},
   "outputs": [],
   "source": [
    "class pwskills4:\n",
    "    \n",
    "    mobile_num = 9146521 #class variable\n",
    "    \n",
    "    def __init__ (self, name,email):\n",
    "        self.name = name\n",
    "        self.email = email\n",
    "    \n",
    "    @classmethod\n",
    "    def change_number(cls,mobile):\n",
    "        pwskills2.mobile_num = mobile\n",
    "    \n",
    "    @classmethod\n",
    "    def details(cls, name, email):\n",
    "        return cls(name,email)\n",
    "    \n",
    "    def students_details(self):\n",
    "        print(self.name, self.email, pwskills2.mobile_num)"
   ]
  },
  {
   "cell_type": "markdown",
   "id": "1cf174d1-ab00-4858-9909-3411fec5d60d",
   "metadata": {},
   "source": [
    "delete/deactivate an inner function of a class"
   ]
  },
  {
   "cell_type": "code",
   "execution_count": 92,
   "id": "c79f01a8-fe04-4a6b-891b-453057ac5173",
   "metadata": {},
   "outputs": [],
   "source": [
    "del pwskills4.change_number"
   ]
  },
  {
   "cell_type": "code",
   "execution_count": 93,
   "id": "30a8423b-3718-4e7a-8bbb-8eca80440779",
   "metadata": {},
   "outputs": [
    {
     "ename": "AttributeError",
     "evalue": "type object 'pwskills4' has no attribute 'change_number'",
     "output_type": "error",
     "traceback": [
      "\u001b[0;31m---------------------------------------------------------------------------\u001b[0m",
      "\u001b[0;31mAttributeError\u001b[0m                            Traceback (most recent call last)",
      "Cell \u001b[0;32mIn[93], line 1\u001b[0m\n\u001b[0;32m----> 1\u001b[0m \u001b[43mpwskills4\u001b[49m\u001b[38;5;241;43m.\u001b[39;49m\u001b[43mchange_number\u001b[49m\n",
      "\u001b[0;31mAttributeError\u001b[0m: type object 'pwskills4' has no attribute 'change_number'"
     ]
    }
   ],
   "source": [
    "pwskills4.change_number"
   ]
  },
  {
   "cell_type": "markdown",
   "id": "1ae807e7-6508-4728-b3eb-574d77823b87",
   "metadata": {},
   "source": [
    "we can delete a class function using delattr as well"
   ]
  },
  {
   "cell_type": "code",
   "execution_count": 94,
   "id": "b208bfea-39d4-4a10-b570-05abb39f25fb",
   "metadata": {},
   "outputs": [],
   "source": [
    "delattr(pwskills4,'details')"
   ]
  },
  {
   "cell_type": "code",
   "execution_count": 96,
   "id": "2859e6ed-a468-45ed-a0a0-8dbdf6da0a2c",
   "metadata": {},
   "outputs": [
    {
     "ename": "AttributeError",
     "evalue": "type object 'pwskills4' has no attribute 'details'",
     "output_type": "error",
     "traceback": [
      "\u001b[0;31m---------------------------------------------------------------------------\u001b[0m",
      "\u001b[0;31mAttributeError\u001b[0m                            Traceback (most recent call last)",
      "Cell \u001b[0;32mIn[96], line 1\u001b[0m\n\u001b[0;32m----> 1\u001b[0m \u001b[43mpwskills4\u001b[49m\u001b[38;5;241;43m.\u001b[39;49m\u001b[43mdetails\u001b[49m\n",
      "\u001b[0;31mAttributeError\u001b[0m: type object 'pwskills4' has no attribute 'details'"
     ]
    }
   ],
   "source": [
    "pwskills4.details"
   ]
  },
  {
   "cell_type": "markdown",
   "id": "8836c481-3fb3-4b3a-9f1b-2034c257a4ba",
   "metadata": {},
   "source": [
    "lets see if we can delete a class function THAT IS NOT A CLASSMETHOD"
   ]
  },
  {
   "cell_type": "code",
   "execution_count": 97,
   "id": "dcdcbf9a-5ea9-4081-8f86-d51f8fb655fb",
   "metadata": {},
   "outputs": [],
   "source": [
    "delattr(pwskills4,'students_details')"
   ]
  },
  {
   "cell_type": "code",
   "execution_count": 98,
   "id": "11dfb80b-a7ea-4913-8f1e-bcef4579a4dd",
   "metadata": {},
   "outputs": [
    {
     "ename": "AttributeError",
     "evalue": "type object 'pwskills4' has no attribute 'students_details'",
     "output_type": "error",
     "traceback": [
      "\u001b[0;31m---------------------------------------------------------------------------\u001b[0m",
      "\u001b[0;31mAttributeError\u001b[0m                            Traceback (most recent call last)",
      "Cell \u001b[0;32mIn[98], line 1\u001b[0m\n\u001b[0;32m----> 1\u001b[0m \u001b[43mpwskills4\u001b[49m\u001b[38;5;241;43m.\u001b[39;49m\u001b[43mstudents_details\u001b[49m\n",
      "\u001b[0;31mAttributeError\u001b[0m: type object 'pwskills4' has no attribute 'students_details'"
     ]
    }
   ],
   "source": [
    "pwskills4.students_details"
   ]
  },
  {
   "cell_type": "markdown",
   "id": "68ead4f1-ec2e-416b-ac77-1eaf4157739f",
   "metadata": {},
   "source": [
    "as we can see above we CAN delete a class fucntion that is not a classmethod"
   ]
  },
  {
   "cell_type": "markdown",
   "id": "fdb7e6c3-80bf-4f34-bc46-9b58c90eaaef",
   "metadata": {},
   "source": [
    "lets see if we can delete a class variable"
   ]
  },
  {
   "cell_type": "code",
   "execution_count": 99,
   "id": "d03c3138-fdf6-4f08-aa67-efd876016ed8",
   "metadata": {},
   "outputs": [],
   "source": [
    "delattr(pwskills4,'mobile_num')"
   ]
  },
  {
   "cell_type": "code",
   "execution_count": 100,
   "id": "b79dd6ae-263e-419c-9b4e-f65782a0b435",
   "metadata": {},
   "outputs": [
    {
     "ename": "NameError",
     "evalue": "name 'pwskill4' is not defined",
     "output_type": "error",
     "traceback": [
      "\u001b[0;31m---------------------------------------------------------------------------\u001b[0m",
      "\u001b[0;31mNameError\u001b[0m                                 Traceback (most recent call last)",
      "Cell \u001b[0;32mIn[100], line 1\u001b[0m\n\u001b[0;32m----> 1\u001b[0m \u001b[43mpwskill4\u001b[49m\u001b[38;5;241m.\u001b[39mmobile_num\n",
      "\u001b[0;31mNameError\u001b[0m: name 'pwskill4' is not defined"
     ]
    }
   ],
   "source": [
    "pwskill4.mobile_num"
   ]
  },
  {
   "cell_type": "markdown",
   "id": "5a58ca69-0b8b-4fe6-aaf9-8004e1b381f6",
   "metadata": {},
   "source": [
    "as we can see above , we can delete a class variable as well"
   ]
  },
  {
   "cell_type": "markdown",
   "id": "c248f07d-a6e9-4f27-a676-c6a0056be010",
   "metadata": {},
   "source": [
    "# Static Methods"
   ]
  },
  {
   "cell_type": "code",
   "execution_count": 101,
   "id": "89733431-84c4-4d16-a8cd-cfbcae0bf337",
   "metadata": {},
   "outputs": [],
   "source": [
    "class pwskills:\n",
    "    def student_details(self, name, mail_id, number): #self binds method to instance\n",
    "        print(name,mail_id,number)"
   ]
  },
  {
   "cell_type": "code",
   "execution_count": 102,
   "id": "723fb895-c025-4118-97af-fdc1d818576d",
   "metadata": {},
   "outputs": [],
   "source": [
    "pw = pwskills()"
   ]
  },
  {
   "cell_type": "code",
   "execution_count": 103,
   "id": "5ee7f982-897a-4c04-873e-3ace60078e8d",
   "metadata": {},
   "outputs": [
    {
     "name": "stdout",
     "output_type": "stream",
     "text": [
      "sudh sudh@gmail.com 4632152\n"
     ]
    }
   ],
   "source": [
    "pw.student_details('sudh','sudh@gmail.com',4632152)"
   ]
  },
  {
   "cell_type": "markdown",
   "id": "a1ff2733-84a5-49f3-a472-ef68cb0236d4",
   "metadata": {},
   "source": [
    "lets say we want to create a method inside a class that we can access without class obj"
   ]
  },
  {
   "cell_type": "code",
   "execution_count": 104,
   "id": "85848c89-b9b4-43bf-a57a-1fcfa5f251db",
   "metadata": {},
   "outputs": [],
   "source": [
    "class pwskills1:\n",
    "    def student_details(self, name, mail_id, number): #self binds method to instance\n",
    "        print(name,mail_id,number)\n",
    "        \n",
    "    @staticmethod\n",
    "    def mentor_class(list_of_mentor):\n",
    "        print(list_of_mentor)"
   ]
  },
  {
   "cell_type": "code",
   "execution_count": 105,
   "id": "0334bd38-5d38-4543-a07a-19cd12489028",
   "metadata": {},
   "outputs": [
    {
     "name": "stdout",
     "output_type": "stream",
     "text": [
      "['sudh', 'krish']\n"
     ]
    }
   ],
   "source": [
    "pwskills1.mentor_class(['sudh','krish'])"
   ]
  },
  {
   "cell_type": "markdown",
   "id": "886a6824-9a18-4fd1-8146-b14ebf5c03a8",
   "metadata": {},
   "source": [
    "we use static functions for functions that we use again and again, that we don't want to create too many instances/objects."
   ]
  },
  {
   "cell_type": "markdown",
   "id": "fe2a89f6-6768-4c6b-8a53-786384ee9a6e",
   "metadata": {},
   "source": [
    "if we don't use static methods and intitialize static methods using class objects again and again. then every time we call an object of a function it will re run the init function of that class every time"
   ]
  },
  {
   "cell_type": "code",
   "execution_count": 107,
   "id": "542b86f7-8928-432d-85d7-5fef26afc9da",
   "metadata": {},
   "outputs": [],
   "source": [
    "stu1 = pwskills1() #creates a copy of init that only works for stu1"
   ]
  },
  {
   "cell_type": "code",
   "execution_count": 108,
   "id": "b3d8cffa-7e54-4883-863b-6b1074b97a4b",
   "metadata": {},
   "outputs": [],
   "source": [
    "stu2 = pwskills1() #creates a copy of init that ony works for stu2"
   ]
  },
  {
   "cell_type": "code",
   "execution_count": 109,
   "id": "c9f7eedf-50d5-425b-bb35-290163e9dac0",
   "metadata": {},
   "outputs": [],
   "source": [
    "stu3 = pwskills1() #creates a copy of init that only works for stu3"
   ]
  },
  {
   "cell_type": "markdown",
   "id": "b1fc56cf-cca7-45cb-ac87-1c0265f6bff8",
   "metadata": {},
   "source": [
    "lets say the mentor_class method was not staticmethod and a regurlar class method/instance method. then every time we create an object of the class. it will create a copy of both the init and the mentor_class method"
   ]
  },
  {
   "cell_type": "markdown",
   "id": "6a5a2e0d-85d8-463a-9a21-8b0142782674",
   "metadata": {},
   "source": [
    "now lets say we want to use a staticmethod inside a class method/instance method"
   ]
  },
  {
   "cell_type": "code",
   "execution_count": 115,
   "id": "b5f3a7d7-40e2-4b16-b372-e551cca3ff18",
   "metadata": {},
   "outputs": [],
   "source": [
    "class pwskills2:\n",
    "    def student_details(self, name, mail_id, number): #self binds method to instance\n",
    "        print(name,mail_id,number)\n",
    "\n",
    "    @staticmethod\n",
    "    def mentor_class(list_of_mentor):\n",
    "        print(list_of_mentor)\n",
    "        \n",
    "    @classmethod\n",
    "    def class_name(cls):\n",
    "        cls.mentor_class(['sudh','kris']) # accessed mentor_class inside class\n",
    "    "
   ]
  },
  {
   "cell_type": "code",
   "execution_count": 113,
   "id": "7f8d20d3-39ad-479d-8eaf-5c29d170ff7e",
   "metadata": {},
   "outputs": [
    {
     "name": "stdout",
     "output_type": "stream",
     "text": [
      "['sudh', 'kris']\n"
     ]
    }
   ],
   "source": [
    "pwskills2.class_name()"
   ]
  },
  {
   "cell_type": "markdown",
   "id": "ea98d505-4847-4f63-bf0d-c564d2f706c0",
   "metadata": {},
   "source": [
    "lets say we want to call a staticmethod inside another staticmethod"
   ]
  },
  {
   "cell_type": "code",
   "execution_count": 120,
   "id": "eee8a30a-14f7-4398-b83c-e5b041b7bcaf",
   "metadata": {},
   "outputs": [],
   "source": [
    "class pwskills3:\n",
    "    def student_details(self, name, mail_id, number): #self binds method to instance\n",
    "        print(name,mail_id,number)\n",
    "    @staticmethod\n",
    "    def mentor_mail_id(mail_id_mentor):\n",
    "        print(mail_id_mentor)\n",
    "        \n",
    "    @staticmethod\n",
    "    def mentor_class(list_of_mentor):\n",
    "        pwskills3.mentor_mail_id(['sudh@gmail.com', 'krish@gmail.com']) # accessed mstaticmethod inside staticmethod\n",
    "        print(list_of_mentor)\n",
    "        \n",
    "    @classmethod\n",
    "    def class_name(cls):\n",
    "        cls.mentor_class(['sudh','kris']) # accessed mentor_class inside class\n",
    "    "
   ]
  },
  {
   "cell_type": "code",
   "execution_count": 121,
   "id": "39dd1bb2-53c4-44f9-81bb-644bae5b20fc",
   "metadata": {},
   "outputs": [
    {
     "name": "stdout",
     "output_type": "stream",
     "text": [
      "['sudh@gmail.com', 'krish@gmail.com']\n",
      "['sudh', 'krish']\n"
     ]
    }
   ],
   "source": [
    "pwskills3.mentor_class(['sudh','krish'])"
   ]
  },
  {
   "cell_type": "markdown",
   "id": "401a8bd3-db19-474e-b5e0-832ae84dfda8",
   "metadata": {},
   "source": [
    "lets say we want to call a staticmethod inside an instance method"
   ]
  },
  {
   "cell_type": "code",
   "execution_count": 122,
   "id": "f768ca28-40ac-4381-aca7-3196a700fe4d",
   "metadata": {},
   "outputs": [],
   "source": [
    "class pwskills3:\n",
    "    def student_details(self, name, mail_id, number): #self binds method to instance\n",
    "        print(name,mail_id,number)\n",
    "    @staticmethod\n",
    "    def mentor_mail_id(mail_id_mentor):\n",
    "        print(mail_id_mentor)\n",
    "        \n",
    "    @staticmethod\n",
    "    def mentor_class(list_of_mentor):\n",
    "        pwskills3.mentor_mail_id(['sudh@gmail.com', 'krish@gmail.com']) # accessed mstaticmethod inside staticmethod\n",
    "        print(list_of_mentor)\n",
    "        \n",
    "    @classmethod\n",
    "    def class_name(cls):\n",
    "        cls.mentor_class(['sudh','kris']) # accessed mentor_class inside class\n",
    "        \n",
    "        \n",
    "    def mentor(self):\n",
    "        self.mentor_class(['krish','sudh']) # accessed staticmethod inside instance method\n",
    "    "
   ]
  },
  {
   "cell_type": "code",
   "execution_count": 123,
   "id": "5c3c3590-5cab-43d5-8b05-821f69cce485",
   "metadata": {},
   "outputs": [],
   "source": [
    "pw = pwskills3()"
   ]
  },
  {
   "cell_type": "code",
   "execution_count": 124,
   "id": "fa86abe5-3e9d-40ce-be3d-0c83f0c85fc1",
   "metadata": {},
   "outputs": [
    {
     "name": "stdout",
     "output_type": "stream",
     "text": [
      "['sudh@gmail.com', 'krish@gmail.com']\n",
      "['krish', 'sudh']\n"
     ]
    }
   ],
   "source": [
    "pw.mentor()"
   ]
  },
  {
   "cell_type": "markdown",
   "id": "5d53ca6b-1dd9-4819-8880-1ef39477ddca",
   "metadata": {},
   "source": [
    "# Magic/Dunder Functions\n",
    "\n",
    "Magic/Dunder functions are called by the user. they are called by system internally"
   ]
  },
  {
   "cell_type": "code",
   "execution_count": 125,
   "id": "9eb6682c-f84f-45b5-b43b-be7ed4b1acfd",
   "metadata": {},
   "outputs": [
    {
     "data": {
      "text/plain": [
       "['__abs__',\n",
       " '__add__',\n",
       " '__and__',\n",
       " '__bool__',\n",
       " '__ceil__',\n",
       " '__class__',\n",
       " '__delattr__',\n",
       " '__dir__',\n",
       " '__divmod__',\n",
       " '__doc__',\n",
       " '__eq__',\n",
       " '__float__',\n",
       " '__floor__',\n",
       " '__floordiv__',\n",
       " '__format__',\n",
       " '__ge__',\n",
       " '__getattribute__',\n",
       " '__getnewargs__',\n",
       " '__gt__',\n",
       " '__hash__',\n",
       " '__index__',\n",
       " '__init__',\n",
       " '__init_subclass__',\n",
       " '__int__',\n",
       " '__invert__',\n",
       " '__le__',\n",
       " '__lshift__',\n",
       " '__lt__',\n",
       " '__mod__',\n",
       " '__mul__',\n",
       " '__ne__',\n",
       " '__neg__',\n",
       " '__new__',\n",
       " '__or__',\n",
       " '__pos__',\n",
       " '__pow__',\n",
       " '__radd__',\n",
       " '__rand__',\n",
       " '__rdivmod__',\n",
       " '__reduce__',\n",
       " '__reduce_ex__',\n",
       " '__repr__',\n",
       " '__rfloordiv__',\n",
       " '__rlshift__',\n",
       " '__rmod__',\n",
       " '__rmul__',\n",
       " '__ror__',\n",
       " '__round__',\n",
       " '__rpow__',\n",
       " '__rrshift__',\n",
       " '__rshift__',\n",
       " '__rsub__',\n",
       " '__rtruediv__',\n",
       " '__rxor__',\n",
       " '__setattr__',\n",
       " '__sizeof__',\n",
       " '__str__',\n",
       " '__sub__',\n",
       " '__subclasshook__',\n",
       " '__truediv__',\n",
       " '__trunc__',\n",
       " '__xor__',\n",
       " 'as_integer_ratio',\n",
       " 'bit_count',\n",
       " 'bit_length',\n",
       " 'conjugate',\n",
       " 'denominator',\n",
       " 'from_bytes',\n",
       " 'imag',\n",
       " 'numerator',\n",
       " 'real',\n",
       " 'to_bytes']"
      ]
     },
     "execution_count": 125,
     "metadata": {},
     "output_type": "execute_result"
    }
   ],
   "source": [
    "dir(int)"
   ]
  },
  {
   "cell_type": "code",
   "execution_count": 126,
   "id": "aeef586f-d531-445b-8728-5371ea9adda2",
   "metadata": {},
   "outputs": [
    {
     "data": {
      "text/plain": [
       "['__add__',\n",
       " '__class__',\n",
       " '__contains__',\n",
       " '__delattr__',\n",
       " '__dir__',\n",
       " '__doc__',\n",
       " '__eq__',\n",
       " '__format__',\n",
       " '__ge__',\n",
       " '__getattribute__',\n",
       " '__getitem__',\n",
       " '__getnewargs__',\n",
       " '__gt__',\n",
       " '__hash__',\n",
       " '__init__',\n",
       " '__init_subclass__',\n",
       " '__iter__',\n",
       " '__le__',\n",
       " '__len__',\n",
       " '__lt__',\n",
       " '__mod__',\n",
       " '__mul__',\n",
       " '__ne__',\n",
       " '__new__',\n",
       " '__reduce__',\n",
       " '__reduce_ex__',\n",
       " '__repr__',\n",
       " '__rmod__',\n",
       " '__rmul__',\n",
       " '__setattr__',\n",
       " '__sizeof__',\n",
       " '__str__',\n",
       " '__subclasshook__',\n",
       " 'capitalize',\n",
       " 'casefold',\n",
       " 'center',\n",
       " 'count',\n",
       " 'encode',\n",
       " 'endswith',\n",
       " 'expandtabs',\n",
       " 'find',\n",
       " 'format',\n",
       " 'format_map',\n",
       " 'index',\n",
       " 'isalnum',\n",
       " 'isalpha',\n",
       " 'isascii',\n",
       " 'isdecimal',\n",
       " 'isdigit',\n",
       " 'isidentifier',\n",
       " 'islower',\n",
       " 'isnumeric',\n",
       " 'isprintable',\n",
       " 'isspace',\n",
       " 'istitle',\n",
       " 'isupper',\n",
       " 'join',\n",
       " 'ljust',\n",
       " 'lower',\n",
       " 'lstrip',\n",
       " 'maketrans',\n",
       " 'partition',\n",
       " 'removeprefix',\n",
       " 'removesuffix',\n",
       " 'replace',\n",
       " 'rfind',\n",
       " 'rindex',\n",
       " 'rjust',\n",
       " 'rpartition',\n",
       " 'rsplit',\n",
       " 'rstrip',\n",
       " 'split',\n",
       " 'splitlines',\n",
       " 'startswith',\n",
       " 'strip',\n",
       " 'swapcase',\n",
       " 'title',\n",
       " 'translate',\n",
       " 'upper',\n",
       " 'zfill']"
      ]
     },
     "execution_count": 126,
     "metadata": {},
     "output_type": "execute_result"
    }
   ],
   "source": [
    "dir(str)"
   ]
  },
  {
   "cell_type": "code",
   "execution_count": 127,
   "id": "7ec62e46-584f-4e1d-a211-0ccd6bf73873",
   "metadata": {},
   "outputs": [],
   "source": [
    "a = 100"
   ]
  },
  {
   "cell_type": "code",
   "execution_count": 128,
   "id": "070f6245-8574-41bf-84cb-09835cfc74b5",
   "metadata": {},
   "outputs": [
    {
     "data": {
      "text/plain": [
       "105"
      ]
     },
     "execution_count": 128,
     "metadata": {},
     "output_type": "execute_result"
    }
   ],
   "source": [
    "a+5"
   ]
  },
  {
   "cell_type": "code",
   "execution_count": 129,
   "id": "4062b751-31c5-4bb7-ae30-98e0dcefa339",
   "metadata": {},
   "outputs": [
    {
     "data": {
      "text/plain": [
       "105"
      ]
     },
     "execution_count": 129,
     "metadata": {},
     "output_type": "execute_result"
    }
   ],
   "source": [
    "a.__add__(5) #add is magic function"
   ]
  },
  {
   "cell_type": "code",
   "execution_count": 130,
   "id": "3cf03831-345c-4c6a-a09d-2c18ddb1ef9c",
   "metadata": {},
   "outputs": [],
   "source": [
    "class pwskills:\n",
    "    def __init__(self):\n",
    "        self.mobile_number = 654210"
   ]
  },
  {
   "cell_type": "code",
   "execution_count": 131,
   "id": "d5e131cb-3d10-41d8-9822-767b8e986e55",
   "metadata": {},
   "outputs": [],
   "source": [
    "pw = pwskills()"
   ]
  },
  {
   "cell_type": "code",
   "execution_count": 132,
   "id": "d534dcd8-45bb-445d-9f7c-e7b80b7cb258",
   "metadata": {},
   "outputs": [
    {
     "data": {
      "text/plain": [
       "654210"
      ]
     },
     "execution_count": 132,
     "metadata": {},
     "output_type": "execute_result"
    }
   ],
   "source": [
    "pw.mobile_number"
   ]
  },
  {
   "cell_type": "markdown",
   "id": "99a1c5f1-bd7a-4981-91af-691334306000",
   "metadata": {},
   "source": [
    "we know that whenever we create object of a class it calls the init method of that class. but it Also calls another magic function __new__ BEFORE calling the __init__"
   ]
  },
  {
   "cell_type": "code",
   "execution_count": 133,
   "id": "e767bfff-07ac-4521-88a8-657d70bbe9a7",
   "metadata": {},
   "outputs": [],
   "source": [
    "class pwskills:\n",
    "    def __init__(self):\n",
    "        print('this is my init')"
   ]
  },
  {
   "cell_type": "code",
   "execution_count": 134,
   "id": "c9c48258-5d35-4069-afe9-7e6e0b3b3cb1",
   "metadata": {},
   "outputs": [
    {
     "name": "stdout",
     "output_type": "stream",
     "text": [
      "this is my init\n"
     ]
    }
   ],
   "source": [
    "pw = pwskills()"
   ]
  },
  {
   "cell_type": "code",
   "execution_count": 146,
   "id": "ad2e5aa6-c873-4011-a7cb-de16f45776f3",
   "metadata": {},
   "outputs": [],
   "source": [
    "class pwskills:\n",
    "    \n",
    "    def __new__(cls):\n",
    "        print('this is my new')\n",
    "        \n",
    "    def __init__(self):\n",
    "        print('this is my init')\n",
    "        self.mobile_number = 654210"
   ]
  },
  {
   "cell_type": "code",
   "execution_count": 147,
   "id": "76a74507-0672-4bfa-902f-89b1c73a2289",
   "metadata": {},
   "outputs": [
    {
     "name": "stdout",
     "output_type": "stream",
     "text": [
      "this is my new\n"
     ]
    }
   ],
   "source": [
    "pw=pwskills()"
   ]
  },
  {
   "cell_type": "code",
   "execution_count": 148,
   "id": "ccddb808-18c5-4646-96cc-0b5457b9098f",
   "metadata": {},
   "outputs": [
    {
     "ename": "AttributeError",
     "evalue": "'NoneType' object has no attribute 'mobile_number'",
     "output_type": "error",
     "traceback": [
      "\u001b[0;31m---------------------------------------------------------------------------\u001b[0m",
      "\u001b[0;31mAttributeError\u001b[0m                            Traceback (most recent call last)",
      "Cell \u001b[0;32mIn[148], line 1\u001b[0m\n\u001b[0;32m----> 1\u001b[0m \u001b[43mpw\u001b[49m\u001b[38;5;241;43m.\u001b[39;49m\u001b[43mmobile_number\u001b[49m\n",
      "\u001b[0;31mAttributeError\u001b[0m: 'NoneType' object has no attribute 'mobile_number'"
     ]
    }
   ],
   "source": [
    "pw.mobile_number"
   ]
  },
  {
   "cell_type": "markdown",
   "id": "3dca6752-0c43-4019-bcc2-3ad76c8d6b3b",
   "metadata": {},
   "source": [
    "class pwskills1:\n",
    "    def __init__(self):\n",
    "        self.mobile_number = 552454"
   ]
  },
  {
   "cell_type": "code",
   "execution_count": 157,
   "id": "31908063-3233-4498-a4df-0529c5ef3d4a",
   "metadata": {},
   "outputs": [],
   "source": [
    "pw1=pwskills1()"
   ]
  },
  {
   "cell_type": "code",
   "execution_count": 158,
   "id": "9150e2f3-ac32-4d28-b8f7-9aca18309411",
   "metadata": {},
   "outputs": [
    {
     "data": {
      "text/plain": [
       "<__main__.pwskills1 at 0x7f56b8fbcbb0>"
      ]
     },
     "execution_count": 158,
     "metadata": {},
     "output_type": "execute_result"
    }
   ],
   "source": [
    "pw1"
   ]
  },
  {
   "cell_type": "code",
   "execution_count": 159,
   "id": "e6fa21d2-fb0c-46c7-a6e8-05b206d63ff2",
   "metadata": {},
   "outputs": [
    {
     "name": "stdout",
     "output_type": "stream",
     "text": [
      "<__main__.pwskills1 object at 0x7f56b8fbcbb0>\n"
     ]
    }
   ],
   "source": [
    "print(pw1)"
   ]
  },
  {
   "cell_type": "markdown",
   "id": "c239925e-df83-42d4-a07b-6fe8f9c8921d",
   "metadata": {},
   "source": [
    "you can see above that when we print the object of class print(pw1) it prints object at /hexadecimels/ etc. but we can set a user defined string instead of it"
   ]
  },
  {
   "cell_type": "code",
   "execution_count": 164,
   "id": "c95c808f-cf99-462b-b9d0-85f3635f08b0",
   "metadata": {},
   "outputs": [],
   "source": [
    "class pwskills1:\n",
    "    def __init__(self):\n",
    "        self.mobile_number = 552454\n",
    "        \n",
    "    def __str__(self):\n",
    "        return 'this is magic call of str'"
   ]
  },
  {
   "cell_type": "code",
   "execution_count": 165,
   "id": "b1199b67-a1cb-4960-acfd-5a6b5e00bc99",
   "metadata": {},
   "outputs": [],
   "source": [
    "pw1=pwskills1()"
   ]
  },
  {
   "cell_type": "code",
   "execution_count": 166,
   "id": "857fd192-31a9-481c-9fee-eb852dd5a889",
   "metadata": {},
   "outputs": [
    {
     "data": {
      "text/plain": [
       "<__main__.pwskills1 at 0x7f56b8fc7220>"
      ]
     },
     "execution_count": 166,
     "metadata": {},
     "output_type": "execute_result"
    }
   ],
   "source": [
    "pw1"
   ]
  },
  {
   "cell_type": "code",
   "execution_count": 163,
   "id": "d168aa19-9d9a-44d4-81e4-7ca12f727890",
   "metadata": {},
   "outputs": [
    {
     "name": "stdout",
     "output_type": "stream",
     "text": [
      "this is magic call of str\n"
     ]
    }
   ],
   "source": [
    "print(pw1)"
   ]
  },
  {
   "cell_type": "markdown",
   "id": "bf5040e5-e064-4197-87ce-518b5d6eee97",
   "metadata": {},
   "source": [
    "# Property Decorators\n",
    "the setter, deleter and getter are binded with the @property decorator"
   ]
  },
  {
   "cell_type": "code",
   "execution_count": 169,
   "id": "176e1da6-ac05-41c3-8996-016ca78e057d",
   "metadata": {},
   "outputs": [],
   "source": [
    "class pwskills:\n",
    "    def __init__(self, course_price,course_name):\n",
    "        self.__course_price = course_price\n",
    "        self.course_name = course_name"
   ]
  },
  {
   "cell_type": "code",
   "execution_count": 170,
   "id": "2c75bb30-c18b-46a6-b325-bad57b37137a",
   "metadata": {},
   "outputs": [],
   "source": [
    "pw = pwskills(3500,'data science masters')"
   ]
  },
  {
   "cell_type": "code",
   "execution_count": 172,
   "id": "6947b852-216e-4a3b-a453-f52b7e0c848f",
   "metadata": {},
   "outputs": [
    {
     "ename": "AttributeError",
     "evalue": "'pwskills' object has no attribute '__course_price'",
     "output_type": "error",
     "traceback": [
      "\u001b[0;31m---------------------------------------------------------------------------\u001b[0m",
      "\u001b[0;31mAttributeError\u001b[0m                            Traceback (most recent call last)",
      "Cell \u001b[0;32mIn[172], line 1\u001b[0m\n\u001b[0;32m----> 1\u001b[0m \u001b[43mpw\u001b[49m\u001b[38;5;241;43m.\u001b[39;49m\u001b[43m__course_price\u001b[49m \u001b[38;5;66;03m# can't access because its private/protected variable\u001b[39;00m\n",
      "\u001b[0;31mAttributeError\u001b[0m: 'pwskills' object has no attribute '__course_price'"
     ]
    }
   ],
   "source": [
    "pw.__course_price # can't access because its private/protected variable"
   ]
  },
  {
   "cell_type": "markdown",
   "id": "49d02a82-95ea-4c42-9ae2-dcaa1c123702",
   "metadata": {},
   "source": [
    "if we want the user to be able to access the protected/private variables"
   ]
  },
  {
   "cell_type": "code",
   "execution_count": 173,
   "id": "cbba180a-e06e-4127-a546-063b3839dabc",
   "metadata": {},
   "outputs": [],
   "source": [
    "class pwskills:\n",
    "    def __init__(self, course_price,course_name):\n",
    "        self.__course_price = course_price\n",
    "        self.course_name = course_name\n",
    "        \n",
    "    @property\n",
    "    def course_price_access(self):\n",
    "        return self.__course_price"
   ]
  },
  {
   "cell_type": "code",
   "execution_count": 177,
   "id": "bf4cf136-9ea8-40a3-af5c-2d1c30537ae3",
   "metadata": {},
   "outputs": [],
   "source": [
    "pw = pwskills(3500,'data science masters')"
   ]
  },
  {
   "cell_type": "code",
   "execution_count": 178,
   "id": "957fb081-7afd-4fce-abe7-d8cbff8a9660",
   "metadata": {},
   "outputs": [
    {
     "data": {
      "text/plain": [
       "3500"
      ]
     },
     "execution_count": 178,
     "metadata": {},
     "output_type": "execute_result"
    }
   ],
   "source": [
    "pw.course_price_access"
   ]
  },
  {
   "cell_type": "markdown",
   "id": "45e4265e-6cf3-489e-b9c4-05ddf79f9e05",
   "metadata": {},
   "source": [
    "now the user is able to access the private variable"
   ]
  },
  {
   "cell_type": "markdown",
   "id": "a5f821f3-745d-46f2-ac3b-9b21c5d94a48",
   "metadata": {},
   "source": [
    "now lets say we also want the user to be able to MODIFY the protected/private variable"
   ]
  },
  {
   "cell_type": "code",
   "execution_count": 179,
   "id": "f9668a4b-6372-4d53-b935-b8507907092f",
   "metadata": {},
   "outputs": [],
   "source": [
    "class pwskills:\n",
    "    def __init__(self, course_price,course_name):\n",
    "        self.__course_price = course_price\n",
    "        self.course_name = course_name\n",
    "        \n",
    "    @property\n",
    "    def course_price_access(self):\n",
    "        return self.__course_price\n",
    "    \n",
    "    @course_price_access.setter\n",
    "    def course_price_set(self,price):\n",
    "        if price <= 3500:\n",
    "            pass\n",
    "        else:\n",
    "            self.__course_price = price"
   ]
  },
  {
   "cell_type": "code",
   "execution_count": 180,
   "id": "cf9969fc-baf0-4ef1-8884-9d7500e7bc58",
   "metadata": {},
   "outputs": [],
   "source": [
    "pw = pwskills(3500,'data science masters')"
   ]
  },
  {
   "cell_type": "code",
   "execution_count": 181,
   "id": "3ba35240-6ddd-4806-82a3-ec9fbc74155c",
   "metadata": {},
   "outputs": [
    {
     "data": {
      "text/plain": [
       "3500"
      ]
     },
     "execution_count": 181,
     "metadata": {},
     "output_type": "execute_result"
    }
   ],
   "source": [
    "pw.course_price_access"
   ]
  },
  {
   "cell_type": "code",
   "execution_count": 182,
   "id": "cc46db09-09ef-4781-8f5f-937b6c3e7490",
   "metadata": {},
   "outputs": [],
   "source": [
    "pw.course_price_set = 4500"
   ]
  },
  {
   "cell_type": "code",
   "execution_count": 183,
   "id": "dc4950f3-e807-46a2-9091-fb81f71cd377",
   "metadata": {},
   "outputs": [
    {
     "data": {
      "text/plain": [
       "4500"
      ]
     },
     "execution_count": 183,
     "metadata": {},
     "output_type": "execute_result"
    }
   ],
   "source": [
    "pw.course_price_access"
   ]
  },
  {
   "cell_type": "markdown",
   "id": "02829c55-7ff9-4819-8447-1c54e4763adc",
   "metadata": {},
   "source": [
    "lets say we also want the user to be able to delete protected/private variables"
   ]
  },
  {
   "cell_type": "code",
   "execution_count": 184,
   "id": "19ec9255-db91-4cbc-bd08-c749a5ffd3bc",
   "metadata": {},
   "outputs": [],
   "source": [
    "class pwskills:\n",
    "    def __init__(self, course_price,course_name):\n",
    "        self.__course_price = course_price\n",
    "        self.course_name = course_name\n",
    "        \n",
    "    @property\n",
    "    def course_price_access(self):\n",
    "        return self.__course_price\n",
    "    \n",
    "    @course_price_access.setter #access it then set it\n",
    "    def course_price_set(self,price):\n",
    "        if price <= 3500:\n",
    "            pass\n",
    "        else:\n",
    "            self.__course_price = price\n",
    "            \n",
    "    @course_price_access.deleter #access it then delete it\n",
    "    def delete_course_price(self):\n",
    "        del self.__course_price"
   ]
  },
  {
   "cell_type": "code",
   "execution_count": 185,
   "id": "54555d7f-3f42-4094-a2cd-2bc7db7e11cc",
   "metadata": {},
   "outputs": [],
   "source": [
    "pw = pwskills(3500,'data science masters')"
   ]
  },
  {
   "cell_type": "code",
   "execution_count": 186,
   "id": "2705d6ba-de3e-4825-9b7c-691c12c3724d",
   "metadata": {},
   "outputs": [
    {
     "data": {
      "text/plain": [
       "3500"
      ]
     },
     "execution_count": 186,
     "metadata": {},
     "output_type": "execute_result"
    }
   ],
   "source": [
    "pw.course_price_access"
   ]
  },
  {
   "cell_type": "code",
   "execution_count": 187,
   "id": "055d3763-c99a-4b17-a793-2c247a805bed",
   "metadata": {},
   "outputs": [],
   "source": [
    "del pw.delete_course_price"
   ]
  },
  {
   "cell_type": "code",
   "execution_count": 188,
   "id": "a305f7be-f031-417c-900a-c0236ec45bea",
   "metadata": {},
   "outputs": [
    {
     "ename": "AttributeError",
     "evalue": "'pwskills' object has no attribute '_pwskills__course_price'",
     "output_type": "error",
     "traceback": [
      "\u001b[0;31m---------------------------------------------------------------------------\u001b[0m",
      "\u001b[0;31mAttributeError\u001b[0m                            Traceback (most recent call last)",
      "Cell \u001b[0;32mIn[188], line 1\u001b[0m\n\u001b[0;32m----> 1\u001b[0m \u001b[43mpw\u001b[49m\u001b[38;5;241;43m.\u001b[39;49m\u001b[43mcourse_price_access\u001b[49m\n",
      "Cell \u001b[0;32mIn[184], line 8\u001b[0m, in \u001b[0;36mpwskills.course_price_access\u001b[0;34m(self)\u001b[0m\n\u001b[1;32m      6\u001b[0m \u001b[38;5;129m@property\u001b[39m\n\u001b[1;32m      7\u001b[0m \u001b[38;5;28;01mdef\u001b[39;00m \u001b[38;5;21mcourse_price_access\u001b[39m(\u001b[38;5;28mself\u001b[39m):\n\u001b[0;32m----> 8\u001b[0m     \u001b[38;5;28;01mreturn\u001b[39;00m \u001b[38;5;28;43mself\u001b[39;49m\u001b[38;5;241;43m.\u001b[39;49m\u001b[43m__course_price\u001b[49m\n",
      "\u001b[0;31mAttributeError\u001b[0m: 'pwskills' object has no attribute '_pwskills__course_price'"
     ]
    }
   ],
   "source": [
    "pw.course_price_access"
   ]
  },
  {
   "cell_type": "code",
   "execution_count": null,
   "id": "071f5a50-4acc-458f-80a8-74b2cc5b7ed0",
   "metadata": {},
   "outputs": [],
   "source": []
  }
 ],
 "metadata": {
  "kernelspec": {
   "display_name": "Python 3 (ipykernel)",
   "language": "python",
   "name": "python3"
  },
  "language_info": {
   "codemirror_mode": {
    "name": "ipython",
    "version": 3
   },
   "file_extension": ".py",
   "mimetype": "text/x-python",
   "name": "python",
   "nbconvert_exporter": "python",
   "pygments_lexer": "ipython3",
   "version": "3.10.8"
  }
 },
 "nbformat": 4,
 "nbformat_minor": 5
}
