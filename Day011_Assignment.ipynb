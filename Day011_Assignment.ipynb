{
 "cells": [
  {
   "cell_type": "markdown",
   "id": "d10c1bcc-bd63-4a27-b6f7-542f0099b757",
   "metadata": {},
   "source": [
    "# Question No. 1:\n",
    "What is Abstraction in OOPS? Explain with an example."
   ]
  },
  {
   "cell_type": "markdown",
   "id": "c0e5dfe9-f38a-4366-93fb-e183da5a0891",
   "metadata": {},
   "source": [
    "## Answer:\n",
    "Abstraction in object-oriented programming (OOP) is a process of hiding the complexity and unnecessary details from the user and showing only the necessary information.\n",
    "\n",
    "An abstract class can be considered as a blueprint for other classes. It allows you to create a set of methods that must be created within any child classes built from the abstract class. A class which contains one or more abstract methods is called an abstract class. An abstract method is a method that has a declaration but does not have an implementation. While we are designing large functional units we use an abstract class. When we want to provide a common interface for different implementations of a component, we use an abstract class. \n",
    "\n",
    "### Example"
   ]
  },
  {
   "cell_type": "code",
   "execution_count": 15,
   "id": "4065437b-c4bd-49d1-85be-665102672903",
   "metadata": {},
   "outputs": [],
   "source": [
    "from abc import ABC, abstractmethod#module used for creating Abstract Base Classes\n",
    "\n",
    "#creating abstract class\n",
    "class Jungle(ABC):\n",
    "    #abstract method\n",
    "    @abstractmethod\n",
    "    def lives_in(self):\n",
    "        pass\n",
    "\n",
    "#creating child classes\n",
    "class Tiger(Jungle):\n",
    "    #defining the body of abstract method of the abstract class\n",
    "    def  lives_in(self):\n",
    "        return 'Tiger lives under trees'\n",
    "    \n",
    "class Alligator(Jungle):\n",
    "    def lives_in(self):\n",
    "        return 'Alligator lives by water'\n",
    "\n",
    "class Bear(Jungle):\n",
    "    def lives_in(self):\n",
    "        return 'Bear lives in a cave'"
   ]
  },
  {
   "cell_type": "code",
   "execution_count": 4,
   "id": "b4892b57-6c8e-42ce-b800-4776ca30923a",
   "metadata": {},
   "outputs": [
    {
     "name": "stdout",
     "output_type": "stream",
     "text": [
      "Tiger lives under trees\n",
      "Alligator lives by water\n",
      "Bear lives in a cave\n"
     ]
    }
   ],
   "source": [
    "# Creating objects of all the child classes\n",
    "tiger_obj = Tiger()\n",
    "alligator_obj = Alligator()\n",
    "bear_obj = Bear()\n",
    "\n",
    "#calling lives_in method of each class\n",
    "print(tiger_obj.lives_in())\n",
    "print(alligator_obj.lives_in())\n",
    "print(bear_obj.lives_in())"
   ]
  },
  {
   "cell_type": "markdown",
   "id": "5e64fb36-4f71-44c4-8cf4-e171966653af",
   "metadata": {},
   "source": [
    "#### But how is an abstract class any different from regular classes?\n",
    "An abstract class is a class, but not one you can create objects from directly. Its purpose is to define how other classes should look like, i.e. what methods and properties they are expected to have.\n",
    "\n",
    "So lets try creating an object of the abstract class:"
   ]
  },
  {
   "cell_type": "code",
   "execution_count": 16,
   "id": "e8f96d8c-430c-40e8-a6f8-689bab690182",
   "metadata": {},
   "outputs": [
    {
     "ename": "TypeError",
     "evalue": "Can't instantiate abstract class Jungle with abstract method lives_in",
     "output_type": "error",
     "traceback": [
      "\u001b[0;31m---------------------------------------------------------------------------\u001b[0m",
      "\u001b[0;31mTypeError\u001b[0m                                 Traceback (most recent call last)",
      "Cell \u001b[0;32mIn[16], line 1\u001b[0m\n\u001b[0;32m----> 1\u001b[0m jungle_obj \u001b[38;5;241m=\u001b[39m \u001b[43mJungle\u001b[49m\u001b[43m(\u001b[49m\u001b[43m)\u001b[49m\n",
      "\u001b[0;31mTypeError\u001b[0m: Can't instantiate abstract class Jungle with abstract method lives_in"
     ]
    }
   ],
   "source": [
    "jungle_obj = Jungle()"
   ]
  },
  {
   "cell_type": "markdown",
   "id": "6f51828d-38b8-46f3-a6c4-41a3338118a9",
   "metadata": {},
   "source": [
    "As you can see because the class **Jungle** is an abstract class containing an abstract method, it is not possible to directly create an object of this class. An that is what makes it different from regualr classes."
   ]
  },
  {
   "cell_type": "markdown",
   "id": "783ed20c-8f8c-44e3-b89f-5c33e7618afa",
   "metadata": {},
   "source": [
    "# Question No. 2: \n",
    "Differentiate between Abastraction and Encapsulation. Explain with an example."
   ]
  },
  {
   "cell_type": "markdown",
   "id": "6f17d37f-5c4e-475b-a9ce-9a2bfc0abc3f",
   "metadata": {
    "tags": []
   },
   "source": [
    "## Answer:\n",
    "**Encapsulation hides variables or some implementation that may be changed so often in a class to prevent outsiders access it directly. They must access it via getter and setter methods.**<br>\n",
    "Encapsulation is the mechanism of hiding the code and the data together from the outside world or misuse.\n",
    "\n",
    "**Abstraction is used to hide something too, but in a higher degree (class, interface). Clients who use an abstract class (or interface) do not care about what it was, they just need to know what it can do.**<br>\n",
    "Abstraction is implemented to hide unnecessary data and withdrawing relevant data.\n"
   ]
  },
  {
   "cell_type": "markdown",
   "id": "3337edcb-640f-4d12-bbc3-bb9edfd81f79",
   "metadata": {},
   "source": [
    "### Example of Encapsulation:"
   ]
  },
  {
   "cell_type": "code",
   "execution_count": 22,
   "id": "75c1aa1c-3481-4535-9c80-170ca9317fd5",
   "metadata": {},
   "outputs": [],
   "source": [
    "class bank_account:\n",
    "    def __init__(self, balance):\n",
    "        self.__balance = balance\n",
    "        \n",
    "    def deposit(self, amount):\n",
    "        self.__balance = self.__balance+amount\n",
    "        \n",
    "    def withdraw(self, amount):\n",
    "        if self.__balance >=amount:\n",
    "            self.__balance = self.__balance-amount\n",
    "            return (\"Withdrawal successful\")\n",
    "        else:\n",
    "            print(\"Not enough balance in account\")\n",
    "            \n",
    "    def get_balance(self):\n",
    "        return self.__balance"
   ]
  },
  {
   "cell_type": "code",
   "execution_count": 27,
   "id": "0c949f5c-b533-494a-8705-00cdd87ad3c1",
   "metadata": {},
   "outputs": [
    {
     "data": {
      "text/plain": [
       "10000"
      ]
     },
     "execution_count": 27,
     "metadata": {},
     "output_type": "execute_result"
    }
   ],
   "source": [
    "my_account = bank_account(10000)\n",
    "my_account.get_balance()"
   ]
  },
  {
   "cell_type": "markdown",
   "id": "4d4c6c5e-2888-4017-a17f-2051a3d6140c",
   "metadata": {},
   "source": [
    "In the above example, if a user wants to access **balance** variable, he/she cannot do it directly. The user can only get the information by calling the **get_balance** method.\n",
    "\n",
    "Let's try to access the **balance** variable directly:"
   ]
  },
  {
   "cell_type": "code",
   "execution_count": 28,
   "id": "bc3725a7-8100-4664-9c3a-81c6bde3c0aa",
   "metadata": {},
   "outputs": [
    {
     "ename": "AttributeError",
     "evalue": "'bank_account' object has no attribute 'balance'",
     "output_type": "error",
     "traceback": [
      "\u001b[0;31m---------------------------------------------------------------------------\u001b[0m",
      "\u001b[0;31mAttributeError\u001b[0m                            Traceback (most recent call last)",
      "Cell \u001b[0;32mIn[28], line 1\u001b[0m\n\u001b[0;32m----> 1\u001b[0m \u001b[43mmy_account\u001b[49m\u001b[38;5;241;43m.\u001b[39;49m\u001b[43mbalance\u001b[49m\n",
      "\u001b[0;31mAttributeError\u001b[0m: 'bank_account' object has no attribute 'balance'"
     ]
    }
   ],
   "source": [
    "my_account.balance"
   ]
  },
  {
   "cell_type": "markdown",
   "id": "21285dd9-06ed-4c82-8056-57a5bd45cd75",
   "metadata": {},
   "source": [
    "So just like we mentioned above, due to Ecancapsulation of the **amount** variable. It is not directly accessible by user (object)."
   ]
  },
  {
   "cell_type": "markdown",
   "id": "c561031f-687c-49e1-bc5c-48191493a44c",
   "metadata": {},
   "source": [
    "### Example of Abstraction:"
   ]
  },
  {
   "cell_type": "code",
   "execution_count": 31,
   "id": "6b722278-e0ef-43f6-a0eb-8fe3585470a1",
   "metadata": {},
   "outputs": [],
   "source": [
    "from abc import ABC, abstractmethod\n",
    "\n",
    "class webpage_layout(ABC):\n",
    "    @abstractmethod\n",
    "    def get_data(self):\n",
    "        return self.headers, self.titles\n",
    "    \n",
    "    @abstractmethod\n",
    "    def content_section(self):\n",
    "        pass\n",
    "    @abstractmethod\n",
    "    def users_section(self):\n",
    "        pass\n",
    "    @abstractmethod\n",
    "    def comments_section(self):\n",
    "        pass\n",
    "\n",
    "class home_screen(webpage_layout):\n",
    "    def content_section(self):\n",
    "        print(\"This section contain all the content of the home screen\")\n",
    "    def users_section(self):\n",
    "        print(\"This section contains all the information about users.\")\n",
    "    def comments_section(self):\n",
    "        print(\"This section contains all the comments by users.\")"
   ]
  },
  {
   "cell_type": "markdown",
   "id": "b6645a09-01f0-4046-b190-c30de7123e3f",
   "metadata": {},
   "source": [
    "In the above example, the purpose of the abstract class **webpage_layout** is to define how other classes (**home_screen**) should look like, i.e. what methods and properties they are expected to have.<br>\n",
    "One can access the methods of an abstract class using an object of one of its deived classes but can never create an object of it. Which avoids users to access or use what's outside these methods in the abstract class.\n",
    "\n",
    "Let's try to create an object of the abstract class:"
   ]
  },
  {
   "cell_type": "code",
   "execution_count": 32,
   "id": "facf7f09-4b95-4b2f-b3e6-c5d4b82daafc",
   "metadata": {},
   "outputs": [
    {
     "ename": "TypeError",
     "evalue": "Can't instantiate abstract class webpage_layout with abstract methods comments_section, content_section, get_data, users_section",
     "output_type": "error",
     "traceback": [
      "\u001b[0;31m---------------------------------------------------------------------------\u001b[0m",
      "\u001b[0;31mTypeError\u001b[0m                                 Traceback (most recent call last)",
      "Cell \u001b[0;32mIn[32], line 1\u001b[0m\n\u001b[0;32m----> 1\u001b[0m abs_obj \u001b[38;5;241m=\u001b[39m \u001b[43mwebpage_layout\u001b[49m\u001b[43m(\u001b[49m\u001b[43m)\u001b[49m\n",
      "\u001b[0;31mTypeError\u001b[0m: Can't instantiate abstract class webpage_layout with abstract methods comments_section, content_section, get_data, users_section"
     ]
    }
   ],
   "source": [
    "abs_obj = webpage_layout()"
   ]
  },
  {
   "cell_type": "markdown",
   "id": "6edb5512-9f10-4694-8bbc-54b532433397",
   "metadata": {},
   "source": [
    "As expected, it is not possible to access the abstract class directly by creating its object."
   ]
  },
  {
   "cell_type": "markdown",
   "id": "6e80e269-da10-4ddf-91d2-e4919cd4ec31",
   "metadata": {},
   "source": [
    "# Question No. 3:\n",
    "What is abc module in Python? Why is it used?"
   ]
  },
  {
   "cell_type": "markdown",
   "id": "429113d9-1e49-4762-8151-2085d28ecd5d",
   "metadata": {},
   "source": [
    "## Answer:\n",
    "**abc** is short for **Abstract Base Classes** and is a module in Python that provides a way to define abstract base classes. Abstract base classes allow you to define a common interface for a set of objects, without having to specify how the objects behave. <br> They are used as a base class for creating a hierarchy of classes and to enforce a common interface between objects. "
   ]
  },
  {
   "cell_type": "markdown",
   "id": "86affb2e-c047-4314-a8ab-d85f662cb6b7",
   "metadata": {},
   "source": [
    "# Question No. 4:\n",
    "How can we achieve data abstraction?"
   ]
  },
  {
   "cell_type": "markdown",
   "id": "888aedc0-89fd-4e5b-8683-96c3b536e09b",
   "metadata": {},
   "source": [
    "## Answer:\n",
    "Data abstraction in Python can be achieved through the use of classes and objects. By defining a class, you can encapsulate the data (attributes) and behavior (methods) of a real-world entity, and then create objects from the class that represent specific instances of that entity. You can use abstraction to hide the implementation details of a class and only expose the relevant information to the user.\n",
    "\n",
    "This can be achieved by **using access modifiers** such as \"private\" and \"protected\" to restrict access to certain attributes and methods, and by defining methods to provide a high-level interface for working with the data. For example, you can define a method to perform operations on the data, and hide the implementation details from the user.<br>\n",
    "Another way of Data Abstraction is to **create abstract classes and abstract methods** using the abc module in python. These abstract classes acts like bluprints for its derived classes and one cannot createa objects of these classes directly."
   ]
  },
  {
   "cell_type": "markdown",
   "id": "2af15034-fb39-4e51-a16f-93c0508dc935",
   "metadata": {},
   "source": [
    "# Question No.5:\n",
    "Can we create an instance of an abstract class? Explain your answer."
   ]
  },
  {
   "cell_type": "markdown",
   "id": "bc86f6cf-6654-41b0-bb5a-d410a4c05fec",
   "metadata": {},
   "source": [
    "## Answer:\n",
    "No, you cannot create an instance of an abstract class in Python. An abstract class is a class that contains one or more abstract methods, which are methods that have no implementation. The purpose of an abstract class is to serve as a base class for other classes, providing them with a common interface.\n",
    "\n",
    "In order to use an abstract class, you need to create a subclass that implements all of its abstract methods. Then, you can create an instance of the subclass. This is because the abstract class itself cannot be instantiated, since it contains abstract methods that have no implementation."
   ]
  }
 ],
 "metadata": {
  "kernelspec": {
   "display_name": "Python 3 (ipykernel)",
   "language": "python",
   "name": "python3"
  },
  "language_info": {
   "codemirror_mode": {
    "name": "ipython",
    "version": 3
   },
   "file_extension": ".py",
   "mimetype": "text/x-python",
   "name": "python",
   "nbconvert_exporter": "python",
   "pygments_lexer": "ipython3",
   "version": "3.10.8"
  }
 },
 "nbformat": 4,
 "nbformat_minor": 5
}
