{
 "cells": [
  {
   "cell_type": "markdown",
   "id": "cf3afa80-a06b-49b9-b536-0faf6a36129b",
   "metadata": {},
   "source": [
    "# Question No. 1:\n",
    "Create a vehicle class with an __init__ method having instance variables as name_of_vehicle, max_speed, average_of_vehicle"
   ]
  },
  {
   "cell_type": "markdown",
   "id": "95121b29-ed85-4c18-b663-7066545b940b",
   "metadata": {},
   "source": [
    "## Answer"
   ]
  },
  {
   "cell_type": "code",
   "execution_count": 1,
   "id": "c912558f-9a07-4b5f-b8cc-7416821883b1",
   "metadata": {},
   "outputs": [],
   "source": [
    "class vehicle:\n",
    "    def __init__(self, name_of_vehicle, max_speed, average_of_vehicle):\n",
    "        self.name_of_vehicle = name_of_vehicle\n",
    "        self.max_speed = max_speed\n",
    "        self.average_of = average_of_vehicle"
   ]
  },
  {
   "cell_type": "markdown",
   "id": "d9a80fcf-ff10-43a6-a457-5a850a8403d4",
   "metadata": {},
   "source": [
    "# Question No. 2:\n",
    "Create a child class car from the vehicle class created in Question 1, which will inherit the vehicle_class. Create a method named seating_capacity which takes capacity as an argument and returns the name of the vehicle and its seating capacity."
   ]
  },
  {
   "cell_type": "markdown",
   "id": "a246600d-b712-4a91-a277-9b2cf792d30c",
   "metadata": {},
   "source": [
    "## Answer:"
   ]
  },
  {
   "cell_type": "code",
   "execution_count": 2,
   "id": "47857081-e64b-41b5-8638-0d7e1d3eb021",
   "metadata": {},
   "outputs": [],
   "source": [
    "class car(vehicle):\n",
    "    def seating_capacity(self, capacity):\n",
    "        return self.name_of_vehicle, capacity\n",
    "        "
   ]
  },
  {
   "cell_type": "code",
   "execution_count": 3,
   "id": "ed7635c1-bdc7-4f13-af98-a9f835ebceab",
   "metadata": {},
   "outputs": [],
   "source": [
    "child_obj = car('Toyota', 120, 70)"
   ]
  },
  {
   "cell_type": "code",
   "execution_count": 4,
   "id": "eb0cecf8-a118-433a-b2da-925bfdd2ece4",
   "metadata": {},
   "outputs": [
    {
     "data": {
      "text/plain": [
       "('Toyota', 6)"
      ]
     },
     "execution_count": 4,
     "metadata": {},
     "output_type": "execute_result"
    }
   ],
   "source": [
    "child_obj.seating_capacity(6)"
   ]
  },
  {
   "cell_type": "markdown",
   "id": "0b262162-8078-4c87-8f90-fa80bfcc367a",
   "metadata": {},
   "source": [
    "# Question No. 3:\n",
    "What is mulitple inheritance? Write a Python code to demonstrate multipli inheritance."
   ]
  },
  {
   "cell_type": "markdown",
   "id": "627f907f-c566-47c8-ba05-6f25677077e5",
   "metadata": {},
   "source": [
    "## Answer:\n",
    "A class can be derived from more than one superclass in Python. This is called multiple inheritance."
   ]
  },
  {
   "cell_type": "code",
   "execution_count": 5,
   "id": "de98d90e-f744-4db9-a934-0cc1a5ca7951",
   "metadata": {},
   "outputs": [],
   "source": [
    "class super_class1:\n",
    "    def class1_func(self):\n",
    "        return 'this is method of class 1'\n",
    "\n",
    "class super_class2:\n",
    "    def class2_func(self):\n",
    "        return 'this is method of class 2'\n",
    "    \n",
    "class sub_class(super_class1, super_class2):\n",
    "    pass"
   ]
  },
  {
   "cell_type": "code",
   "execution_count": 6,
   "id": "34b2c8c6-02a2-408c-b6d8-14960ec3b3c6",
   "metadata": {},
   "outputs": [],
   "source": [
    "subclass_obj = sub_class()"
   ]
  },
  {
   "cell_type": "code",
   "execution_count": 7,
   "id": "91d8e6cb-3809-4487-93b4-015d855086ad",
   "metadata": {},
   "outputs": [
    {
     "data": {
      "text/plain": [
       "'this is method of class 1'"
      ]
     },
     "execution_count": 7,
     "metadata": {},
     "output_type": "execute_result"
    }
   ],
   "source": [
    "subclass_obj.class1_func()"
   ]
  },
  {
   "cell_type": "code",
   "execution_count": 8,
   "id": "a41593c9-ca12-44ae-ab32-f08afbe7c155",
   "metadata": {},
   "outputs": [
    {
     "data": {
      "text/plain": [
       "'this is method of class 2'"
      ]
     },
     "execution_count": 8,
     "metadata": {},
     "output_type": "execute_result"
    }
   ],
   "source": [
    "subclass_obj.class2_func()"
   ]
  },
  {
   "cell_type": "markdown",
   "id": "4e39b764-0af4-4f35-9f23-c036f58619bb",
   "metadata": {},
   "source": [
    "# Question No. 4:\n",
    "What are getter and setter in Python? Create a class and create a getter and setter method inthis class."
   ]
  },
  {
   "cell_type": "markdown",
   "id": "e0fae4ee-8886-42a9-ac41-1e57d987b95b",
   "metadata": {},
   "source": [
    "## Answer:\n",
    "We use getters and setters in Python to restrict/hide an attribute/attirbutes (make it private) and define methods (getters and setters) to manipulate thse variables."
   ]
  },
  {
   "cell_type": "code",
   "execution_count": 9,
   "id": "6e62dce5-c8b7-48aa-b075-ac81e9972215",
   "metadata": {},
   "outputs": [],
   "source": [
    "class ExampleClass:\n",
    "    def __init__ (self, some_value):\n",
    "        self.__some_value = some_value\n",
    "    \n",
    "    #getter method\n",
    "    def get_value(self):\n",
    "        return self.__some_value\n",
    "    \n",
    "    #setter method\n",
    "    def set_value(self,some_value):\n",
    "        self.__some_value = 0 if some_value<0 else some_value\n",
    "    "
   ]
  },
  {
   "cell_type": "code",
   "execution_count": 10,
   "id": "d72e378e-1c91-4c33-abf0-5bcf7b33f662",
   "metadata": {},
   "outputs": [],
   "source": [
    "obj = ExampleClass(22)"
   ]
  },
  {
   "cell_type": "code",
   "execution_count": 11,
   "id": "961cd536-e613-474c-993f-7fbd16a089ff",
   "metadata": {},
   "outputs": [
    {
     "data": {
      "text/plain": [
       "22"
      ]
     },
     "execution_count": 11,
     "metadata": {},
     "output_type": "execute_result"
    }
   ],
   "source": [
    "obj.get_value()"
   ]
  },
  {
   "cell_type": "code",
   "execution_count": 12,
   "id": "3e064560-806e-4b67-aa72-96f0aab5f361",
   "metadata": {},
   "outputs": [],
   "source": [
    "obj.set_value(95)"
   ]
  },
  {
   "cell_type": "code",
   "execution_count": 13,
   "id": "0be9043b-5af7-48de-ae54-f987ee5e7238",
   "metadata": {},
   "outputs": [
    {
     "data": {
      "text/plain": [
       "95"
      ]
     },
     "execution_count": 13,
     "metadata": {},
     "output_type": "execute_result"
    }
   ],
   "source": [
    "obj.get_value()"
   ]
  },
  {
   "cell_type": "markdown",
   "id": "9b619a74-7e17-4bcc-bacd-ccd3e1a19bea",
   "metadata": {},
   "source": [
    "# Question No. 5:\n",
    "What is method overriding in Python? Write a Python code to demonstrate method overriding."
   ]
  },
  {
   "cell_type": "markdown",
   "id": "1a632ceb-ffab-4a60-aaea-53dfbf353c0b",
   "metadata": {},
   "source": [
    "## Answer\n",
    "Method overriding is a feature of object-oriented programming languages where the subclass or child class can provide the program with specific characteristics or a specific implementation process of data provided that are already defined in the parent class or superclass."
   ]
  },
  {
   "cell_type": "code",
   "execution_count": 14,
   "id": "c94fb9cd-25c1-4b28-8a34-22431b72ab01",
   "metadata": {},
   "outputs": [],
   "source": [
    "class superclass:\n",
    "    def some_method(self):\n",
    "        return 'this is some_method from superclass'\n",
    "    \n",
    "class subclass(superclass):\n",
    "    def some_method(self):\n",
    "        return 'this is some_method from subclass'"
   ]
  },
  {
   "cell_type": "code",
   "execution_count": 15,
   "id": "a7cf245b-4fbe-44dd-b520-27109144b8bc",
   "metadata": {},
   "outputs": [],
   "source": [
    "super_obj = superclass()\n",
    "sub_obj = subclass()"
   ]
  },
  {
   "cell_type": "code",
   "execution_count": 16,
   "id": "93a853ba-de72-4ef0-96fe-e93d71a26edd",
   "metadata": {},
   "outputs": [
    {
     "data": {
      "text/plain": [
       "'this is some_method from superclass'"
      ]
     },
     "execution_count": 16,
     "metadata": {},
     "output_type": "execute_result"
    }
   ],
   "source": [
    "super_obj.some_method()"
   ]
  },
  {
   "cell_type": "code",
   "execution_count": 17,
   "id": "9f34ef68-23c9-41eb-83b9-bd335466d90f",
   "metadata": {},
   "outputs": [
    {
     "data": {
      "text/plain": [
       "'this is some_method from subclass'"
      ]
     },
     "execution_count": 17,
     "metadata": {},
     "output_type": "execute_result"
    }
   ],
   "source": [
    "sub_obj.some_method()"
   ]
  }
 ],
 "metadata": {
  "kernelspec": {
   "display_name": "Python 3 (ipykernel)",
   "language": "python",
   "name": "python3"
  },
  "language_info": {
   "codemirror_mode": {
    "name": "ipython",
    "version": 3
   },
   "file_extension": ".py",
   "mimetype": "text/x-python",
   "name": "python",
   "nbconvert_exporter": "python",
   "pygments_lexer": "ipython3",
   "version": "3.10.8"
  }
 },
 "nbformat": 4,
 "nbformat_minor": 5
}
