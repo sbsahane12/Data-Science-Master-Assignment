{
 "cells": [
  {
   "cell_type": "markdown",
   "id": "c6c68430-f1ad-4938-b791-af48dec958bd",
   "metadata": {},
   "source": [
    "# Working with files"
   ]
  },
  {
   "cell_type": "code",
   "execution_count": 14,
   "id": "aec29725-bcaf-4502-90e2-57db2380e564",
   "metadata": {},
   "outputs": [],
   "source": [
    "f = open('test.txt', 'w') #created file"
   ]
  },
  {
   "cell_type": "code",
   "execution_count": 15,
   "id": "18eb6a8c-d6e6-4ae1-a9e6-217597aab394",
   "metadata": {},
   "outputs": [
    {
     "name": "stdout",
     "output_type": "stream",
     "text": [
      "Day014_Python_FileHandling,Logging.ipynb  sample-code.ipynb\n",
      "README.md                                 test.txt\n"
     ]
    }
   ],
   "source": [
    "ls"
   ]
  },
  {
   "cell_type": "code",
   "execution_count": 16,
   "id": "cc8c30f2-9836-4f46-81f6-72cce04152c9",
   "metadata": {},
   "outputs": [
    {
     "data": {
      "text/plain": [
       "'/home/jovyan/work'"
      ]
     },
     "execution_count": 16,
     "metadata": {},
     "output_type": "execute_result"
    }
   ],
   "source": [
    "pwd"
   ]
  },
  {
   "cell_type": "code",
   "execution_count": 17,
   "id": "d170617d-7fcc-4544-ae47-d3f5de6aa10e",
   "metadata": {},
   "outputs": [
    {
     "data": {
      "text/plain": [
       "30"
      ]
     },
     "execution_count": 17,
     "metadata": {},
     "output_type": "execute_result"
    }
   ],
   "source": [
    "f.write('this is my first file to write')"
   ]
  },
  {
   "cell_type": "code",
   "execution_count": 18,
   "id": "e5a8197c-ae46-4fd6-91c3-346636468acb",
   "metadata": {},
   "outputs": [],
   "source": [
    "f = open('test.txt', 'w')"
   ]
  },
  {
   "cell_type": "code",
   "execution_count": 19,
   "id": "dcffbe1c-d589-45d8-b742-a5c025e5d6be",
   "metadata": {},
   "outputs": [
    {
     "data": {
      "text/plain": [
       "15"
      ]
     },
     "execution_count": 19,
     "metadata": {},
     "output_type": "execute_result"
    }
   ],
   "source": [
    "f.write('this is my file') #removes old data and writes new"
   ]
  },
  {
   "cell_type": "code",
   "execution_count": 20,
   "id": "d80d05da-06cc-430c-a317-afd22e790c87",
   "metadata": {},
   "outputs": [],
   "source": [
    "f.close()"
   ]
  },
  {
   "cell_type": "code",
   "execution_count": 21,
   "id": "138c74f0-1c0e-4b59-b9d6-67a65245d0aa",
   "metadata": {},
   "outputs": [],
   "source": [
    "f = open('test.txt', 'a') #append mode keeps old data and appends new data"
   ]
  },
  {
   "cell_type": "code",
   "execution_count": 22,
   "id": "1baf5cab-1415-42e1-8c9b-ffa5f97e8b32",
   "metadata": {},
   "outputs": [
    {
     "data": {
      "text/plain": [
       "57"
      ]
     },
     "execution_count": 22,
     "metadata": {},
     "output_type": "execute_result"
    }
   ],
   "source": [
    "f.write('this is some text that i added to the file in append mode')"
   ]
  },
  {
   "cell_type": "code",
   "execution_count": 23,
   "id": "52f87eac-734a-4976-a300-4b38e348c57f",
   "metadata": {},
   "outputs": [],
   "source": [
    "f = open('test.txt', 'r')"
   ]
  },
  {
   "cell_type": "code",
   "execution_count": 24,
   "id": "646b0514-b664-449a-9c3a-dc300471edf9",
   "metadata": {},
   "outputs": [
    {
     "data": {
      "text/plain": [
       "'this is my filet file to writethis is some text that i added to the file in append mode'"
      ]
     },
     "execution_count": 24,
     "metadata": {},
     "output_type": "execute_result"
    }
   ],
   "source": [
    "f.read()"
   ]
  },
  {
   "cell_type": "code",
   "execution_count": 25,
   "id": "e8b82fd2-fffb-4291-9b0e-940c7a5e9fe2",
   "metadata": {},
   "outputs": [
    {
     "data": {
      "text/plain": [
       "''"
      ]
     },
     "execution_count": 25,
     "metadata": {},
     "output_type": "execute_result"
    }
   ],
   "source": [
    "f.readline() "
   ]
  },
  {
   "cell_type": "markdown",
   "id": "86ca3e19-5c48-45b2-9f94-bca8932e7f2f",
   "metadata": {},
   "source": [
    "the above readline method does not read any data from the file because the pointer is at the end of the file. to bring the pointer to the beginning of the file. we can do f.seek"
   ]
  },
  {
   "cell_type": "code",
   "execution_count": 26,
   "id": "0458967f-9db1-4ba7-aeb7-ccd4c58075cf",
   "metadata": {},
   "outputs": [
    {
     "data": {
      "text/plain": [
       "0"
      ]
     },
     "execution_count": 26,
     "metadata": {},
     "output_type": "execute_result"
    }
   ],
   "source": [
    "f.seek(0)"
   ]
  },
  {
   "cell_type": "code",
   "execution_count": 27,
   "id": "943a3195-9fc6-4bbe-abaa-d010f887f318",
   "metadata": {},
   "outputs": [
    {
     "data": {
      "text/plain": [
       "'this is my filet file to writethis is some text that i added to the file in append mode'"
      ]
     },
     "execution_count": 27,
     "metadata": {},
     "output_type": "execute_result"
    }
   ],
   "source": [
    "f.readline()"
   ]
  },
  {
   "cell_type": "code",
   "execution_count": 28,
   "id": "ce806b93-6705-48e8-9c96-d57f5a03a955",
   "metadata": {},
   "outputs": [],
   "source": [
    "data1 = open('test.txt', 'r')"
   ]
  },
  {
   "cell_type": "code",
   "execution_count": 30,
   "id": "1c24236a-3ceb-4ece-8e3f-cae43214c879",
   "metadata": {},
   "outputs": [
    {
     "name": "stdout",
     "output_type": "stream",
     "text": [
      "this is my filet file to writethis is some text that i added to the file in append mode\n"
     ]
    }
   ],
   "source": [
    "for each_line in data1:\n",
    "    print(each_line)"
   ]
  },
  {
   "cell_type": "code",
   "execution_count": 32,
   "id": "78d0e77e-9258-49f0-9846-18e5d65a7e87",
   "metadata": {},
   "outputs": [
    {
     "data": {
      "text/plain": [
       "87"
      ]
     },
     "execution_count": 32,
     "metadata": {},
     "output_type": "execute_result"
    }
   ],
   "source": [
    "import os\n",
    "\n",
    "os.path.getsize('test.txt')"
   ]
  },
  {
   "cell_type": "code",
   "execution_count": 33,
   "id": "714c4922-94de-4973-881e-1f2d5c92e33f",
   "metadata": {},
   "outputs": [],
   "source": [
    "os.remove('test.txt') # removes fi;e"
   ]
  },
  {
   "cell_type": "code",
   "execution_count": 34,
   "id": "95ae2d1d-c924-41a9-81bd-f8500221d9eb",
   "metadata": {},
   "outputs": [],
   "source": [
    "f = open('test1.txt', 'w')"
   ]
  },
  {
   "cell_type": "code",
   "execution_count": 35,
   "id": "05de12a4-b9cc-4d69-9876-4b4376f12a79",
   "metadata": {},
   "outputs": [
    {
     "data": {
      "text/plain": [
       "87"
      ]
     },
     "execution_count": 35,
     "metadata": {},
     "output_type": "execute_result"
    }
   ],
   "source": [
    "f.write('this is my filet file to writethis is some text that i added to the file in append mode')"
   ]
  },
  {
   "cell_type": "code",
   "execution_count": 36,
   "id": "ffb96624-772a-4407-8bc5-97390f761b22",
   "metadata": {},
   "outputs": [],
   "source": [
    "f.close()"
   ]
  },
  {
   "cell_type": "code",
   "execution_count": 37,
   "id": "8d704826-a49e-4873-8491-ce8240e592cb",
   "metadata": {},
   "outputs": [],
   "source": [
    "#renaming a file\n",
    "os.rename('test1.txt', 'new.txt')"
   ]
  },
  {
   "cell_type": "code",
   "execution_count": 38,
   "id": "fd063eb2-7f2f-49b3-bc5d-54680180cd3a",
   "metadata": {},
   "outputs": [
    {
     "name": "stdout",
     "output_type": "stream",
     "text": [
      "Day014_Python_FileHandling,Logging.ipynb  new.txt  README.md  sample-code.ipynb\n"
     ]
    }
   ],
   "source": [
    "ls"
   ]
  },
  {
   "cell_type": "code",
   "execution_count": 39,
   "id": "f64f909e-9a9e-4196-86a0-2c0871817d95",
   "metadata": {},
   "outputs": [
    {
     "data": {
      "text/plain": [
       "'copy_new.txt'"
      ]
     },
     "execution_count": 39,
     "metadata": {},
     "output_type": "execute_result"
    }
   ],
   "source": [
    "#creating copies of a file\n",
    "import shutil\n",
    "\n",
    "shutil.copy('new.txt', 'copy_new.txt')"
   ]
  },
  {
   "cell_type": "code",
   "execution_count": 40,
   "id": "1653bcf3-1bba-487f-8cb8-93d30864306c",
   "metadata": {},
   "outputs": [
    {
     "name": "stdout",
     "output_type": "stream",
     "text": [
      "copy_new.txt                              new.txt    sample-code.ipynb\n",
      "Day014_Python_FileHandling,Logging.ipynb  README.md\n"
     ]
    }
   ],
   "source": [
    "ls"
   ]
  },
  {
   "cell_type": "code",
   "execution_count": 42,
   "id": "ab82b673-60a6-4280-b9d7-8e133fae1798",
   "metadata": {},
   "outputs": [
    {
     "name": "stdout",
     "output_type": "stream",
     "text": [
      "this is my filet file to writethis is some text that i added to the file in append mode\n"
     ]
    }
   ],
   "source": [
    "with open('new.txt', 'r') as f: #f is alias\n",
    "    content = f.read()\n",
    "    print(content)"
   ]
  },
  {
   "cell_type": "markdown",
   "id": "15ac1d0e-cd7a-4679-a1a0-7d64333995a8",
   "metadata": {},
   "source": [
    "# More: Json, CSV"
   ]
  },
  {
   "cell_type": "markdown",
   "id": "afe8821b-5d39-4521-9585-66dc789036b4",
   "metadata": {},
   "source": [
    "## Json"
   ]
  },
  {
   "cell_type": "code",
   "execution_count": 44,
   "id": "9b79de92-48a6-428a-a494-661149bbf49f",
   "metadata": {},
   "outputs": [],
   "source": [
    "data = {\n",
    "    'name' : 'sudh',\n",
    "    'mail_id' : 'sudh@gmail.com',\n",
    "    'phone_number' : 63296532,\n",
    "    'subject' : ['data science', 'big data', 'data analytics']\n",
    "}"
   ]
  },
  {
   "cell_type": "markdown",
   "id": "4f6aa71e-3227-477b-b948-22846abfa380",
   "metadata": {},
   "source": [
    "if data is stored in a file in the above format, it is known as json data"
   ]
  },
  {
   "cell_type": "code",
   "execution_count": 45,
   "id": "9d101f43-5f78-403c-9cdc-acafcebecaf6",
   "metadata": {},
   "outputs": [],
   "source": [
    "import json"
   ]
  },
  {
   "cell_type": "code",
   "execution_count": 46,
   "id": "15da5ff4-d1e6-4bd4-ad97-9525c4b47617",
   "metadata": {},
   "outputs": [],
   "source": [
    "with open('data.json', 'w') as f:\n",
    "    json.dump(data, f)"
   ]
  },
  {
   "cell_type": "code",
   "execution_count": 48,
   "id": "3347fd1f-0b10-4771-9777-95b1b462f823",
   "metadata": {},
   "outputs": [
    {
     "name": "stdout",
     "output_type": "stream",
     "text": [
      "copy_new.txt  Day014_Python_FileHandling,Logging.ipynb  README.md\n",
      "data.json     new.txt                                   sample-code.ipynb\n"
     ]
    }
   ],
   "source": [
    "ls"
   ]
  },
  {
   "cell_type": "code",
   "execution_count": 49,
   "id": "dc36eb88-0a42-4f38-b169-f969f76b89a0",
   "metadata": {},
   "outputs": [],
   "source": [
    "with open('data.json', 'r') as f:\n",
    "    data1 = json.load(f)"
   ]
  },
  {
   "cell_type": "code",
   "execution_count": 50,
   "id": "2a9d27dc-6552-430b-b934-ec84138d4417",
   "metadata": {},
   "outputs": [
    {
     "data": {
      "text/plain": [
       "{'name': 'sudh',\n",
       " 'mail_id': 'sudh@gmail.com',\n",
       " 'phone_number': 63296532,\n",
       " 'subject': ['data science', 'big data', 'data analytics']}"
      ]
     },
     "execution_count": 50,
     "metadata": {},
     "output_type": "execute_result"
    }
   ],
   "source": [
    "data1"
   ]
  },
  {
   "cell_type": "markdown",
   "id": "abdc1044-fa2b-4eab-9a86-243fe62d8c9c",
   "metadata": {},
   "source": [
    "## csv"
   ]
  },
  {
   "cell_type": "code",
   "execution_count": 51,
   "id": "0531ccc6-fa1b-4757-83d6-55e3968c5c07",
   "metadata": {},
   "outputs": [],
   "source": [
    "import csv"
   ]
  },
  {
   "cell_type": "code",
   "execution_count": 52,
   "id": "69e9c060-7dfd-458e-a072-d80f77486458",
   "metadata": {},
   "outputs": [],
   "source": [
    "data = [['name','email_id', 'phone_number'],\n",
    "        ['sudh', 'sudh@gmail.com', 122104120],\n",
    "        ['krish', 'krish@gmail.com', 612316532]\n",
    "]"
   ]
  },
  {
   "cell_type": "code",
   "execution_count": 53,
   "id": "cc47cdfd-73d8-446e-9368-6a2751180eff",
   "metadata": {},
   "outputs": [],
   "source": [
    "with open('data.csv', 'w') as f:\n",
    "    writer = csv.writer(f)\n",
    "    \n",
    "    for i in data:\n",
    "        writer.writerow(i)"
   ]
  },
  {
   "cell_type": "code",
   "execution_count": 54,
   "id": "9cb2cc82-13c0-4333-a650-e00de6f85019",
   "metadata": {},
   "outputs": [
    {
     "name": "stdout",
     "output_type": "stream",
     "text": [
      "copy_new.txt  Day014_Python_FileHandling,Logging.ipynb  sample-code.ipynb\n",
      "data.csv      new.txt\n",
      "data.json     README.md\n"
     ]
    }
   ],
   "source": [
    "ls"
   ]
  },
  {
   "cell_type": "code",
   "execution_count": 55,
   "id": "69eec98c-3d3b-44ab-b8e2-a1ee86577c9f",
   "metadata": {},
   "outputs": [
    {
     "name": "stdout",
     "output_type": "stream",
     "text": [
      "['name', 'email_id', 'phone_number']\n",
      "['sudh', 'sudh@gmail.com', '122104120']\n",
      "['krish', 'krish@gmail.com', '612316532']\n"
     ]
    }
   ],
   "source": [
    "with open('data.csv', 'r') as f:\n",
    "    read_data = csv.reader(f)\n",
    "    \n",
    "    for i in read_data:\n",
    "        print(i)"
   ]
  },
  {
   "cell_type": "markdown",
   "id": "b711de07-eb67-462d-a014-404d0954532a",
   "metadata": {},
   "source": [
    "## Binary Data"
   ]
  },
  {
   "cell_type": "code",
   "execution_count": 59,
   "id": "44f591aa-1365-4dab-bead-854dbd9a9557",
   "metadata": {},
   "outputs": [],
   "source": [
    "with open('test.bin', 'wb') as f: #wb: write binary\n",
    "    f.write(b\"\\x01\\x02\\x03\")"
   ]
  },
  {
   "cell_type": "code",
   "execution_count": 60,
   "id": "e843b9d4-54fa-4558-8047-c3007bd28d69",
   "metadata": {},
   "outputs": [
    {
     "name": "stdout",
     "output_type": "stream",
     "text": [
      "copy_new.txt  Day014_Python_FileHandling,Logging.ipynb  sample-code.ipynb\n",
      "data.csv      new.txt                                   test.bin\n",
      "data.json     README.md\n"
     ]
    }
   ],
   "source": [
    "ls"
   ]
  },
  {
   "cell_type": "code",
   "execution_count": 61,
   "id": "647c7eaf-8210-47df-aac6-4a670ba459ad",
   "metadata": {},
   "outputs": [
    {
     "name": "stdout",
     "output_type": "stream",
     "text": [
      "b'\\x01\\x02\\x03'\n"
     ]
    }
   ],
   "source": [
    "with open('test.bin', 'rb') as f:\n",
    "    print(f.read())"
   ]
  },
  {
   "cell_type": "markdown",
   "id": "609adc64-2909-4575-9244-e3b210d789a9",
   "metadata": {},
   "source": [
    "# Buffered Read and Write\n",
    "whenever we write or read a file using buffer, it will open large files in chunks\n",
    "the default buffer data size is 8192bytes but you can change it and each chunk will be of that size"
   ]
  },
  {
   "cell_type": "code",
   "execution_count": 62,
   "id": "543197ca-8fe5-4055-8b6d-0d68eb5cc64f",
   "metadata": {},
   "outputs": [],
   "source": [
    "import io"
   ]
  },
  {
   "cell_type": "code",
   "execution_count": 64,
   "id": "cb44f4cb-66c2-4d38-bc9a-551695534a50",
   "metadata": {},
   "outputs": [],
   "source": [
    "with open('test1.txt','wb') as f:\n",
    "    file = io.BufferedWriter(f)\n",
    "    file.write(b'this is my first line')\n",
    "    file.write(b'this is my second line')\n",
    "    file.flush()"
   ]
  },
  {
   "cell_type": "code",
   "execution_count": 66,
   "id": "0fcd82d5-6571-4544-93ee-d1fe8562a748",
   "metadata": {},
   "outputs": [
    {
     "name": "stdout",
     "output_type": "stream",
     "text": [
      "b'this is my first linethis is my second line'\n"
     ]
    }
   ],
   "source": [
    "with open('test1.txt', 'rb') as f:\n",
    "    file = io.BufferedReader(f)\n",
    "    a = file.read()\n",
    "    print(a)"
   ]
  },
  {
   "cell_type": "markdown",
   "id": "4752ea3e-3696-418c-83ff-13aa57e369c5",
   "metadata": {},
   "source": [
    "lets say i just want to read 10 bytes of data from the file"
   ]
  },
  {
   "cell_type": "code",
   "execution_count": 67,
   "id": "52f50b21-9c1c-4f29-968c-6d872bec2a0d",
   "metadata": {},
   "outputs": [
    {
     "name": "stdout",
     "output_type": "stream",
     "text": [
      "b'this is my'\n"
     ]
    }
   ],
   "source": [
    "with open('test1.txt', 'rb') as f:\n",
    "    file = io.BufferedReader(f)\n",
    "    a = file.read(10)\n",
    "    print(a)"
   ]
  },
  {
   "cell_type": "markdown",
   "id": "e2c87104-0c14-4911-90d5-bd062c9f4128",
   "metadata": {},
   "source": [
    "# Logging"
   ]
  },
  {
   "cell_type": "code",
   "execution_count": 87,
   "id": "ba86b18d-9210-4e0b-80ca-78658393dec1",
   "metadata": {},
   "outputs": [],
   "source": [
    "import logging"
   ]
  },
  {
   "cell_type": "code",
   "execution_count": 88,
   "id": "682e5152-17c5-4f68-ba0a-19fd5ed92cda",
   "metadata": {},
   "outputs": [],
   "source": [
    "#set basic configuration for logging\n",
    "logging.basicConfig(filename = 'mylogs.log', level = logging.INFO)"
   ]
  },
  {
   "cell_type": "code",
   "execution_count": 89,
   "id": "e6eb401c-0063-4d4c-8d24-480b36754217",
   "metadata": {},
   "outputs": [],
   "source": [
    "logging.info(\"log this line of execution\")"
   ]
  },
  {
   "cell_type": "code",
   "execution_count": 90,
   "id": "dbf148ac-4763-4f00-b637-8c46d37083bf",
   "metadata": {},
   "outputs": [],
   "source": [
    "logging.info('this is my print')"
   ]
  },
  {
   "cell_type": "markdown",
   "id": "aed7da6b-8c51-47c5-8404-4596ee3b80da",
   "metadata": {},
   "source": [
    "Logging Lavels:\n",
    "1. NOTSET\n",
    "2. DEBUG\n",
    "3. INFO\n",
    "4. WARNING\n",
    "5. ERROR\n",
    "6. CRITICAL"
   ]
  },
  {
   "cell_type": "code",
   "execution_count": 91,
   "id": "d6b8ecb9-70eb-4b2e-a9e0-08a14afeda7d",
   "metadata": {},
   "outputs": [],
   "source": [
    "logging.warning('this is a warning log')"
   ]
  },
  {
   "cell_type": "code",
   "execution_count": 92,
   "id": "7cc65637-097c-48bb-bef9-b401398ea571",
   "metadata": {},
   "outputs": [],
   "source": [
    "logging.error('this is an error log')"
   ]
  },
  {
   "cell_type": "code",
   "execution_count": 93,
   "id": "312db454-6722-42e3-8745-863f68d74e0b",
   "metadata": {},
   "outputs": [],
   "source": [
    "logging.critical('this is a critical log')"
   ]
  },
  {
   "cell_type": "code",
   "execution_count": 94,
   "id": "0160fb4b-d0d6-4ab3-b36f-bbf58edc86cc",
   "metadata": {},
   "outputs": [],
   "source": [
    "logging.shutdown()"
   ]
  },
  {
   "cell_type": "code",
   "execution_count": 95,
   "id": "a47bfcb6-b449-4c38-999a-d58a7e7028c8",
   "metadata": {},
   "outputs": [],
   "source": [
    "logging.basicConfig(filename = 'test1.log', level = logging.DEBUG, format = '%(asctime)s %(message)s')"
   ]
  },
  {
   "cell_type": "code",
   "execution_count": 96,
   "id": "096e782e-b69e-42e5-aa4d-2c9d902dd609",
   "metadata": {},
   "outputs": [],
   "source": [
    "logging.info('this is my info log')\n",
    "logging.error('this is my error log')\n",
    "logging.critical('this is my critical log')"
   ]
  },
  {
   "cell_type": "code",
   "execution_count": 97,
   "id": "237ba4c5-f30a-4885-8a11-81961389c812",
   "metadata": {},
   "outputs": [],
   "source": [
    "logging.shutdown()"
   ]
  },
  {
   "cell_type": "code",
   "execution_count": 98,
   "id": "7de5ad59-bc9d-47d4-9ef4-98e2ae8d3340",
   "metadata": {},
   "outputs": [],
   "source": [
    "logging.basicConfig(filename='test2.log', level = logging.DEBUG, format = '%(asctime)s %(name)s %(levelname)s %(message)s')"
   ]
  },
  {
   "cell_type": "code",
   "execution_count": 99,
   "id": "2b52c6d7-fb61-43ce-b90a-e8bc9d41b0b3",
   "metadata": {},
   "outputs": [],
   "source": [
    "logging.info('this is my info log')\n",
    "logging.error('this is my error log')\n",
    "logging.critical('this is my critical log')"
   ]
  },
  {
   "cell_type": "code",
   "execution_count": 100,
   "id": "ad09d3ea-5b04-47e0-aea2-a8659bca19a4",
   "metadata": {},
   "outputs": [],
   "source": [
    "l = [1,2,3,4,[2,3,4],'sudh','kumar']"
   ]
  },
  {
   "cell_type": "code",
   "execution_count": 104,
   "id": "6a4b0733-215c-4ac7-bfff-b47f99190f18",
   "metadata": {},
   "outputs": [],
   "source": [
    "l1_int = []\n",
    "l2_str = []\n",
    "for each_elem in l:\n",
    "    logging.info('we are iterating through our list and our local variable is i'+ str(l))\n",
    "    if type(each_elem) == list:\n",
    "        logging.info('i am inside if statement and i am trying to check list type')\n",
    "        for each_nested in each_elem:\n",
    "            logging.info('i am inside another for loop for list inside list element')\n",
    "            if type(each_nested) == int:\n",
    "                logging.info('i am inside if statement')\n",
    "                l1_int.append(each_nested)\n",
    "    \n",
    "    elif type(each_elem) == int:\n",
    "        l1_int.append(each_elem)\n",
    "        \n",
    "    else:\n",
    "        if type(each_elem) == str:\n",
    "            l2_str.append(each_elem)"
   ]
  },
  {
   "cell_type": "code",
   "execution_count": 102,
   "id": "3f62e502-ed50-4893-a6cb-8e77f90f3077",
   "metadata": {},
   "outputs": [
    {
     "data": {
      "text/plain": [
       "[1, 2, 3, 4, 2, 3, 4]"
      ]
     },
     "execution_count": 102,
     "metadata": {},
     "output_type": "execute_result"
    }
   ],
   "source": [
    "l1_int"
   ]
  },
  {
   "cell_type": "code",
   "execution_count": null,
   "id": "e5d425cc-f6a9-4103-9746-c9e816811811",
   "metadata": {},
   "outputs": [
    {
     "data": {
      "text/plain": [
       "['sudh', 'kumar']"
      ]
     },
     "execution_count": 103,
     "metadata": {},
     "output_type": "execute_result"
    }
   ],
   "source": [
    "l2_str"
   ]
  }
 ],
 "metadata": {
  "kernelspec": {
   "display_name": "Python 3 (ipykernel)",
   "language": "python",
   "name": "python3"
  },
  "language_info": {
   "codemirror_mode": {
    "name": "ipython",
    "version": 3
   },
   "file_extension": ".py",
   "mimetype": "text/x-python",
   "name": "python",
   "nbconvert_exporter": "python",
   "pygments_lexer": "ipython3",
   "version": "3.10.8"
  }
 },
 "nbformat": 4,
 "nbformat_minor": 5
}
