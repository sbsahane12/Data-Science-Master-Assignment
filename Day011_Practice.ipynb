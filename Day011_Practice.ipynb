{
 "cells": [
  {
   "cell_type": "markdown",
   "id": "ab8bd77a-4af5-41ee-8af2-2e99007ca41d",
   "metadata": {},
   "source": [
    "# Polymorphism\n",
    "The literal meaning of polymorphism is the condition of occurrence in different forms.\n",
    "\n",
    "Polymorphism is a very important concept in programming. It refers to the use of a single type entity (method, operator or object) to represent different types in different scenarios."
   ]
  },
  {
   "cell_type": "markdown",
   "id": "5f1672e5-14f7-43ae-98a0-777a0bbf8c47",
   "metadata": {},
   "source": [
    "## Polymorphism in addition operator:"
   ]
  },
  {
   "cell_type": "code",
   "execution_count": 1,
   "id": "9779af9c-61a3-4554-89b0-eafc736c362b",
   "metadata": {},
   "outputs": [
    {
     "data": {
      "text/plain": [
       "44"
      ]
     },
     "execution_count": 1,
     "metadata": {},
     "output_type": "execute_result"
    }
   ],
   "source": [
    "num1 = 23\n",
    "num2 = 21\n",
    "\n",
    "num1+num2"
   ]
  },
  {
   "cell_type": "code",
   "execution_count": 3,
   "id": "a249873e-9144-44b4-84aa-32015f79fd37",
   "metadata": {},
   "outputs": [
    {
     "data": {
      "text/plain": [
       "'OwaisTahir'"
      ]
     },
     "execution_count": 3,
     "metadata": {},
     "output_type": "execute_result"
    }
   ],
   "source": [
    "string1 = 'Owais'\n",
    "string2 = 'Tahir'\n",
    "\n",
    "string1+string2"
   ]
  },
  {
   "cell_type": "code",
   "execution_count": 4,
   "id": "64a05ac4-9e7b-43bc-acc8-c3b7ee16ba2c",
   "metadata": {},
   "outputs": [
    {
     "data": {
      "text/plain": [
       "[1, 2, 3, 4, 3, 2, 5, 3]"
      ]
     },
     "execution_count": 4,
     "metadata": {},
     "output_type": "execute_result"
    }
   ],
   "source": [
    "list1 = [1,2,3,4]\n",
    "list2 = [3,2,5,3]\n",
    "\n",
    "list1+list2"
   ]
  },
  {
   "cell_type": "code",
   "execution_count": 7,
   "id": "4d9edb13-76dd-442e-a203-1534c676fc17",
   "metadata": {},
   "outputs": [
    {
     "data": {
      "text/plain": [
       "(1, 4, 5, 4, 5, 3)"
      ]
     },
     "execution_count": 7,
     "metadata": {},
     "output_type": "execute_result"
    }
   ],
   "source": [
    "tup1 = (1,4,5)\n",
    "tup2 = (4,5,3)\n",
    "\n",
    "tup1+tup2"
   ]
  },
  {
   "cell_type": "markdown",
   "id": "4b2e1ac1-48c6-4492-9459-095c7f9307a7",
   "metadata": {},
   "source": [
    "## Polymorphism in functions"
   ]
  },
  {
   "cell_type": "code",
   "execution_count": 8,
   "id": "0bfb80f7-5785-4e44-9348-b5a59f0e60ad",
   "metadata": {},
   "outputs": [],
   "source": [
    "list1 = [1,2,3,4]\n",
    "string1 = 'Owais'\n",
    "tup1 = (1,4,5)"
   ]
  },
  {
   "cell_type": "code",
   "execution_count": 9,
   "id": "cad8d38e-e129-4c5b-89f4-6f231d5ee86a",
   "metadata": {},
   "outputs": [
    {
     "data": {
      "text/plain": [
       "4"
      ]
     },
     "execution_count": 9,
     "metadata": {},
     "output_type": "execute_result"
    }
   ],
   "source": [
    "len(list1)"
   ]
  },
  {
   "cell_type": "code",
   "execution_count": 10,
   "id": "3d2513f5-dfa5-49de-8ff4-b5915bcd1573",
   "metadata": {},
   "outputs": [
    {
     "data": {
      "text/plain": [
       "5"
      ]
     },
     "execution_count": 10,
     "metadata": {},
     "output_type": "execute_result"
    }
   ],
   "source": [
    "len(string1)"
   ]
  },
  {
   "cell_type": "code",
   "execution_count": 11,
   "id": "7ecfb42b-6cfe-4ea9-8517-54ee0bfba93b",
   "metadata": {},
   "outputs": [
    {
     "data": {
      "text/plain": [
       "3"
      ]
     },
     "execution_count": 11,
     "metadata": {},
     "output_type": "execute_result"
    }
   ],
   "source": [
    "len(tup1)"
   ]
  },
  {
   "cell_type": "markdown",
   "id": "aa18e647-1d35-4a57-9e34-8e38df45619b",
   "metadata": {},
   "source": [
    "## Polymorphism in Python Classes"
   ]
  },
  {
   "cell_type": "code",
   "execution_count": 12,
   "id": "7c0781ba-bf74-416e-a5f2-337169196f5f",
   "metadata": {},
   "outputs": [],
   "source": [
    "class test_class:\n",
    "    def some_func(self):\n",
    "        print('This is some func from class 1')\n",
    "        \n",
    "class test_class2:\n",
    "    def some_func(self):\n",
    "        print('This is some func from class 2')\n",
    "        \n",
    "class test_class3:\n",
    "    def some_func(self):\n",
    "        print('This is some func from class 3')"
   ]
  },
  {
   "cell_type": "code",
   "execution_count": 14,
   "id": "633b4966-fb60-4f23-8f7e-c2e3999ca63c",
   "metadata": {},
   "outputs": [],
   "source": [
    "obj1 = test_class()\n",
    "obj2 = test_class2()\n",
    "obj3 = test_class3()\n",
    "\n",
    "objs = [obj1,obj2,obj3]"
   ]
  },
  {
   "cell_type": "code",
   "execution_count": 15,
   "id": "f789bb5e-5776-4969-a79b-b05b7d76ca0a",
   "metadata": {},
   "outputs": [],
   "source": [
    "def class_parser():\n",
    "    for each_obj in objs:\n",
    "        each_obj.some_func()"
   ]
  },
  {
   "cell_type": "code",
   "execution_count": 16,
   "id": "055aa215-9948-47b2-bf29-b3a5f196ecd5",
   "metadata": {},
   "outputs": [
    {
     "name": "stdout",
     "output_type": "stream",
     "text": [
      "This is some func from class 1\n",
      "This is some func from class 2\n",
      "This is some func from class 3\n"
     ]
    }
   ],
   "source": [
    "class_parser()"
   ]
  },
  {
   "cell_type": "markdown",
   "id": "3e1defda-66c6-4114-9e61-6dcc31be5b6f",
   "metadata": {},
   "source": [
    "# Encapsulation\n",
    "Encapsulation is one of the key features of object-oriented programming. Encapsulation refers to the bundling of attributes and methods inside a single class.\n",
    "\n",
    "It prevents outer classes from accessing and changing attributes and methods of a class. This also helps to achieve data hiding"
   ]
  },
  {
   "cell_type": "markdown",
   "id": "0dadd2d6-5388-48cb-9afb-09b9d95422cb",
   "metadata": {},
   "source": [
    "## Regular Class Variables Example:"
   ]
  },
  {
   "cell_type": "code",
   "execution_count": 24,
   "id": "f9a91ab2-a429-433f-bea1-febb2fa10da7",
   "metadata": {},
   "outputs": [],
   "source": [
    "class some_class2:\n",
    "    def __init__(self, some_var1, some_var2):\n",
    "        self.some_var1 = some_var1\n",
    "        self.some_var2 = some_var2\n",
    "        \n",
    "    def add_func(self):\n",
    "        return self.some_var1+self.some_var2"
   ]
  },
  {
   "cell_type": "code",
   "execution_count": 26,
   "id": "3eee316a-f0b5-4aea-99c2-f65748b0c853",
   "metadata": {},
   "outputs": [],
   "source": [
    "obj2 = some_class2(4,4)"
   ]
  },
  {
   "cell_type": "code",
   "execution_count": 30,
   "id": "aa4e2c74-3412-4f74-b404-f415fb993e15",
   "metadata": {},
   "outputs": [
    {
     "data": {
      "text/plain": [
       "4"
      ]
     },
     "execution_count": 30,
     "metadata": {},
     "output_type": "execute_result"
    }
   ],
   "source": [
    "obj2.some_var1"
   ]
  },
  {
   "cell_type": "markdown",
   "id": "1ce6feeb-6196-46ce-98f3-3eab8774b435",
   "metadata": {},
   "source": [
    "Notice that we can access the variable via the object of the class"
   ]
  },
  {
   "cell_type": "markdown",
   "id": "fc34343c-d164-4fb8-a7eb-c2db58934a94",
   "metadata": {},
   "source": [
    "## Encapsulation of Variables Example:"
   ]
  },
  {
   "cell_type": "markdown",
   "id": "f3f72be0-cd84-4d29-aea8-ba76109ce8ec",
   "metadata": {},
   "source": [
    "In Python, we denote private attributes using underscore as the prefix i.e single _ or double __"
   ]
  },
  {
   "cell_type": "code",
   "execution_count": 49,
   "id": "10a8c0d8-fabf-4659-8932-32ca8429b7c3",
   "metadata": {},
   "outputs": [],
   "source": [
    "class some_class:\n",
    "    def __init__(self, some_var1, some_var2):\n",
    "        self.__some_var1 = some_var1\n",
    "        self.__some_var2 = some_var2\n",
    "        \n",
    "    def add_func(self):\n",
    "        return self.__some_var1+self.__some_var2\n",
    "    \n",
    "    def var_setter(self, var1, var2):\n",
    "        self.__some_var1 = 0 if var1<0 else var1\n",
    "        self.__some_var2 = 0 if var2<0 else var2"
   ]
  },
  {
   "cell_type": "code",
   "execution_count": 50,
   "id": "81c4dad4-8de5-428a-921b-c65f2a11b3ac",
   "metadata": {},
   "outputs": [],
   "source": [
    "obj = some_class(3,5)"
   ]
  },
  {
   "cell_type": "code",
   "execution_count": 51,
   "id": "c4667eb4-5c70-4a73-914e-873da405a3a1",
   "metadata": {},
   "outputs": [
    {
     "data": {
      "text/plain": [
       "8"
      ]
     },
     "execution_count": 51,
     "metadata": {},
     "output_type": "execute_result"
    }
   ],
   "source": [
    "obj.add_func()"
   ]
  },
  {
   "cell_type": "code",
   "execution_count": 52,
   "id": "629021cd-1b50-4187-a320-aa2cadcd85d4",
   "metadata": {},
   "outputs": [
    {
     "ename": "AttributeError",
     "evalue": "'some_class' object has no attribute 'some_var1'",
     "output_type": "error",
     "traceback": [
      "\u001b[0;31m---------------------------------------------------------------------------\u001b[0m",
      "\u001b[0;31mAttributeError\u001b[0m                            Traceback (most recent call last)",
      "Cell \u001b[0;32mIn[52], line 1\u001b[0m\n\u001b[0;32m----> 1\u001b[0m \u001b[43mobj\u001b[49m\u001b[38;5;241;43m.\u001b[39;49m\u001b[43msome_var1\u001b[49m\n",
      "\u001b[0;31mAttributeError\u001b[0m: 'some_class' object has no attribute 'some_var1'"
     ]
    }
   ],
   "source": [
    "obj.some_var1"
   ]
  },
  {
   "cell_type": "markdown",
   "id": "2cc25d4c-0fc9-41d0-913b-5c9dd712a726",
   "metadata": {},
   "source": [
    "Notice that the encapsulated variables are not accessible by the regular way\n",
    "\n",
    "But you CAN change the value of the variable by using __"
   ]
  },
  {
   "cell_type": "code",
   "execution_count": 53,
   "id": "af8c3145-fd77-44c8-82cc-1b66ea2fc408",
   "metadata": {},
   "outputs": [],
   "source": [
    "obj.__some_var1=100"
   ]
  },
  {
   "cell_type": "code",
   "execution_count": 54,
   "id": "35540048-06fc-4eb6-ac8d-984a5fc7c9bc",
   "metadata": {},
   "outputs": [
    {
     "data": {
      "text/plain": [
       "100"
      ]
     },
     "execution_count": 54,
     "metadata": {},
     "output_type": "execute_result"
    }
   ],
   "source": [
    "obj.__some_var1"
   ]
  },
  {
   "cell_type": "code",
   "execution_count": 55,
   "id": "2c3e3f04-8de8-4ad3-a995-1031ceb03f73",
   "metadata": {},
   "outputs": [
    {
     "data": {
      "text/plain": [
       "8"
      ]
     },
     "execution_count": 55,
     "metadata": {},
     "output_type": "execute_result"
    }
   ],
   "source": [
    "obj.add_func() # the new value of __some_var1 is not updated to the class func"
   ]
  },
  {
   "cell_type": "markdown",
   "id": "e7fc114e-f51d-46ed-9399-873219c4cbed",
   "metadata": {},
   "source": [
    "To permanently change/set the variable values, we have created a var_setter function inside the class which will let us assign new values to the varibles"
   ]
  },
  {
   "cell_type": "code",
   "execution_count": 56,
   "id": "844f09fb-898d-445d-b1ca-0e91c05a9099",
   "metadata": {},
   "outputs": [],
   "source": [
    "obj.var_setter(13,100)"
   ]
  },
  {
   "cell_type": "code",
   "execution_count": 57,
   "id": "ec4c458b-caa3-4841-a2e9-f109a1d02fde",
   "metadata": {},
   "outputs": [
    {
     "data": {
      "text/plain": [
       "113"
      ]
     },
     "execution_count": 57,
     "metadata": {},
     "output_type": "execute_result"
    }
   ],
   "source": [
    "obj.add_func()"
   ]
  },
  {
   "cell_type": "markdown",
   "id": "1a4df4d0-ae9b-4fec-8261-b14c31ddabd8",
   "metadata": {},
   "source": [
    "# Inheritance\n",
    "Inheritance allows us to create a new class from an existing class.\n",
    "\n",
    "The new class that is created is known as subclass (child or derived class) and the existing class from which the child class is derived is known as superclass (parent or base class)."
   ]
  },
  {
   "cell_type": "code",
   "execution_count": 58,
   "id": "05cc3740-2023-43db-be75-964039301144",
   "metadata": {},
   "outputs": [],
   "source": [
    "class Animal:\n",
    "    name = ''\n",
    "    \n",
    "    def eat(self):\n",
    "        print('I can eat')\n",
    "\n",
    "class Dog(Animal):\n",
    "    def display_name(self):\n",
    "        print('My name is: ', self.name)"
   ]
  },
  {
   "cell_type": "code",
   "execution_count": 64,
   "id": "00fda789-f641-4ec4-adcf-a3c59264cb51",
   "metadata": {},
   "outputs": [],
   "source": [
    "animal_obj = Animal()\n",
    "dog_obj = Dog()"
   ]
  },
  {
   "cell_type": "code",
   "execution_count": 65,
   "id": "080bcacf-f5a1-40c3-8d73-8678160ab987",
   "metadata": {},
   "outputs": [],
   "source": [
    "animal_obj.name = 'Rookie'"
   ]
  },
  {
   "cell_type": "code",
   "execution_count": 66,
   "id": "fb61ee41-787c-45b5-94c8-b3c735665bed",
   "metadata": {},
   "outputs": [
    {
     "data": {
      "text/plain": [
       "'Rookie'"
      ]
     },
     "execution_count": 66,
     "metadata": {},
     "output_type": "execute_result"
    }
   ],
   "source": [
    "animal_obj.name"
   ]
  },
  {
   "cell_type": "code",
   "execution_count": 67,
   "id": "0e0b390a-c74e-41c9-b76f-9f46187041d7",
   "metadata": {},
   "outputs": [
    {
     "name": "stdout",
     "output_type": "stream",
     "text": [
      "I can eat\n"
     ]
    }
   ],
   "source": [
    "animal_obj.eat()"
   ]
  },
  {
   "cell_type": "markdown",
   "id": "dfb9169f-bb59-410b-98d9-24d4c33bbae4",
   "metadata": {},
   "source": [
    "Now let's see what we can do with the object of derived/child/subclass"
   ]
  },
  {
   "cell_type": "code",
   "execution_count": 69,
   "id": "0c7e45d7-6cdf-4135-a82f-fafb4fde9ef1",
   "metadata": {},
   "outputs": [],
   "source": [
    "dog_obj.name='Laborador'"
   ]
  },
  {
   "cell_type": "code",
   "execution_count": 70,
   "id": "18fd2cb2-c114-4405-96b7-3f77944a4091",
   "metadata": {},
   "outputs": [
    {
     "data": {
      "text/plain": [
       "'Laborador'"
      ]
     },
     "execution_count": 70,
     "metadata": {},
     "output_type": "execute_result"
    }
   ],
   "source": [
    "dog_obj.name"
   ]
  },
  {
   "cell_type": "markdown",
   "id": "6f5e3ade-238c-4a84-a66f-aa24ce220d80",
   "metadata": {},
   "source": [
    "Notice that we didn't create any variable by the name 'name' in the Dog class. But because it is inheriting from Animal function, it can use the variables that are created in the Animal class and manipulate them.\n",
    "\n",
    "We can do the same with functions/methods. Let's call the eat function that we created in the Animal class using the Dog class object"
   ]
  },
  {
   "cell_type": "code",
   "execution_count": 71,
   "id": "92d58dbe-829f-4ae9-b6ba-ff34e92de2bb",
   "metadata": {},
   "outputs": [
    {
     "name": "stdout",
     "output_type": "stream",
     "text": [
      "I can eat\n"
     ]
    }
   ],
   "source": [
    "dog_obj.eat()"
   ]
  }
 ],
 "metadata": {
  "kernelspec": {
   "display_name": "Python 3 (ipykernel)",
   "language": "python",
   "name": "python3"
  },
  "language_info": {
   "codemirror_mode": {
    "name": "ipython",
    "version": 3
   },
   "file_extension": ".py",
   "mimetype": "text/x-python",
   "name": "python",
   "nbconvert_exporter": "python",
   "pygments_lexer": "ipython3",
   "version": "3.10.8"
  }
 },
 "nbformat": 4,
 "nbformat_minor": 5
}
